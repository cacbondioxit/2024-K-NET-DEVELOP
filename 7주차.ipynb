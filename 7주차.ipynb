{
  "nbformat": 4,
  "nbformat_minor": 0,
  "metadata": {
    "colab": {
      "provenance": [],
      "authorship_tag": "ABX9TyPCwss2+2NPVcqsS7o5FWBG",
      "include_colab_link": true
    },
    "kernelspec": {
      "name": "python3",
      "display_name": "Python 3"
    },
    "language_info": {
      "name": "python"
    }
  },
  "cells": [
    {
      "cell_type": "markdown",
      "metadata": {
        "id": "view-in-github",
        "colab_type": "text"
      },
      "source": [
        "<a href=\"https://colab.research.google.com/github/cacbondioxit/2024-K-NET-DEVELOP/blob/main/7%EC%A3%BC%EC%B0%A8.ipynb\" target=\"_parent\"><img src=\"https://colab.research.google.com/assets/colab-badge.svg\" alt=\"Open In Colab\"/></a>"
      ]
    },
    {
      "cell_type": "markdown",
      "source": [
        "# 시작에 앞서서...\n",
        "\n",
        "이번 주는 시험을 코앞에 둔 주차이니 지식을 전달하는 내용보다는 감상하기에 가까운 내용들을 주로 제시하겠습니다.\n",
        "\n",
        "클래스를 가지고서 할 수 있는 말이 아주 많은데, 이번 시간 안에 다 하기란 힘이 들어서 저도 아쉽군요."
      ],
      "metadata": {
        "id": "LfNwFBt1GnE1"
      }
    },
    {
      "cell_type": "markdown",
      "source": [
        "# 파이썬의 모든 것은 객체다!\n",
        "\n",
        "파이썬의 모든 것은 객체입니다—정수, 실수, 리스트, 딕셔너리, 문자열, 집합, 함수까지...\n",
        "\n",
        "이제는 우리가 새로운 객체를 만들어보겠습니다.\n",
        "\n",
        "근데 제가 아직까지도 그 '객체'(Object)가 뭔지 설명하지 않았죠?\n",
        "\n",
        "- 정의: 데이터와 행위를 하나로 묶어 정보를 나타내는 기본 단위\n",
        "    - (저도 잘 몰라서 Google Gemini가 알려줌)\n",
        "    - 정의를 외우고 있는 개발자는 거의 없을 듯...?\n",
        "\n",
        "- 객체는 현실 세계의 사물, 개념을 프로그램 내에서 표현할 수 있는 효과적 수단으로 알고 계시면 됩니다.\n",
        "\n",
        "- 객체 지향 프로그래밍(Object Oriented Programming, OOP): 객체를 기본 단위로 하여, 객체 간의 상호작용으로 프로그래밍하는 방식\n",
        "\n",
        "- 파이썬, 자바, C++ 등은 객체지향 프로그래밍을 지원합니다."
      ],
      "metadata": {
        "id": "uCN0O3FnGVYH"
      }
    },
    {
      "cell_type": "markdown",
      "source": [
        "## 객체가 갖는 특징?\n",
        "\n",
        "- 데이터(속성)가 있습니다!\n",
        "    - 드럽게 진부한 예시: 사람은 나이, 이름, 키, 국적 등이 있습니다.\n",
        "- 행위(메서드)가 있습니다!\n",
        "    - 또 다시 진부한 예시: 사람은 말하기, 걷기, 먹기 등을 할 수 있습니다.\n",
        "- 중요: 객체는 '클래스'라는 틀 안에서 만들 수 있습니다.\n",
        "    - 객체의 설계도 역할을 합니다.\n",
        "    - C언어의 구조체와 비슷한 면이 있습니다.\n",
        "    - 리스트 등도 type()을 씌워 출력해보면 `<class 'list'>`라고 나옵니다.\n"
      ],
      "metadata": {
        "id": "d3HozZ0ZII5u"
      }
    },
    {
      "cell_type": "code",
      "execution_count": null,
      "metadata": {
        "id": "taRePIs93ail",
        "colab": {
          "base_uri": "https://localhost:8080/"
        },
        "outputId": "f4700a36-a825-4cbc-9cc4-722f92f622ec"
      },
      "outputs": [
        {
          "output_type": "stream",
          "name": "stdout",
          "text": [
            "<class 'list'>\n"
          ]
        }
      ],
      "source": [
        "print(type([1, 2, 3]))"
      ]
    },
    {
      "cell_type": "code",
      "source": [
        "print(type(123))"
      ],
      "metadata": {
        "colab": {
          "base_uri": "https://localhost:8080/"
        },
        "id": "IrUhs3auKD6X",
        "outputId": "68ce3c73-c607-438e-a84a-9ad3b8bd156b"
      },
      "execution_count": null,
      "outputs": [
        {
          "output_type": "stream",
          "name": "stdout",
          "text": [
            "<class 'int'>\n"
          ]
        }
      ]
    },
    {
      "cell_type": "markdown",
      "source": [
        "## 클래스로 객체 만들기\n",
        "\n",
        "- 클래스를 가지고 객체를 만들 수 있습니다.\n",
        "    - 특히 클래스를 통해 만든 객체는 보통 인스턴스(instance)라고 부르는 편입니다.\n",
        "\n",
        "- 객체에는 속성, 함수(메서드) 등이 있으니 모듈 작성 시에도 클래스를 쓰면 유리합니다.\n",
        "    - 지난 시간의 질문에 대한 한 가지 답이 될 수 있습니다."
      ],
      "metadata": {
        "id": "-tkae1pcQIE-"
      }
    },
    {
      "cell_type": "markdown",
      "source": [
        "참고: 그동안 리스트에서 함수를 불러올 때 객체.함수() 형태로(예시: `list.append(item)`) 메서드를 불러왔던 것을 보셨을 것입니다.\n",
        "\n",
        "클래스로 만든 객체에서도 비슷하게 할 수 있습니다. 간단한 예시 2개만 보여드리자면..."
      ],
      "metadata": {
        "id": "-v02AptEKU61"
      }
    },
    {
      "cell_type": "code",
      "source": [
        "# 보통 파이썬 책에 있을 것 같은 쉬운 예시\n",
        "\n",
        "class KPopGroup:\n",
        "    def __init__(self, name): # \"생성자(constructor) 메서드\"입니다.\n",
        "        # self라고 적은 것은 이 클래스가 생성하는 객체(instance)를 뜻합니다.\n",
        "        self.name = name # self.변수 형태로 사용합니다.\n",
        "\n",
        "    def greet(self):\n",
        "        print(f\"안녕하세요, {self.name}입니다!\")\n",
        "\n",
        "# 참고: 양옆에 __ 가 붙은 함수는 특수한 함수들입니다. (자세한 것은 검색 바랍니다.)"
      ],
      "metadata": {
        "id": "U9p6qYHiQS1z"
      },
      "execution_count": null,
      "outputs": []
    },
    {
      "cell_type": "code",
      "source": [
        "# 생성자를 호출해 인스턴스 생성\n",
        "# 위의 코드에서 __init__은 인스턴스 생성 시 기본적으로 실행되는 코드를 써주는 곳입니다.\n",
        "bts = KPopGroup(\"BTS\")\n",
        "\n",
        "bts.greet() # 객체의 메서드 호출"
      ],
      "metadata": {
        "colab": {
          "base_uri": "https://localhost:8080/"
        },
        "id": "IGmMpMn-Snnl",
        "outputId": "5fa3c9d3-1637-441f-c9a5-8c94a8c16a59"
      },
      "execution_count": null,
      "outputs": [
        {
          "output_type": "stream",
          "name": "stdout",
          "text": [
            "안녕하세요, BTS입니다!\n"
          ]
        }
      ]
    },
    {
      "cell_type": "markdown",
      "source": [
        "```\n",
        "# 1주차 때 보여드린 코드인데, 기억나나요?\n",
        "\n",
        "hyungyu = Hyungyu() # 객체(인스턴스) 생성\n",
        "\n",
        "if hyungyu.is_from_korea(): # 객체로부터 메서드 불러오기\n",
        "    print(\"안녕 현규야!\")\n",
        "\n",
        "if \"t\" in hyungyu.mbti() or \"T\" in hyungyu.mbti():\n",
        "    print(\"너 T야?\")\n",
        "\n",
        "```"
      ],
      "metadata": {
        "id": "0wqzQNs9LQPo"
      }
    },
    {
      "cell_type": "code",
      "source": [
        "class Hyungyu:\n",
        "    def __init__(self, nationality=\"Korea\", mbti=\"ENTP\"):\n",
        "        self.nationality = nationality\n",
        "        self.mbti = mbti\n",
        "\n",
        "    def is_from_korea(self):\n",
        "        # 괄호 안에 self를 넣어줘야 hyungyu.is_from_korea() 형태로 쓸 수 있습니다.\n",
        "        code_list = [\"ko\", \"kor\", \"korea\", \"korea\"]\n",
        "        return self.nationality.lower() in code_list\n",
        "\n",
        "    def get_mbti(self): # 위의 \"mbti\" 대신 get_mbti(mbti 가져오기)라는 이름으로 바꿨습니다.\n",
        "        return self.mbti"
      ],
      "metadata": {
        "id": "awr-WrM2KQ6D"
      },
      "execution_count": null,
      "outputs": []
    },
    {
      "cell_type": "code",
      "source": [
        "hyungyu = Hyungyu() # 객체(인스턴스) 생성\n",
        "\n",
        "if hyungyu.is_from_korea(): # 객체로부터 메서드 불러오기\n",
        "    print(\"안녕 현규야!\")\n",
        "\n",
        "if \"t\" in hyungyu.get_mbti() or \"T\" in hyungyu.get_mbti():\n",
        "    print(\"너 T야?\")"
      ],
      "metadata": {
        "colab": {
          "base_uri": "https://localhost:8080/"
        },
        "id": "aG-_28bWMA_p",
        "outputId": "ddc787a0-4ad1-4439-d544-c1cf9a5240ea"
      },
      "execution_count": null,
      "outputs": [
        {
          "output_type": "stream",
          "name": "stdout",
          "text": [
            "안녕 현규야!\n",
            "너 T야?\n"
          ]
        }
      ]
    },
    {
      "cell_type": "markdown",
      "source": [
        "참고: 클래스를 만드는 것은 자료형을 새로 만드는 것과 동일한 효과를 냅니다.\n",
        "\n",
        "아까 만든 Hyungyu 클래스 안에는 생성자를 제외하면 변수 2개(nationality, mbti)와 함수 2개(is_from_korea, get_mbti)가 묶여 있어요."
      ],
      "metadata": {
        "id": "I8NWoSq23Y_g"
      }
    },
    {
      "cell_type": "code",
      "source": [
        "print(type(hyungyu))"
      ],
      "metadata": {
        "colab": {
          "base_uri": "https://localhost:8080/"
        },
        "id": "HFpiagxePEhW",
        "outputId": "af038d94-7e00-49bd-fa75-f715f282e9f8"
      },
      "execution_count": null,
      "outputs": [
        {
          "output_type": "stream",
          "name": "stdout",
          "text": [
            "<class '__main__.Hyungyu'>\n"
          ]
        }
      ]
    },
    {
      "cell_type": "code",
      "source": [
        "# 점프 투 파이썬에 있는 사칙연산 계산기 예시\n",
        "# 예시가 좋긴 한데 감상하기에는 좀 시시한 면이 있죠?\n",
        "\n",
        "class FourCal:\n",
        "    def __init__(self, first, second):\n",
        "        self.first = first\n",
        "        self.second = second\n",
        "    def setdata(self, first, second):\n",
        "        self.first = first\n",
        "        self.second = second\n",
        "    def add(self):\n",
        "        result = self.first + self.second\n",
        "        return result\n",
        "    def mul(self):\n",
        "        result = self.first * self.second\n",
        "        return result\n",
        "    def sub(self):\n",
        "        result = self.first - self.second\n",
        "        return result\n",
        "    def div(self):\n",
        "        result = self.first / self.second\n",
        "        return result"
      ],
      "metadata": {
        "id": "noBlW6kZSAfm"
      },
      "execution_count": null,
      "outputs": []
    },
    {
      "cell_type": "code",
      "source": [
        "fc = FourCal(5, 4)\n",
        "\n",
        "print(fc.div()) # 5 / 4 == 1.25"
      ],
      "metadata": {
        "colab": {
          "base_uri": "https://localhost:8080/"
        },
        "id": "CD9tC_fRScx9",
        "outputId": "fc101c7b-1848-4545-8618-a9b1011a029a"
      },
      "execution_count": null,
      "outputs": [
        {
          "output_type": "stream",
          "name": "stdout",
          "text": [
            "1.25\n"
          ]
        }
      ]
    },
    {
      "cell_type": "code",
      "source": [
        "# 뜬금없지만 우리는 덜 시시하게 적분 계산기를 만들어봅시다.\n",
        "\n",
        "class Integral:\n",
        "    '''\n",
        "    적분 계산을 위한 클래스입니다. f는 피적분 함수입니다.\n",
        "    '''\n",
        "    def __init__(self, f):\n",
        "        self.f = f # integrand\n",
        "\n",
        "    def set_integrand(self, f):\n",
        "        self.f = f\n",
        "\n",
        "    def integral(self, a, b, N=10000):\n",
        "        '''\n",
        "        적분 구간을 아주 잘게 쪼개서 컴퓨터의 힘으로 근사적으로 적분을 계산 (리만 합의 극한)\n",
        "        '''\n",
        "        h = (b-a) / N # 적분 구간을 N = 10000등분하여 계산하되\n",
        "        if h > 0.01: # 적분 구간이 너무 넓을 시 소구간 길이를 작은 상수 0.01로 강제하기\n",
        "            h = 0.01\n",
        "            N = int((b-a) / h)\n",
        "        P = [a + i*h for i in range(N)]\n",
        "        riemann_sum = 0\n",
        "        for i in range(N):\n",
        "            x_i = P[i]\n",
        "            riemann_sum += h * self.f(x_i) # 적분 근사 계산\n",
        "        return riemann_sum"
      ],
      "metadata": {
        "id": "TaseovaSTPD9"
      },
      "execution_count": null,
      "outputs": []
    },
    {
      "cell_type": "code",
      "source": [
        "# 클래스 생성자 불러오기 (인스턴스화)\n",
        "integral = Integral(lambda x: x**2) # 피적분함수를 y=x^2로 설정\n",
        "\n",
        "# y=x^2를 0부터 1까지 적분\n",
        "res = integral.integral(0, 1)\n",
        "\n",
        "# 약 1/3 == 0.333...이 나와야 함\n",
        "print(f\"0부터 1까지 적분한 결과는 {res:.6f}입니다.\")"
      ],
      "metadata": {
        "colab": {
          "base_uri": "https://localhost:8080/"
        },
        "id": "bPE8Z0baqb2j",
        "outputId": "2b17bdb8-4ce3-4b99-c8db-c062d0e3c54d"
      },
      "execution_count": null,
      "outputs": [
        {
          "output_type": "stream",
          "name": "stdout",
          "text": [
            "0부터 1까지 적분한 결과는 0.333283입니다.\n"
          ]
        }
      ]
    },
    {
      "cell_type": "markdown",
      "source": [
        "참고: 클래스를 통해 객체를 여러 개 만들어내고 삭제할 수 있습니다.\n",
        "\n",
        "객체가 붕어빵이면 클래스가 붕어빵 틀인 느낌?\n",
        "\n",
        "(프로그래밍 책에서 정말 자주 제시하는 예시)"
      ],
      "metadata": {
        "id": "ci7iGR5eoE6H"
      }
    },
    {
      "cell_type": "code",
      "source": [
        "# 클래스를 통해 객체를 여러 개 만들고 지울 수 있습니다.\n",
        "\n",
        "import numpy as np\n",
        "\n",
        "int_1 = Integral(lambda x: np.sin(x/2)) # 사인 함수\n",
        "res_1 = int_1.integral(0, np.pi)\n",
        "del int_1\n",
        "\n",
        "int_2 = Integral(lambda x: abs(x)) # 절대값 함수\n",
        "res_2 = int_2.integral(-1, 1)\n",
        "del int_2\n",
        "\n",
        "int_3 = Integral(lambda x: np.log(x)) # 로그 함수\n",
        "res_3 = int_3.integral(1, np.e)\n",
        "del int_3\n",
        "\n",
        "print(f\"{res_1:.4f}, {res_2:.4f}, {res_3:.4f}\")\n",
        "\n",
        "print(int_1, int_2, int_3)"
      ],
      "metadata": {
        "colab": {
          "base_uri": "https://localhost:8080/",
          "height": 200
        },
        "id": "eG81h6TDkOHf",
        "outputId": "ea457188-1b0e-4dcf-db19-478289b84fb7"
      },
      "execution_count": null,
      "outputs": [
        {
          "output_type": "stream",
          "name": "stdout",
          "text": [
            "1.9998, 1.0000, 0.9999\n"
          ]
        },
        {
          "output_type": "error",
          "ename": "NameError",
          "evalue": "name 'int_1' is not defined",
          "traceback": [
            "\u001b[0;31m---------------------------------------------------------------------------\u001b[0m",
            "\u001b[0;31mNameError\u001b[0m                                 Traceback (most recent call last)",
            "\u001b[0;32m<ipython-input-83-522e562fdb03>\u001b[0m in \u001b[0;36m<cell line: 19>\u001b[0;34m()\u001b[0m\n\u001b[1;32m     17\u001b[0m \u001b[0mprint\u001b[0m\u001b[0;34m(\u001b[0m\u001b[0;34mf\"{res_1:.4f}, {res_2:.4f}, {res_3:.4f}\"\u001b[0m\u001b[0;34m)\u001b[0m\u001b[0;34m\u001b[0m\u001b[0;34m\u001b[0m\u001b[0m\n\u001b[1;32m     18\u001b[0m \u001b[0;34m\u001b[0m\u001b[0m\n\u001b[0;32m---> 19\u001b[0;31m \u001b[0mprint\u001b[0m\u001b[0;34m(\u001b[0m\u001b[0mint_1\u001b[0m\u001b[0;34m,\u001b[0m \u001b[0mint_2\u001b[0m\u001b[0;34m,\u001b[0m \u001b[0mint_3\u001b[0m\u001b[0;34m)\u001b[0m\u001b[0;34m\u001b[0m\u001b[0;34m\u001b[0m\u001b[0m\n\u001b[0m",
            "\u001b[0;31mNameError\u001b[0m: name 'int_1' is not defined"
          ]
        }
      ]
    },
    {
      "cell_type": "markdown",
      "source": [
        "역시, 객체의 모양(폼)은 일시적이지만 클래스는 영원한 법이군요..."
      ],
      "metadata": {
        "id": "GzDw4vPin4cN"
      }
    },
    {
      "cell_type": "markdown",
      "source": [
        "# 클래스의 상속\n",
        "\n",
        "이전 클래스의 기능들을 물려받아서 더 확장된 클래스를 만드는 것을 의미합니다.\n",
        "\n",
        "기존 클래스를 수정하지 않고도 클래스를 확장할 수 있습니다.\n",
        "\n",
        "(남이 만든 라이브러리 등은 직접 수정이 어렵겠죠?)\n",
        "\n",
        "예전의 클래스와 새로운 클래스를 각각 부모 클래스와 자식 클래스라고 부릅니다.\n",
        "\n"
      ],
      "metadata": {
        "id": "z26Gdq4URewE"
      }
    },
    {
      "cell_type": "code",
      "source": [
        "class BTS(KPopGroup): # 괄호 안의 KPopGroup을 상속 받는다는 뜻입니다.\n",
        "    def __init__(self):\n",
        "        super().__init__(\"BTS\") # super() : 부모 클래스의 생성자\n",
        "\n",
        "    def greet(self): # 메서드 오버라이딩 (부모 클래스의 함수를 덮어쓰기)\n",
        "        print(f\"(둘, 셋) 방! 탄! 안녕하세요, {self.name}입니다!\")\n",
        "        # 잠깐, BTS 클래스에는 self.name이 없는데요? 그것도 다 물려받을까요?"
      ],
      "metadata": {
        "id": "zjW4FhnZSY8d"
      },
      "execution_count": null,
      "outputs": []
    },
    {
      "cell_type": "code",
      "source": [
        "bts = BTS()\n",
        "\n",
        "# 자식 클래스에서 덮어쓰기된 메서드\n",
        "bts.greet()"
      ],
      "metadata": {
        "colab": {
          "base_uri": "https://localhost:8080/"
        },
        "id": "dsTaPHfKwq6P",
        "outputId": "8c5752bd-5f8d-497f-c44d-dba4688c1afb"
      },
      "execution_count": null,
      "outputs": [
        {
          "output_type": "stream",
          "name": "stdout",
          "text": [
            "(둘, 셋) 방! 탄! 안녕하세요, BTS입니다!\n"
          ]
        }
      ]
    },
    {
      "cell_type": "code",
      "source": [
        "# 정규분포 확률 계산기\n",
        "import numpy as np\n",
        "\n",
        "class NormalDistribution(Integral): # 아까 전 적분 클래스를 상속받음(확장함)\n",
        "    def __init__(self, mu=0, sigma=1):\n",
        "        # 정규분포 함수를 적분 클래스(부모 클래스)의 생성자에 넣음 (적분해서 확률 구하기!)\n",
        "        super().__init__(lambda x: 1/(np.sqrt(2*np.pi)*sigma) * np.exp(-(x-mu)**2/(2*sigma**2)))\n",
        "        self.mu = mu\n",
        "        self.sigma = sigma\n",
        "\n",
        "    def cumul_prob(self, x):\n",
        "        return self.integral(self.mu - 1000 * self.sigma, x)\n",
        "\n",
        "    def prob(self, end, start=self.mu):\n",
        "        # return self.cumul_prob(end) - self.cumul_prob(start)\n",
        "        return self.integral(start, end)"
      ],
      "metadata": {
        "id": "bx7Q4_ViwwPD"
      },
      "execution_count": null,
      "outputs": []
    },
    {
      "cell_type": "code",
      "source": [
        "nd = NormalDistribution()\n",
        "\n",
        "nd.prob(start=-1.96, end=1.96)"
      ],
      "metadata": {
        "colab": {
          "base_uri": "https://localhost:8080/"
        },
        "id": "uVRyAJ7q-5TD",
        "outputId": "1cdcf9bd-a0f1-4090-adca-c89f8865ae72"
      },
      "execution_count": null,
      "outputs": [
        {
          "output_type": "execute_result",
          "data": {
            "text/plain": [
              "0.9500042067700077"
            ]
          },
          "metadata": {},
          "execution_count": 24
        }
      ]
    },
    {
      "cell_type": "markdown",
      "source": [
        "# 모듈에다가 클래스 넣기\n",
        "\n",
        "아까 적분 계산기와 정규분포 확률 계산기는 내가 잘 만들어놓으면 필요할 때 가지고 올 수 있겠죠?\n",
        "\n",
        "그것을 모듈로 만들어서 우리가 직접 불러오겠습니다.\n",
        "\n",
        "코랩의 왼쪽 폴더를 열어서 my_package라는 폴더를 만들고, 안쪽에 빈 파일 `__init__.py`를 생성해주세요. (이것이 있어야 컴퓨터가 우리 파일을 모듈로 판단합니다.)\n",
        "\n",
        "그리고 아래 코드를 복붙하여 텍스트 파일로 만들어서 이름을 norm_dist.py라고 붙여주세요.\n",
        "\n",
        "```\n",
        "# norm_dist.py\n",
        "\n",
        "import numpy as np\n",
        "\n",
        "class Integral:\n",
        "    '''\n",
        "    적분 계산을 위한 클래스입니다. f는 피적분 함수입니다.\n",
        "    '''\n",
        "    def __init__(self, f):\n",
        "        self.f = f # integrand\n",
        "\n",
        "    def set_integrand(self, f):\n",
        "        self.f = f\n",
        "\n",
        "    def integral(self, a, b, N=10000):\n",
        "        '''\n",
        "        적분 구간을 아주 잘게 쪼개서 컴퓨터의 힘으로 근사적으로 적분을 계산 (리만 합의 극한)\n",
        "        '''\n",
        "        h = (b-a) / N # 적분 구간을 N = 10000등분하여 계산하되\n",
        "        if h > 0.01: # 적분 구간이 너무 넓을 시 소구간 길이를 작은 상수 0.01로 강제하기\n",
        "            h = 0.01\n",
        "            N = int((b-a) / h)\n",
        "        P = [a + i*h for i in range(N)]\n",
        "        riemann_sum = 0\n",
        "        for i in range(N):\n",
        "            x_i = P[i]\n",
        "            riemann_sum += h * self.f(x_i) # 적분 근사 계산\n",
        "        return riemann_sum\n",
        "\n",
        "class ModularisedNormalDistribution(Integral): # 아까 전 적분 클래스를 상속받음(확장함)\n",
        "    def __init__(self, mu=0, sigma=1):\n",
        "        # 정규분포 함수를 적분 클래스(부모 클래스)의 생성자에 넣음 (적분해서 확률 구하기!)\n",
        "        super().__init__(lambda x: 1/(np.sqrt(2*np.pi)*sigma) * np.exp(-(x-mu)**2/(2*sigma**2)))\n",
        "        self.mu = mu\n",
        "        self.sigma = sigma\n",
        "\n",
        "    def cumul_prob(self, x):\n",
        "        return self.integral(self.mu - 1000 * self.sigma, x)\n",
        "        \n",
        "    def prob(self, end, start=self.mu):\n",
        "        # return self.cumul_prob(end) - self.cumul_prob(start)\n",
        "        return self.integral(start, end)\n",
        "\n",
        "if __name__ == \"__main__\": # 이 파일이 .py 파일로 실행되면 아래를 실행하고, 그렇지 않으면 실행하지 않음\n",
        "    mnd = ModularisedNormalDistribution() # 이름 바뀜에 주목!\n",
        "    print(mnd.prob(start=-1.0, end=1.0))\n",
        "```"
      ],
      "metadata": {
        "id": "c-yEW8Y36WXe"
      }
    },
    {
      "cell_type": "code",
      "source": [
        "!ls # 현재 위치의 디렉토리에 my_package라는 폴더(패키지)가 있어야 합니다."
      ],
      "metadata": {
        "colab": {
          "base_uri": "https://localhost:8080/"
        },
        "id": "Fou-MCP2D5-P",
        "outputId": "363918ba-bb8f-4ced-de02-374e1df1f1f5"
      },
      "execution_count": null,
      "outputs": [
        {
          "output_type": "stream",
          "name": "stdout",
          "text": [
            "my_package  __pycache__  sample_data\n"
          ]
        }
      ]
    },
    {
      "cell_type": "code",
      "source": [
        "!pwd # 참고: 이 파일이 실행되고 있는 현재 위치를 나타낸 경로 (암것도 안 건드린 설정)"
      ],
      "metadata": {
        "colab": {
          "base_uri": "https://localhost:8080/"
        },
        "id": "8zfPg2mZHSr8",
        "outputId": "6b8935a4-bb0e-4d2f-8fbc-f7990f0653be"
      },
      "execution_count": null,
      "outputs": [
        {
          "output_type": "stream",
          "name": "stdout",
          "text": [
            "/content\n"
          ]
        }
      ]
    },
    {
      "cell_type": "code",
      "source": [
        "from my_package import norm_dist\n",
        "\n",
        "mnd = norm_dist.ModularisedNormalDistribution() # 모듈.클래스()인 것에 주목!\n",
        "mnd.prob(start=-1.96, end=1.96)"
      ],
      "metadata": {
        "colab": {
          "base_uri": "https://localhost:8080/"
        },
        "id": "srX3sDjG6h8S",
        "outputId": "dc3d7711-8b17-4752-df53-3512e94e6f41"
      },
      "execution_count": null,
      "outputs": [
        {
          "output_type": "execute_result",
          "data": {
            "text/plain": [
              "0.9500042067700077"
            ]
          },
          "metadata": {},
          "execution_count": 1
        }
      ]
    },
    {
      "cell_type": "code",
      "source": [
        "# import문을 조금 다르게 쓸 수도 있습니다.\n",
        "from my_package.norm_dist import ModularisedNormalDistribution\n",
        "\n",
        "mnd = ModularisedNormalDistribution()\n",
        "mnd.prob(start=-1.96, end=1.96)"
      ],
      "metadata": {
        "colab": {
          "base_uri": "https://localhost:8080/"
        },
        "id": "MmGrkT4WEzqj",
        "outputId": "118ea938-b969-4942-db70-957ba58b45e0"
      },
      "execution_count": null,
      "outputs": [
        {
          "output_type": "execute_result",
          "data": {
            "text/plain": [
              "0.9500042067700077"
            ]
          },
          "metadata": {},
          "execution_count": 2
        }
      ]
    },
    {
      "cell_type": "markdown",
      "source": [
        "근데, 아까 파일 밑에 이런 게 있었죠?\n",
        "\n",
        "```\n",
        "# norm_dist.py\n",
        "\n",
        "...(생략)...\n",
        "\n",
        "if __name__ == \"__main__\": # 이 파일이 .py 파일로 실행되면 아래를 실행하고, 그렇지 않으면 실행하지 않음\n",
        "    mnd = ModularisedNormalDistribution() # 이름 바뀜에 주목!\n",
        "    print(mnd.prob(start=-1.0, end=1.0))\n",
        "```\n",
        "\n",
        "이제 코랩에다가 이렇게 적어봅시다. 맨 앞 느낌표는 주피터 노트북에서 쉘 명령어를 실행하게 해줍니다.\n",
        "\n",
        "`!python ./my_package/norm_dist.py`\n",
        "\n",
        "(이 간단한 명령어를 가장 마지막에서야 알려드리는군요...)\n",
        "\n"
      ],
      "metadata": {
        "id": "eDZcYAprBW8J"
      }
    },
    {
      "cell_type": "code",
      "source": [
        "!python ./my_package/norm_dist.py\n",
        "# 파이썬 파일로 실행하면 if __name__ == \"__main__\": 이라고 적힌 것 아래가 실행됩니다."
      ],
      "metadata": {
        "colab": {
          "base_uri": "https://localhost:8080/"
        },
        "id": "SMQyAnumA-Q5",
        "outputId": "6114ab3a-5e88-48f0-a6b6-e0994be684ba"
      },
      "execution_count": null,
      "outputs": [
        {
          "output_type": "stream",
          "name": "stdout",
          "text": [
            "0.6826894905239508\n"
          ]
        }
      ]
    },
    {
      "cell_type": "markdown",
      "source": [
        "이렇듯, 객체의 폼은 일시적이지만, 클래스는 영원합니다!"
      ],
      "metadata": {
        "id": "zX-Cx3jFkJAM"
      }
    },
    {
      "cell_type": "code",
      "source": [],
      "metadata": {
        "id": "765tJABckLnO"
      },
      "execution_count": null,
      "outputs": []
    }
  ]
}