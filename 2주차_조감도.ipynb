{
  "nbformat": 4,
  "nbformat_minor": 0,
  "metadata": {
    "colab": {
      "provenance": [],
      "authorship_tag": "ABX9TyPfE32z1wNwzo+RQkTrvQ7d",
      "include_colab_link": true
    },
    "kernelspec": {
      "name": "python3",
      "display_name": "Python 3"
    },
    "language_info": {
      "name": "python"
    }
  },
  "cells": [
    {
      "cell_type": "markdown",
      "metadata": {
        "id": "view-in-github",
        "colab_type": "text"
      },
      "source": [
        "<a href=\"https://colab.research.google.com/github/cacbondioxit/2024-K-NET-DEVELOP/blob/main/2%EC%A3%BC%EC%B0%A8_%EC%A1%B0%EA%B0%90%EB%8F%84.ipynb\" target=\"_parent\"><img src=\"https://colab.research.google.com/assets/colab-badge.svg\" alt=\"Open In Colab\"/></a>"
      ]
    },
    {
      "cell_type": "markdown",
      "source": [
        "# 새로운 시작!\n",
        "\n",
        "이런 용어 들어봤나요?\n",
        "\n",
        "변수, 반복문, 배열, 리스트, 딕셔너리, 조건문, 반복문, 함수, ...\n",
        "\n",
        "엥? 컴퓨터는 계산하는 기계 아니었나요? 이름만 들어도 어려운 그런 게 왜 필요하죠?\n",
        "\n",
        "오늘은 제가 안 알려드린 코드(앞으로 배울 것들을 나열)가 난무하는 시간이기 때문에 다소 지루할 수 있습니다. 코드는 대충만 보시고, 텍스트에 더 집중해주세요!"
      ],
      "metadata": {
        "id": "wW20Ri2wij_b"
      }
    },
    {
      "cell_type": "markdown",
      "source": [
        "# 노가다꾼 죽이기\n",
        "\n",
        "요즘 파이썬에서 데이터 분석이 인기 있죠?\n",
        "\n",
        "7명의 키를 가지고 평균, 분산, 표준편차를 구하고 싶은데, 아래 내용을 일일이 다 적어야 한다고 생각해봐요..."
      ],
      "metadata": {
        "id": "1I-EiUkPi7zE"
      }
    },
    {
      "cell_type": "code",
      "execution_count": 1,
      "metadata": {
        "colab": {
          "base_uri": "https://localhost:8080/"
        },
        "id": "YHCKZkHBifi_",
        "outputId": "506e4013-0934-4011-b498-8d3447ee598d"
      },
      "outputs": [
        {
          "output_type": "stream",
          "name": "stdout",
          "text": [
            "평균\n",
            "174.85714285714286\n"
          ]
        }
      ],
      "source": [
        "print(\"평균\")\n",
        "\n",
        "print((164+184+172+175+182+170+177)/7)"
      ]
    },
    {
      "cell_type": "code",
      "source": [
        "print(\"표준편차\")\n",
        "print((((164-174.85714285714286)**2 + # 평균 값을 먼저 출력한 다음 복붙하기\n",
        "        (184-174.85714285714286)**2 +\n",
        "        (172-174.85714285714286)**2 +\n",
        "        (175-174.85714285714286)**2 +\n",
        "        (182-174.85714285714286)**2 +\n",
        "        (170-174.85714285714286)**2 +\n",
        "        (177-174.85714285714286)**2\n",
        "        )/7)**0.5)"
      ],
      "metadata": {
        "colab": {
          "base_uri": "https://localhost:8080/"
        },
        "id": "dMvad7GvjrvU",
        "outputId": "466302a5-f0b8-4688-a576-8a2c84b7946f"
      },
      "execution_count": 2,
      "outputs": [
        {
          "output_type": "stream",
          "name": "stdout",
          "text": [
            "표준편차\n",
            "6.423807758833461\n"
          ]
        }
      ]
    },
    {
      "cell_type": "markdown",
      "source": [
        "이렇게 할 바에야 공학용 계산기가 낫겠죠?\n",
        "\n",
        "더군가나, 만약 100명의 키가 있다면, 1000명의 키가 있다면 저 방법이 거의 불가능할 것입니다.\n",
        "\n",
        "이 예시로부터 여러분은 변수의 필요성을 바로 입증할 수 있습니다. 변수를 쓰면 이렇게 됩니다."
      ],
      "metadata": {
        "id": "HWxFFQumkJuF"
      }
    },
    {
      "cell_type": "code",
      "source": [
        "mean = (164+184+172+175+182+170+177) / 7\n",
        "\n",
        "print(\"평균\")\n",
        "print(mean)\n",
        "\n",
        "variance = ((164-mean)**2 +\n",
        "            (184-mean)**2 +\n",
        "            (172-mean)**2 +\n",
        "            (175-mean)**2 +\n",
        "            (182-mean)**2 +\n",
        "            (170-mean)**2 +\n",
        "            (177-mean)**2\n",
        "            )/7\n",
        "\n",
        "std = variance**0.5\n",
        "\n",
        "print(\"표준편차\")\n",
        "print(std)"
      ],
      "metadata": {
        "colab": {
          "base_uri": "https://localhost:8080/"
        },
        "id": "rpbkyoXYj-ZM",
        "outputId": "8ed9dace-ea88-4649-d5b1-de5b5851279e"
      },
      "execution_count": null,
      "outputs": [
        {
          "output_type": "stream",
          "name": "stdout",
          "text": [
            "평균\n",
            "174.85714285714286\n",
            "표준편차\n",
            "6.423807758833461\n"
          ]
        }
      ]
    },
    {
      "cell_type": "markdown",
      "source": [
        "변수를 통해 뭘 하려는 것인지 한 눈에 들어오긴 합니다. 그렇지만 여전히 노가다를 해야 합니다!\n",
        "\n",
        "키에 해당하는 값들을 164, 184, 172, ... 일일이 적어야 할까요?\n",
        "\n",
        "사실 각각의 키에 대해서 변수를 선언해도 일일이 적는 건 똑같습니다!\n",
        "\n",
        "```\n",
        "height_영희 = 164\n",
        "height_철수 = 184\n",
        "height_맹구 = 172\n",
        "height_훈이 = 175\n",
        "height_짱구 = 182\n",
        "height_유리 = 170\n",
        "height_흰둥 = 177\n",
        "\n",
        "mean = (height_영희 + height_철수 + height_맹구 + height_훈이 + height_짱구 + height_유리 + height_흰둥) / 7\n",
        "```\n",
        "\n",
        "코드가 더 길어졌습니다... 어떡하죠?\n"
      ],
      "metadata": {
        "id": "rNFFykq3lfCp"
      }
    },
    {
      "cell_type": "markdown",
      "source": [
        "이 예시로부터 여러분은 리스트(C, C++, 자바 등에서는 배열)의 필요성을 바로 알 수 있습니다.\n",
        "\n",
        "리스트를 쓰면 이렇게 됩니다.\n",
        "\n",
        "(참고: 리스트는 0번째부터 숫자를 셉니다.)\n",
        "\n",
        "```\n",
        "heights = [164, 184, 172, 175, 182, 170, 177]\n",
        "\n",
        "mean = (heights[0] + heights[1] + heights[2] + heights[3] + heights[4] + heights[5] + heights[6]) / 7\n",
        "```\n",
        "\n",
        "리스트를 써도 평균 계산 코드가 너무 긴데요? 하지만 무언가 반복되는 패턴이 보이네요.\n",
        "\n",
        "혹시 프로그래밍을 다른 언어로 배워본 사람이라면 \"반복문\"이라는 것을 떠올릴 것입니다.\n",
        "\n",
        "그 전에 파이썬에 내장된 함수 몇 개를 써봅시다!"
      ],
      "metadata": {
        "id": "oPZLo8cwnPv7"
      }
    },
    {
      "cell_type": "code",
      "source": [
        "heights = [164, 184, 172, 175, 182, 170, 177]\n",
        "\n",
        "mean = sum(heights) / len(heights)\n",
        "\n",
        "print(mean)"
      ],
      "metadata": {
        "colab": {
          "base_uri": "https://localhost:8080/"
        },
        "id": "FKoYmu2lkq2M",
        "outputId": "6e5035b7-0955-4db5-a581-c84e6801d749"
      },
      "execution_count": null,
      "outputs": [
        {
          "output_type": "stream",
          "name": "stdout",
          "text": [
            "174.85714285714286\n"
          ]
        }
      ]
    },
    {
      "cell_type": "markdown",
      "source": [
        "코드가 매우 깔끔합니다! 좋습니다.\n",
        "\n",
        "근데, 여기서 표준편차 계산은 어떻게 하는 게 좋을까요?\n",
        "\n",
        "설마... 이렇게?\n",
        "\n",
        "```\n",
        "variance = ((heights[0] - mean)**2 + (heights[1] - mean)**2 + (heights[2] - mean)**2 + (heights[3] - mean)**2 + ...\n",
        "```\n",
        "\n",
        "일일이 적을라니 너무 귀찮습니다. 혹시 \"반복문\"이 이름값을 잘 해주지 않을까요?"
      ],
      "metadata": {
        "id": "agFWGXOkszTk"
      }
    },
    {
      "cell_type": "code",
      "source": [
        "heights = [164, 184, 172, 175, 182, 170, 177]\n",
        "\n",
        "# 평균 계산\n",
        "mean = 0\n",
        "for height in heights:\n",
        "    mean += height\n",
        "mean /= len(heights)\n",
        "\n",
        "# 분산 계산\n",
        "var = 0\n",
        "for height in heights:\n",
        "    var += (height - mean)**2\n",
        "var /= len(heights)\n",
        "\n",
        "# 표준편차 계산\n",
        "std = var ** 0.5\n",
        "\n",
        "print(mean)\n",
        "print(std)"
      ],
      "metadata": {
        "colab": {
          "base_uri": "https://localhost:8080/"
        },
        "id": "b9j-RXwstpRS",
        "outputId": "494f7887-0901-41a4-b7dc-137bec1c0e98"
      },
      "execution_count": null,
      "outputs": [
        {
          "output_type": "stream",
          "name": "stdout",
          "text": [
            "174.85714285714286\n",
            "6.423807758833461\n"
          ]
        }
      ]
    },
    {
      "cell_type": "markdown",
      "source": [
        "갑자기 코드가 여러 줄이 되었습니다. 심지어 위의 코드에는 제가 아직 보여드리지 않은 것도 있습니다.\n",
        "\n",
        "주목할 것은, 그저 처음 예시처럼 숫자들 일일이 안 써도 된다는 것입니다!\n",
        "\n",
        "파이썬의 경우에는 여기서 코드를 더 줄일 수 있습니다.\n",
        "\n",
        "파이썬에서는 for문과 비슷하게 생긴 \"리스트 컴프리헨션\"을 써서 코드를 간단히 만들 수 있습니다!"
      ],
      "metadata": {
        "id": "oQSh3OyqqwUY"
      }
    },
    {
      "cell_type": "code",
      "source": [
        "heights = [164, 184, 172, 175, 182, 170, 177]\n",
        "\n",
        "mean = sum(heights) / len(heights)\n",
        "sq_dev = [(height - mean)**2 for height in heights] # squared deviation: 편차 제곱\n",
        "var = sum(sq_dev) / len(sq_dev)\n",
        "std = var ** 0.5\n",
        "\n",
        "print(mean)\n",
        "print(std)"
      ],
      "metadata": {
        "colab": {
          "base_uri": "https://localhost:8080/"
        },
        "id": "zy6-iecsrMku",
        "outputId": "faeaa140-03fd-4811-b930-318ceb74d215"
      },
      "execution_count": null,
      "outputs": [
        {
          "output_type": "stream",
          "name": "stdout",
          "text": [
            "174.85714285714286\n",
            "6.423807758833461\n"
          ]
        }
      ]
    },
    {
      "cell_type": "markdown",
      "source": [
        "그래도 코드가 뭔가 부산합니다.\n",
        "\n",
        "제가 보기엔 sum()/len()이 반복되어서 그런 것 같습니다.\n",
        "\n",
        "여기서, sum()/len()이라는 작업을 묶어서 average()라고 적당히 이름 붙여서 새로운 \"함수\"를 우리 마음대로 정의할 수 있습니다."
      ],
      "metadata": {
        "id": "EX0f8_nR30np"
      }
    },
    {
      "cell_type": "code",
      "source": [
        "def average(list):\n",
        "    return sum(list)/len(list)\n",
        "\n",
        "heights = [164, 184, 172, 175, 182, 170, 177]\n",
        "\n",
        "mean = average(heights)\n",
        "sq_dev = [(height - mean)**2 for height in heights]\n",
        "std = average(sq_dev) ** 0.5\n",
        "\n",
        "print(mean)\n",
        "print(std)"
      ],
      "metadata": {
        "colab": {
          "base_uri": "https://localhost:8080/"
        },
        "id": "de8Hj4mC3zyE",
        "outputId": "3ddfab7a-c9a3-496e-b501-11afc20ba694"
      },
      "execution_count": null,
      "outputs": [
        {
          "output_type": "stream",
          "name": "stdout",
          "text": [
            "174.85714285714286\n",
            "6.423807758833461\n"
          ]
        }
      ]
    },
    {
      "cell_type": "markdown",
      "source": [
        "자주 쓰는 작업은 함수로 만들어버린 뒤 나중에 쓰면 됩니다. 그러면 혹시...\n",
        "\n",
        "분산을 계산하는 작업도 묶어버려서 함수로 만들 수 있을까요?"
      ],
      "metadata": {
        "id": "wMG1gyph7fqG"
      }
    },
    {
      "cell_type": "code",
      "source": [
        "def average(list): # 평균을 계산\n",
        "    return sum(list)/len(list)\n",
        "\n",
        "def st_dev(list): # 분산을 계산\n",
        "    mean = average(heights) # 함수 내에서 다른 함수는 언제든지 다시 가져올 수 있습니다.\n",
        "    sq_dev = [(x - mean)**2 for x in list]\n",
        "    std = average(sq_dev) ** 0.5\n",
        "    return std\n",
        "\n",
        "heights = [164, 184, 172, 175, 182, 170, 177]\n",
        "\n",
        "avg = average(heights) # 함수 호출\n",
        "std = st_dev(heights)\n",
        "\n",
        "print(avg)\n",
        "print(std)"
      ],
      "metadata": {
        "colab": {
          "base_uri": "https://localhost:8080/"
        },
        "id": "JjnNU3wC7fOG",
        "outputId": "946ccefd-f7e6-4d4a-eb97-38368db0ced1"
      },
      "execution_count": 3,
      "outputs": [
        {
          "output_type": "stream",
          "name": "stdout",
          "text": [
            "174.85714285714286\n",
            "6.423807758833461\n"
          ]
        }
      ]
    },
    {
      "cell_type": "code",
      "source": [
        "def st_dev(list): # 분산을 계산\n",
        "    mean = average(list) # 함수 내에서 다른 함수는 언제든지 다시 가져올 수 있습니다.\n",
        "    sq_dev = [(x - mean)**2 for x in list]\n",
        "    std = average(sq_dev) ** 0.5\n",
        "    return std\n",
        "\n",
        "def average(list): # 평균을 계산\n",
        "    return sum(list)/len(list)\n",
        "\n",
        "heights = [164, 184, 172, 175, 182, 170, 177]\n",
        "\n",
        "avg = average(heights) # 함수 호출\n",
        "std = st_dev(heights)\n",
        "\n",
        "print(avg)\n",
        "print(std)"
      ],
      "metadata": {
        "colab": {
          "base_uri": "https://localhost:8080/"
        },
        "id": "OyFv-UCsYBtA",
        "outputId": "858634db-de2b-4b6e-bc59-cafefc77b907"
      },
      "execution_count": 1,
      "outputs": [
        {
          "output_type": "stream",
          "name": "stdout",
          "text": [
            "174.85714285714286\n",
            "6.423807758833461\n"
          ]
        }
      ]
    },
    {
      "cell_type": "markdown",
      "source": [
        "오! 드디어 코드가 좀 있어보입니다.\n",
        "\n",
        "TMI 한 개만 흘리자면 파이썬에서는 간단한 함수에 여러 줄 할애하고 싶지 않을 때 이렇게 쓰기도 합니다.\n",
        "\n",
        "\n",
        "\n",
        "```\n",
        "average = lambda list: sum(list)/len(list)\n",
        "```\n",
        "\n",
        "만약 평균은 필요없고 표준편차만 구해야 하는 상황이라면, 사용을 고려할 만 합니다."
      ],
      "metadata": {
        "id": "ms_OaFWX4qR_"
      }
    },
    {
      "cell_type": "code",
      "source": [
        "def st_dev(list):\n",
        "    average = lambda list: sum(list)/len(list)\n",
        "    mean = average(list)\n",
        "    sq_dev = [(x - mean)**2 for x in list]\n",
        "    return average(sq_dev) ** 0.5\n",
        "\n",
        "heights = [164, 184, 172, 175, 182, 170, 177]\n",
        "\n",
        "print(st_dev(heights))"
      ],
      "metadata": {
        "colab": {
          "base_uri": "https://localhost:8080/"
        },
        "id": "M7CYAjoH4xhq",
        "outputId": "2a872602-45ab-4a4b-a522-ceb9d47e0f68"
      },
      "execution_count": null,
      "outputs": [
        {
          "output_type": "stream",
          "name": "stdout",
          "text": [
            "6.423807758833461\n"
          ]
        }
      ]
    },
    {
      "cell_type": "markdown",
      "source": [
        "위의 코드는 굉장히 pythonic합니다.\n",
        "\n",
        "람다 함수는 초급 문법은 아닙니다. 대신, 저런 코드가 나왔다면 \"간단한 함수에 여러 줄 할애하기 싫었나보다\"라고 생각하면 됩니다."
      ],
      "metadata": {
        "id": "_W18Y5Ft5JpV"
      }
    },
    {
      "cell_type": "markdown",
      "source": [
        "# 무리수 두기!\n",
        "\n",
        "너무 뜬금없지만, 여러분 회사의 상사가 남녀로 나눠서 따로 평균과 표준편차를 내라고 시켰다고 가정합시다.\n",
        "\n",
        "어떡하죠? 우리의 리스트에는 남녀에 대한 정보를 담기가 쉽지 않아보입니다."
      ],
      "metadata": {
        "id": "vaf_QC8zsv5Z"
      }
    },
    {
      "cell_type": "markdown",
      "source": [
        "리스트 안에 리스트를 담는 방법(이차원 리스트)이 있긴 합니다만, 더 많은 정보를 담기에는 \"딕셔너리\"가 더 좋습니다."
      ],
      "metadata": {
        "id": "VHSRA1N-wcWv"
      }
    },
    {
      "cell_type": "code",
      "source": [
        "heights = [[164, \"영희\", \"여자\"], # 파이썬의 문자열은 따옴표가 필요합니다!\n",
        "           [184, \"철수\", \"남자\"],\n",
        "           [172, \"맹구\", \"남자\"],\n",
        "           [175, \"훈이\", \"남자\"],\n",
        "           [182, \"짱구\", \"남자\"],\n",
        "           [170, \"유리\", \"여자\"],\n",
        "           [177, \"흰둥\", \"여자\"]]\n",
        "\n",
        "print(heights[4])\n",
        "print(heights[4][0])"
      ],
      "metadata": {
        "colab": {
          "base_uri": "https://localhost:8080/"
        },
        "id": "V71io7EksOj7",
        "outputId": "2ec0766d-27ab-4680-e4a9-fc8e7cf7e656"
      },
      "execution_count": null,
      "outputs": [
        {
          "output_type": "stream",
          "name": "stdout",
          "text": [
            "[182, '짱구', '남자']\n",
            "182\n"
          ]
        }
      ]
    },
    {
      "cell_type": "code",
      "source": [
        "data = {\n",
        "    \"영희\": {\"키\": 164, \"성별\": \"여자\"},\n",
        "    \"철수\": {\"키\": 184, \"성별\": \"남자\"},\n",
        "    \"맹구\": {\"키\": 172, \"성별\": \"남자\"},\n",
        "    \"훈이\": {\"키\": 175, \"성별\": \"남자\"},\n",
        "    \"짱구\": {\"키\": 182, \"성별\": \"남자\"},\n",
        "    \"유리\": {\"키\": 170, \"성별\": \"여자\"},\n",
        "    \"흰둥\": {\"키\": 177, \"성별\": \"여자\"},\n",
        "}\n",
        "# 딕셔너리 안에 딕셔너리가 들어간 것이 보이시나요?\n",
        "\n",
        "print(data[\"짱구\"])\n",
        "print(data[\"짱구\"][\"키\"])\n",
        "\n",
        "# tmi: 딕셔너리도 반복문 쓸 수 있어요!\n",
        "heights = [data[key][\"키\"] for key in data.keys()]\n",
        "print(sum(heights)/len(heights))"
      ],
      "metadata": {
        "colab": {
          "base_uri": "https://localhost:8080/"
        },
        "id": "AMvXrf9Q0Aj_",
        "outputId": "5be02e9a-9c41-433e-da3f-21fd604197a8"
      },
      "execution_count": null,
      "outputs": [
        {
          "output_type": "stream",
          "name": "stdout",
          "text": [
            "{'키': 182, '성별': '남자'}\n",
            "182\n",
            "174.85714285714286\n"
          ]
        }
      ]
    },
    {
      "cell_type": "markdown",
      "source": [
        "리스트 컴프리헨션에 약간의 조건문(if문)을 넣어서 성별에 따라 달리하여 평균값을 계산할 수 있습니다."
      ],
      "metadata": {
        "id": "Xplr_cwXMkmG"
      }
    },
    {
      "cell_type": "code",
      "source": [
        "data = {\n",
        "    \"영희\": {\"키\": 164, \"성별\": \"여자\"},\n",
        "    \"철수\": {\"키\": 184, \"성별\": \"남자\"},\n",
        "    \"맹구\": {\"키\": 172, \"성별\": \"남자\"},\n",
        "    \"훈이\": {\"키\": 175, \"성별\": \"남자\"},\n",
        "    \"짱구\": {\"키\": 182, \"성별\": \"남자\"},\n",
        "    \"유리\": {\"키\": 170, \"성별\": \"여자\"},\n",
        "    \"흰둥\": {\"키\": 177, \"성별\": \"여자\"},\n",
        "}\n",
        "\n",
        "heights = [value[\"키\"] for key, value in data.items()]\n",
        "heights_men = [value[\"키\"] for key, value in data.items() if value[\"성별\"]==\"남자\"]\n",
        "heights_women = [value[\"키\"] for key, value in data.items() if value[\"성별\"]==\"여자\"]\n",
        "\n",
        "print(sum(heights)/len(heights))\n",
        "print(sum(heights_men)/len(heights_men))\n",
        "print(sum(heights_women)/len(heights_women))"
      ],
      "metadata": {
        "colab": {
          "base_uri": "https://localhost:8080/"
        },
        "id": "Pq0f_5W-LTaY",
        "outputId": "a6f2413c-c78f-4229-902d-0fc6f6c75b73"
      },
      "execution_count": 2,
      "outputs": [
        {
          "output_type": "stream",
          "name": "stdout",
          "text": [
            "174.85714285714286\n",
            "178.25\n",
            "170.33333333333334\n"
          ]
        }
      ]
    },
    {
      "cell_type": "markdown",
      "source": [
        "근데요 이게... 리스트 컴프리헨션 없이 그냥 반복문으로 남녀 별로 평균, 표준편차 계산하는 코드를 보여드리기가 좀 민망하네요..."
      ],
      "metadata": {
        "id": "-8XjJNREztQ7"
      }
    },
    {
      "cell_type": "code",
      "source": [
        "heights = [[164, \"영희\", \"여자\"],\n",
        "           [184, \"철수\", \"남자\"],\n",
        "           [172, \"맹구\", \"남자\"],\n",
        "           [175, \"훈이\", \"남자\"],\n",
        "           [182, \"짱구\", \"남자\"],\n",
        "           [170, \"유리\", \"여자\"],\n",
        "           [177, \"흰둥\", \"여자\"]]\n",
        "\n",
        "# 여러분이 나중에 이 코드를 다시 보면 매우 지저분함을 느낄 것입니다.\n",
        "# 물론 어쩌다 보면 지저분한 방식밖에 안 먹힐 때도 있긴 합니다.\n",
        "num_men = 0\n",
        "num_women = 0\n",
        "mean_men = 0\n",
        "mean_women = 0\n",
        "for data in heights:\n",
        "    if data[2] == \"남자\":\n",
        "        num_men += 1\n",
        "        mean_men += data[0]\n",
        "    if data[2] == \"여자\":\n",
        "        num_women += 1\n",
        "        mean_women += data[0]\n",
        "mean_men /= num_men\n",
        "mean_women /= num_women\n",
        "\n",
        "var_men = 0\n",
        "var_women = 0\n",
        "for data in heights:\n",
        "    if data[2] == \"남자\":\n",
        "        var_men += (data[0] - mean_men)**2\n",
        "    if data[2] == \"여자\":\n",
        "        var_women += (data[0] - mean_women)**2\n",
        "var_men /= num_men\n",
        "var_women /= num_women\n",
        "\n",
        "std_men = var_men ** 0.5\n",
        "std_women = var_women ** 0.5\n",
        "\n",
        "print(mean_men)\n",
        "print(mean_women)\n",
        "print(std_men)\n",
        "print(std_women)"
      ],
      "metadata": {
        "colab": {
          "base_uri": "https://localhost:8080/"
        },
        "id": "WCmBNfMFxJqw",
        "outputId": "2c3fb26f-d123-4e26-b7f8-e70467724c58"
      },
      "execution_count": null,
      "outputs": [
        {
          "output_type": "stream",
          "name": "stdout",
          "text": [
            "178.25\n",
            "170.33333333333334\n",
            "4.9180788932265\n",
            "5.312459150169742\n"
          ]
        }
      ]
    },
    {
      "cell_type": "markdown",
      "source": [
        "단언컨대 알고리즘이 어려운 것과 코드가 난잡한 것은 다른 차원의 것입니다!\n",
        "\n",
        "평균, 표준편차를 계산한다고 저렇게까지 해야 한다면 차라리 엑셀 쓰는 게 낫지 않을까요?\n",
        "\n",
        "우리는 파이썬의 장점을 최대한 활용해서 코드를 더 실전적으로 짧게 적어봅시다."
      ],
      "metadata": {
        "id": "Ak672-OT1lvo"
      }
    },
    {
      "cell_type": "code",
      "source": [
        "data = {\n",
        "    \"영희\": {\"키\": 164, \"성별\": \"여자\"},\n",
        "    \"철수\": {\"키\": 184, \"성별\": \"남자\"},\n",
        "    \"맹구\": {\"키\": 172, \"성별\": \"남자\"},\n",
        "    \"훈이\": {\"키\": 175, \"성별\": \"남자\"},\n",
        "    \"짱구\": {\"키\": 182, \"성별\": \"남자\"},\n",
        "    \"유리\": {\"키\": 170, \"성별\": \"여자\"},\n",
        "    \"흰둥\": {\"키\": 177, \"성별\": \"여자\"},\n",
        "}\n",
        "\n",
        "avg = lambda list: sum(list)/len(list)\n",
        "\n",
        "def st_dev(list):\n",
        "    mean = avg(list)\n",
        "    sq_dev = [(height - mean)**2 for height in list]\n",
        "    return avg(sq_dev) ** 0.5\n",
        "\n",
        "heights_men = [data[key][\"키\"] for key in data.keys() if data[key][\"성별\"]==\"남자\"]\n",
        "heights_women = [data[key][\"키\"] for key in data.keys() if data[key][\"성별\"]==\"여자\"]\n",
        "\n",
        "mean_men, mean_women = avg(heights_men), avg(heights_women)\n",
        "std_men, std_women = st_dev(heights_men), st_dev(heights_women)\n",
        "\n",
        "print(mean_men, mean_women, std_men, std_women)"
      ],
      "metadata": {
        "colab": {
          "base_uri": "https://localhost:8080/"
        },
        "id": "JFsjGScKyG1Z",
        "outputId": "d7e72a57-cee2-4199-e1bd-05bb4d67303e"
      },
      "execution_count": 2,
      "outputs": [
        {
          "output_type": "stream",
          "name": "stdout",
          "text": [
            "178.25 170.33333333333334 4.9180788932265 5.312459150169742\n"
          ]
        }
      ]
    },
    {
      "cell_type": "markdown",
      "source": [
        "실제 데이터 분석에서는 pandas라고 하는 라이브러리를 사용하여 엑셀처럼 유연하게 다룰 수 있습니다."
      ],
      "metadata": {
        "id": "VmP71VqpCcT-"
      }
    },
    {
      "cell_type": "code",
      "source": [
        "import pandas as pd\n",
        "\n",
        "data = {\n",
        "    \"영희\": {\"키\": 164, \"성별\": \"여자\"},\n",
        "    \"철수\": {\"키\": 184, \"성별\": \"남자\"},\n",
        "    \"맹구\": {\"키\": 172, \"성별\": \"남자\"},\n",
        "    \"훈이\": {\"키\": 175, \"성별\": \"남자\"},\n",
        "    \"짱구\": {\"키\": 182, \"성별\": \"남자\"},\n",
        "    \"유리\": {\"키\": 170, \"성별\": \"여자\"},\n",
        "    \"흰둥\": {\"키\": 177, \"성별\": \"여자\"},\n",
        "}\n",
        "\n",
        "df = pd.DataFrame(data)\n",
        "\n",
        "df = df.T # 우리 보기 편한대로 행과 열 바꾸기\n",
        "\n",
        "df"
      ],
      "metadata": {
        "colab": {
          "base_uri": "https://localhost:8080/",
          "height": 269
        },
        "id": "tYyceE0023mr",
        "outputId": "51299426-23c5-48a9-acbd-1e91405beef0"
      },
      "execution_count": 3,
      "outputs": [
        {
          "output_type": "execute_result",
          "data": {
            "text/plain": [
              "      키  성별\n",
              "영희  164  여자\n",
              "철수  184  남자\n",
              "맹구  172  남자\n",
              "훈이  175  남자\n",
              "짱구  182  남자\n",
              "유리  170  여자\n",
              "흰둥  177  여자"
            ],
            "text/html": [
              "\n",
              "  <div id=\"df-6a6cdcb3-94c2-4349-969d-c9d8dc18726b\" class=\"colab-df-container\">\n",
              "    <div>\n",
              "<style scoped>\n",
              "    .dataframe tbody tr th:only-of-type {\n",
              "        vertical-align: middle;\n",
              "    }\n",
              "\n",
              "    .dataframe tbody tr th {\n",
              "        vertical-align: top;\n",
              "    }\n",
              "\n",
              "    .dataframe thead th {\n",
              "        text-align: right;\n",
              "    }\n",
              "</style>\n",
              "<table border=\"1\" class=\"dataframe\">\n",
              "  <thead>\n",
              "    <tr style=\"text-align: right;\">\n",
              "      <th></th>\n",
              "      <th>키</th>\n",
              "      <th>성별</th>\n",
              "    </tr>\n",
              "  </thead>\n",
              "  <tbody>\n",
              "    <tr>\n",
              "      <th>영희</th>\n",
              "      <td>164</td>\n",
              "      <td>여자</td>\n",
              "    </tr>\n",
              "    <tr>\n",
              "      <th>철수</th>\n",
              "      <td>184</td>\n",
              "      <td>남자</td>\n",
              "    </tr>\n",
              "    <tr>\n",
              "      <th>맹구</th>\n",
              "      <td>172</td>\n",
              "      <td>남자</td>\n",
              "    </tr>\n",
              "    <tr>\n",
              "      <th>훈이</th>\n",
              "      <td>175</td>\n",
              "      <td>남자</td>\n",
              "    </tr>\n",
              "    <tr>\n",
              "      <th>짱구</th>\n",
              "      <td>182</td>\n",
              "      <td>남자</td>\n",
              "    </tr>\n",
              "    <tr>\n",
              "      <th>유리</th>\n",
              "      <td>170</td>\n",
              "      <td>여자</td>\n",
              "    </tr>\n",
              "    <tr>\n",
              "      <th>흰둥</th>\n",
              "      <td>177</td>\n",
              "      <td>여자</td>\n",
              "    </tr>\n",
              "  </tbody>\n",
              "</table>\n",
              "</div>\n",
              "    <div class=\"colab-df-buttons\">\n",
              "\n",
              "  <div class=\"colab-df-container\">\n",
              "    <button class=\"colab-df-convert\" onclick=\"convertToInteractive('df-6a6cdcb3-94c2-4349-969d-c9d8dc18726b')\"\n",
              "            title=\"Convert this dataframe to an interactive table.\"\n",
              "            style=\"display:none;\">\n",
              "\n",
              "  <svg xmlns=\"http://www.w3.org/2000/svg\" height=\"24px\" viewBox=\"0 -960 960 960\">\n",
              "    <path d=\"M120-120v-720h720v720H120Zm60-500h600v-160H180v160Zm220 220h160v-160H400v160Zm0 220h160v-160H400v160ZM180-400h160v-160H180v160Zm440 0h160v-160H620v160ZM180-180h160v-160H180v160Zm440 0h160v-160H620v160Z\"/>\n",
              "  </svg>\n",
              "    </button>\n",
              "\n",
              "  <style>\n",
              "    .colab-df-container {\n",
              "      display:flex;\n",
              "      gap: 12px;\n",
              "    }\n",
              "\n",
              "    .colab-df-convert {\n",
              "      background-color: #E8F0FE;\n",
              "      border: none;\n",
              "      border-radius: 50%;\n",
              "      cursor: pointer;\n",
              "      display: none;\n",
              "      fill: #1967D2;\n",
              "      height: 32px;\n",
              "      padding: 0 0 0 0;\n",
              "      width: 32px;\n",
              "    }\n",
              "\n",
              "    .colab-df-convert:hover {\n",
              "      background-color: #E2EBFA;\n",
              "      box-shadow: 0px 1px 2px rgba(60, 64, 67, 0.3), 0px 1px 3px 1px rgba(60, 64, 67, 0.15);\n",
              "      fill: #174EA6;\n",
              "    }\n",
              "\n",
              "    .colab-df-buttons div {\n",
              "      margin-bottom: 4px;\n",
              "    }\n",
              "\n",
              "    [theme=dark] .colab-df-convert {\n",
              "      background-color: #3B4455;\n",
              "      fill: #D2E3FC;\n",
              "    }\n",
              "\n",
              "    [theme=dark] .colab-df-convert:hover {\n",
              "      background-color: #434B5C;\n",
              "      box-shadow: 0px 1px 3px 1px rgba(0, 0, 0, 0.15);\n",
              "      filter: drop-shadow(0px 1px 2px rgba(0, 0, 0, 0.3));\n",
              "      fill: #FFFFFF;\n",
              "    }\n",
              "  </style>\n",
              "\n",
              "    <script>\n",
              "      const buttonEl =\n",
              "        document.querySelector('#df-6a6cdcb3-94c2-4349-969d-c9d8dc18726b button.colab-df-convert');\n",
              "      buttonEl.style.display =\n",
              "        google.colab.kernel.accessAllowed ? 'block' : 'none';\n",
              "\n",
              "      async function convertToInteractive(key) {\n",
              "        const element = document.querySelector('#df-6a6cdcb3-94c2-4349-969d-c9d8dc18726b');\n",
              "        const dataTable =\n",
              "          await google.colab.kernel.invokeFunction('convertToInteractive',\n",
              "                                                    [key], {});\n",
              "        if (!dataTable) return;\n",
              "\n",
              "        const docLinkHtml = 'Like what you see? Visit the ' +\n",
              "          '<a target=\"_blank\" href=https://colab.research.google.com/notebooks/data_table.ipynb>data table notebook</a>'\n",
              "          + ' to learn more about interactive tables.';\n",
              "        element.innerHTML = '';\n",
              "        dataTable['output_type'] = 'display_data';\n",
              "        await google.colab.output.renderOutput(dataTable, element);\n",
              "        const docLink = document.createElement('div');\n",
              "        docLink.innerHTML = docLinkHtml;\n",
              "        element.appendChild(docLink);\n",
              "      }\n",
              "    </script>\n",
              "  </div>\n",
              "\n",
              "\n",
              "<div id=\"df-05af1dd4-5654-405e-a670-147fcf218d00\">\n",
              "  <button class=\"colab-df-quickchart\" onclick=\"quickchart('df-05af1dd4-5654-405e-a670-147fcf218d00')\"\n",
              "            title=\"Suggest charts\"\n",
              "            style=\"display:none;\">\n",
              "\n",
              "<svg xmlns=\"http://www.w3.org/2000/svg\" height=\"24px\"viewBox=\"0 0 24 24\"\n",
              "     width=\"24px\">\n",
              "    <g>\n",
              "        <path d=\"M19 3H5c-1.1 0-2 .9-2 2v14c0 1.1.9 2 2 2h14c1.1 0 2-.9 2-2V5c0-1.1-.9-2-2-2zM9 17H7v-7h2v7zm4 0h-2V7h2v10zm4 0h-2v-4h2v4z\"/>\n",
              "    </g>\n",
              "</svg>\n",
              "  </button>\n",
              "\n",
              "<style>\n",
              "  .colab-df-quickchart {\n",
              "      --bg-color: #E8F0FE;\n",
              "      --fill-color: #1967D2;\n",
              "      --hover-bg-color: #E2EBFA;\n",
              "      --hover-fill-color: #174EA6;\n",
              "      --disabled-fill-color: #AAA;\n",
              "      --disabled-bg-color: #DDD;\n",
              "  }\n",
              "\n",
              "  [theme=dark] .colab-df-quickchart {\n",
              "      --bg-color: #3B4455;\n",
              "      --fill-color: #D2E3FC;\n",
              "      --hover-bg-color: #434B5C;\n",
              "      --hover-fill-color: #FFFFFF;\n",
              "      --disabled-bg-color: #3B4455;\n",
              "      --disabled-fill-color: #666;\n",
              "  }\n",
              "\n",
              "  .colab-df-quickchart {\n",
              "    background-color: var(--bg-color);\n",
              "    border: none;\n",
              "    border-radius: 50%;\n",
              "    cursor: pointer;\n",
              "    display: none;\n",
              "    fill: var(--fill-color);\n",
              "    height: 32px;\n",
              "    padding: 0;\n",
              "    width: 32px;\n",
              "  }\n",
              "\n",
              "  .colab-df-quickchart:hover {\n",
              "    background-color: var(--hover-bg-color);\n",
              "    box-shadow: 0 1px 2px rgba(60, 64, 67, 0.3), 0 1px 3px 1px rgba(60, 64, 67, 0.15);\n",
              "    fill: var(--button-hover-fill-color);\n",
              "  }\n",
              "\n",
              "  .colab-df-quickchart-complete:disabled,\n",
              "  .colab-df-quickchart-complete:disabled:hover {\n",
              "    background-color: var(--disabled-bg-color);\n",
              "    fill: var(--disabled-fill-color);\n",
              "    box-shadow: none;\n",
              "  }\n",
              "\n",
              "  .colab-df-spinner {\n",
              "    border: 2px solid var(--fill-color);\n",
              "    border-color: transparent;\n",
              "    border-bottom-color: var(--fill-color);\n",
              "    animation:\n",
              "      spin 1s steps(1) infinite;\n",
              "  }\n",
              "\n",
              "  @keyframes spin {\n",
              "    0% {\n",
              "      border-color: transparent;\n",
              "      border-bottom-color: var(--fill-color);\n",
              "      border-left-color: var(--fill-color);\n",
              "    }\n",
              "    20% {\n",
              "      border-color: transparent;\n",
              "      border-left-color: var(--fill-color);\n",
              "      border-top-color: var(--fill-color);\n",
              "    }\n",
              "    30% {\n",
              "      border-color: transparent;\n",
              "      border-left-color: var(--fill-color);\n",
              "      border-top-color: var(--fill-color);\n",
              "      border-right-color: var(--fill-color);\n",
              "    }\n",
              "    40% {\n",
              "      border-color: transparent;\n",
              "      border-right-color: var(--fill-color);\n",
              "      border-top-color: var(--fill-color);\n",
              "    }\n",
              "    60% {\n",
              "      border-color: transparent;\n",
              "      border-right-color: var(--fill-color);\n",
              "    }\n",
              "    80% {\n",
              "      border-color: transparent;\n",
              "      border-right-color: var(--fill-color);\n",
              "      border-bottom-color: var(--fill-color);\n",
              "    }\n",
              "    90% {\n",
              "      border-color: transparent;\n",
              "      border-bottom-color: var(--fill-color);\n",
              "    }\n",
              "  }\n",
              "</style>\n",
              "\n",
              "  <script>\n",
              "    async function quickchart(key) {\n",
              "      const quickchartButtonEl =\n",
              "        document.querySelector('#' + key + ' button');\n",
              "      quickchartButtonEl.disabled = true;  // To prevent multiple clicks.\n",
              "      quickchartButtonEl.classList.add('colab-df-spinner');\n",
              "      try {\n",
              "        const charts = await google.colab.kernel.invokeFunction(\n",
              "            'suggestCharts', [key], {});\n",
              "      } catch (error) {\n",
              "        console.error('Error during call to suggestCharts:', error);\n",
              "      }\n",
              "      quickchartButtonEl.classList.remove('colab-df-spinner');\n",
              "      quickchartButtonEl.classList.add('colab-df-quickchart-complete');\n",
              "    }\n",
              "    (() => {\n",
              "      let quickchartButtonEl =\n",
              "        document.querySelector('#df-05af1dd4-5654-405e-a670-147fcf218d00 button');\n",
              "      quickchartButtonEl.style.display =\n",
              "        google.colab.kernel.accessAllowed ? 'block' : 'none';\n",
              "    })();\n",
              "  </script>\n",
              "</div>\n",
              "\n",
              "  <div id=\"id_c9001a27-36ba-4a74-84a6-42f9160f2fca\">\n",
              "    <style>\n",
              "      .colab-df-generate {\n",
              "        background-color: #E8F0FE;\n",
              "        border: none;\n",
              "        border-radius: 50%;\n",
              "        cursor: pointer;\n",
              "        display: none;\n",
              "        fill: #1967D2;\n",
              "        height: 32px;\n",
              "        padding: 0 0 0 0;\n",
              "        width: 32px;\n",
              "      }\n",
              "\n",
              "      .colab-df-generate:hover {\n",
              "        background-color: #E2EBFA;\n",
              "        box-shadow: 0px 1px 2px rgba(60, 64, 67, 0.3), 0px 1px 3px 1px rgba(60, 64, 67, 0.15);\n",
              "        fill: #174EA6;\n",
              "      }\n",
              "\n",
              "      [theme=dark] .colab-df-generate {\n",
              "        background-color: #3B4455;\n",
              "        fill: #D2E3FC;\n",
              "      }\n",
              "\n",
              "      [theme=dark] .colab-df-generate:hover {\n",
              "        background-color: #434B5C;\n",
              "        box-shadow: 0px 1px 3px 1px rgba(0, 0, 0, 0.15);\n",
              "        filter: drop-shadow(0px 1px 2px rgba(0, 0, 0, 0.3));\n",
              "        fill: #FFFFFF;\n",
              "      }\n",
              "    </style>\n",
              "    <button class=\"colab-df-generate\" onclick=\"generateWithVariable('df')\"\n",
              "            title=\"Generate code using this dataframe.\"\n",
              "            style=\"display:none;\">\n",
              "\n",
              "  <svg xmlns=\"http://www.w3.org/2000/svg\" height=\"24px\"viewBox=\"0 0 24 24\"\n",
              "       width=\"24px\">\n",
              "    <path d=\"M7,19H8.4L18.45,9,17,7.55,7,17.6ZM5,21V16.75L18.45,3.32a2,2,0,0,1,2.83,0l1.4,1.43a1.91,1.91,0,0,1,.58,1.4,1.91,1.91,0,0,1-.58,1.4L9.25,21ZM18.45,9,17,7.55Zm-12,3A5.31,5.31,0,0,0,4.9,8.1,5.31,5.31,0,0,0,1,6.5,5.31,5.31,0,0,0,4.9,4.9,5.31,5.31,0,0,0,6.5,1,5.31,5.31,0,0,0,8.1,4.9,5.31,5.31,0,0,0,12,6.5,5.46,5.46,0,0,0,6.5,12Z\"/>\n",
              "  </svg>\n",
              "    </button>\n",
              "    <script>\n",
              "      (() => {\n",
              "      const buttonEl =\n",
              "        document.querySelector('#id_c9001a27-36ba-4a74-84a6-42f9160f2fca button.colab-df-generate');\n",
              "      buttonEl.style.display =\n",
              "        google.colab.kernel.accessAllowed ? 'block' : 'none';\n",
              "\n",
              "      buttonEl.onclick = () => {\n",
              "        google.colab.notebook.generateWithVariable('df');\n",
              "      }\n",
              "      })();\n",
              "    </script>\n",
              "  </div>\n",
              "\n",
              "    </div>\n",
              "  </div>\n"
            ],
            "application/vnd.google.colaboratory.intrinsic+json": {
              "type": "dataframe",
              "variable_name": "df",
              "summary": "{\n  \"name\": \"df\",\n  \"rows\": 7,\n  \"fields\": [\n    {\n      \"column\": \"\\ud0a4\",\n      \"properties\": {\n        \"dtype\": \"date\",\n        \"min\": 164,\n        \"max\": 184,\n        \"num_unique_values\": 7,\n        \"samples\": [\n          164,\n          184,\n          170\n        ],\n        \"semantic_type\": \"\",\n        \"description\": \"\"\n      }\n    },\n    {\n      \"column\": \"\\uc131\\ubcc4\",\n      \"properties\": {\n        \"dtype\": \"category\",\n        \"num_unique_values\": 2,\n        \"samples\": [\n          \"\\ub0a8\\uc790\",\n          \"\\uc5ec\\uc790\"\n        ],\n        \"semantic_type\": \"\",\n        \"description\": \"\"\n      }\n    }\n  ]\n}"
            }
          },
          "metadata": {},
          "execution_count": 3
        }
      ]
    },
    {
      "cell_type": "code",
      "source": [
        "df.groupby(\"성별\").mean()"
      ],
      "metadata": {
        "colab": {
          "base_uri": "https://localhost:8080/",
          "height": 143
        },
        "id": "xSUhjryUChhL",
        "outputId": "2c723899-b2f7-4b70-ec14-c832c40b4f49"
      },
      "execution_count": 4,
      "outputs": [
        {
          "output_type": "execute_result",
          "data": {
            "text/plain": [
              "             키\n",
              "성별            \n",
              "남자      178.25\n",
              "여자  170.333333"
            ],
            "text/html": [
              "\n",
              "  <div id=\"df-a19bda8e-cde1-4792-9e2c-1f15aa90f313\" class=\"colab-df-container\">\n",
              "    <div>\n",
              "<style scoped>\n",
              "    .dataframe tbody tr th:only-of-type {\n",
              "        vertical-align: middle;\n",
              "    }\n",
              "\n",
              "    .dataframe tbody tr th {\n",
              "        vertical-align: top;\n",
              "    }\n",
              "\n",
              "    .dataframe thead th {\n",
              "        text-align: right;\n",
              "    }\n",
              "</style>\n",
              "<table border=\"1\" class=\"dataframe\">\n",
              "  <thead>\n",
              "    <tr style=\"text-align: right;\">\n",
              "      <th></th>\n",
              "      <th>키</th>\n",
              "    </tr>\n",
              "    <tr>\n",
              "      <th>성별</th>\n",
              "      <th></th>\n",
              "    </tr>\n",
              "  </thead>\n",
              "  <tbody>\n",
              "    <tr>\n",
              "      <th>남자</th>\n",
              "      <td>178.25</td>\n",
              "    </tr>\n",
              "    <tr>\n",
              "      <th>여자</th>\n",
              "      <td>170.333333</td>\n",
              "    </tr>\n",
              "  </tbody>\n",
              "</table>\n",
              "</div>\n",
              "    <div class=\"colab-df-buttons\">\n",
              "\n",
              "  <div class=\"colab-df-container\">\n",
              "    <button class=\"colab-df-convert\" onclick=\"convertToInteractive('df-a19bda8e-cde1-4792-9e2c-1f15aa90f313')\"\n",
              "            title=\"Convert this dataframe to an interactive table.\"\n",
              "            style=\"display:none;\">\n",
              "\n",
              "  <svg xmlns=\"http://www.w3.org/2000/svg\" height=\"24px\" viewBox=\"0 -960 960 960\">\n",
              "    <path d=\"M120-120v-720h720v720H120Zm60-500h600v-160H180v160Zm220 220h160v-160H400v160Zm0 220h160v-160H400v160ZM180-400h160v-160H180v160Zm440 0h160v-160H620v160ZM180-180h160v-160H180v160Zm440 0h160v-160H620v160Z\"/>\n",
              "  </svg>\n",
              "    </button>\n",
              "\n",
              "  <style>\n",
              "    .colab-df-container {\n",
              "      display:flex;\n",
              "      gap: 12px;\n",
              "    }\n",
              "\n",
              "    .colab-df-convert {\n",
              "      background-color: #E8F0FE;\n",
              "      border: none;\n",
              "      border-radius: 50%;\n",
              "      cursor: pointer;\n",
              "      display: none;\n",
              "      fill: #1967D2;\n",
              "      height: 32px;\n",
              "      padding: 0 0 0 0;\n",
              "      width: 32px;\n",
              "    }\n",
              "\n",
              "    .colab-df-convert:hover {\n",
              "      background-color: #E2EBFA;\n",
              "      box-shadow: 0px 1px 2px rgba(60, 64, 67, 0.3), 0px 1px 3px 1px rgba(60, 64, 67, 0.15);\n",
              "      fill: #174EA6;\n",
              "    }\n",
              "\n",
              "    .colab-df-buttons div {\n",
              "      margin-bottom: 4px;\n",
              "    }\n",
              "\n",
              "    [theme=dark] .colab-df-convert {\n",
              "      background-color: #3B4455;\n",
              "      fill: #D2E3FC;\n",
              "    }\n",
              "\n",
              "    [theme=dark] .colab-df-convert:hover {\n",
              "      background-color: #434B5C;\n",
              "      box-shadow: 0px 1px 3px 1px rgba(0, 0, 0, 0.15);\n",
              "      filter: drop-shadow(0px 1px 2px rgba(0, 0, 0, 0.3));\n",
              "      fill: #FFFFFF;\n",
              "    }\n",
              "  </style>\n",
              "\n",
              "    <script>\n",
              "      const buttonEl =\n",
              "        document.querySelector('#df-a19bda8e-cde1-4792-9e2c-1f15aa90f313 button.colab-df-convert');\n",
              "      buttonEl.style.display =\n",
              "        google.colab.kernel.accessAllowed ? 'block' : 'none';\n",
              "\n",
              "      async function convertToInteractive(key) {\n",
              "        const element = document.querySelector('#df-a19bda8e-cde1-4792-9e2c-1f15aa90f313');\n",
              "        const dataTable =\n",
              "          await google.colab.kernel.invokeFunction('convertToInteractive',\n",
              "                                                    [key], {});\n",
              "        if (!dataTable) return;\n",
              "\n",
              "        const docLinkHtml = 'Like what you see? Visit the ' +\n",
              "          '<a target=\"_blank\" href=https://colab.research.google.com/notebooks/data_table.ipynb>data table notebook</a>'\n",
              "          + ' to learn more about interactive tables.';\n",
              "        element.innerHTML = '';\n",
              "        dataTable['output_type'] = 'display_data';\n",
              "        await google.colab.output.renderOutput(dataTable, element);\n",
              "        const docLink = document.createElement('div');\n",
              "        docLink.innerHTML = docLinkHtml;\n",
              "        element.appendChild(docLink);\n",
              "      }\n",
              "    </script>\n",
              "  </div>\n",
              "\n",
              "\n",
              "<div id=\"df-30018e7c-9504-42c3-910e-8785c027cabb\">\n",
              "  <button class=\"colab-df-quickchart\" onclick=\"quickchart('df-30018e7c-9504-42c3-910e-8785c027cabb')\"\n",
              "            title=\"Suggest charts\"\n",
              "            style=\"display:none;\">\n",
              "\n",
              "<svg xmlns=\"http://www.w3.org/2000/svg\" height=\"24px\"viewBox=\"0 0 24 24\"\n",
              "     width=\"24px\">\n",
              "    <g>\n",
              "        <path d=\"M19 3H5c-1.1 0-2 .9-2 2v14c0 1.1.9 2 2 2h14c1.1 0 2-.9 2-2V5c0-1.1-.9-2-2-2zM9 17H7v-7h2v7zm4 0h-2V7h2v10zm4 0h-2v-4h2v4z\"/>\n",
              "    </g>\n",
              "</svg>\n",
              "  </button>\n",
              "\n",
              "<style>\n",
              "  .colab-df-quickchart {\n",
              "      --bg-color: #E8F0FE;\n",
              "      --fill-color: #1967D2;\n",
              "      --hover-bg-color: #E2EBFA;\n",
              "      --hover-fill-color: #174EA6;\n",
              "      --disabled-fill-color: #AAA;\n",
              "      --disabled-bg-color: #DDD;\n",
              "  }\n",
              "\n",
              "  [theme=dark] .colab-df-quickchart {\n",
              "      --bg-color: #3B4455;\n",
              "      --fill-color: #D2E3FC;\n",
              "      --hover-bg-color: #434B5C;\n",
              "      --hover-fill-color: #FFFFFF;\n",
              "      --disabled-bg-color: #3B4455;\n",
              "      --disabled-fill-color: #666;\n",
              "  }\n",
              "\n",
              "  .colab-df-quickchart {\n",
              "    background-color: var(--bg-color);\n",
              "    border: none;\n",
              "    border-radius: 50%;\n",
              "    cursor: pointer;\n",
              "    display: none;\n",
              "    fill: var(--fill-color);\n",
              "    height: 32px;\n",
              "    padding: 0;\n",
              "    width: 32px;\n",
              "  }\n",
              "\n",
              "  .colab-df-quickchart:hover {\n",
              "    background-color: var(--hover-bg-color);\n",
              "    box-shadow: 0 1px 2px rgba(60, 64, 67, 0.3), 0 1px 3px 1px rgba(60, 64, 67, 0.15);\n",
              "    fill: var(--button-hover-fill-color);\n",
              "  }\n",
              "\n",
              "  .colab-df-quickchart-complete:disabled,\n",
              "  .colab-df-quickchart-complete:disabled:hover {\n",
              "    background-color: var(--disabled-bg-color);\n",
              "    fill: var(--disabled-fill-color);\n",
              "    box-shadow: none;\n",
              "  }\n",
              "\n",
              "  .colab-df-spinner {\n",
              "    border: 2px solid var(--fill-color);\n",
              "    border-color: transparent;\n",
              "    border-bottom-color: var(--fill-color);\n",
              "    animation:\n",
              "      spin 1s steps(1) infinite;\n",
              "  }\n",
              "\n",
              "  @keyframes spin {\n",
              "    0% {\n",
              "      border-color: transparent;\n",
              "      border-bottom-color: var(--fill-color);\n",
              "      border-left-color: var(--fill-color);\n",
              "    }\n",
              "    20% {\n",
              "      border-color: transparent;\n",
              "      border-left-color: var(--fill-color);\n",
              "      border-top-color: var(--fill-color);\n",
              "    }\n",
              "    30% {\n",
              "      border-color: transparent;\n",
              "      border-left-color: var(--fill-color);\n",
              "      border-top-color: var(--fill-color);\n",
              "      border-right-color: var(--fill-color);\n",
              "    }\n",
              "    40% {\n",
              "      border-color: transparent;\n",
              "      border-right-color: var(--fill-color);\n",
              "      border-top-color: var(--fill-color);\n",
              "    }\n",
              "    60% {\n",
              "      border-color: transparent;\n",
              "      border-right-color: var(--fill-color);\n",
              "    }\n",
              "    80% {\n",
              "      border-color: transparent;\n",
              "      border-right-color: var(--fill-color);\n",
              "      border-bottom-color: var(--fill-color);\n",
              "    }\n",
              "    90% {\n",
              "      border-color: transparent;\n",
              "      border-bottom-color: var(--fill-color);\n",
              "    }\n",
              "  }\n",
              "</style>\n",
              "\n",
              "  <script>\n",
              "    async function quickchart(key) {\n",
              "      const quickchartButtonEl =\n",
              "        document.querySelector('#' + key + ' button');\n",
              "      quickchartButtonEl.disabled = true;  // To prevent multiple clicks.\n",
              "      quickchartButtonEl.classList.add('colab-df-spinner');\n",
              "      try {\n",
              "        const charts = await google.colab.kernel.invokeFunction(\n",
              "            'suggestCharts', [key], {});\n",
              "      } catch (error) {\n",
              "        console.error('Error during call to suggestCharts:', error);\n",
              "      }\n",
              "      quickchartButtonEl.classList.remove('colab-df-spinner');\n",
              "      quickchartButtonEl.classList.add('colab-df-quickchart-complete');\n",
              "    }\n",
              "    (() => {\n",
              "      let quickchartButtonEl =\n",
              "        document.querySelector('#df-30018e7c-9504-42c3-910e-8785c027cabb button');\n",
              "      quickchartButtonEl.style.display =\n",
              "        google.colab.kernel.accessAllowed ? 'block' : 'none';\n",
              "    })();\n",
              "  </script>\n",
              "</div>\n",
              "\n",
              "    </div>\n",
              "  </div>\n"
            ],
            "application/vnd.google.colaboratory.intrinsic+json": {
              "type": "dataframe",
              "summary": "{\n  \"name\": \"df\",\n  \"rows\": 2,\n  \"fields\": [\n    {\n      \"column\": \"\\uc131\\ubcc4\",\n      \"properties\": {\n        \"dtype\": \"string\",\n        \"num_unique_values\": 2,\n        \"samples\": [\n          \"\\uc5ec\\uc790\",\n          \"\\ub0a8\\uc790\"\n        ],\n        \"semantic_type\": \"\",\n        \"description\": \"\"\n      }\n    },\n    {\n      \"column\": \"\\ud0a4\",\n      \"properties\": {\n        \"dtype\": \"date\",\n        \"min\": 170.33333333333334,\n        \"max\": 178.25,\n        \"num_unique_values\": 2,\n        \"samples\": [\n          170.33333333333334,\n          178.25\n        ],\n        \"semantic_type\": \"\",\n        \"description\": \"\"\n      }\n    }\n  ]\n}"
            }
          },
          "metadata": {},
          "execution_count": 4
        }
      ]
    },
    {
      "cell_type": "code",
      "source": [
        "df.groupby(\"성별\").std() # 표본 분산과 모분산이 다름에 유의하세요!"
      ],
      "metadata": {
        "colab": {
          "base_uri": "https://localhost:8080/",
          "height": 143
        },
        "id": "fSX91T-KC9lC",
        "outputId": "3e6bc9c8-94b6-44c2-9fc1-546f9b212b06"
      },
      "execution_count": 5,
      "outputs": [
        {
          "output_type": "execute_result",
          "data": {
            "text/plain": [
              "           키\n",
              "성별          \n",
              "남자  5.678908\n",
              "여자  6.506407"
            ],
            "text/html": [
              "\n",
              "  <div id=\"df-3f75a76b-46c3-4994-b534-5ff1e78a836a\" class=\"colab-df-container\">\n",
              "    <div>\n",
              "<style scoped>\n",
              "    .dataframe tbody tr th:only-of-type {\n",
              "        vertical-align: middle;\n",
              "    }\n",
              "\n",
              "    .dataframe tbody tr th {\n",
              "        vertical-align: top;\n",
              "    }\n",
              "\n",
              "    .dataframe thead th {\n",
              "        text-align: right;\n",
              "    }\n",
              "</style>\n",
              "<table border=\"1\" class=\"dataframe\">\n",
              "  <thead>\n",
              "    <tr style=\"text-align: right;\">\n",
              "      <th></th>\n",
              "      <th>키</th>\n",
              "    </tr>\n",
              "    <tr>\n",
              "      <th>성별</th>\n",
              "      <th></th>\n",
              "    </tr>\n",
              "  </thead>\n",
              "  <tbody>\n",
              "    <tr>\n",
              "      <th>남자</th>\n",
              "      <td>5.678908</td>\n",
              "    </tr>\n",
              "    <tr>\n",
              "      <th>여자</th>\n",
              "      <td>6.506407</td>\n",
              "    </tr>\n",
              "  </tbody>\n",
              "</table>\n",
              "</div>\n",
              "    <div class=\"colab-df-buttons\">\n",
              "\n",
              "  <div class=\"colab-df-container\">\n",
              "    <button class=\"colab-df-convert\" onclick=\"convertToInteractive('df-3f75a76b-46c3-4994-b534-5ff1e78a836a')\"\n",
              "            title=\"Convert this dataframe to an interactive table.\"\n",
              "            style=\"display:none;\">\n",
              "\n",
              "  <svg xmlns=\"http://www.w3.org/2000/svg\" height=\"24px\" viewBox=\"0 -960 960 960\">\n",
              "    <path d=\"M120-120v-720h720v720H120Zm60-500h600v-160H180v160Zm220 220h160v-160H400v160Zm0 220h160v-160H400v160ZM180-400h160v-160H180v160Zm440 0h160v-160H620v160ZM180-180h160v-160H180v160Zm440 0h160v-160H620v160Z\"/>\n",
              "  </svg>\n",
              "    </button>\n",
              "\n",
              "  <style>\n",
              "    .colab-df-container {\n",
              "      display:flex;\n",
              "      gap: 12px;\n",
              "    }\n",
              "\n",
              "    .colab-df-convert {\n",
              "      background-color: #E8F0FE;\n",
              "      border: none;\n",
              "      border-radius: 50%;\n",
              "      cursor: pointer;\n",
              "      display: none;\n",
              "      fill: #1967D2;\n",
              "      height: 32px;\n",
              "      padding: 0 0 0 0;\n",
              "      width: 32px;\n",
              "    }\n",
              "\n",
              "    .colab-df-convert:hover {\n",
              "      background-color: #E2EBFA;\n",
              "      box-shadow: 0px 1px 2px rgba(60, 64, 67, 0.3), 0px 1px 3px 1px rgba(60, 64, 67, 0.15);\n",
              "      fill: #174EA6;\n",
              "    }\n",
              "\n",
              "    .colab-df-buttons div {\n",
              "      margin-bottom: 4px;\n",
              "    }\n",
              "\n",
              "    [theme=dark] .colab-df-convert {\n",
              "      background-color: #3B4455;\n",
              "      fill: #D2E3FC;\n",
              "    }\n",
              "\n",
              "    [theme=dark] .colab-df-convert:hover {\n",
              "      background-color: #434B5C;\n",
              "      box-shadow: 0px 1px 3px 1px rgba(0, 0, 0, 0.15);\n",
              "      filter: drop-shadow(0px 1px 2px rgba(0, 0, 0, 0.3));\n",
              "      fill: #FFFFFF;\n",
              "    }\n",
              "  </style>\n",
              "\n",
              "    <script>\n",
              "      const buttonEl =\n",
              "        document.querySelector('#df-3f75a76b-46c3-4994-b534-5ff1e78a836a button.colab-df-convert');\n",
              "      buttonEl.style.display =\n",
              "        google.colab.kernel.accessAllowed ? 'block' : 'none';\n",
              "\n",
              "      async function convertToInteractive(key) {\n",
              "        const element = document.querySelector('#df-3f75a76b-46c3-4994-b534-5ff1e78a836a');\n",
              "        const dataTable =\n",
              "          await google.colab.kernel.invokeFunction('convertToInteractive',\n",
              "                                                    [key], {});\n",
              "        if (!dataTable) return;\n",
              "\n",
              "        const docLinkHtml = 'Like what you see? Visit the ' +\n",
              "          '<a target=\"_blank\" href=https://colab.research.google.com/notebooks/data_table.ipynb>data table notebook</a>'\n",
              "          + ' to learn more about interactive tables.';\n",
              "        element.innerHTML = '';\n",
              "        dataTable['output_type'] = 'display_data';\n",
              "        await google.colab.output.renderOutput(dataTable, element);\n",
              "        const docLink = document.createElement('div');\n",
              "        docLink.innerHTML = docLinkHtml;\n",
              "        element.appendChild(docLink);\n",
              "      }\n",
              "    </script>\n",
              "  </div>\n",
              "\n",
              "\n",
              "<div id=\"df-954cbe30-e2bc-4462-b8a7-8e533987517e\">\n",
              "  <button class=\"colab-df-quickchart\" onclick=\"quickchart('df-954cbe30-e2bc-4462-b8a7-8e533987517e')\"\n",
              "            title=\"Suggest charts\"\n",
              "            style=\"display:none;\">\n",
              "\n",
              "<svg xmlns=\"http://www.w3.org/2000/svg\" height=\"24px\"viewBox=\"0 0 24 24\"\n",
              "     width=\"24px\">\n",
              "    <g>\n",
              "        <path d=\"M19 3H5c-1.1 0-2 .9-2 2v14c0 1.1.9 2 2 2h14c1.1 0 2-.9 2-2V5c0-1.1-.9-2-2-2zM9 17H7v-7h2v7zm4 0h-2V7h2v10zm4 0h-2v-4h2v4z\"/>\n",
              "    </g>\n",
              "</svg>\n",
              "  </button>\n",
              "\n",
              "<style>\n",
              "  .colab-df-quickchart {\n",
              "      --bg-color: #E8F0FE;\n",
              "      --fill-color: #1967D2;\n",
              "      --hover-bg-color: #E2EBFA;\n",
              "      --hover-fill-color: #174EA6;\n",
              "      --disabled-fill-color: #AAA;\n",
              "      --disabled-bg-color: #DDD;\n",
              "  }\n",
              "\n",
              "  [theme=dark] .colab-df-quickchart {\n",
              "      --bg-color: #3B4455;\n",
              "      --fill-color: #D2E3FC;\n",
              "      --hover-bg-color: #434B5C;\n",
              "      --hover-fill-color: #FFFFFF;\n",
              "      --disabled-bg-color: #3B4455;\n",
              "      --disabled-fill-color: #666;\n",
              "  }\n",
              "\n",
              "  .colab-df-quickchart {\n",
              "    background-color: var(--bg-color);\n",
              "    border: none;\n",
              "    border-radius: 50%;\n",
              "    cursor: pointer;\n",
              "    display: none;\n",
              "    fill: var(--fill-color);\n",
              "    height: 32px;\n",
              "    padding: 0;\n",
              "    width: 32px;\n",
              "  }\n",
              "\n",
              "  .colab-df-quickchart:hover {\n",
              "    background-color: var(--hover-bg-color);\n",
              "    box-shadow: 0 1px 2px rgba(60, 64, 67, 0.3), 0 1px 3px 1px rgba(60, 64, 67, 0.15);\n",
              "    fill: var(--button-hover-fill-color);\n",
              "  }\n",
              "\n",
              "  .colab-df-quickchart-complete:disabled,\n",
              "  .colab-df-quickchart-complete:disabled:hover {\n",
              "    background-color: var(--disabled-bg-color);\n",
              "    fill: var(--disabled-fill-color);\n",
              "    box-shadow: none;\n",
              "  }\n",
              "\n",
              "  .colab-df-spinner {\n",
              "    border: 2px solid var(--fill-color);\n",
              "    border-color: transparent;\n",
              "    border-bottom-color: var(--fill-color);\n",
              "    animation:\n",
              "      spin 1s steps(1) infinite;\n",
              "  }\n",
              "\n",
              "  @keyframes spin {\n",
              "    0% {\n",
              "      border-color: transparent;\n",
              "      border-bottom-color: var(--fill-color);\n",
              "      border-left-color: var(--fill-color);\n",
              "    }\n",
              "    20% {\n",
              "      border-color: transparent;\n",
              "      border-left-color: var(--fill-color);\n",
              "      border-top-color: var(--fill-color);\n",
              "    }\n",
              "    30% {\n",
              "      border-color: transparent;\n",
              "      border-left-color: var(--fill-color);\n",
              "      border-top-color: var(--fill-color);\n",
              "      border-right-color: var(--fill-color);\n",
              "    }\n",
              "    40% {\n",
              "      border-color: transparent;\n",
              "      border-right-color: var(--fill-color);\n",
              "      border-top-color: var(--fill-color);\n",
              "    }\n",
              "    60% {\n",
              "      border-color: transparent;\n",
              "      border-right-color: var(--fill-color);\n",
              "    }\n",
              "    80% {\n",
              "      border-color: transparent;\n",
              "      border-right-color: var(--fill-color);\n",
              "      border-bottom-color: var(--fill-color);\n",
              "    }\n",
              "    90% {\n",
              "      border-color: transparent;\n",
              "      border-bottom-color: var(--fill-color);\n",
              "    }\n",
              "  }\n",
              "</style>\n",
              "\n",
              "  <script>\n",
              "    async function quickchart(key) {\n",
              "      const quickchartButtonEl =\n",
              "        document.querySelector('#' + key + ' button');\n",
              "      quickchartButtonEl.disabled = true;  // To prevent multiple clicks.\n",
              "      quickchartButtonEl.classList.add('colab-df-spinner');\n",
              "      try {\n",
              "        const charts = await google.colab.kernel.invokeFunction(\n",
              "            'suggestCharts', [key], {});\n",
              "      } catch (error) {\n",
              "        console.error('Error during call to suggestCharts:', error);\n",
              "      }\n",
              "      quickchartButtonEl.classList.remove('colab-df-spinner');\n",
              "      quickchartButtonEl.classList.add('colab-df-quickchart-complete');\n",
              "    }\n",
              "    (() => {\n",
              "      let quickchartButtonEl =\n",
              "        document.querySelector('#df-954cbe30-e2bc-4462-b8a7-8e533987517e button');\n",
              "      quickchartButtonEl.style.display =\n",
              "        google.colab.kernel.accessAllowed ? 'block' : 'none';\n",
              "    })();\n",
              "  </script>\n",
              "</div>\n",
              "\n",
              "    </div>\n",
              "  </div>\n"
            ],
            "application/vnd.google.colaboratory.intrinsic+json": {
              "type": "dataframe",
              "summary": "{\n  \"name\": \"df\",\n  \"rows\": 2,\n  \"fields\": [\n    {\n      \"column\": \"\\uc131\\ubcc4\",\n      \"properties\": {\n        \"dtype\": \"string\",\n        \"num_unique_values\": 2,\n        \"samples\": [\n          \"\\uc5ec\\uc790\",\n          \"\\ub0a8\\uc790\"\n        ],\n        \"semantic_type\": \"\",\n        \"description\": \"\"\n      }\n    },\n    {\n      \"column\": \"\\ud0a4\",\n      \"properties\": {\n        \"dtype\": \"number\",\n        \"std\": 0.5851299795618318,\n        \"min\": 5.678908345800274,\n        \"max\": 6.506407098647708,\n        \"num_unique_values\": 2,\n        \"samples\": [\n          6.506407098647708,\n          5.678908345800274\n        ],\n        \"semantic_type\": \"\",\n        \"description\": \"\"\n      }\n    }\n  ]\n}"
            }
          },
          "metadata": {},
          "execution_count": 5
        }
      ]
    },
    {
      "cell_type": "markdown",
      "source": [
        "몇 줄 만에 끝나죠? 이처럼 파이썬 라이브러리는 단순하고 강력합니다.\n",
        "\n",
        "\"조감도\"는 여기에서 끝내는 것이 좋겠습니다.\n",
        "\n",
        "오늘 나온 말은 전부 다 이해하지 못해도 괜찮습니다.\n",
        "\n",
        "다음 시간에 본격적으로 더 디테일한 사항을 보여드리겠습니다."
      ],
      "metadata": {
        "id": "ezL2vix7DiqR"
      }
    },
    {
      "cell_type": "code",
      "source": [],
      "metadata": {
        "id": "MTJjC6naDBiF"
      },
      "execution_count": null,
      "outputs": []
    }
  ]
}