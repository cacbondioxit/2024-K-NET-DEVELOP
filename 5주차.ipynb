{
  "nbformat": 4,
  "nbformat_minor": 0,
  "metadata": {
    "colab": {
      "provenance": [],
      "authorship_tag": "ABX9TyMYdoCzkid4+1k22oXn5F8C",
      "include_colab_link": true
    },
    "kernelspec": {
      "name": "python3",
      "display_name": "Python 3"
    },
    "language_info": {
      "name": "python"
    }
  },
  "cells": [
    {
      "cell_type": "markdown",
      "metadata": {
        "id": "view-in-github",
        "colab_type": "text"
      },
      "source": [
        "<a href=\"https://colab.research.google.com/github/cacbondioxit/2024-K-NET-DEVELOP/blob/main/5%EC%A3%BC%EC%B0%A8.ipynb\" target=\"_parent\"><img src=\"https://colab.research.google.com/assets/colab-badge.svg\" alt=\"Open In Colab\"/></a>"
      ]
    },
    {
      "cell_type": "markdown",
      "source": [
        "지난 주차까지는 파이썬에서 데이터를 어떻게 나타내는지(자료형 내지는 자료구조)에 대한 내용이었습니다.\n",
        "\n",
        "이번 시간에는 프로그램의 흐름을 나타내는 조건문과 반복문에 대해 살펴봅니다.\n",
        "\n",
        "지난 시간까지 알파벳과 단어를 배웠다면, 이번 시간부터는 문장이 무엇인지 배웁니다.\n",
        "\n",
        "참고: 다음 시간 이름을 \"함수와 모듈\"로 변경합니다."
      ],
      "metadata": {
        "id": "M6NwiCY-ps1u"
      }
    },
    {
      "cell_type": "markdown",
      "source": [
        "# 조건문\n",
        "\n",
        "그동안의 슬라이드에서 간혹 `if`라는 단어를 보셨을 것 같아요.\n",
        "\n",
        "if는 \"만약\"이라는 뜻 그대로 프로그래밍에서 쓰입니다.\n",
        "\n",
        "else는 \"그렇지 않으면\"이라는 영단어 뜻 그대로입니다.\n",
        "\n",
        "그것을 기반으로 아래의 코드를 이렇게 해석해볼 수 있습니다.\n",
        "\n",
        "\"어... 그러니까 어떤 게임인데, number는 난수를 뽑은 것이고, guess는 사용자 입력이고, 사용자가 난수 값을 맞추면 축하한다고 말해주는 것이고 아니면 뭔가를 삭제하는 것이군...\"\n",
        "\n",
        "![u4z89d2jqgta1.webp](data:image/webp;base64,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)\n",
        "\n",
        "(주의: 절대로 실행해보지 마세요!!ㅠㅠㅠㅠㅠㅠ 실행해서 컴퓨터 큰일나면 제가 책임질 수 없습니다.)"
      ],
      "metadata": {
        "id": "RdfoUsJlvg4s"
      }
    },
    {
      "cell_type": "markdown",
      "source": [
        "조건문은 그저 상황에 따라 프로그램의 흐름을 다르게 나타내는 것이기 때문에, 영어 문장처럼 코드를 보고 직관적으로 이해가 가능합니다.\n",
        "\n",
        "```\n",
        "# 예시\n",
        "N = 100\n",
        "if N > 50:\n",
        "    print(\"50 초과입니다.\")\n",
        "\n",
        "```"
      ],
      "metadata": {
        "id": "ZCAiln_3xiCC"
      }
    },
    {
      "cell_type": "markdown",
      "source": [
        "참고: 파이썬에서는 조건문, 반복문, 함수, 클래스 작성 시 중괄호를 쓰지 않고 들여쓰기 개수로 구분합니다. (들여쓰기가 중괄호 역할을 대신)"
      ],
      "metadata": {
        "id": "hWlbvC-YxUcd"
      }
    },
    {
      "cell_type": "code",
      "execution_count": null,
      "metadata": {
        "colab": {
          "base_uri": "https://localhost:8080/",
          "height": 110
        },
        "id": "flQ_rcOSlXAh",
        "outputId": "6d670589-1352-4d41-91b4-9993dcd3b680"
      },
      "outputs": [
        {
          "output_type": "error",
          "ename": "IndentationError",
          "evalue": "unexpected indent (<ipython-input-2-fcefddc8772d>, line 4)",
          "traceback": [
            "\u001b[0;36m  File \u001b[0;32m\"<ipython-input-2-fcefddc8772d>\"\u001b[0;36m, line \u001b[0;32m4\u001b[0m\n\u001b[0;31m    print(\"큽니다\")\u001b[0m\n\u001b[0m    ^\u001b[0m\n\u001b[0;31mIndentationError\u001b[0m\u001b[0;31m:\u001b[0m unexpected indent\n"
          ]
        }
      ],
      "source": [
        "N = 100\n",
        "if N > 50:\n",
        "    print(\"50보다\")\n",
        "        print(\"큽니다\")\n",
        "    print(\"!\")"
      ]
    },
    {
      "cell_type": "markdown",
      "source": [
        "참고: 비교 연산자\n",
        "\n",
        "\"==\"는 두 개가 같다는 뜻, \"!=\"는 두 개가 다르다는 뜻, \">=\"는 크거나 같다는 뜻, \"<=\"는 작거나 같다는 뜻입니다."
      ],
      "metadata": {
        "id": "zsqioPeEytpk"
      }
    },
    {
      "cell_type": "markdown",
      "source": [
        "## if-else 문\n",
        "\n",
        "어떤 조건에 만족하면 A 동작, 그렇지 못하면 B 동작을 실행합니다.\n",
        "\n",
        "else는 생략해도 됩니다.\n",
        "\n",
        "참고: 영단어 else는 \"그 밖의, 다른\"이라는 뜻임을 연상하면 좋습니다."
      ],
      "metadata": {
        "id": "3OkwI_Lgy1HQ"
      }
    },
    {
      "cell_type": "code",
      "source": [
        "my_score = int(input(\"점수를 입력해주세요: \"))\n",
        "\n",
        "if my_score >= 60:\n",
        "    print(\"합격! ㅎㅎ\")\n",
        "else:\n",
        "    print(\"불합격! ㅠㅠ\")"
      ],
      "metadata": {
        "colab": {
          "base_uri": "https://localhost:8080/"
        },
        "id": "Z6ICck5qymhk",
        "outputId": "0ed215a3-7691-483a-c285-065594e82299"
      },
      "execution_count": null,
      "outputs": [
        {
          "output_type": "stream",
          "name": "stdout",
          "text": [
            "점수를 입력해주세요: 65\n",
            "합격! ㅎㅎ\n"
          ]
        }
      ]
    },
    {
      "cell_type": "markdown",
      "source": [
        "# 애매하게만 알면 난처해지는 논리 연산자\n",
        "\n",
        "and, or, not을 논리 연산자라고 부릅니다.\n",
        "\n",
        "사용법은 다음처럼 쓸 수 있습니다.\n",
        "\n",
        "- ```x or y``` : x와 y 둘 중 하나만 참이면 True\n",
        "- ```x and y```: x와 y 둘 다 참이여야 True (하나라도 거짓이라면 False)\n",
        "- ```not x```: x가 거짓일 때 True이고, 참일 때 False\n",
        "\n",
        "다음의 예시를 생각해볼 수 있습니다.\n",
        "\n",
        "![images.jpg](data:image/jpeg;base64,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)"
      ],
      "metadata": {
        "id": "MDG5IiwuzoOe"
      }
    },
    {
      "cell_type": "code",
      "source": [
        "eunwon = {'team': 'Hanwha', 'OBP': 0.333, 'G': 122}\n",
        "\n",
        "if eunwon['OBP'] < 0.36 and eunwon['G'] >= 100:\n",
        "    print(\"은원아!!! 아웃 당하면 누나랑 결혼이다\")\n",
        "else: # 드 모르간의 법칙! => OBP >= 0.36 or G < 100\n",
        "    print(\"표본 수가 부족하거나 이미 결혼한 선수입니다.\")"
      ],
      "metadata": {
        "colab": {
          "base_uri": "https://localhost:8080/"
        },
        "id": "SolLlRc_zZPo",
        "outputId": "b8643d60-b416-4714-8698-9a91fe7d763b"
      },
      "execution_count": null,
      "outputs": [
        {
          "output_type": "stream",
          "name": "stdout",
          "text": [
            "은원아!!! 아웃 당하면 누나랑 결혼이다\n"
          ]
        }
      ]
    },
    {
      "cell_type": "markdown",
      "source": [
        "참고: if문 등 콜론 아래의 들여쓰는 코드를 비우고 싶다면 ```pass```를 써줘야 합니다.\n",
        "\n",
        "참고: if문 조건식에 빈 리스트, 빈 문자열, 빈 딕셔너리나 숫자 0 등으로 True/False를 대신해 쓸 수도 있습니다. 비어있거나 0, None이면 False이고, 그렇지 않으면 True로 처리됩니다. 이는 가독성에 유리합니다."
      ],
      "metadata": {
        "id": "FPIQRMMk8SEH"
      }
    },
    {
      "cell_type": "code",
      "source": [
        "in_my_head = []\n",
        "\n",
        "if in_my_head: # 머릿 속에 든 게 있으면\n",
        "    pass # 그냥 넘어감\n",
        "else: # 없으면\n",
        "    print(\"혹시 제 얼굴도 기억이 안 나시나요?\")"
      ],
      "metadata": {
        "colab": {
          "base_uri": "https://localhost:8080/"
        },
        "id": "nQVLQcyF8Rmh",
        "outputId": "4e1e1a1f-2dab-476f-eb73-be05e463f0ae"
      },
      "execution_count": null,
      "outputs": [
        {
          "output_type": "stream",
          "name": "stdout",
          "text": [
            "혹시 저도 기억이 안 나시나요?\n"
          ]
        }
      ]
    },
    {
      "cell_type": "code",
      "source": [
        "in_my_head = []\n",
        "\n",
        "if not in_my_head: # 머릿 속에 든 게 없으면\n",
        "    print(\"혹시 제 얼굴도 기억이 안 나시나요?\")"
      ],
      "metadata": {
        "colab": {
          "base_uri": "https://localhost:8080/"
        },
        "id": "gCf8h2o689IM",
        "outputId": "26680116-741a-40d6-bbf0-8bc205260989"
      },
      "execution_count": null,
      "outputs": [
        {
          "output_type": "stream",
          "name": "stdout",
          "text": [
            "혹시 제 얼굴도 기억이 안 나시나요?\n"
          ]
        }
      ]
    },
    {
      "cell_type": "markdown",
      "source": [
        "참고: 파이썬 인터프리터는 코드를 위에서 아래로, 왼쪽에서 오른쪽으로 읽습니다."
      ],
      "metadata": {
        "id": "cnsLOL3X7ZGA"
      }
    },
    {
      "cell_type": "code",
      "source": [
        "in_my_head = []\n",
        "\n",
        "if in_my_head and in_my_head[0] == \"펩시\": # 아무것도 출력되지 않음\n",
        "    print(\"펩시 좀 그만 마시고 파이썬 공부부터 좀 하자.\")"
      ],
      "metadata": {
        "id": "YHj6HCnA78f_"
      },
      "execution_count": null,
      "outputs": []
    },
    {
      "cell_type": "code",
      "source": [
        "in_my_head = []\n",
        "\n",
        "# 조건문의 순서를 바꿈\n",
        "if in_my_head[0] == \"펩시\" and in_my_head: # 빈 리스트를 인덱싱 -> 에러 발생!\n",
        "    print(\"펩시 좀 그만 마시고 파이썬 공부부터 좀 하자.\")"
      ],
      "metadata": {
        "colab": {
          "base_uri": "https://localhost:8080/",
          "height": 200
        },
        "id": "ByJ2Jid47YZw",
        "outputId": "a6ffbe4a-0d6a-4500-bfa5-541e99ac90c9"
      },
      "execution_count": null,
      "outputs": [
        {
          "output_type": "error",
          "ename": "IndexError",
          "evalue": "list index out of range",
          "traceback": [
            "\u001b[0;31m---------------------------------------------------------------------------\u001b[0m",
            "\u001b[0;31mIndexError\u001b[0m                                Traceback (most recent call last)",
            "\u001b[0;32m<ipython-input-134-942d5bf1a74d>\u001b[0m in \u001b[0;36m<cell line: 4>\u001b[0;34m()\u001b[0m\n\u001b[1;32m      2\u001b[0m \u001b[0;34m\u001b[0m\u001b[0m\n\u001b[1;32m      3\u001b[0m \u001b[0;31m# 조건문의 순서를 바꿈\u001b[0m\u001b[0;34m\u001b[0m\u001b[0;34m\u001b[0m\u001b[0m\n\u001b[0;32m----> 4\u001b[0;31m \u001b[0;32mif\u001b[0m \u001b[0min_my_head\u001b[0m\u001b[0;34m[\u001b[0m\u001b[0;36m0\u001b[0m\u001b[0;34m]\u001b[0m \u001b[0;34m==\u001b[0m \u001b[0;34m\"펩시\"\u001b[0m \u001b[0;32mand\u001b[0m \u001b[0min_my_head\u001b[0m\u001b[0;34m:\u001b[0m \u001b[0;31m# 빈 리스트를 인덱싱 -> 에러 발생!\u001b[0m\u001b[0;34m\u001b[0m\u001b[0;34m\u001b[0m\u001b[0m\n\u001b[0m\u001b[1;32m      5\u001b[0m     \u001b[0mprint\u001b[0m\u001b[0;34m(\u001b[0m\u001b[0;34m\"펩시 좀 그만 마시고 파이썬 공부부터 좀 하자.\"\u001b[0m\u001b[0;34m)\u001b[0m\u001b[0;34m\u001b[0m\u001b[0;34m\u001b[0m\u001b[0m\n",
            "\u001b[0;31mIndexError\u001b[0m: list index out of range"
          ]
        }
      ]
    },
    {
      "cell_type": "markdown",
      "source": [
        "## 다중 조건: if-elif-else\n",
        "\n",
        "이러한 경우를 나타내고 싶을 때 사용할 수 있습니다.\n",
        "\n",
        "- 만약 (조건 1)이 참이라면: A 실행\n",
        "- **만약 (조건 1)은 거짓이고** (조건 2)가 참이라면: B 실행\n",
        "- **만약 (조건 1 and 조건 2)가 거짓이고** (조건 3)이 참이라면: C 실행\n",
        "...\n",
        "- 다 아니라면: X 실행\n",
        "\n",
        "참고: 파이썬 인터프리터는 코드를 위에서 아래로, 좌에서 우로 읽습니다.\n",
        "\n"
      ],
      "metadata": {
        "id": "s1JWwuEi0cRJ"
      }
    },
    {
      "cell_type": "code",
      "source": [
        "grade = int(input(\"학점 변환기입니다. 받은 점수를 입력하세요: \"))\n",
        "\n",
        "if grade >= 95: # 95점 이상이면 A\n",
        "    print('A')\n",
        "elif grade >= 90: # \"95점 미만이고\" 90점 이상이면 B\n",
        "    print('B')\n",
        "elif grade >= 85: # \"90점 미만이고\" 85점 이상이면 C\n",
        "    print('C')\n",
        "elif grade >= 80: # \"85점 미만이고\" 80점 이상이면 D\n",
        "    print('D')\n",
        "else: # \"80점 미만이면\" F\n",
        "    print('F')"
      ],
      "metadata": {
        "colab": {
          "base_uri": "https://localhost:8080/"
        },
        "id": "BKmrZww71uhJ",
        "outputId": "b9e948f9-1849-4ba8-f441-b3fcc6a4fd68"
      },
      "execution_count": null,
      "outputs": [
        {
          "output_type": "stream",
          "name": "stdout",
          "text": [
            "학점 변환기입니다. 받은 점수를 입력하세요: 87\n",
            "C\n"
          ]
        }
      ]
    },
    {
      "cell_type": "markdown",
      "source": [
        "참고: 수행할 문장이 한 줄이면 들여쓰기 없이 if문을 간단히 줄일 수도 있습니다."
      ],
      "metadata": {
        "id": "JOE_UvX22elX"
      }
    },
    {
      "cell_type": "code",
      "source": [
        "grade = 87\n",
        "\n",
        "if grade >= 95: print('A')\n",
        "elif grade >= 90: print('B')\n",
        "elif grade >= 85: print('C')\n",
        "elif grade >= 80: print('D')\n",
        "else: print('F')"
      ],
      "metadata": {
        "colab": {
          "base_uri": "https://localhost:8080/"
        },
        "id": "johg2TyT2gnj",
        "outputId": "7659f724-81a7-4d11-96fa-037462a19772"
      },
      "execution_count": null,
      "outputs": [
        {
          "output_type": "stream",
          "name": "stdout",
          "text": [
            "C\n"
          ]
        }
      ]
    },
    {
      "cell_type": "markdown",
      "source": [
        "## if문의 중첩\n",
        "\n",
        "elif 대신 if문의 중첩을 쓰는 것이 더 나을 때도 있습니다.\n",
        "\n",
        "의미는 비슷합니다. if문 안에 if문이 들어갑니다.\n",
        "\n",
        "둘 중에 더 깔끔한 것을 선택하면 됩니다. 그래도 둘 다 연습해보세요."
      ],
      "metadata": {
        "id": "sPQZQ8x4I6y_"
      }
    },
    {
      "cell_type": "code",
      "source": [
        "grade = 87\n",
        "\n",
        "if grade >= 95: # 95점 이상이면 A\n",
        "    print('A')\n",
        "else: # 그게 아니면\n",
        "    if grade >= 90: # 90점 이상이면 B\n",
        "        print('B')\n",
        "    else: # 그것도 아니면\n",
        "        if grade >= 85: # 85점 이상이면 C\n",
        "            print('C')\n",
        "        else: # 그것조차도 아니면\n",
        "            if grade >= 80: # 80점 이상이면 D\n",
        "                print('D')\n",
        "            else: # 그것마저도 아니면 걍 F나 받아야지.\n",
        "                print('F')"
      ],
      "metadata": {
        "colab": {
          "base_uri": "https://localhost:8080/"
        },
        "id": "OhpaPXcoJBu2",
        "outputId": "2f72223a-c4ef-442d-fd57-5cfa10c7f0de"
      },
      "execution_count": null,
      "outputs": [
        {
          "output_type": "stream",
          "name": "stdout",
          "text": [
            "C\n"
          ]
        }
      ]
    },
    {
      "cell_type": "markdown",
      "source": [
        "elif로는 너무 벅차서 if문의 중첩을 써야 더 편한 경우도 간간이 나옵니다.\n",
        "\n",
        "```\n",
        "# 예시: 제가 얼마 전 문제를 풀다가...\n",
        "\n",
        "x, y = 0, 0 # 원점에서 시작\n",
        "for dir in dirs:\n",
        "    if dir == \"UP\":\n",
        "        if y < 5: # 벽에 부딪히면 움직임 무시\n",
        "            y += 1\n",
        "    elif dir == \"DOWN\":\n",
        "        if y > -5: # 벽에 부딪히면 움직임 무시\n",
        "            y -= 1\n",
        "    elif dir == \"LEFT\":\n",
        "        if x > -5: # 벽에 부딪히면 움직임 무시\n",
        "            x -= 1\n",
        "    elif dir == \"RIGHT\":\n",
        "        if x < 5: # 벽에 부딪히면 움직임 무시\n",
        "            x += 1\n",
        "```"
      ],
      "metadata": {
        "id": "ztK_b5LFLBvg"
      }
    },
    {
      "cell_type": "markdown",
      "source": [
        "# 노뜬금 tmi지만 오지게 중요한 부동 소수점\n",
        "\n",
        "if문을 쓰면서 실수끼리는 함부로 `==`으로 비교하면 안 됩니다.\n",
        "\n",
        "- 가령 ```0.1 + 0.2 == 0.3```는 False입니다.\n",
        "\n",
        "    - 네? 진짜요? 거짓말 아니고?"
      ],
      "metadata": {
        "id": "rvNWJebg3HSR"
      }
    },
    {
      "cell_type": "code",
      "source": [
        "if 0.1 + 0.2 == 0.3:\n",
        "    print(\"네 아닙니다.\")\n",
        "else:\n",
        "    print(\"그럴 일 절대 없죠?\")"
      ],
      "metadata": {
        "colab": {
          "base_uri": "https://localhost:8080/"
        },
        "id": "1z2efJghKKkl",
        "outputId": "3157b7f2-a776-4596-c277-9e32a6e0e49c"
      },
      "execution_count": null,
      "outputs": [
        {
          "output_type": "stream",
          "name": "stdout",
          "text": [
            "그럴 일 절대 없죠?\n"
          ]
        }
      ]
    },
    {
      "cell_type": "code",
      "source": [
        "# 제가 여러분들 속일 리가 있겠습니까!\n",
        "print(0.1 + 0.2 == 0.3)\n",
        "print(0.24 * 3 == 0.72)\n",
        "print(2.45 - 0.3 == 2.15)"
      ],
      "metadata": {
        "colab": {
          "base_uri": "https://localhost:8080/"
        },
        "id": "KNq0HcoE231Q",
        "outputId": "69e2d479-f91b-440d-92f0-e1a763a33687"
      },
      "execution_count": null,
      "outputs": [
        {
          "output_type": "stream",
          "name": "stdout",
          "text": [
            "False\n",
            "True\n",
            "False\n"
          ]
        }
      ]
    },
    {
      "cell_type": "code",
      "source": [
        "# 실제로... 부동 소수점 방식으로 인한 오차가 존재할 수 있습니다.\n",
        "print(0.1 + 0.2)"
      ],
      "metadata": {
        "colab": {
          "base_uri": "https://localhost:8080/"
        },
        "id": "3R7I1OOc3PsW",
        "outputId": "24c8f29f-156d-4874-a04e-4d256cbb585e"
      },
      "execution_count": null,
      "outputs": [
        {
          "output_type": "stream",
          "name": "stdout",
          "text": [
            "0.30000000000000004\n"
          ]
        }
      ]
    },
    {
      "cell_type": "code",
      "source": [
        "# 저도 처음 보는 것이지만 이렇게 모듈을 사용해 비교하는 방법이 있다고 합니다.\n",
        "# 여기서 decimal은 모듈 이름이고 Decimal은 함수 이름입니다.\n",
        "\n",
        "from decimal import Decimal\n",
        "print(Decimal('0.1') + Decimal('0.2'))"
      ],
      "metadata": {
        "colab": {
          "base_uri": "https://localhost:8080/"
        },
        "id": "QGeeoLL14Xue",
        "outputId": "775db3c3-d9c4-42b7-b882-c1ac4b0b021e"
      },
      "execution_count": null,
      "outputs": [
        {
          "output_type": "stream",
          "name": "stdout",
          "text": [
            "0.3\n"
          ]
        }
      ]
    },
    {
      "cell_type": "markdown",
      "source": [
        "## 조건부 표현식 (삼항 연산자)\n",
        "\n",
        "조건부 표현식(삼항 연산자)를 잘 쓰면 가독성에 유리합니다.\n",
        "\n",
        "다음과 같은 코드를 한 줄로 줄일 수 있습니다.\n",
        "\n",
        "\n",
        "```\n",
        "if status_code == 200:\n",
        "    message = \"success\"\n",
        "else:\n",
        "    message = \"failure\"\n",
        "```\n",
        "\n",
        "```\n",
        "message = \"success\" if status_code == 200 else \"failure\"\n",
        "```\n",
        "\n",
        "삼항 연산자 역시 중첩시킬 수 있는데, 그것은 너무 남발하면 가독성이 떨어지므로 적절히 써야 합니다.\n",
        "```\n",
        "# 아래의 is_prime()은 소수를 판별하는 함수라고 가정\n",
        "result = \"소수\" if is_prime(num) else \"합성수\" if num != 1 else \"1이거나 자연수가 아님\"\n",
        "```"
      ],
      "metadata": {
        "id": "3njwKV3c-k21"
      }
    },
    {
      "cell_type": "markdown",
      "source": [
        "## 참고: match-case 구문\n",
        "\n",
        "파이썬 3.10 버전부터 다른 언어의 switch-case 구문과 비슷한 match-case 구문을 지원합니다.\n",
        "\n",
        "(이전 버전에서는 사용할 수 없습니다.)\n",
        "\n",
        "match-case 구문을 이용하면 if-elif-else 구문을 더 깔끔하게 쓸 수 있습니다.\n",
        "\n",
        "파이썬 3.10 버전이 더 자주 쓰일 미래에 자주 쓰이게 될 것으로 생각됩니다.\n",
        "\n",
        "저도 학교나 회사에서 별로 써보지는 못해서, 호기심이 있으신 분은 자세한 내용이 한국어로 많이 나와 있으니 직접 검색 바랍니다.\n"
      ],
      "metadata": {
        "id": "0CmLybvfkPLd"
      }
    },
    {
      "cell_type": "code",
      "source": [
        "num = int(input(\"1과 6 사이의 값을 입력하세요: \"))\n",
        "\n",
        "match num: # 패턴을 대조\n",
        "    case 1:         # num이 1인 경우\n",
        "        print(\"새내기군요!\")\n",
        "    case 2:         # num이 2인 경우\n",
        "        print(\"전공 수업은 들을 만 한가요?\")\n",
        "    case 3 | 4:     # num이 3 또는 4인 경우\n",
        "        print(\"화석 선배님.\")\n",
        "    case 5 | 6:     # num이 5 또는 6인 경우\n",
        "        print(\"저랑 같이 졸업이나 합시다.\")\n",
        "    case _:         # 그게 아닌 다른 일반적 상황\n",
        "        print(\"1과 6 사이의 숫자가 아닙니다.\")"
      ],
      "metadata": {
        "colab": {
          "base_uri": "https://localhost:8080/"
        },
        "id": "QCtZ-BwDkO6U",
        "outputId": "4cc80aa2-81ce-4256-cd4e-2d6ff8235b99"
      },
      "execution_count": null,
      "outputs": [
        {
          "output_type": "stream",
          "name": "stdout",
          "text": [
            "1과 6 사이의 값을 입력하세요: 4\n",
            "화석 선배님.\n"
          ]
        }
      ]
    },
    {
      "cell_type": "code",
      "source": [
        "grade = int(input(\"학점 변환기입니다. 받은 점수를 입력하세요: \"))\n",
        "\n",
        "match grade:\n",
        "    case grade if grade >= 95:\n",
        "        print(\"A\")\n",
        "    case grade if grade >= 90:\n",
        "        print(\"B\")\n",
        "    case grade if grade >= 85:\n",
        "        print(\"C\")\n",
        "    case grade if grade >= 80:\n",
        "        print(\"D\")\n",
        "    case _:\n",
        "        print(\"F\")"
      ],
      "metadata": {
        "colab": {
          "base_uri": "https://localhost:8080/"
        },
        "id": "aswneAqTmtsP",
        "outputId": "8339bbf3-672e-4c6e-ee29-4bf64bf77ed3"
      },
      "execution_count": null,
      "outputs": [
        {
          "output_type": "stream",
          "name": "stdout",
          "text": [
            "학점 변환기입니다. 받은 점수를 입력하세요: 87\n",
            "C\n"
          ]
        }
      ]
    },
    {
      "cell_type": "code",
      "source": [
        "point = (3, 4)\n",
        "\n",
        "# point is an (x, y) tuple\n",
        "match point:\n",
        "    case (0, 0):\n",
        "        print(\"원점입니다. 거리 = 0\")\n",
        "    case (0, y):\n",
        "        print(f\"y축 위에 있습니다. 거리={y}\")\n",
        "    case (x, 0):\n",
        "        print(f\"x축 위에 있습니다. 거리={x}\")\n",
        "    case (x, y):\n",
        "        print(f\"두 직선 x={x}, y={y}의 교점에 있습니다. 거리={(x**2 + y**2)**0.5}\")\n",
        "    case _:\n",
        "        raise ValueError(\"Not a point\")"
      ],
      "metadata": {
        "colab": {
          "base_uri": "https://localhost:8080/"
        },
        "id": "Hhu-GQ5PqOPy",
        "outputId": "160a644e-97d7-494d-8a1c-f6bd8df5430e"
      },
      "execution_count": null,
      "outputs": [
        {
          "output_type": "stream",
          "name": "stdout",
          "text": [
            "두 직선 x=3, y=4의 교점에 있습니다. 거리=5.0\n"
          ]
        }
      ]
    },
    {
      "cell_type": "markdown",
      "source": [
        "# 반복문\n",
        "\n",
        "반복문은 우리 스터디 전체를 통틀어 가장 주요한 주제입니다.\n",
        "\n",
        "바로 인간이 하기 싫은 노가다를 컴퓨터가 대신 해준다는 점에서 그러한데요,\n",
        "\n",
        "파이썬의 반복문은 두 가지가 있는데, 미리 장단점을 소개하자면 다음과 같습니다.\n",
        "\n",
        "- while문: 반복 횟수를 정확히 알 수 없을 때 유용\n",
        "    - for문보다 더 유연한 코드를 쓸 수 있습니다.\n",
        "- for문: 반복 횟수를 개발자가 정해주고 싶을 때 유용\n",
        "    - 리스트, 딕셔너리, 튜플, 문자열을 순회 시에 유용합니다.\n",
        "    - while문보다 더 깔끔하고 형식적인 코드를 쓸 수 있습니다.\n",
        "\n",
        "참고: while문보다는 for문을 조금 더 자주 필요로 하게 되는 경향이 있습니다.\n"
      ],
      "metadata": {
        "id": "LPWY7mh-_zhR"
      }
    },
    {
      "cell_type": "markdown",
      "source": [
        "## while문\n",
        "\n",
        "while문은 조건이 충족되는 내내 계속 반복 수행되도록 하는 역할을 맡고 있습니다.\n",
        "\n",
        "while문 안에 if문, while문, for문이 또 들어가도 됩니다. (프로그래밍 초심자가 문제 해결 시에 어려움을 호소하는 포인트...)\n",
        "\n",
        "참고: while은 \"~하는 동안\"이라는 뜻입니다."
      ],
      "metadata": {
        "id": "rSD3iBybApbA"
      }
    },
    {
      "cell_type": "code",
      "source": [
        "# 예시 - 너무 쉬운가요?\n",
        "\n",
        "i = 0\n",
        "while i <= 5: # i가 5 이하일 동안 아래의 코드를 반복\n",
        "    print(i)\n",
        "    i += 1 # 참고: 반복문 안에서 i를 변경해주지 않으면 무한 반복됩니다."
      ],
      "metadata": {
        "colab": {
          "base_uri": "https://localhost:8080/"
        },
        "id": "0B7nm_tadRfg",
        "outputId": "80218d69-810c-45f1-ce17-4d6edc2abcea"
      },
      "execution_count": null,
      "outputs": [
        {
          "output_type": "stream",
          "name": "stdout",
          "text": [
            "0\n",
            "1\n",
            "2\n",
            "3\n",
            "4\n",
            "5\n"
          ]
        }
      ]
    },
    {
      "cell_type": "code",
      "source": [
        "# 예시 - 50 이하의 3의 배수를 모두 출력해봅시다.\n",
        "\n",
        "i = 1\n",
        "while i <= 50: # i가 100 이하일 동안 아래의 코드를 반복\n",
        "    if i % 3 == 0: # 3으로 나눈 나머지가 0이면\n",
        "        print(i, end=\" \") # 참고: print()는 항상 끝에서 엔터(\\n)를 출력\n",
        "    i += 1"
      ],
      "metadata": {
        "colab": {
          "base_uri": "https://localhost:8080/"
        },
        "id": "khL7pwxQ6aiy",
        "outputId": "a55d061f-4570-407e-829d-aad88990aaf6"
      },
      "execution_count": null,
      "outputs": [
        {
          "output_type": "stream",
          "name": "stdout",
          "text": [
            "3 6 9 12 15 18 21 24 27 30 33 36 39 42 45 48 "
          ]
        }
      ]
    },
    {
      "cell_type": "code",
      "source": [
        "# 예시 - 자연수 N의 각 자리 수의 합을 구해봅시다.\n",
        "# 아래 예시에서, 변수 sum에 1+2+3+4+5+6 == 21이 저장되기를 원합니다.\n",
        "\n",
        "N = 123456\n",
        "sum = 0 # 초기화\n",
        "\n",
        "while N > 0:\n",
        "    sum += N % 10 # 1의 자리를 sum에 더함 - 10으로 나눈 나머지와 같음 (중학교에서 배웠죠?)\n",
        "    N = N // 10 # 1의 자리를 제외하기 - 10으로 나눈 몫으로 교체하여 다시 반복 (N이 0이 될 때까지)\n",
        "\n",
        "print(sum) # 잘 되었나 출력해 볼까요?"
      ],
      "metadata": {
        "colab": {
          "base_uri": "https://localhost:8080/"
        },
        "id": "k5WCbWZtCM8Y",
        "outputId": "cf5f57f4-f5d9-4c98-a093-5a212172cfd2"
      },
      "execution_count": null,
      "outputs": [
        {
          "output_type": "stream",
          "name": "stdout",
          "text": [
            "21\n"
          ]
        }
      ]
    },
    {
      "cell_type": "markdown",
      "source": [
        "참고: 위의 while문 작동이 궁금하면 중간중간 print를 끼워넣어보면 됩니다.\n"
      ],
      "metadata": {
        "id": "lQXLEuWDDw63"
      }
    },
    {
      "cell_type": "code",
      "source": [
        "N = 123456\n",
        "sum = 0 # 초기화\n",
        "\n",
        "while N > 0:\n",
        "    sum += N % 10\n",
        "    N = N // 10\n",
        "\n",
        "    print(f\"sum: {sum}, N: {N}\")\n",
        "\n",
        "print(sum) # 잘 되었나 출력해 볼까요?"
      ],
      "metadata": {
        "colab": {
          "base_uri": "https://localhost:8080/"
        },
        "id": "Z9TNiBwFD2c2",
        "outputId": "4c3ec129-8bbb-4ee3-8204-1ac0eb43b96e"
      },
      "execution_count": null,
      "outputs": [
        {
          "output_type": "stream",
          "name": "stdout",
          "text": [
            "sum: 6, N: 12345\n",
            "sum: 11, N: 1234\n",
            "sum: 15, N: 123\n",
            "sum: 18, N: 12\n",
            "sum: 20, N: 1\n",
            "sum: 21, N: 0\n",
            "21\n"
          ]
        }
      ]
    },
    {
      "cell_type": "markdown",
      "source": [
        "## 반복문 제어하기\n",
        "\n",
        "의도적으로 반복문을 깨고 나오고 싶을 때도 있습니다.\n",
        "\n",
        "그런 경우 `break`, `continue`를 사용할 수 있습니다.\n",
        "\n",
        "- `continue`는 반복을 건너뛰고 다음 변수 값으로 넘어가 반복을 계속하는 역할이며 for문에서 설명하겠습니다.\n",
        "\n",
        "- `break`는 그 줄에서 반복문을 강제로 탈출하는 역할입니다.\n"
      ],
      "metadata": {
        "id": "QwiHkEQ8Duc1"
      }
    },
    {
      "cell_type": "code",
      "source": [
        "# break 사용 예시 - 업다운 게임\n",
        "secret_num = 30\n",
        "cnt = 1\n",
        "\n",
        "while True: # 의도적으로 무한루프 생성\n",
        "    # 내부에서 무조건 break를 걸어줘야 반복문이 끝남\n",
        "    answer = int(input(\"자연수 하나를 추측해보세요: \"))\n",
        "    if answer == secret_num:\n",
        "        print(f\"맞혔습니다! 총 {cnt}번 시도하셨습니다.\")\n",
        "        break # 강제로 반복문 빠져나오기\n",
        "    if answer > secret_num:\n",
        "        print(f\"다운! {cnt}번째 시도입니다.\")\n",
        "    if answer < secret_num:\n",
        "        print(f\"업! {cnt}번째 시도입니다.\")\n",
        "    cnt += 1 # 시도 횟수 기록"
      ],
      "metadata": {
        "colab": {
          "base_uri": "https://localhost:8080/"
        },
        "id": "q8mIvmgxBlnN",
        "outputId": "4209ce81-9d4a-43b0-b3ed-1b6d77501109"
      },
      "execution_count": null,
      "outputs": [
        {
          "output_type": "stream",
          "name": "stdout",
          "text": [
            "자연수 하나를 추측해보세요: 24\n",
            "업! 1번째 시도입니다.\n",
            "자연수 하나를 추측해보세요: 27\n",
            "업! 2번째 시도입니다.\n",
            "자연수 하나를 추측해보세요: 33\n",
            "다운! 3번째 시도입니다.\n",
            "자연수 하나를 추측해보세요: 32\n",
            "다운! 4번째 시도입니다.\n",
            "자연수 하나를 추측해보세요: 30\n",
            "맞혔습니다! 총 5번 시도하셨습니다.\n"
          ]
        }
      ]
    },
    {
      "cell_type": "markdown",
      "source": [
        "## for문\n",
        "\n",
        "for문은 while문보다 조금 더 정형화된 형식을 나타내기에 유리한 반복문 구조입니다.\n",
        "\n",
        "반복 횟수를 정해주고 싶을 때, 리스트, 튜플, 문자열 등을 순회하고 싶을 때 for문을 쓸 수 있습니다.\n",
        "\n",
        "참고: for문 안에는 for문, if문, while문 등 이것저것 들어가도 됩니다.\n",
        "\n",
        "## 파이썬 for문은 모두 뭔가를 순회하는 형식입니다.\n",
        "\n",
        "가령 다른 언어에서 자주 보이는 for문은 다음과 같은 형식입니다.\n",
        "```\n",
        "for(i=0; i<100; i++) {\n",
        "    (수행할 문장 1)\n",
        "    (수행할 문장 2)\n",
        "}\n",
        "\n",
        "```\n",
        "\n",
        "파이썬의 반복문은 모두 for each 문의 형식입니다.\n",
        "```\n",
        "for 요소 in 리스트(또는 튜플, 문자열):\n",
        "    (수행할 문장 1)\n",
        "    (수행할 문장 2)\n",
        "    ...\n",
        "```\n",
        "\n",
        "파이썬의 for문을 다른 언어의 for문처럼 정수를 세는 방식으로 쓰고 싶다면?\n",
        "- 힌트: 정수 여러 개를 생성하는 무언가를 전에 배웠습니다."
      ],
      "metadata": {
        "id": "A9Iys0TaGMjz"
      }
    },
    {
      "cell_type": "code",
      "source": [
        "# 예시 - for문으로 리스트 순회\n",
        "example = ['유재석', '조세호', '유퀴즈']\n",
        "\n",
        "# \"example 안의 모든 원소(member으로 호칭)에 대하여: \"\n",
        "for member in example:\n",
        "    print(member) # 원소를 출력"
      ],
      "metadata": {
        "colab": {
          "base_uri": "https://localhost:8080/"
        },
        "id": "ioDOkkeBHkxV",
        "outputId": "18522196-e3f5-4c02-9474-6cb76dfc5723"
      },
      "execution_count": null,
      "outputs": [
        {
          "output_type": "stream",
          "name": "stdout",
          "text": [
            "유재석\n",
            "조세호\n",
            "유퀴즈\n"
          ]
        }
      ]
    },
    {
      "cell_type": "code",
      "source": [
        "# 예시 - for문으로 문자열 순회\n",
        "example = \"유 퀴즈 온 더 블럭\"\n",
        "\n",
        "# \"example 안의 모든 원소(char으로 호칭)에 대하여: \"\n",
        "for char in example:\n",
        "    if char != \" \": # 스페이스 빼고 출력하기\n",
        "        print(char)"
      ],
      "metadata": {
        "colab": {
          "base_uri": "https://localhost:8080/"
        },
        "id": "PSEhrMcrHxd0",
        "outputId": "3b6f9aa6-f82d-46d3-98b8-379160164c3d"
      },
      "execution_count": null,
      "outputs": [
        {
          "output_type": "stream",
          "name": "stdout",
          "text": [
            "유\n",
            "퀴\n",
            "즈\n",
            "온\n",
            "더\n",
            "블\n",
            "럭\n"
          ]
        }
      ]
    },
    {
      "cell_type": "code",
      "source": [
        "# for문으로 정수 다루기 - range 활용\n",
        "# 예시: 1부터 10까지의 합\n",
        "\n",
        "sum = 0\n",
        "for i in range(1, 10): # 주의: 이렇게 쓰면 i는 0부터 9(=10-1)까지의 값을 갖게 됩니다.\n",
        "    sum += i # 수열의 합(시그마)과 굉장히 유사합니다.\n",
        "\n",
        "print(sum)"
      ],
      "metadata": {
        "colab": {
          "base_uri": "https://localhost:8080/"
        },
        "id": "-Asn52s8IKFU",
        "outputId": "16378c92-599c-4707-a12f-18b15798536d"
      },
      "execution_count": null,
      "outputs": [
        {
          "output_type": "stream",
          "name": "stdout",
          "text": [
            "45\n"
          ]
        }
      ]
    },
    {
      "cell_type": "code",
      "source": [
        "# 참고: range()의 정체\n",
        "\n",
        "list(range(1, 10))"
      ],
      "metadata": {
        "colab": {
          "base_uri": "https://localhost:8080/"
        },
        "id": "KXo9FZGeGkXe",
        "outputId": "5197c1a6-6276-4196-9e38-07c7bc9cfef2"
      },
      "execution_count": null,
      "outputs": [
        {
          "output_type": "execute_result",
          "data": {
            "text/plain": [
              "[1, 2, 3, 4, 5, 6, 7, 8, 9]"
            ]
          },
          "metadata": {},
          "execution_count": 15
        }
      ]
    },
    {
      "cell_type": "code",
      "source": [
        "# 예시: 팩토리얼 구하기\n",
        "# 팩토리얼이니까, 정해진 횟수만큼만 반복해주고 싶은 욕구가 생기죠?\n",
        "\n",
        "product = 1\n",
        "for i in range(1, 6):\n",
        "    product *= i\n",
        "\n",
        "print(f\"5! = 5*4*3*2*1 = {product}\")"
      ],
      "metadata": {
        "colab": {
          "base_uri": "https://localhost:8080/"
        },
        "id": "lmghfVREMcWc",
        "outputId": "40e88f0b-5a5c-4236-9a52-4eec078f0755"
      },
      "execution_count": null,
      "outputs": [
        {
          "output_type": "stream",
          "name": "stdout",
          "text": [
            "5! = 5*4*3*2*1 = 120\n"
          ]
        }
      ]
    },
    {
      "cell_type": "code",
      "source": [
        "# 예시: 문자열에서 공통으로 들어있는 글자 구하기\n",
        "\n",
        "str1 = \"father\"\n",
        "str2 = \"mother\"\n",
        "result = []\n",
        "\n",
        "for char in str1:\n",
        "    if char in str2:\n",
        "        result.append(char)\n",
        "\n",
        "print(result)"
      ],
      "metadata": {
        "colab": {
          "base_uri": "https://localhost:8080/"
        },
        "id": "hn-t0G4ILXVk",
        "outputId": "d13a65f4-4843-4264-8285-bedeb803894f"
      },
      "execution_count": null,
      "outputs": [
        {
          "output_type": "stream",
          "name": "stdout",
          "text": [
            "['t', 'h', 'e', 'r']\n"
          ]
        }
      ]
    },
    {
      "cell_type": "code",
      "source": [
        "# 예시: 오늘 1억원 받기 vs\n",
        "# 오늘 1원, 내일 2원, 모레 4원, 글피 8원, ... 이렇게 한 달(30일) 받기\n",
        "\n",
        "sum = 0\n",
        "for i in range(31):\n",
        "    sum += 2**i\n",
        "\n",
        "print(f\"한 달 후 받을 돈은 {sum}원입니다.\")"
      ],
      "metadata": {
        "colab": {
          "base_uri": "https://localhost:8080/"
        },
        "id": "h5nyTPthh3qk",
        "outputId": "9d0bc163-73a7-4aa8-9db4-d223f2e48236"
      },
      "execution_count": null,
      "outputs": [
        {
          "output_type": "stream",
          "name": "stdout",
          "text": [
            "한 달 후 받을 돈은 2147483647원입니다.\n"
          ]
        }
      ]
    },
    {
      "cell_type": "code",
      "source": [
        "# 예시: n번째 피보나치 수열의 항 구하기, 첫 번째 항과 두 번째 항은 각각 1, 1\n",
        "# 1, 1, 2, 3, 5, 8, 13, 21, 34, 55, 89, ...\n",
        "\n",
        "a, b = 1, 1\n",
        "N = 11\n",
        "for _ in range(N-2): # 반복문의 카운터 변수를 쓰지 않을 경우, _로 채워주어도 됩니다.\n",
        "    next = a + b # 다음 항 계산\n",
        "    a, b = b, next # 첫 항, 둘째 항을 각각 둘째 항, 셋째 항으로 바꾼 후 계속 반복\n",
        "\n",
        "print(next)"
      ],
      "metadata": {
        "colab": {
          "base_uri": "https://localhost:8080/"
        },
        "id": "ik--FotFJYJM",
        "outputId": "2eabc553-9445-430f-d9aa-10d5db8dbb4d"
      },
      "execution_count": null,
      "outputs": [
        {
          "output_type": "stream",
          "name": "stdout",
          "text": [
            "89\n"
          ]
        }
      ]
    },
    {
      "cell_type": "code",
      "source": [
        "# 예시: 최대값 (최소값) 구하기 - max(), min() 쓰지 말고 깡으로 구현하기\n",
        "# 한 번 이해하면 자주 쓰이는 패턴이니 잘 알아두세요!\n",
        "\n",
        "example = [34, -26, -13, 2, 53, 38, 11]\n",
        "\n",
        "# 최대값을 담을 변수 초기화\n",
        "maximum = example[0] # (Question: 초기화 값을 0으로 바꿔도 될까요?)\n",
        "for num in example[1:]:\n",
        "    if num > maximum:\n",
        "        maximum = num # 반복문을 돌면서 maximum 변수를 갱신\n",
        "\n",
        "print(maximum)"
      ],
      "metadata": {
        "colab": {
          "base_uri": "https://localhost:8080/"
        },
        "id": "d5i2W-KJEVs2",
        "outputId": "cf63bd0f-afdb-4301-929e-f46f88741cf8"
      },
      "execution_count": null,
      "outputs": [
        {
          "output_type": "stream",
          "name": "stdout",
          "text": [
            "53\n"
          ]
        }
      ]
    },
    {
      "cell_type": "markdown",
      "source": [
        "## range(len(list))?\n",
        "\n",
        "파이썬에서 권장하지는 않는 패턴입니다. 파이썬 커뮤니티에서는 \"파이써닉하지 못하다\"는 평가를 받습니다.\n",
        "\n",
        "연산이 필요한 리스트 인덱싱 등을 정교하게 반복적으로 해야하는 것이 아니라면 지양하는 것이 좋습니다."
      ],
      "metadata": {
        "id": "K6SyuigIOmzB"
      }
    },
    {
      "cell_type": "code",
      "source": [
        "# 파이썬에서 권장하지 않는 패턴... 그래도 작동은 하네요.\n",
        "\n",
        "babies = [\"chris\", \"bob\", \"sally\", \"james\", \"andrew\"]\n",
        "\n",
        "for i in range(len(babies)):\n",
        "    print(babies[i])"
      ],
      "metadata": {
        "colab": {
          "base_uri": "https://localhost:8080/"
        },
        "id": "0snWDpu3M7dY",
        "outputId": "0bc84087-6d4a-466a-feea-76f7e95b3e62"
      },
      "execution_count": null,
      "outputs": [
        {
          "output_type": "stream",
          "name": "stdout",
          "text": [
            "chris\n",
            "bob\n",
            "sally\n",
            "james\n",
            "andrew\n"
          ]
        }
      ]
    },
    {
      "cell_type": "markdown",
      "source": [
        "## 사람들이 자꾸 잊어먹는 enumerate()\n",
        "\n",
        "enumerate를 사용하면 정수와 리스트의 원소를 동시에 핸들링할 수 있습니다.\n",
        "\n",
        "참고: enumerate는 \"열거하다\"라는 뜻입니다."
      ],
      "metadata": {
        "id": "vVRy6NTENoTG"
      }
    },
    {
      "cell_type": "code",
      "source": [
        "babies = [\"chris\", \"bob\", \"sally\", \"james\", \"andrew\"]\n",
        "\n",
        "for i, baby in enumerate(babies): # 잠깐! 왜 카운터 변수가 2개죠?\n",
        "    print(f\"{i}. {baby}의 생일을 축하합니다!\")"
      ],
      "metadata": {
        "colab": {
          "base_uri": "https://localhost:8080/"
        },
        "id": "8xQELtssNgtX",
        "outputId": "42c41e1d-6274-4bc8-8c0f-824f688b083a"
      },
      "execution_count": null,
      "outputs": [
        {
          "output_type": "stream",
          "name": "stdout",
          "text": [
            "0. chris의 생일을 축하합니다!\n",
            "1. bob의 생일을 축하합니다!\n",
            "2. sally의 생일을 축하합니다!\n",
            "3. james의 생일을 축하합니다!\n",
            "4. andrew의 생일을 축하합니다!\n"
          ]
        }
      ]
    },
    {
      "cell_type": "code",
      "source": [
        "# enumerate의 정체는 인덱스 값 - 원소 쌍(튜플)을 담은 리스트입니다.\n",
        "# 튜플을 담은 리스트를 순회할 수 있습니다.\n",
        "\n",
        "list(enumerate(babies))"
      ],
      "metadata": {
        "colab": {
          "base_uri": "https://localhost:8080/"
        },
        "id": "4nLmBR3xPVMI",
        "outputId": "3981919d-6fdd-46bf-aa1a-2193ac6970e3"
      },
      "execution_count": null,
      "outputs": [
        {
          "output_type": "execute_result",
          "data": {
            "text/plain": [
              "[(0, 'chris'), (1, 'bob'), (2, 'sally'), (3, 'james'), (4, 'andrew')]"
            ]
          },
          "metadata": {},
          "execution_count": 103
        }
      ]
    },
    {
      "cell_type": "code",
      "source": [
        "babies = [\"chris\", \"bob\", \"sally\", \"james\", \"andrew\"]\n",
        "\n",
        "for i, baby in enumerate(babies, start=1): # start=1을 해주면 i가 1부터 시작합니다.\n",
        "    print(f\"{i}. {baby}의 생일을 축하합니다!\")"
      ],
      "metadata": {
        "colab": {
          "base_uri": "https://localhost:8080/"
        },
        "id": "OtTDt_1-e5wo",
        "outputId": "1dbe5c5a-d759-4d97-cd1a-7eedc1c21240"
      },
      "execution_count": null,
      "outputs": [
        {
          "output_type": "stream",
          "name": "stdout",
          "text": [
            "1. chris의 생일을 축하합니다!\n",
            "2. bob의 생일을 축하합니다!\n",
            "3. sally의 생일을 축하합니다!\n",
            "4. james의 생일을 축하합니다!\n",
            "5. andrew의 생일을 축하합니다!\n"
          ]
        }
      ]
    },
    {
      "cell_type": "code",
      "source": [
        "# 또 다른 예시\n",
        "\n",
        "marks = [90, 25, 67, 45, 80]\n",
        "\n",
        "for i, mark in enumerate(marks):\n",
        "    if mark >= 60:\n",
        "        print(f\"{i}번 학생, 축하합니다. {mark}점 합격입니다.\")\n",
        "    else:\n",
        "        print(f\"{i}번 학생, 아쉽지만 불합격입니다.\")"
      ],
      "metadata": {
        "colab": {
          "base_uri": "https://localhost:8080/"
        },
        "id": "EO0pIhOOOTSF",
        "outputId": "efae0245-3298-4b4c-e217-b3d944f5c1ab"
      },
      "execution_count": null,
      "outputs": [
        {
          "output_type": "stream",
          "name": "stdout",
          "text": [
            "0번 학생, 축하합니다. 90점 합격입니다.\n",
            "1번 학생, 아쉽지만 불합격입니다.\n",
            "2번 학생, 축하합니다. 67점 합격입니다.\n",
            "3번 학생, 아쉽지만 불합격입니다.\n",
            "4번 학생, 축하합니다. 80점 합격입니다.\n"
          ]
        }
      ]
    },
    {
      "cell_type": "code",
      "source": [
        "# zip 또한 반복문에서 쓸 수 있습니다.\n",
        "\n",
        "holidays = [\"현충일\", \"광복절\", \"추석\", \"개천절\", \"한글날\", \"크리스마스\"]\n",
        "months = [6, 8, 9, 10, 10, 12]\n",
        "days = [6, 15, 17, 3, 9, 25]\n",
        "\n",
        "for holiday, month, day in zip(holidays, months, days):\n",
        "    print(f\"{holiday}: {month}월 {day}일\")"
      ],
      "metadata": {
        "colab": {
          "base_uri": "https://localhost:8080/"
        },
        "id": "01cWBEc7RECZ",
        "outputId": "c44a857f-e619-4461-b8e2-8bbe3dc3a3c9"
      },
      "execution_count": null,
      "outputs": [
        {
          "output_type": "stream",
          "name": "stdout",
          "text": [
            "현충일: 6월 6일\n",
            "광복절: 8월 15일\n",
            "추석: 9월 17일\n",
            "개천절: 10월 3일\n",
            "한글날: 10월 9일\n",
            "크리스마스: 12월 25일\n"
          ]
        }
      ]
    },
    {
      "cell_type": "markdown",
      "source": [
        "## 딕셔너리 순회하기\n",
        "\n",
        "다들 까먹던데, 딕셔너리도 좀 잘 챙겨주세요."
      ],
      "metadata": {
        "id": "-baj4-dyVUii"
      }
    },
    {
      "cell_type": "code",
      "source": [
        "# 딕셔너리의 순회 또한 쓸 수 있습니다.\n",
        "\n",
        "holiday_dict = {\"현충일\": \"6/6\", \"광복절\": \"8/15\", \"추석\": \"9/17\",\n",
        "                \"개천절\": \"10/3\", \"한글날\": \"10/9\", \"크리스마스\": \"12/25\"}\n",
        "\n",
        "for name, date in holiday_dict.items():\n",
        "    month, day = date.split(\"/\")\n",
        "    print(f\"{name}: {month}월 {day}일\")"
      ],
      "metadata": {
        "colab": {
          "base_uri": "https://localhost:8080/"
        },
        "id": "o8jH5zdnUZ9s",
        "outputId": "c63d185e-d605-4b83-f320-756401314be9"
      },
      "execution_count": null,
      "outputs": [
        {
          "output_type": "stream",
          "name": "stdout",
          "text": [
            "현충일: 6월 6일\n",
            "광복절: 8월 15일\n",
            "추석: 9월 17일\n",
            "개천절: 10월 3일\n",
            "한글날: 10월 9일\n",
            "크리스마스: 12월 25일\n"
          ]
        }
      ]
    },
    {
      "cell_type": "markdown",
      "source": [
        "## 아까 설명 덜 하고 넘어간 break, continue\n",
        "\n",
        "아까 언급했던 continue는 반복을 해당 코드의 줄에서 건너뛰고 다음 반복으로 돌아가는 역할을 합니다.\n",
        "\n",
        "break 또한 for문에서 사용할 수 있습니다."
      ],
      "metadata": {
        "id": "ZjjcrcSrPrEp"
      }
    },
    {
      "cell_type": "code",
      "source": [
        "# 위의 예시에서, 추석을 건너뛰어 봅시다.\n",
        "\n",
        "holiday_dict = {\"현충일\": \"6/6\", \"광복절\": \"8/15\", \"추석\": \"9/17\",\n",
        "                \"개천절\": \"10/3\", \"한글날\": \"10/9\", \"크리스마스\": \"12/25\"}\n",
        "\n",
        "for name, date in holiday_dict.items():\n",
        "    if name == \"추석\":\n",
        "        continue # 아래의 코드를 실행하지 않고 다음 원소로 건너가서 계속 반복합니다.\n",
        "    month, day = date.split(\"/\")\n",
        "    print(f\"{name}: {month}월 {day}일\")"
      ],
      "metadata": {
        "colab": {
          "base_uri": "https://localhost:8080/"
        },
        "id": "5eVw9Wi2Ppl3",
        "outputId": "3492213f-d62d-4643-c7de-b04e7a8c411e"
      },
      "execution_count": null,
      "outputs": [
        {
          "output_type": "stream",
          "name": "stdout",
          "text": [
            "현충일: 6월 6일\n",
            "광복절: 8월 15일\n",
            "개천절: 10월 3일\n",
            "한글날: 10월 9일\n",
            "크리스마스: 12월 25일\n"
          ]
        }
      ]
    },
    {
      "cell_type": "markdown",
      "source": [
        "## 간단히만 살펴보는 중첩 for문\n",
        "\n",
        "for문 안에 for문이 들어갑니다. 반복문을 반복합니다.\n",
        "\n",
        "주로 이차원과 관련되었거나 리스트 두 개를 번갈아가며 다룰 때 좋습니다."
      ],
      "metadata": {
        "id": "ySwhnU4aQumt"
      }
    },
    {
      "cell_type": "code",
      "source": [
        "# 이차원 리스트랑 관련있어 보이지 않나요?\n",
        "\n",
        "for i in range(5):\n",
        "    for j in range(5):\n",
        "        print(f\"({i}, {j})\", end=\" \")\n",
        "    print()"
      ],
      "metadata": {
        "colab": {
          "base_uri": "https://localhost:8080/"
        },
        "id": "wozMNsHNQaVx",
        "outputId": "4e60152c-6d12-442f-cd1d-cd05fea50cb8"
      },
      "execution_count": null,
      "outputs": [
        {
          "output_type": "stream",
          "name": "stdout",
          "text": [
            "(0, 0) (0, 1) (0, 2) (0, 3) (0, 4) \n",
            "(1, 0) (1, 1) (1, 2) (1, 3) (1, 4) \n",
            "(2, 0) (2, 1) (2, 2) (2, 3) (2, 4) \n",
            "(3, 0) (3, 1) (3, 2) (3, 3) (3, 4) \n",
            "(4, 0) (4, 1) (4, 2) (4, 3) (4, 4) \n"
          ]
        }
      ]
    },
    {
      "cell_type": "code",
      "source": [
        "# 실제로 해볼까요?\n",
        "\n",
        "example = [['A', 'B', 'C', 'D', 'E'],\n",
        "            ['F', 'G', 'H', 'I', 'J'],\n",
        "            ['K', 'M', 'N', 'O', 'P'],\n",
        "            ['Q', 'R', 'S', 'T', 'U'],\n",
        "            ['V', 'W', 'X', 'Y', 'Z']]\n",
        "\n",
        "for row in example:\n",
        "    for char in row:\n",
        "        print(char, end=\" \")\n",
        "    print()"
      ],
      "metadata": {
        "colab": {
          "base_uri": "https://localhost:8080/"
        },
        "id": "ISXuHfqcS7Co",
        "outputId": "f5d63270-9b51-4d80-8aa4-77988fb199a1"
      },
      "execution_count": null,
      "outputs": [
        {
          "output_type": "stream",
          "name": "stdout",
          "text": [
            "A B C D E \n",
            "F G H I J \n",
            "K M N O P \n",
            "Q R S T U \n",
            "V W X Y Z \n"
          ]
        }
      ]
    },
    {
      "cell_type": "code",
      "source": [
        "# 참고: 간단한 별찍기 문제 하나만 해볼까요?\n",
        "\n",
        "for i in range(6):\n",
        "    for j in range(i+1):\n",
        "        print(\"*\", end=\"\")\n",
        "    print()"
      ],
      "metadata": {
        "colab": {
          "base_uri": "https://localhost:8080/"
        },
        "id": "OMma8tSsThHi",
        "outputId": "0e2dd577-ac58-4781-892b-84b5b99b6d71"
      },
      "execution_count": null,
      "outputs": [
        {
          "output_type": "stream",
          "name": "stdout",
          "text": [
            "*\n",
            "**\n",
            "***\n",
            "****\n",
            "*****\n",
            "******\n"
          ]
        }
      ]
    },
    {
      "cell_type": "markdown",
      "source": [
        "## for문과 while문은 사실 거기서 거기입니다.\n",
        "\n",
        "for문의 내용을 while문으로 쓸 수도 있고, while문의 내용을 for문으로 쓸 수 있는 경우도 있습니다.\n",
        "\n",
        "```\n",
        "for i in range(10):\n",
        "    print(i)\n",
        "```\n",
        "\n",
        "```\n",
        "i = 0\n",
        "while i < 10:\n",
        "    print(i)\n",
        "    i += 1\n",
        "```"
      ],
      "metadata": {
        "id": "IOopAwoDWVLq"
      }
    },
    {
      "cell_type": "markdown",
      "source": [
        "## 이쯤에서 다시 보는 리스트 컴프리헨션\n",
        "\n",
        "특정 성질을 만족하는 새로운 리스트를 생성하고자 할 때 리스트 컴프리헨션을 사용할 수 있습니다.\n",
        "\n",
        "집합의 조건 제시법과 비슷한 리스트 컴프리헨션은 for문이 중간에 개입됩니다.\n",
        "\n",
        "X = {n**2 | 1 <= n <= 10000, n는 홀수}\n",
        "\n",
        "```\n",
        "X = [n**2 for n in range(1, 10001) if n%2 == 1]\n",
        "```"
      ],
      "metadata": {
        "id": "aEkEBXkaWlOg"
      }
    },
    {
      "cell_type": "code",
      "source": [
        "# for문을 제대로 구경하고 다시 보니 이해가 좀 되는가요?\n",
        "X = [n**2 for n in range(1, 10001) if n%2 == 1]\n",
        "\n",
        "print(X)"
      ],
      "metadata": {
        "colab": {
          "base_uri": "https://localhost:8080/"
        },
        "id": "OcoEleOfTzPF",
        "outputId": "c6ed558d-e60d-4515-bda0-559e64910653"
      },
      "execution_count": null,
      "outputs": [
        {
          "output_type": "stream",
          "name": "stdout",
          "text": [
            "[1, 9, 25, 49, 81, 121, 169, 225, 289, 361, 441, 529, 625, 729, 841, 961, 1089, 1225, 1369, 1521, 1681, 1849, 2025, 2209, 2401, 2601, 2809, 3025, 3249, 3481, 3721, 3969, 4225, 4489, 4761, 5041, 5329, 5625, 5929, 6241, 6561, 6889, 7225, 7569, 7921, 8281, 8649, 9025, 9409, 9801, 10201, 10609, 11025, 11449, 11881, 12321, 12769, 13225, 13689, 14161, 14641, 15129, 15625, 16129, 16641, 17161, 17689, 18225, 18769, 19321, 19881, 20449, 21025, 21609, 22201, 22801, 23409, 24025, 24649, 25281, 25921, 26569, 27225, 27889, 28561, 29241, 29929, 30625, 31329, 32041, 32761, 33489, 34225, 34969, 35721, 36481, 37249, 38025, 38809, 39601, 40401, 41209, 42025, 42849, 43681, 44521, 45369, 46225, 47089, 47961, 48841, 49729, 50625, 51529, 52441, 53361, 54289, 55225, 56169, 57121, 58081, 59049, 60025, 61009, 62001, 63001, 64009, 65025, 66049, 67081, 68121, 69169, 70225, 71289, 72361, 73441, 74529, 75625, 76729, 77841, 78961, 80089, 81225, 82369, 83521, 84681, 85849, 87025, 88209, 89401, 90601, 91809, 93025, 94249, 95481, 96721, 97969, 99225, 100489, 101761, 103041, 104329, 105625, 106929, 108241, 109561, 110889, 112225, 113569, 114921, 116281, 117649, 119025, 120409, 121801, 123201, 124609, 126025, 127449, 128881, 130321, 131769, 133225, 134689, 136161, 137641, 139129, 140625, 142129, 143641, 145161, 146689, 148225, 149769, 151321, 152881, 154449, 156025, 157609, 159201, 160801, 162409, 164025, 165649, 167281, 168921, 170569, 172225, 173889, 175561, 177241, 178929, 180625, 182329, 184041, 185761, 187489, 189225, 190969, 192721, 194481, 196249, 198025, 199809, 201601, 203401, 205209, 207025, 208849, 210681, 212521, 214369, 216225, 218089, 219961, 221841, 223729, 225625, 227529, 229441, 231361, 233289, 235225, 237169, 239121, 241081, 243049, 245025, 247009, 249001, 251001, 253009, 255025, 257049, 259081, 261121, 263169, 265225, 267289, 269361, 271441, 273529, 275625, 277729, 279841, 281961, 284089, 286225, 288369, 290521, 292681, 294849, 297025, 299209, 301401, 303601, 305809, 308025, 310249, 312481, 314721, 316969, 319225, 321489, 323761, 326041, 328329, 330625, 332929, 335241, 337561, 339889, 342225, 344569, 346921, 349281, 351649, 354025, 356409, 358801, 361201, 363609, 366025, 368449, 370881, 373321, 375769, 378225, 380689, 383161, 385641, 388129, 390625, 393129, 395641, 398161, 400689, 403225, 405769, 408321, 410881, 413449, 416025, 418609, 421201, 423801, 426409, 429025, 431649, 434281, 436921, 439569, 442225, 444889, 447561, 450241, 452929, 455625, 458329, 461041, 463761, 466489, 469225, 471969, 474721, 477481, 480249, 483025, 485809, 488601, 491401, 494209, 497025, 499849, 502681, 505521, 508369, 511225, 514089, 516961, 519841, 522729, 525625, 528529, 531441, 534361, 537289, 540225, 543169, 546121, 549081, 552049, 555025, 558009, 561001, 564001, 567009, 570025, 573049, 576081, 579121, 582169, 585225, 588289, 591361, 594441, 597529, 600625, 603729, 606841, 609961, 613089, 616225, 619369, 622521, 625681, 628849, 632025, 635209, 638401, 641601, 644809, 648025, 651249, 654481, 657721, 660969, 664225, 667489, 670761, 674041, 677329, 680625, 683929, 687241, 690561, 693889, 697225, 700569, 703921, 707281, 710649, 714025, 717409, 720801, 724201, 727609, 731025, 734449, 737881, 741321, 744769, 748225, 751689, 755161, 758641, 762129, 765625, 769129, 772641, 776161, 779689, 783225, 786769, 790321, 793881, 797449, 801025, 804609, 808201, 811801, 815409, 819025, 822649, 826281, 829921, 833569, 837225, 840889, 844561, 848241, 851929, 855625, 859329, 863041, 866761, 870489, 874225, 877969, 881721, 885481, 889249, 893025, 896809, 900601, 904401, 908209, 912025, 915849, 919681, 923521, 927369, 931225, 935089, 938961, 942841, 946729, 950625, 954529, 958441, 962361, 966289, 970225, 974169, 978121, 982081, 986049, 990025, 994009, 998001, 1002001, 1006009, 1010025, 1014049, 1018081, 1022121, 1026169, 1030225, 1034289, 1038361, 1042441, 1046529, 1050625, 1054729, 1058841, 1062961, 1067089, 1071225, 1075369, 1079521, 1083681, 1087849, 1092025, 1096209, 1100401, 1104601, 1108809, 1113025, 1117249, 1121481, 1125721, 1129969, 1134225, 1138489, 1142761, 1147041, 1151329, 1155625, 1159929, 1164241, 1168561, 1172889, 1177225, 1181569, 1185921, 1190281, 1194649, 1199025, 1203409, 1207801, 1212201, 1216609, 1221025, 1225449, 1229881, 1234321, 1238769, 1243225, 1247689, 1252161, 1256641, 1261129, 1265625, 1270129, 1274641, 1279161, 1283689, 1288225, 1292769, 1297321, 1301881, 1306449, 1311025, 1315609, 1320201, 1324801, 1329409, 1334025, 1338649, 1343281, 1347921, 1352569, 1357225, 1361889, 1366561, 1371241, 1375929, 1380625, 1385329, 1390041, 1394761, 1399489, 1404225, 1408969, 1413721, 1418481, 1423249, 1428025, 1432809, 1437601, 1442401, 1447209, 1452025, 1456849, 1461681, 1466521, 1471369, 1476225, 1481089, 1485961, 1490841, 1495729, 1500625, 1505529, 1510441, 1515361, 1520289, 1525225, 1530169, 1535121, 1540081, 1545049, 1550025, 1555009, 1560001, 1565001, 1570009, 1575025, 1580049, 1585081, 1590121, 1595169, 1600225, 1605289, 1610361, 1615441, 1620529, 1625625, 1630729, 1635841, 1640961, 1646089, 1651225, 1656369, 1661521, 1666681, 1671849, 1677025, 1682209, 1687401, 1692601, 1697809, 1703025, 1708249, 1713481, 1718721, 1723969, 1729225, 1734489, 1739761, 1745041, 1750329, 1755625, 1760929, 1766241, 1771561, 1776889, 1782225, 1787569, 1792921, 1798281, 1803649, 1809025, 1814409, 1819801, 1825201, 1830609, 1836025, 1841449, 1846881, 1852321, 1857769, 1863225, 1868689, 1874161, 1879641, 1885129, 1890625, 1896129, 1901641, 1907161, 1912689, 1918225, 1923769, 1929321, 1934881, 1940449, 1946025, 1951609, 1957201, 1962801, 1968409, 1974025, 1979649, 1985281, 1990921, 1996569, 2002225, 2007889, 2013561, 2019241, 2024929, 2030625, 2036329, 2042041, 2047761, 2053489, 2059225, 2064969, 2070721, 2076481, 2082249, 2088025, 2093809, 2099601, 2105401, 2111209, 2117025, 2122849, 2128681, 2134521, 2140369, 2146225, 2152089, 2157961, 2163841, 2169729, 2175625, 2181529, 2187441, 2193361, 2199289, 2205225, 2211169, 2217121, 2223081, 2229049, 2235025, 2241009, 2247001, 2253001, 2259009, 2265025, 2271049, 2277081, 2283121, 2289169, 2295225, 2301289, 2307361, 2313441, 2319529, 2325625, 2331729, 2337841, 2343961, 2350089, 2356225, 2362369, 2368521, 2374681, 2380849, 2387025, 2393209, 2399401, 2405601, 2411809, 2418025, 2424249, 2430481, 2436721, 2442969, 2449225, 2455489, 2461761, 2468041, 2474329, 2480625, 2486929, 2493241, 2499561, 2505889, 2512225, 2518569, 2524921, 2531281, 2537649, 2544025, 2550409, 2556801, 2563201, 2569609, 2576025, 2582449, 2588881, 2595321, 2601769, 2608225, 2614689, 2621161, 2627641, 2634129, 2640625, 2647129, 2653641, 2660161, 2666689, 2673225, 2679769, 2686321, 2692881, 2699449, 2706025, 2712609, 2719201, 2725801, 2732409, 2739025, 2745649, 2752281, 2758921, 2765569, 2772225, 2778889, 2785561, 2792241, 2798929, 2805625, 2812329, 2819041, 2825761, 2832489, 2839225, 2845969, 2852721, 2859481, 2866249, 2873025, 2879809, 2886601, 2893401, 2900209, 2907025, 2913849, 2920681, 2927521, 2934369, 2941225, 2948089, 2954961, 2961841, 2968729, 2975625, 2982529, 2989441, 2996361, 3003289, 3010225, 3017169, 3024121, 3031081, 3038049, 3045025, 3052009, 3059001, 3066001, 3073009, 3080025, 3087049, 3094081, 3101121, 3108169, 3115225, 3122289, 3129361, 3136441, 3143529, 3150625, 3157729, 3164841, 3171961, 3179089, 3186225, 3193369, 3200521, 3207681, 3214849, 3222025, 3229209, 3236401, 3243601, 3250809, 3258025, 3265249, 3272481, 3279721, 3286969, 3294225, 3301489, 3308761, 3316041, 3323329, 3330625, 3337929, 3345241, 3352561, 3359889, 3367225, 3374569, 3381921, 3389281, 3396649, 3404025, 3411409, 3418801, 3426201, 3433609, 3441025, 3448449, 3455881, 3463321, 3470769, 3478225, 3485689, 3493161, 3500641, 3508129, 3515625, 3523129, 3530641, 3538161, 3545689, 3553225, 3560769, 3568321, 3575881, 3583449, 3591025, 3598609, 3606201, 3613801, 3621409, 3629025, 3636649, 3644281, 3651921, 3659569, 3667225, 3674889, 3682561, 3690241, 3697929, 3705625, 3713329, 3721041, 3728761, 3736489, 3744225, 3751969, 3759721, 3767481, 3775249, 3783025, 3790809, 3798601, 3806401, 3814209, 3822025, 3829849, 3837681, 3845521, 3853369, 3861225, 3869089, 3876961, 3884841, 3892729, 3900625, 3908529, 3916441, 3924361, 3932289, 3940225, 3948169, 3956121, 3964081, 3972049, 3980025, 3988009, 3996001, 4004001, 4012009, 4020025, 4028049, 4036081, 4044121, 4052169, 4060225, 4068289, 4076361, 4084441, 4092529, 4100625, 4108729, 4116841, 4124961, 4133089, 4141225, 4149369, 4157521, 4165681, 4173849, 4182025, 4190209, 4198401, 4206601, 4214809, 4223025, 4231249, 4239481, 4247721, 4255969, 4264225, 4272489, 4280761, 4289041, 4297329, 4305625, 4313929, 4322241, 4330561, 4338889, 4347225, 4355569, 4363921, 4372281, 4380649, 4389025, 4397409, 4405801, 4414201, 4422609, 4431025, 4439449, 4447881, 4456321, 4464769, 4473225, 4481689, 4490161, 4498641, 4507129, 4515625, 4524129, 4532641, 4541161, 4549689, 4558225, 4566769, 4575321, 4583881, 4592449, 4601025, 4609609, 4618201, 4626801, 4635409, 4644025, 4652649, 4661281, 4669921, 4678569, 4687225, 4695889, 4704561, 4713241, 4721929, 4730625, 4739329, 4748041, 4756761, 4765489, 4774225, 4782969, 4791721, 4800481, 4809249, 4818025, 4826809, 4835601, 4844401, 4853209, 4862025, 4870849, 4879681, 4888521, 4897369, 4906225, 4915089, 4923961, 4932841, 4941729, 4950625, 4959529, 4968441, 4977361, 4986289, 4995225, 5004169, 5013121, 5022081, 5031049, 5040025, 5049009, 5058001, 5067001, 5076009, 5085025, 5094049, 5103081, 5112121, 5121169, 5130225, 5139289, 5148361, 5157441, 5166529, 5175625, 5184729, 5193841, 5202961, 5212089, 5221225, 5230369, 5239521, 5248681, 5257849, 5267025, 5276209, 5285401, 5294601, 5303809, 5313025, 5322249, 5331481, 5340721, 5349969, 5359225, 5368489, 5377761, 5387041, 5396329, 5405625, 5414929, 5424241, 5433561, 5442889, 5452225, 5461569, 5470921, 5480281, 5489649, 5499025, 5508409, 5517801, 5527201, 5536609, 5546025, 5555449, 5564881, 5574321, 5583769, 5593225, 5602689, 5612161, 5621641, 5631129, 5640625, 5650129, 5659641, 5669161, 5678689, 5688225, 5697769, 5707321, 5716881, 5726449, 5736025, 5745609, 5755201, 5764801, 5774409, 5784025, 5793649, 5803281, 5812921, 5822569, 5832225, 5841889, 5851561, 5861241, 5870929, 5880625, 5890329, 5900041, 5909761, 5919489, 5929225, 5938969, 5948721, 5958481, 5968249, 5978025, 5987809, 5997601, 6007401, 6017209, 6027025, 6036849, 6046681, 6056521, 6066369, 6076225, 6086089, 6095961, 6105841, 6115729, 6125625, 6135529, 6145441, 6155361, 6165289, 6175225, 6185169, 6195121, 6205081, 6215049, 6225025, 6235009, 6245001, 6255001, 6265009, 6275025, 6285049, 6295081, 6305121, 6315169, 6325225, 6335289, 6345361, 6355441, 6365529, 6375625, 6385729, 6395841, 6405961, 6416089, 6426225, 6436369, 6446521, 6456681, 6466849, 6477025, 6487209, 6497401, 6507601, 6517809, 6528025, 6538249, 6548481, 6558721, 6568969, 6579225, 6589489, 6599761, 6610041, 6620329, 6630625, 6640929, 6651241, 6661561, 6671889, 6682225, 6692569, 6702921, 6713281, 6723649, 6734025, 6744409, 6754801, 6765201, 6775609, 6786025, 6796449, 6806881, 6817321, 6827769, 6838225, 6848689, 6859161, 6869641, 6880129, 6890625, 6901129, 6911641, 6922161, 6932689, 6943225, 6953769, 6964321, 6974881, 6985449, 6996025, 7006609, 7017201, 7027801, 7038409, 7049025, 7059649, 7070281, 7080921, 7091569, 7102225, 7112889, 7123561, 7134241, 7144929, 7155625, 7166329, 7177041, 7187761, 7198489, 7209225, 7219969, 7230721, 7241481, 7252249, 7263025, 7273809, 7284601, 7295401, 7306209, 7317025, 7327849, 7338681, 7349521, 7360369, 7371225, 7382089, 7392961, 7403841, 7414729, 7425625, 7436529, 7447441, 7458361, 7469289, 7480225, 7491169, 7502121, 7513081, 7524049, 7535025, 7546009, 7557001, 7568001, 7579009, 7590025, 7601049, 7612081, 7623121, 7634169, 7645225, 7656289, 7667361, 7678441, 7689529, 7700625, 7711729, 7722841, 7733961, 7745089, 7756225, 7767369, 7778521, 7789681, 7800849, 7812025, 7823209, 7834401, 7845601, 7856809, 7868025, 7879249, 7890481, 7901721, 7912969, 7924225, 7935489, 7946761, 7958041, 7969329, 7980625, 7991929, 8003241, 8014561, 8025889, 8037225, 8048569, 8059921, 8071281, 8082649, 8094025, 8105409, 8116801, 8128201, 8139609, 8151025, 8162449, 8173881, 8185321, 8196769, 8208225, 8219689, 8231161, 8242641, 8254129, 8265625, 8277129, 8288641, 8300161, 8311689, 8323225, 8334769, 8346321, 8357881, 8369449, 8381025, 8392609, 8404201, 8415801, 8427409, 8439025, 8450649, 8462281, 8473921, 8485569, 8497225, 8508889, 8520561, 8532241, 8543929, 8555625, 8567329, 8579041, 8590761, 8602489, 8614225, 8625969, 8637721, 8649481, 8661249, 8673025, 8684809, 8696601, 8708401, 8720209, 8732025, 8743849, 8755681, 8767521, 8779369, 8791225, 8803089, 8814961, 8826841, 8838729, 8850625, 8862529, 8874441, 8886361, 8898289, 8910225, 8922169, 8934121, 8946081, 8958049, 8970025, 8982009, 8994001, 9006001, 9018009, 9030025, 9042049, 9054081, 9066121, 9078169, 9090225, 9102289, 9114361, 9126441, 9138529, 9150625, 9162729, 9174841, 9186961, 9199089, 9211225, 9223369, 9235521, 9247681, 9259849, 9272025, 9284209, 9296401, 9308601, 9320809, 9333025, 9345249, 9357481, 9369721, 9381969, 9394225, 9406489, 9418761, 9431041, 9443329, 9455625, 9467929, 9480241, 9492561, 9504889, 9517225, 9529569, 9541921, 9554281, 9566649, 9579025, 9591409, 9603801, 9616201, 9628609, 9641025, 9653449, 9665881, 9678321, 9690769, 9703225, 9715689, 9728161, 9740641, 9753129, 9765625, 9778129, 9790641, 9803161, 9815689, 9828225, 9840769, 9853321, 9865881, 9878449, 9891025, 9903609, 9916201, 9928801, 9941409, 9954025, 9966649, 9979281, 9991921, 10004569, 10017225, 10029889, 10042561, 10055241, 10067929, 10080625, 10093329, 10106041, 10118761, 10131489, 10144225, 10156969, 10169721, 10182481, 10195249, 10208025, 10220809, 10233601, 10246401, 10259209, 10272025, 10284849, 10297681, 10310521, 10323369, 10336225, 10349089, 10361961, 10374841, 10387729, 10400625, 10413529, 10426441, 10439361, 10452289, 10465225, 10478169, 10491121, 10504081, 10517049, 10530025, 10543009, 10556001, 10569001, 10582009, 10595025, 10608049, 10621081, 10634121, 10647169, 10660225, 10673289, 10686361, 10699441, 10712529, 10725625, 10738729, 10751841, 10764961, 10778089, 10791225, 10804369, 10817521, 10830681, 10843849, 10857025, 10870209, 10883401, 10896601, 10909809, 10923025, 10936249, 10949481, 10962721, 10975969, 10989225, 11002489, 11015761, 11029041, 11042329, 11055625, 11068929, 11082241, 11095561, 11108889, 11122225, 11135569, 11148921, 11162281, 11175649, 11189025, 11202409, 11215801, 11229201, 11242609, 11256025, 11269449, 11282881, 11296321, 11309769, 11323225, 11336689, 11350161, 11363641, 11377129, 11390625, 11404129, 11417641, 11431161, 11444689, 11458225, 11471769, 11485321, 11498881, 11512449, 11526025, 11539609, 11553201, 11566801, 11580409, 11594025, 11607649, 11621281, 11634921, 11648569, 11662225, 11675889, 11689561, 11703241, 11716929, 11730625, 11744329, 11758041, 11771761, 11785489, 11799225, 11812969, 11826721, 11840481, 11854249, 11868025, 11881809, 11895601, 11909401, 11923209, 11937025, 11950849, 11964681, 11978521, 11992369, 12006225, 12020089, 12033961, 12047841, 12061729, 12075625, 12089529, 12103441, 12117361, 12131289, 12145225, 12159169, 12173121, 12187081, 12201049, 12215025, 12229009, 12243001, 12257001, 12271009, 12285025, 12299049, 12313081, 12327121, 12341169, 12355225, 12369289, 12383361, 12397441, 12411529, 12425625, 12439729, 12453841, 12467961, 12482089, 12496225, 12510369, 12524521, 12538681, 12552849, 12567025, 12581209, 12595401, 12609601, 12623809, 12638025, 12652249, 12666481, 12680721, 12694969, 12709225, 12723489, 12737761, 12752041, 12766329, 12780625, 12794929, 12809241, 12823561, 12837889, 12852225, 12866569, 12880921, 12895281, 12909649, 12924025, 12938409, 12952801, 12967201, 12981609, 12996025, 13010449, 13024881, 13039321, 13053769, 13068225, 13082689, 13097161, 13111641, 13126129, 13140625, 13155129, 13169641, 13184161, 13198689, 13213225, 13227769, 13242321, 13256881, 13271449, 13286025, 13300609, 13315201, 13329801, 13344409, 13359025, 13373649, 13388281, 13402921, 13417569, 13432225, 13446889, 13461561, 13476241, 13490929, 13505625, 13520329, 13535041, 13549761, 13564489, 13579225, 13593969, 13608721, 13623481, 13638249, 13653025, 13667809, 13682601, 13697401, 13712209, 13727025, 13741849, 13756681, 13771521, 13786369, 13801225, 13816089, 13830961, 13845841, 13860729, 13875625, 13890529, 13905441, 13920361, 13935289, 13950225, 13965169, 13980121, 13995081, 14010049, 14025025, 14040009, 14055001, 14070001, 14085009, 14100025, 14115049, 14130081, 14145121, 14160169, 14175225, 14190289, 14205361, 14220441, 14235529, 14250625, 14265729, 14280841, 14295961, 14311089, 14326225, 14341369, 14356521, 14371681, 14386849, 14402025, 14417209, 14432401, 14447601, 14462809, 14478025, 14493249, 14508481, 14523721, 14538969, 14554225, 14569489, 14584761, 14600041, 14615329, 14630625, 14645929, 14661241, 14676561, 14691889, 14707225, 14722569, 14737921, 14753281, 14768649, 14784025, 14799409, 14814801, 14830201, 14845609, 14861025, 14876449, 14891881, 14907321, 14922769, 14938225, 14953689, 14969161, 14984641, 15000129, 15015625, 15031129, 15046641, 15062161, 15077689, 15093225, 15108769, 15124321, 15139881, 15155449, 15171025, 15186609, 15202201, 15217801, 15233409, 15249025, 15264649, 15280281, 15295921, 15311569, 15327225, 15342889, 15358561, 15374241, 15389929, 15405625, 15421329, 15437041, 15452761, 15468489, 15484225, 15499969, 15515721, 15531481, 15547249, 15563025, 15578809, 15594601, 15610401, 15626209, 15642025, 15657849, 15673681, 15689521, 15705369, 15721225, 15737089, 15752961, 15768841, 15784729, 15800625, 15816529, 15832441, 15848361, 15864289, 15880225, 15896169, 15912121, 15928081, 15944049, 15960025, 15976009, 15992001, 16008001, 16024009, 16040025, 16056049, 16072081, 16088121, 16104169, 16120225, 16136289, 16152361, 16168441, 16184529, 16200625, 16216729, 16232841, 16248961, 16265089, 16281225, 16297369, 16313521, 16329681, 16345849, 16362025, 16378209, 16394401, 16410601, 16426809, 16443025, 16459249, 16475481, 16491721, 16507969, 16524225, 16540489, 16556761, 16573041, 16589329, 16605625, 16621929, 16638241, 16654561, 16670889, 16687225, 16703569, 16719921, 16736281, 16752649, 16769025, 16785409, 16801801, 16818201, 16834609, 16851025, 16867449, 16883881, 16900321, 16916769, 16933225, 16949689, 16966161, 16982641, 16999129, 17015625, 17032129, 17048641, 17065161, 17081689, 17098225, 17114769, 17131321, 17147881, 17164449, 17181025, 17197609, 17214201, 17230801, 17247409, 17264025, 17280649, 17297281, 17313921, 17330569, 17347225, 17363889, 17380561, 17397241, 17413929, 17430625, 17447329, 17464041, 17480761, 17497489, 17514225, 17530969, 17547721, 17564481, 17581249, 17598025, 17614809, 17631601, 17648401, 17665209, 17682025, 17698849, 17715681, 17732521, 17749369, 17766225, 17783089, 17799961, 17816841, 17833729, 17850625, 17867529, 17884441, 17901361, 17918289, 17935225, 17952169, 17969121, 17986081, 18003049, 18020025, 18037009, 18054001, 18071001, 18088009, 18105025, 18122049, 18139081, 18156121, 18173169, 18190225, 18207289, 18224361, 18241441, 18258529, 18275625, 18292729, 18309841, 18326961, 18344089, 18361225, 18378369, 18395521, 18412681, 18429849, 18447025, 18464209, 18481401, 18498601, 18515809, 18533025, 18550249, 18567481, 18584721, 18601969, 18619225, 18636489, 18653761, 18671041, 18688329, 18705625, 18722929, 18740241, 18757561, 18774889, 18792225, 18809569, 18826921, 18844281, 18861649, 18879025, 18896409, 18913801, 18931201, 18948609, 18966025, 18983449, 19000881, 19018321, 19035769, 19053225, 19070689, 19088161, 19105641, 19123129, 19140625, 19158129, 19175641, 19193161, 19210689, 19228225, 19245769, 19263321, 19280881, 19298449, 19316025, 19333609, 19351201, 19368801, 19386409, 19404025, 19421649, 19439281, 19456921, 19474569, 19492225, 19509889, 19527561, 19545241, 19562929, 19580625, 19598329, 19616041, 19633761, 19651489, 19669225, 19686969, 19704721, 19722481, 19740249, 19758025, 19775809, 19793601, 19811401, 19829209, 19847025, 19864849, 19882681, 19900521, 19918369, 19936225, 19954089, 19971961, 19989841, 20007729, 20025625, 20043529, 20061441, 20079361, 20097289, 20115225, 20133169, 20151121, 20169081, 20187049, 20205025, 20223009, 20241001, 20259001, 20277009, 20295025, 20313049, 20331081, 20349121, 20367169, 20385225, 20403289, 20421361, 20439441, 20457529, 20475625, 20493729, 20511841, 20529961, 20548089, 20566225, 20584369, 20602521, 20620681, 20638849, 20657025, 20675209, 20693401, 20711601, 20729809, 20748025, 20766249, 20784481, 20802721, 20820969, 20839225, 20857489, 20875761, 20894041, 20912329, 20930625, 20948929, 20967241, 20985561, 21003889, 21022225, 21040569, 21058921, 21077281, 21095649, 21114025, 21132409, 21150801, 21169201, 21187609, 21206025, 21224449, 21242881, 21261321, 21279769, 21298225, 21316689, 21335161, 21353641, 21372129, 21390625, 21409129, 21427641, 21446161, 21464689, 21483225, 21501769, 21520321, 21538881, 21557449, 21576025, 21594609, 21613201, 21631801, 21650409, 21669025, 21687649, 21706281, 21724921, 21743569, 21762225, 21780889, 21799561, 21818241, 21836929, 21855625, 21874329, 21893041, 21911761, 21930489, 21949225, 21967969, 21986721, 22005481, 22024249, 22043025, 22061809, 22080601, 22099401, 22118209, 22137025, 22155849, 22174681, 22193521, 22212369, 22231225, 22250089, 22268961, 22287841, 22306729, 22325625, 22344529, 22363441, 22382361, 22401289, 22420225, 22439169, 22458121, 22477081, 22496049, 22515025, 22534009, 22553001, 22572001, 22591009, 22610025, 22629049, 22648081, 22667121, 22686169, 22705225, 22724289, 22743361, 22762441, 22781529, 22800625, 22819729, 22838841, 22857961, 22877089, 22896225, 22915369, 22934521, 22953681, 22972849, 22992025, 23011209, 23030401, 23049601, 23068809, 23088025, 23107249, 23126481, 23145721, 23164969, 23184225, 23203489, 23222761, 23242041, 23261329, 23280625, 23299929, 23319241, 23338561, 23357889, 23377225, 23396569, 23415921, 23435281, 23454649, 23474025, 23493409, 23512801, 23532201, 23551609, 23571025, 23590449, 23609881, 23629321, 23648769, 23668225, 23687689, 23707161, 23726641, 23746129, 23765625, 23785129, 23804641, 23824161, 23843689, 23863225, 23882769, 23902321, 23921881, 23941449, 23961025, 23980609, 24000201, 24019801, 24039409, 24059025, 24078649, 24098281, 24117921, 24137569, 24157225, 24176889, 24196561, 24216241, 24235929, 24255625, 24275329, 24295041, 24314761, 24334489, 24354225, 24373969, 24393721, 24413481, 24433249, 24453025, 24472809, 24492601, 24512401, 24532209, 24552025, 24571849, 24591681, 24611521, 24631369, 24651225, 24671089, 24690961, 24710841, 24730729, 24750625, 24770529, 24790441, 24810361, 24830289, 24850225, 24870169, 24890121, 24910081, 24930049, 24950025, 24970009, 24990001, 25010001, 25030009, 25050025, 25070049, 25090081, 25110121, 25130169, 25150225, 25170289, 25190361, 25210441, 25230529, 25250625, 25270729, 25290841, 25310961, 25331089, 25351225, 25371369, 25391521, 25411681, 25431849, 25452025, 25472209, 25492401, 25512601, 25532809, 25553025, 25573249, 25593481, 25613721, 25633969, 25654225, 25674489, 25694761, 25715041, 25735329, 25755625, 25775929, 25796241, 25816561, 25836889, 25857225, 25877569, 25897921, 25918281, 25938649, 25959025, 25979409, 25999801, 26020201, 26040609, 26061025, 26081449, 26101881, 26122321, 26142769, 26163225, 26183689, 26204161, 26224641, 26245129, 26265625, 26286129, 26306641, 26327161, 26347689, 26368225, 26388769, 26409321, 26429881, 26450449, 26471025, 26491609, 26512201, 26532801, 26553409, 26574025, 26594649, 26615281, 26635921, 26656569, 26677225, 26697889, 26718561, 26739241, 26759929, 26780625, 26801329, 26822041, 26842761, 26863489, 26884225, 26904969, 26925721, 26946481, 26967249, 26988025, 27008809, 27029601, 27050401, 27071209, 27092025, 27112849, 27133681, 27154521, 27175369, 27196225, 27217089, 27237961, 27258841, 27279729, 27300625, 27321529, 27342441, 27363361, 27384289, 27405225, 27426169, 27447121, 27468081, 27489049, 27510025, 27531009, 27552001, 27573001, 27594009, 27615025, 27636049, 27657081, 27678121, 27699169, 27720225, 27741289, 27762361, 27783441, 27804529, 27825625, 27846729, 27867841, 27888961, 27910089, 27931225, 27952369, 27973521, 27994681, 28015849, 28037025, 28058209, 28079401, 28100601, 28121809, 28143025, 28164249, 28185481, 28206721, 28227969, 28249225, 28270489, 28291761, 28313041, 28334329, 28355625, 28376929, 28398241, 28419561, 28440889, 28462225, 28483569, 28504921, 28526281, 28547649, 28569025, 28590409, 28611801, 28633201, 28654609, 28676025, 28697449, 28718881, 28740321, 28761769, 28783225, 28804689, 28826161, 28847641, 28869129, 28890625, 28912129, 28933641, 28955161, 28976689, 28998225, 29019769, 29041321, 29062881, 29084449, 29106025, 29127609, 29149201, 29170801, 29192409, 29214025, 29235649, 29257281, 29278921, 29300569, 29322225, 29343889, 29365561, 29387241, 29408929, 29430625, 29452329, 29474041, 29495761, 29517489, 29539225, 29560969, 29582721, 29604481, 29626249, 29648025, 29669809, 29691601, 29713401, 29735209, 29757025, 29778849, 29800681, 29822521, 29844369, 29866225, 29888089, 29909961, 29931841, 29953729, 29975625, 29997529, 30019441, 30041361, 30063289, 30085225, 30107169, 30129121, 30151081, 30173049, 30195025, 30217009, 30239001, 30261001, 30283009, 30305025, 30327049, 30349081, 30371121, 30393169, 30415225, 30437289, 30459361, 30481441, 30503529, 30525625, 30547729, 30569841, 30591961, 30614089, 30636225, 30658369, 30680521, 30702681, 30724849, 30747025, 30769209, 30791401, 30813601, 30835809, 30858025, 30880249, 30902481, 30924721, 30946969, 30969225, 30991489, 31013761, 31036041, 31058329, 31080625, 31102929, 31125241, 31147561, 31169889, 31192225, 31214569, 31236921, 31259281, 31281649, 31304025, 31326409, 31348801, 31371201, 31393609, 31416025, 31438449, 31460881, 31483321, 31505769, 31528225, 31550689, 31573161, 31595641, 31618129, 31640625, 31663129, 31685641, 31708161, 31730689, 31753225, 31775769, 31798321, 31820881, 31843449, 31866025, 31888609, 31911201, 31933801, 31956409, 31979025, 32001649, 32024281, 32046921, 32069569, 32092225, 32114889, 32137561, 32160241, 32182929, 32205625, 32228329, 32251041, 32273761, 32296489, 32319225, 32341969, 32364721, 32387481, 32410249, 32433025, 32455809, 32478601, 32501401, 32524209, 32547025, 32569849, 32592681, 32615521, 32638369, 32661225, 32684089, 32706961, 32729841, 32752729, 32775625, 32798529, 32821441, 32844361, 32867289, 32890225, 32913169, 32936121, 32959081, 32982049, 33005025, 33028009, 33051001, 33074001, 33097009, 33120025, 33143049, 33166081, 33189121, 33212169, 33235225, 33258289, 33281361, 33304441, 33327529, 33350625, 33373729, 33396841, 33419961, 33443089, 33466225, 33489369, 33512521, 33535681, 33558849, 33582025, 33605209, 33628401, 33651601, 33674809, 33698025, 33721249, 33744481, 33767721, 33790969, 33814225, 33837489, 33860761, 33884041, 33907329, 33930625, 33953929, 33977241, 34000561, 34023889, 34047225, 34070569, 34093921, 34117281, 34140649, 34164025, 34187409, 34210801, 34234201, 34257609, 34281025, 34304449, 34327881, 34351321, 34374769, 34398225, 34421689, 34445161, 34468641, 34492129, 34515625, 34539129, 34562641, 34586161, 34609689, 34633225, 34656769, 34680321, 34703881, 34727449, 34751025, 34774609, 34798201, 34821801, 34845409, 34869025, 34892649, 34916281, 34939921, 34963569, 34987225, 35010889, 35034561, 35058241, 35081929, 35105625, 35129329, 35153041, 35176761, 35200489, 35224225, 35247969, 35271721, 35295481, 35319249, 35343025, 35366809, 35390601, 35414401, 35438209, 35462025, 35485849, 35509681, 35533521, 35557369, 35581225, 35605089, 35628961, 35652841, 35676729, 35700625, 35724529, 35748441, 35772361, 35796289, 35820225, 35844169, 35868121, 35892081, 35916049, 35940025, 35964009, 35988001, 36012001, 36036009, 36060025, 36084049, 36108081, 36132121, 36156169, 36180225, 36204289, 36228361, 36252441, 36276529, 36300625, 36324729, 36348841, 36372961, 36397089, 36421225, 36445369, 36469521, 36493681, 36517849, 36542025, 36566209, 36590401, 36614601, 36638809, 36663025, 36687249, 36711481, 36735721, 36759969, 36784225, 36808489, 36832761, 36857041, 36881329, 36905625, 36929929, 36954241, 36978561, 37002889, 37027225, 37051569, 37075921, 37100281, 37124649, 37149025, 37173409, 37197801, 37222201, 37246609, 37271025, 37295449, 37319881, 37344321, 37368769, 37393225, 37417689, 37442161, 37466641, 37491129, 37515625, 37540129, 37564641, 37589161, 37613689, 37638225, 37662769, 37687321, 37711881, 37736449, 37761025, 37785609, 37810201, 37834801, 37859409, 37884025, 37908649, 37933281, 37957921, 37982569, 38007225, 38031889, 38056561, 38081241, 38105929, 38130625, 38155329, 38180041, 38204761, 38229489, 38254225, 38278969, 38303721, 38328481, 38353249, 38378025, 38402809, 38427601, 38452401, 38477209, 38502025, 38526849, 38551681, 38576521, 38601369, 38626225, 38651089, 38675961, 38700841, 38725729, 38750625, 38775529, 38800441, 38825361, 38850289, 38875225, 38900169, 38925121, 38950081, 38975049, 39000025, 39025009, 39050001, 39075001, 39100009, 39125025, 39150049, 39175081, 39200121, 39225169, 39250225, 39275289, 39300361, 39325441, 39350529, 39375625, 39400729, 39425841, 39450961, 39476089, 39501225, 39526369, 39551521, 39576681, 39601849, 39627025, 39652209, 39677401, 39702601, 39727809, 39753025, 39778249, 39803481, 39828721, 39853969, 39879225, 39904489, 39929761, 39955041, 39980329, 40005625, 40030929, 40056241, 40081561, 40106889, 40132225, 40157569, 40182921, 40208281, 40233649, 40259025, 40284409, 40309801, 40335201, 40360609, 40386025, 40411449, 40436881, 40462321, 40487769, 40513225, 40538689, 40564161, 40589641, 40615129, 40640625, 40666129, 40691641, 40717161, 40742689, 40768225, 40793769, 40819321, 40844881, 40870449, 40896025, 40921609, 40947201, 40972801, 40998409, 41024025, 41049649, 41075281, 41100921, 41126569, 41152225, 41177889, 41203561, 41229241, 41254929, 41280625, 41306329, 41332041, 41357761, 41383489, 41409225, 41434969, 41460721, 41486481, 41512249, 41538025, 41563809, 41589601, 41615401, 41641209, 41667025, 41692849, 41718681, 41744521, 41770369, 41796225, 41822089, 41847961, 41873841, 41899729, 41925625, 41951529, 41977441, 42003361, 42029289, 42055225, 42081169, 42107121, 42133081, 42159049, 42185025, 42211009, 42237001, 42263001, 42289009, 42315025, 42341049, 42367081, 42393121, 42419169, 42445225, 42471289, 42497361, 42523441, 42549529, 42575625, 42601729, 42627841, 42653961, 42680089, 42706225, 42732369, 42758521, 42784681, 42810849, 42837025, 42863209, 42889401, 42915601, 42941809, 42968025, 42994249, 43020481, 43046721, 43072969, 43099225, 43125489, 43151761, 43178041, 43204329, 43230625, 43256929, 43283241, 43309561, 43335889, 43362225, 43388569, 43414921, 43441281, 43467649, 43494025, 43520409, 43546801, 43573201, 43599609, 43626025, 43652449, 43678881, 43705321, 43731769, 43758225, 43784689, 43811161, 43837641, 43864129, 43890625, 43917129, 43943641, 43970161, 43996689, 44023225, 44049769, 44076321, 44102881, 44129449, 44156025, 44182609, 44209201, 44235801, 44262409, 44289025, 44315649, 44342281, 44368921, 44395569, 44422225, 44448889, 44475561, 44502241, 44528929, 44555625, 44582329, 44609041, 44635761, 44662489, 44689225, 44715969, 44742721, 44769481, 44796249, 44823025, 44849809, 44876601, 44903401, 44930209, 44957025, 44983849, 45010681, 45037521, 45064369, 45091225, 45118089, 45144961, 45171841, 45198729, 45225625, 45252529, 45279441, 45306361, 45333289, 45360225, 45387169, 45414121, 45441081, 45468049, 45495025, 45522009, 45549001, 45576001, 45603009, 45630025, 45657049, 45684081, 45711121, 45738169, 45765225, 45792289, 45819361, 45846441, 45873529, 45900625, 45927729, 45954841, 45981961, 46009089, 46036225, 46063369, 46090521, 46117681, 46144849, 46172025, 46199209, 46226401, 46253601, 46280809, 46308025, 46335249, 46362481, 46389721, 46416969, 46444225, 46471489, 46498761, 46526041, 46553329, 46580625, 46607929, 46635241, 46662561, 46689889, 46717225, 46744569, 46771921, 46799281, 46826649, 46854025, 46881409, 46908801, 46936201, 46963609, 46991025, 47018449, 47045881, 47073321, 47100769, 47128225, 47155689, 47183161, 47210641, 47238129, 47265625, 47293129, 47320641, 47348161, 47375689, 47403225, 47430769, 47458321, 47485881, 47513449, 47541025, 47568609, 47596201, 47623801, 47651409, 47679025, 47706649, 47734281, 47761921, 47789569, 47817225, 47844889, 47872561, 47900241, 47927929, 47955625, 47983329, 48011041, 48038761, 48066489, 48094225, 48121969, 48149721, 48177481, 48205249, 48233025, 48260809, 48288601, 48316401, 48344209, 48372025, 48399849, 48427681, 48455521, 48483369, 48511225, 48539089, 48566961, 48594841, 48622729, 48650625, 48678529, 48706441, 48734361, 48762289, 48790225, 48818169, 48846121, 48874081, 48902049, 48930025, 48958009, 48986001, 49014001, 49042009, 49070025, 49098049, 49126081, 49154121, 49182169, 49210225, 49238289, 49266361, 49294441, 49322529, 49350625, 49378729, 49406841, 49434961, 49463089, 49491225, 49519369, 49547521, 49575681, 49603849, 49632025, 49660209, 49688401, 49716601, 49744809, 49773025, 49801249, 49829481, 49857721, 49885969, 49914225, 49942489, 49970761, 49999041, 50027329, 50055625, 50083929, 50112241, 50140561, 50168889, 50197225, 50225569, 50253921, 50282281, 50310649, 50339025, 50367409, 50395801, 50424201, 50452609, 50481025, 50509449, 50537881, 50566321, 50594769, 50623225, 50651689, 50680161, 50708641, 50737129, 50765625, 50794129, 50822641, 50851161, 50879689, 50908225, 50936769, 50965321, 50993881, 51022449, 51051025, 51079609, 51108201, 51136801, 51165409, 51194025, 51222649, 51251281, 51279921, 51308569, 51337225, 51365889, 51394561, 51423241, 51451929, 51480625, 51509329, 51538041, 51566761, 51595489, 51624225, 51652969, 51681721, 51710481, 51739249, 51768025, 51796809, 51825601, 51854401, 51883209, 51912025, 51940849, 51969681, 51998521, 52027369, 52056225, 52085089, 52113961, 52142841, 52171729, 52200625, 52229529, 52258441, 52287361, 52316289, 52345225, 52374169, 52403121, 52432081, 52461049, 52490025, 52519009, 52548001, 52577001, 52606009, 52635025, 52664049, 52693081, 52722121, 52751169, 52780225, 52809289, 52838361, 52867441, 52896529, 52925625, 52954729, 52983841, 53012961, 53042089, 53071225, 53100369, 53129521, 53158681, 53187849, 53217025, 53246209, 53275401, 53304601, 53333809, 53363025, 53392249, 53421481, 53450721, 53479969, 53509225, 53538489, 53567761, 53597041, 53626329, 53655625, 53684929, 53714241, 53743561, 53772889, 53802225, 53831569, 53860921, 53890281, 53919649, 53949025, 53978409, 54007801, 54037201, 54066609, 54096025, 54125449, 54154881, 54184321, 54213769, 54243225, 54272689, 54302161, 54331641, 54361129, 54390625, 54420129, 54449641, 54479161, 54508689, 54538225, 54567769, 54597321, 54626881, 54656449, 54686025, 54715609, 54745201, 54774801, 54804409, 54834025, 54863649, 54893281, 54922921, 54952569, 54982225, 55011889, 55041561, 55071241, 55100929, 55130625, 55160329, 55190041, 55219761, 55249489, 55279225, 55308969, 55338721, 55368481, 55398249, 55428025, 55457809, 55487601, 55517401, 55547209, 55577025, 55606849, 55636681, 55666521, 55696369, 55726225, 55756089, 55785961, 55815841, 55845729, 55875625, 55905529, 55935441, 55965361, 55995289, 56025225, 56055169, 56085121, 56115081, 56145049, 56175025, 56205009, 56235001, 56265001, 56295009, 56325025, 56355049, 56385081, 56415121, 56445169, 56475225, 56505289, 56535361, 56565441, 56595529, 56625625, 56655729, 56685841, 56715961, 56746089, 56776225, 56806369, 56836521, 56866681, 56896849, 56927025, 56957209, 56987401, 57017601, 57047809, 57078025, 57108249, 57138481, 57168721, 57198969, 57229225, 57259489, 57289761, 57320041, 57350329, 57380625, 57410929, 57441241, 57471561, 57501889, 57532225, 57562569, 57592921, 57623281, 57653649, 57684025, 57714409, 57744801, 57775201, 57805609, 57836025, 57866449, 57896881, 57927321, 57957769, 57988225, 58018689, 58049161, 58079641, 58110129, 58140625, 58171129, 58201641, 58232161, 58262689, 58293225, 58323769, 58354321, 58384881, 58415449, 58446025, 58476609, 58507201, 58537801, 58568409, 58599025, 58629649, 58660281, 58690921, 58721569, 58752225, 58782889, 58813561, 58844241, 58874929, 58905625, 58936329, 58967041, 58997761, 59028489, 59059225, 59089969, 59120721, 59151481, 59182249, 59213025, 59243809, 59274601, 59305401, 59336209, 59367025, 59397849, 59428681, 59459521, 59490369, 59521225, 59552089, 59582961, 59613841, 59644729, 59675625, 59706529, 59737441, 59768361, 59799289, 59830225, 59861169, 59892121, 59923081, 59954049, 59985025, 60016009, 60047001, 60078001, 60109009, 60140025, 60171049, 60202081, 60233121, 60264169, 60295225, 60326289, 60357361, 60388441, 60419529, 60450625, 60481729, 60512841, 60543961, 60575089, 60606225, 60637369, 60668521, 60699681, 60730849, 60762025, 60793209, 60824401, 60855601, 60886809, 60918025, 60949249, 60980481, 61011721, 61042969, 61074225, 61105489, 61136761, 61168041, 61199329, 61230625, 61261929, 61293241, 61324561, 61355889, 61387225, 61418569, 61449921, 61481281, 61512649, 61544025, 61575409, 61606801, 61638201, 61669609, 61701025, 61732449, 61763881, 61795321, 61826769, 61858225, 61889689, 61921161, 61952641, 61984129, 62015625, 62047129, 62078641, 62110161, 62141689, 62173225, 62204769, 62236321, 62267881, 62299449, 62331025, 62362609, 62394201, 62425801, 62457409, 62489025, 62520649, 62552281, 62583921, 62615569, 62647225, 62678889, 62710561, 62742241, 62773929, 62805625, 62837329, 62869041, 62900761, 62932489, 62964225, 62995969, 63027721, 63059481, 63091249, 63123025, 63154809, 63186601, 63218401, 63250209, 63282025, 63313849, 63345681, 63377521, 63409369, 63441225, 63473089, 63504961, 63536841, 63568729, 63600625, 63632529, 63664441, 63696361, 63728289, 63760225, 63792169, 63824121, 63856081, 63888049, 63920025, 63952009, 63984001, 64016001, 64048009, 64080025, 64112049, 64144081, 64176121, 64208169, 64240225, 64272289, 64304361, 64336441, 64368529, 64400625, 64432729, 64464841, 64496961, 64529089, 64561225, 64593369, 64625521, 64657681, 64689849, 64722025, 64754209, 64786401, 64818601, 64850809, 64883025, 64915249, 64947481, 64979721, 65011969, 65044225, 65076489, 65108761, 65141041, 65173329, 65205625, 65237929, 65270241, 65302561, 65334889, 65367225, 65399569, 65431921, 65464281, 65496649, 65529025, 65561409, 65593801, 65626201, 65658609, 65691025, 65723449, 65755881, 65788321, 65820769, 65853225, 65885689, 65918161, 65950641, 65983129, 66015625, 66048129, 66080641, 66113161, 66145689, 66178225, 66210769, 66243321, 66275881, 66308449, 66341025, 66373609, 66406201, 66438801, 66471409, 66504025, 66536649, 66569281, 66601921, 66634569, 66667225, 66699889, 66732561, 66765241, 66797929, 66830625, 66863329, 66896041, 66928761, 66961489, 66994225, 67026969, 67059721, 67092481, 67125249, 67158025, 67190809, 67223601, 67256401, 67289209, 67322025, 67354849, 67387681, 67420521, 67453369, 67486225, 67519089, 67551961, 67584841, 67617729, 67650625, 67683529, 67716441, 67749361, 67782289, 67815225, 67848169, 67881121, 67914081, 67947049, 67980025, 68013009, 68046001, 68079001, 68112009, 68145025, 68178049, 68211081, 68244121, 68277169, 68310225, 68343289, 68376361, 68409441, 68442529, 68475625, 68508729, 68541841, 68574961, 68608089, 68641225, 68674369, 68707521, 68740681, 68773849, 68807025, 68840209, 68873401, 68906601, 68939809, 68973025, 69006249, 69039481, 69072721, 69105969, 69139225, 69172489, 69205761, 69239041, 69272329, 69305625, 69338929, 69372241, 69405561, 69438889, 69472225, 69505569, 69538921, 69572281, 69605649, 69639025, 69672409, 69705801, 69739201, 69772609, 69806025, 69839449, 69872881, 69906321, 69939769, 69973225, 70006689, 70040161, 70073641, 70107129, 70140625, 70174129, 70207641, 70241161, 70274689, 70308225, 70341769, 70375321, 70408881, 70442449, 70476025, 70509609, 70543201, 70576801, 70610409, 70644025, 70677649, 70711281, 70744921, 70778569, 70812225, 70845889, 70879561, 70913241, 70946929, 70980625, 71014329, 71048041, 71081761, 71115489, 71149225, 71182969, 71216721, 71250481, 71284249, 71318025, 71351809, 71385601, 71419401, 71453209, 71487025, 71520849, 71554681, 71588521, 71622369, 71656225, 71690089, 71723961, 71757841, 71791729, 71825625, 71859529, 71893441, 71927361, 71961289, 71995225, 72029169, 72063121, 72097081, 72131049, 72165025, 72199009, 72233001, 72267001, 72301009, 72335025, 72369049, 72403081, 72437121, 72471169, 72505225, 72539289, 72573361, 72607441, 72641529, 72675625, 72709729, 72743841, 72777961, 72812089, 72846225, 72880369, 72914521, 72948681, 72982849, 73017025, 73051209, 73085401, 73119601, 73153809, 73188025, 73222249, 73256481, 73290721, 73324969, 73359225, 73393489, 73427761, 73462041, 73496329, 73530625, 73564929, 73599241, 73633561, 73667889, 73702225, 73736569, 73770921, 73805281, 73839649, 73874025, 73908409, 73942801, 73977201, 74011609, 74046025, 74080449, 74114881, 74149321, 74183769, 74218225, 74252689, 74287161, 74321641, 74356129, 74390625, 74425129, 74459641, 74494161, 74528689, 74563225, 74597769, 74632321, 74666881, 74701449, 74736025, 74770609, 74805201, 74839801, 74874409, 74909025, 74943649, 74978281, 75012921, 75047569, 75082225, 75116889, 75151561, 75186241, 75220929, 75255625, 75290329, 75325041, 75359761, 75394489, 75429225, 75463969, 75498721, 75533481, 75568249, 75603025, 75637809, 75672601, 75707401, 75742209, 75777025, 75811849, 75846681, 75881521, 75916369, 75951225, 75986089, 76020961, 76055841, 76090729, 76125625, 76160529, 76195441, 76230361, 76265289, 76300225, 76335169, 76370121, 76405081, 76440049, 76475025, 76510009, 76545001, 76580001, 76615009, 76650025, 76685049, 76720081, 76755121, 76790169, 76825225, 76860289, 76895361, 76930441, 76965529, 77000625, 77035729, 77070841, 77105961, 77141089, 77176225, 77211369, 77246521, 77281681, 77316849, 77352025, 77387209, 77422401, 77457601, 77492809, 77528025, 77563249, 77598481, 77633721, 77668969, 77704225, 77739489, 77774761, 77810041, 77845329, 77880625, 77915929, 77951241, 77986561, 78021889, 78057225, 78092569, 78127921, 78163281, 78198649, 78234025, 78269409, 78304801, 78340201, 78375609, 78411025, 78446449, 78481881, 78517321, 78552769, 78588225, 78623689, 78659161, 78694641, 78730129, 78765625, 78801129, 78836641, 78872161, 78907689, 78943225, 78978769, 79014321, 79049881, 79085449, 79121025, 79156609, 79192201, 79227801, 79263409, 79299025, 79334649, 79370281, 79405921, 79441569, 79477225, 79512889, 79548561, 79584241, 79619929, 79655625, 79691329, 79727041, 79762761, 79798489, 79834225, 79869969, 79905721, 79941481, 79977249, 80013025, 80048809, 80084601, 80120401, 80156209, 80192025, 80227849, 80263681, 80299521, 80335369, 80371225, 80407089, 80442961, 80478841, 80514729, 80550625, 80586529, 80622441, 80658361, 80694289, 80730225, 80766169, 80802121, 80838081, 80874049, 80910025, 80946009, 80982001, 81018001, 81054009, 81090025, 81126049, 81162081, 81198121, 81234169, 81270225, 81306289, 81342361, 81378441, 81414529, 81450625, 81486729, 81522841, 81558961, 81595089, 81631225, 81667369, 81703521, 81739681, 81775849, 81812025, 81848209, 81884401, 81920601, 81956809, 81993025, 82029249, 82065481, 82101721, 82137969, 82174225, 82210489, 82246761, 82283041, 82319329, 82355625, 82391929, 82428241, 82464561, 82500889, 82537225, 82573569, 82609921, 82646281, 82682649, 82719025, 82755409, 82791801, 82828201, 82864609, 82901025, 82937449, 82973881, 83010321, 83046769, 83083225, 83119689, 83156161, 83192641, 83229129, 83265625, 83302129, 83338641, 83375161, 83411689, 83448225, 83484769, 83521321, 83557881, 83594449, 83631025, 83667609, 83704201, 83740801, 83777409, 83814025, 83850649, 83887281, 83923921, 83960569, 83997225, 84033889, 84070561, 84107241, 84143929, 84180625, 84217329, 84254041, 84290761, 84327489, 84364225, 84400969, 84437721, 84474481, 84511249, 84548025, 84584809, 84621601, 84658401, 84695209, 84732025, 84768849, 84805681, 84842521, 84879369, 84916225, 84953089, 84989961, 85026841, 85063729, 85100625, 85137529, 85174441, 85211361, 85248289, 85285225, 85322169, 85359121, 85396081, 85433049, 85470025, 85507009, 85544001, 85581001, 85618009, 85655025, 85692049, 85729081, 85766121, 85803169, 85840225, 85877289, 85914361, 85951441, 85988529, 86025625, 86062729, 86099841, 86136961, 86174089, 86211225, 86248369, 86285521, 86322681, 86359849, 86397025, 86434209, 86471401, 86508601, 86545809, 86583025, 86620249, 86657481, 86694721, 86731969, 86769225, 86806489, 86843761, 86881041, 86918329, 86955625, 86992929, 87030241, 87067561, 87104889, 87142225, 87179569, 87216921, 87254281, 87291649, 87329025, 87366409, 87403801, 87441201, 87478609, 87516025, 87553449, 87590881, 87628321, 87665769, 87703225, 87740689, 87778161, 87815641, 87853129, 87890625, 87928129, 87965641, 88003161, 88040689, 88078225, 88115769, 88153321, 88190881, 88228449, 88266025, 88303609, 88341201, 88378801, 88416409, 88454025, 88491649, 88529281, 88566921, 88604569, 88642225, 88679889, 88717561, 88755241, 88792929, 88830625, 88868329, 88906041, 88943761, 88981489, 89019225, 89056969, 89094721, 89132481, 89170249, 89208025, 89245809, 89283601, 89321401, 89359209, 89397025, 89434849, 89472681, 89510521, 89548369, 89586225, 89624089, 89661961, 89699841, 89737729, 89775625, 89813529, 89851441, 89889361, 89927289, 89965225, 90003169, 90041121, 90079081, 90117049, 90155025, 90193009, 90231001, 90269001, 90307009, 90345025, 90383049, 90421081, 90459121, 90497169, 90535225, 90573289, 90611361, 90649441, 90687529, 90725625, 90763729, 90801841, 90839961, 90878089, 90916225, 90954369, 90992521, 91030681, 91068849, 91107025, 91145209, 91183401, 91221601, 91259809, 91298025, 91336249, 91374481, 91412721, 91450969, 91489225, 91527489, 91565761, 91604041, 91642329, 91680625, 91718929, 91757241, 91795561, 91833889, 91872225, 91910569, 91948921, 91987281, 92025649, 92064025, 92102409, 92140801, 92179201, 92217609, 92256025, 92294449, 92332881, 92371321, 92409769, 92448225, 92486689, 92525161, 92563641, 92602129, 92640625, 92679129, 92717641, 92756161, 92794689, 92833225, 92871769, 92910321, 92948881, 92987449, 93026025, 93064609, 93103201, 93141801, 93180409, 93219025, 93257649, 93296281, 93334921, 93373569, 93412225, 93450889, 93489561, 93528241, 93566929, 93605625, 93644329, 93683041, 93721761, 93760489, 93799225, 93837969, 93876721, 93915481, 93954249, 93993025, 94031809, 94070601, 94109401, 94148209, 94187025, 94225849, 94264681, 94303521, 94342369, 94381225, 94420089, 94458961, 94497841, 94536729, 94575625, 94614529, 94653441, 94692361, 94731289, 94770225, 94809169, 94848121, 94887081, 94926049, 94965025, 95004009, 95043001, 95082001, 95121009, 95160025, 95199049, 95238081, 95277121, 95316169, 95355225, 95394289, 95433361, 95472441, 95511529, 95550625, 95589729, 95628841, 95667961, 95707089, 95746225, 95785369, 95824521, 95863681, 95902849, 95942025, 95981209, 96020401, 96059601, 96098809, 96138025, 96177249, 96216481, 96255721, 96294969, 96334225, 96373489, 96412761, 96452041, 96491329, 96530625, 96569929, 96609241, 96648561, 96687889, 96727225, 96766569, 96805921, 96845281, 96884649, 96924025, 96963409, 97002801, 97042201, 97081609, 97121025, 97160449, 97199881, 97239321, 97278769, 97318225, 97357689, 97397161, 97436641, 97476129, 97515625, 97555129, 97594641, 97634161, 97673689, 97713225, 97752769, 97792321, 97831881, 97871449, 97911025, 97950609, 97990201, 98029801, 98069409, 98109025, 98148649, 98188281, 98227921, 98267569, 98307225, 98346889, 98386561, 98426241, 98465929, 98505625, 98545329, 98585041, 98624761, 98664489, 98704225, 98743969, 98783721, 98823481, 98863249, 98903025, 98942809, 98982601, 99022401, 99062209, 99102025, 99141849, 99181681, 99221521, 99261369, 99301225, 99341089, 99380961, 99420841, 99460729, 99500625, 99540529, 99580441, 99620361, 99660289, 99700225, 99740169, 99780121, 99820081, 99860049, 99900025, 99940009, 99980001]\n"
          ]
        }
      ]
    },
    {
      "cell_type": "code",
      "source": [
        "# 리스트 컴프리헨션이 없다면...\n",
        "# for + append()보다 리스트 컴프리헨션이 좀 더 빠르다고 알려져 있으나, 둘 다 연습해보세요.\n",
        "\n",
        "X = []\n",
        "\n",
        "for n in range(1, 10001):\n",
        "    if n%2 == 1:\n",
        "        X.append(n**2)\n",
        "\n",
        "print(X)"
      ],
      "metadata": {
        "colab": {
          "base_uri": "https://localhost:8080/"
        },
        "id": "fiMg3i0LXJsT",
        "outputId": "5bb39583-1fb5-4e7e-8d11-5a912bd937f8"
      },
      "execution_count": null,
      "outputs": [
        {
          "output_type": "stream",
          "name": "stdout",
          "text": [
            "[1, 9, 25, 49, 81, 121, 169, 225, 289, 361, 441, 529, 625, 729, 841, 961, 1089, 1225, 1369, 1521, 1681, 1849, 2025, 2209, 2401, 2601, 2809, 3025, 3249, 3481, 3721, 3969, 4225, 4489, 4761, 5041, 5329, 5625, 5929, 6241, 6561, 6889, 7225, 7569, 7921, 8281, 8649, 9025, 9409, 9801, 10201, 10609, 11025, 11449, 11881, 12321, 12769, 13225, 13689, 14161, 14641, 15129, 15625, 16129, 16641, 17161, 17689, 18225, 18769, 19321, 19881, 20449, 21025, 21609, 22201, 22801, 23409, 24025, 24649, 25281, 25921, 26569, 27225, 27889, 28561, 29241, 29929, 30625, 31329, 32041, 32761, 33489, 34225, 34969, 35721, 36481, 37249, 38025, 38809, 39601, 40401, 41209, 42025, 42849, 43681, 44521, 45369, 46225, 47089, 47961, 48841, 49729, 50625, 51529, 52441, 53361, 54289, 55225, 56169, 57121, 58081, 59049, 60025, 61009, 62001, 63001, 64009, 65025, 66049, 67081, 68121, 69169, 70225, 71289, 72361, 73441, 74529, 75625, 76729, 77841, 78961, 80089, 81225, 82369, 83521, 84681, 85849, 87025, 88209, 89401, 90601, 91809, 93025, 94249, 95481, 96721, 97969, 99225, 100489, 101761, 103041, 104329, 105625, 106929, 108241, 109561, 110889, 112225, 113569, 114921, 116281, 117649, 119025, 120409, 121801, 123201, 124609, 126025, 127449, 128881, 130321, 131769, 133225, 134689, 136161, 137641, 139129, 140625, 142129, 143641, 145161, 146689, 148225, 149769, 151321, 152881, 154449, 156025, 157609, 159201, 160801, 162409, 164025, 165649, 167281, 168921, 170569, 172225, 173889, 175561, 177241, 178929, 180625, 182329, 184041, 185761, 187489, 189225, 190969, 192721, 194481, 196249, 198025, 199809, 201601, 203401, 205209, 207025, 208849, 210681, 212521, 214369, 216225, 218089, 219961, 221841, 223729, 225625, 227529, 229441, 231361, 233289, 235225, 237169, 239121, 241081, 243049, 245025, 247009, 249001, 251001, 253009, 255025, 257049, 259081, 261121, 263169, 265225, 267289, 269361, 271441, 273529, 275625, 277729, 279841, 281961, 284089, 286225, 288369, 290521, 292681, 294849, 297025, 299209, 301401, 303601, 305809, 308025, 310249, 312481, 314721, 316969, 319225, 321489, 323761, 326041, 328329, 330625, 332929, 335241, 337561, 339889, 342225, 344569, 346921, 349281, 351649, 354025, 356409, 358801, 361201, 363609, 366025, 368449, 370881, 373321, 375769, 378225, 380689, 383161, 385641, 388129, 390625, 393129, 395641, 398161, 400689, 403225, 405769, 408321, 410881, 413449, 416025, 418609, 421201, 423801, 426409, 429025, 431649, 434281, 436921, 439569, 442225, 444889, 447561, 450241, 452929, 455625, 458329, 461041, 463761, 466489, 469225, 471969, 474721, 477481, 480249, 483025, 485809, 488601, 491401, 494209, 497025, 499849, 502681, 505521, 508369, 511225, 514089, 516961, 519841, 522729, 525625, 528529, 531441, 534361, 537289, 540225, 543169, 546121, 549081, 552049, 555025, 558009, 561001, 564001, 567009, 570025, 573049, 576081, 579121, 582169, 585225, 588289, 591361, 594441, 597529, 600625, 603729, 606841, 609961, 613089, 616225, 619369, 622521, 625681, 628849, 632025, 635209, 638401, 641601, 644809, 648025, 651249, 654481, 657721, 660969, 664225, 667489, 670761, 674041, 677329, 680625, 683929, 687241, 690561, 693889, 697225, 700569, 703921, 707281, 710649, 714025, 717409, 720801, 724201, 727609, 731025, 734449, 737881, 741321, 744769, 748225, 751689, 755161, 758641, 762129, 765625, 769129, 772641, 776161, 779689, 783225, 786769, 790321, 793881, 797449, 801025, 804609, 808201, 811801, 815409, 819025, 822649, 826281, 829921, 833569, 837225, 840889, 844561, 848241, 851929, 855625, 859329, 863041, 866761, 870489, 874225, 877969, 881721, 885481, 889249, 893025, 896809, 900601, 904401, 908209, 912025, 915849, 919681, 923521, 927369, 931225, 935089, 938961, 942841, 946729, 950625, 954529, 958441, 962361, 966289, 970225, 974169, 978121, 982081, 986049, 990025, 994009, 998001, 1002001, 1006009, 1010025, 1014049, 1018081, 1022121, 1026169, 1030225, 1034289, 1038361, 1042441, 1046529, 1050625, 1054729, 1058841, 1062961, 1067089, 1071225, 1075369, 1079521, 1083681, 1087849, 1092025, 1096209, 1100401, 1104601, 1108809, 1113025, 1117249, 1121481, 1125721, 1129969, 1134225, 1138489, 1142761, 1147041, 1151329, 1155625, 1159929, 1164241, 1168561, 1172889, 1177225, 1181569, 1185921, 1190281, 1194649, 1199025, 1203409, 1207801, 1212201, 1216609, 1221025, 1225449, 1229881, 1234321, 1238769, 1243225, 1247689, 1252161, 1256641, 1261129, 1265625, 1270129, 1274641, 1279161, 1283689, 1288225, 1292769, 1297321, 1301881, 1306449, 1311025, 1315609, 1320201, 1324801, 1329409, 1334025, 1338649, 1343281, 1347921, 1352569, 1357225, 1361889, 1366561, 1371241, 1375929, 1380625, 1385329, 1390041, 1394761, 1399489, 1404225, 1408969, 1413721, 1418481, 1423249, 1428025, 1432809, 1437601, 1442401, 1447209, 1452025, 1456849, 1461681, 1466521, 1471369, 1476225, 1481089, 1485961, 1490841, 1495729, 1500625, 1505529, 1510441, 1515361, 1520289, 1525225, 1530169, 1535121, 1540081, 1545049, 1550025, 1555009, 1560001, 1565001, 1570009, 1575025, 1580049, 1585081, 1590121, 1595169, 1600225, 1605289, 1610361, 1615441, 1620529, 1625625, 1630729, 1635841, 1640961, 1646089, 1651225, 1656369, 1661521, 1666681, 1671849, 1677025, 1682209, 1687401, 1692601, 1697809, 1703025, 1708249, 1713481, 1718721, 1723969, 1729225, 1734489, 1739761, 1745041, 1750329, 1755625, 1760929, 1766241, 1771561, 1776889, 1782225, 1787569, 1792921, 1798281, 1803649, 1809025, 1814409, 1819801, 1825201, 1830609, 1836025, 1841449, 1846881, 1852321, 1857769, 1863225, 1868689, 1874161, 1879641, 1885129, 1890625, 1896129, 1901641, 1907161, 1912689, 1918225, 1923769, 1929321, 1934881, 1940449, 1946025, 1951609, 1957201, 1962801, 1968409, 1974025, 1979649, 1985281, 1990921, 1996569, 2002225, 2007889, 2013561, 2019241, 2024929, 2030625, 2036329, 2042041, 2047761, 2053489, 2059225, 2064969, 2070721, 2076481, 2082249, 2088025, 2093809, 2099601, 2105401, 2111209, 2117025, 2122849, 2128681, 2134521, 2140369, 2146225, 2152089, 2157961, 2163841, 2169729, 2175625, 2181529, 2187441, 2193361, 2199289, 2205225, 2211169, 2217121, 2223081, 2229049, 2235025, 2241009, 2247001, 2253001, 2259009, 2265025, 2271049, 2277081, 2283121, 2289169, 2295225, 2301289, 2307361, 2313441, 2319529, 2325625, 2331729, 2337841, 2343961, 2350089, 2356225, 2362369, 2368521, 2374681, 2380849, 2387025, 2393209, 2399401, 2405601, 2411809, 2418025, 2424249, 2430481, 2436721, 2442969, 2449225, 2455489, 2461761, 2468041, 2474329, 2480625, 2486929, 2493241, 2499561, 2505889, 2512225, 2518569, 2524921, 2531281, 2537649, 2544025, 2550409, 2556801, 2563201, 2569609, 2576025, 2582449, 2588881, 2595321, 2601769, 2608225, 2614689, 2621161, 2627641, 2634129, 2640625, 2647129, 2653641, 2660161, 2666689, 2673225, 2679769, 2686321, 2692881, 2699449, 2706025, 2712609, 2719201, 2725801, 2732409, 2739025, 2745649, 2752281, 2758921, 2765569, 2772225, 2778889, 2785561, 2792241, 2798929, 2805625, 2812329, 2819041, 2825761, 2832489, 2839225, 2845969, 2852721, 2859481, 2866249, 2873025, 2879809, 2886601, 2893401, 2900209, 2907025, 2913849, 2920681, 2927521, 2934369, 2941225, 2948089, 2954961, 2961841, 2968729, 2975625, 2982529, 2989441, 2996361, 3003289, 3010225, 3017169, 3024121, 3031081, 3038049, 3045025, 3052009, 3059001, 3066001, 3073009, 3080025, 3087049, 3094081, 3101121, 3108169, 3115225, 3122289, 3129361, 3136441, 3143529, 3150625, 3157729, 3164841, 3171961, 3179089, 3186225, 3193369, 3200521, 3207681, 3214849, 3222025, 3229209, 3236401, 3243601, 3250809, 3258025, 3265249, 3272481, 3279721, 3286969, 3294225, 3301489, 3308761, 3316041, 3323329, 3330625, 3337929, 3345241, 3352561, 3359889, 3367225, 3374569, 3381921, 3389281, 3396649, 3404025, 3411409, 3418801, 3426201, 3433609, 3441025, 3448449, 3455881, 3463321, 3470769, 3478225, 3485689, 3493161, 3500641, 3508129, 3515625, 3523129, 3530641, 3538161, 3545689, 3553225, 3560769, 3568321, 3575881, 3583449, 3591025, 3598609, 3606201, 3613801, 3621409, 3629025, 3636649, 3644281, 3651921, 3659569, 3667225, 3674889, 3682561, 3690241, 3697929, 3705625, 3713329, 3721041, 3728761, 3736489, 3744225, 3751969, 3759721, 3767481, 3775249, 3783025, 3790809, 3798601, 3806401, 3814209, 3822025, 3829849, 3837681, 3845521, 3853369, 3861225, 3869089, 3876961, 3884841, 3892729, 3900625, 3908529, 3916441, 3924361, 3932289, 3940225, 3948169, 3956121, 3964081, 3972049, 3980025, 3988009, 3996001, 4004001, 4012009, 4020025, 4028049, 4036081, 4044121, 4052169, 4060225, 4068289, 4076361, 4084441, 4092529, 4100625, 4108729, 4116841, 4124961, 4133089, 4141225, 4149369, 4157521, 4165681, 4173849, 4182025, 4190209, 4198401, 4206601, 4214809, 4223025, 4231249, 4239481, 4247721, 4255969, 4264225, 4272489, 4280761, 4289041, 4297329, 4305625, 4313929, 4322241, 4330561, 4338889, 4347225, 4355569, 4363921, 4372281, 4380649, 4389025, 4397409, 4405801, 4414201, 4422609, 4431025, 4439449, 4447881, 4456321, 4464769, 4473225, 4481689, 4490161, 4498641, 4507129, 4515625, 4524129, 4532641, 4541161, 4549689, 4558225, 4566769, 4575321, 4583881, 4592449, 4601025, 4609609, 4618201, 4626801, 4635409, 4644025, 4652649, 4661281, 4669921, 4678569, 4687225, 4695889, 4704561, 4713241, 4721929, 4730625, 4739329, 4748041, 4756761, 4765489, 4774225, 4782969, 4791721, 4800481, 4809249, 4818025, 4826809, 4835601, 4844401, 4853209, 4862025, 4870849, 4879681, 4888521, 4897369, 4906225, 4915089, 4923961, 4932841, 4941729, 4950625, 4959529, 4968441, 4977361, 4986289, 4995225, 5004169, 5013121, 5022081, 5031049, 5040025, 5049009, 5058001, 5067001, 5076009, 5085025, 5094049, 5103081, 5112121, 5121169, 5130225, 5139289, 5148361, 5157441, 5166529, 5175625, 5184729, 5193841, 5202961, 5212089, 5221225, 5230369, 5239521, 5248681, 5257849, 5267025, 5276209, 5285401, 5294601, 5303809, 5313025, 5322249, 5331481, 5340721, 5349969, 5359225, 5368489, 5377761, 5387041, 5396329, 5405625, 5414929, 5424241, 5433561, 5442889, 5452225, 5461569, 5470921, 5480281, 5489649, 5499025, 5508409, 5517801, 5527201, 5536609, 5546025, 5555449, 5564881, 5574321, 5583769, 5593225, 5602689, 5612161, 5621641, 5631129, 5640625, 5650129, 5659641, 5669161, 5678689, 5688225, 5697769, 5707321, 5716881, 5726449, 5736025, 5745609, 5755201, 5764801, 5774409, 5784025, 5793649, 5803281, 5812921, 5822569, 5832225, 5841889, 5851561, 5861241, 5870929, 5880625, 5890329, 5900041, 5909761, 5919489, 5929225, 5938969, 5948721, 5958481, 5968249, 5978025, 5987809, 5997601, 6007401, 6017209, 6027025, 6036849, 6046681, 6056521, 6066369, 6076225, 6086089, 6095961, 6105841, 6115729, 6125625, 6135529, 6145441, 6155361, 6165289, 6175225, 6185169, 6195121, 6205081, 6215049, 6225025, 6235009, 6245001, 6255001, 6265009, 6275025, 6285049, 6295081, 6305121, 6315169, 6325225, 6335289, 6345361, 6355441, 6365529, 6375625, 6385729, 6395841, 6405961, 6416089, 6426225, 6436369, 6446521, 6456681, 6466849, 6477025, 6487209, 6497401, 6507601, 6517809, 6528025, 6538249, 6548481, 6558721, 6568969, 6579225, 6589489, 6599761, 6610041, 6620329, 6630625, 6640929, 6651241, 6661561, 6671889, 6682225, 6692569, 6702921, 6713281, 6723649, 6734025, 6744409, 6754801, 6765201, 6775609, 6786025, 6796449, 6806881, 6817321, 6827769, 6838225, 6848689, 6859161, 6869641, 6880129, 6890625, 6901129, 6911641, 6922161, 6932689, 6943225, 6953769, 6964321, 6974881, 6985449, 6996025, 7006609, 7017201, 7027801, 7038409, 7049025, 7059649, 7070281, 7080921, 7091569, 7102225, 7112889, 7123561, 7134241, 7144929, 7155625, 7166329, 7177041, 7187761, 7198489, 7209225, 7219969, 7230721, 7241481, 7252249, 7263025, 7273809, 7284601, 7295401, 7306209, 7317025, 7327849, 7338681, 7349521, 7360369, 7371225, 7382089, 7392961, 7403841, 7414729, 7425625, 7436529, 7447441, 7458361, 7469289, 7480225, 7491169, 7502121, 7513081, 7524049, 7535025, 7546009, 7557001, 7568001, 7579009, 7590025, 7601049, 7612081, 7623121, 7634169, 7645225, 7656289, 7667361, 7678441, 7689529, 7700625, 7711729, 7722841, 7733961, 7745089, 7756225, 7767369, 7778521, 7789681, 7800849, 7812025, 7823209, 7834401, 7845601, 7856809, 7868025, 7879249, 7890481, 7901721, 7912969, 7924225, 7935489, 7946761, 7958041, 7969329, 7980625, 7991929, 8003241, 8014561, 8025889, 8037225, 8048569, 8059921, 8071281, 8082649, 8094025, 8105409, 8116801, 8128201, 8139609, 8151025, 8162449, 8173881, 8185321, 8196769, 8208225, 8219689, 8231161, 8242641, 8254129, 8265625, 8277129, 8288641, 8300161, 8311689, 8323225, 8334769, 8346321, 8357881, 8369449, 8381025, 8392609, 8404201, 8415801, 8427409, 8439025, 8450649, 8462281, 8473921, 8485569, 8497225, 8508889, 8520561, 8532241, 8543929, 8555625, 8567329, 8579041, 8590761, 8602489, 8614225, 8625969, 8637721, 8649481, 8661249, 8673025, 8684809, 8696601, 8708401, 8720209, 8732025, 8743849, 8755681, 8767521, 8779369, 8791225, 8803089, 8814961, 8826841, 8838729, 8850625, 8862529, 8874441, 8886361, 8898289, 8910225, 8922169, 8934121, 8946081, 8958049, 8970025, 8982009, 8994001, 9006001, 9018009, 9030025, 9042049, 9054081, 9066121, 9078169, 9090225, 9102289, 9114361, 9126441, 9138529, 9150625, 9162729, 9174841, 9186961, 9199089, 9211225, 9223369, 9235521, 9247681, 9259849, 9272025, 9284209, 9296401, 9308601, 9320809, 9333025, 9345249, 9357481, 9369721, 9381969, 9394225, 9406489, 9418761, 9431041, 9443329, 9455625, 9467929, 9480241, 9492561, 9504889, 9517225, 9529569, 9541921, 9554281, 9566649, 9579025, 9591409, 9603801, 9616201, 9628609, 9641025, 9653449, 9665881, 9678321, 9690769, 9703225, 9715689, 9728161, 9740641, 9753129, 9765625, 9778129, 9790641, 9803161, 9815689, 9828225, 9840769, 9853321, 9865881, 9878449, 9891025, 9903609, 9916201, 9928801, 9941409, 9954025, 9966649, 9979281, 9991921, 10004569, 10017225, 10029889, 10042561, 10055241, 10067929, 10080625, 10093329, 10106041, 10118761, 10131489, 10144225, 10156969, 10169721, 10182481, 10195249, 10208025, 10220809, 10233601, 10246401, 10259209, 10272025, 10284849, 10297681, 10310521, 10323369, 10336225, 10349089, 10361961, 10374841, 10387729, 10400625, 10413529, 10426441, 10439361, 10452289, 10465225, 10478169, 10491121, 10504081, 10517049, 10530025, 10543009, 10556001, 10569001, 10582009, 10595025, 10608049, 10621081, 10634121, 10647169, 10660225, 10673289, 10686361, 10699441, 10712529, 10725625, 10738729, 10751841, 10764961, 10778089, 10791225, 10804369, 10817521, 10830681, 10843849, 10857025, 10870209, 10883401, 10896601, 10909809, 10923025, 10936249, 10949481, 10962721, 10975969, 10989225, 11002489, 11015761, 11029041, 11042329, 11055625, 11068929, 11082241, 11095561, 11108889, 11122225, 11135569, 11148921, 11162281, 11175649, 11189025, 11202409, 11215801, 11229201, 11242609, 11256025, 11269449, 11282881, 11296321, 11309769, 11323225, 11336689, 11350161, 11363641, 11377129, 11390625, 11404129, 11417641, 11431161, 11444689, 11458225, 11471769, 11485321, 11498881, 11512449, 11526025, 11539609, 11553201, 11566801, 11580409, 11594025, 11607649, 11621281, 11634921, 11648569, 11662225, 11675889, 11689561, 11703241, 11716929, 11730625, 11744329, 11758041, 11771761, 11785489, 11799225, 11812969, 11826721, 11840481, 11854249, 11868025, 11881809, 11895601, 11909401, 11923209, 11937025, 11950849, 11964681, 11978521, 11992369, 12006225, 12020089, 12033961, 12047841, 12061729, 12075625, 12089529, 12103441, 12117361, 12131289, 12145225, 12159169, 12173121, 12187081, 12201049, 12215025, 12229009, 12243001, 12257001, 12271009, 12285025, 12299049, 12313081, 12327121, 12341169, 12355225, 12369289, 12383361, 12397441, 12411529, 12425625, 12439729, 12453841, 12467961, 12482089, 12496225, 12510369, 12524521, 12538681, 12552849, 12567025, 12581209, 12595401, 12609601, 12623809, 12638025, 12652249, 12666481, 12680721, 12694969, 12709225, 12723489, 12737761, 12752041, 12766329, 12780625, 12794929, 12809241, 12823561, 12837889, 12852225, 12866569, 12880921, 12895281, 12909649, 12924025, 12938409, 12952801, 12967201, 12981609, 12996025, 13010449, 13024881, 13039321, 13053769, 13068225, 13082689, 13097161, 13111641, 13126129, 13140625, 13155129, 13169641, 13184161, 13198689, 13213225, 13227769, 13242321, 13256881, 13271449, 13286025, 13300609, 13315201, 13329801, 13344409, 13359025, 13373649, 13388281, 13402921, 13417569, 13432225, 13446889, 13461561, 13476241, 13490929, 13505625, 13520329, 13535041, 13549761, 13564489, 13579225, 13593969, 13608721, 13623481, 13638249, 13653025, 13667809, 13682601, 13697401, 13712209, 13727025, 13741849, 13756681, 13771521, 13786369, 13801225, 13816089, 13830961, 13845841, 13860729, 13875625, 13890529, 13905441, 13920361, 13935289, 13950225, 13965169, 13980121, 13995081, 14010049, 14025025, 14040009, 14055001, 14070001, 14085009, 14100025, 14115049, 14130081, 14145121, 14160169, 14175225, 14190289, 14205361, 14220441, 14235529, 14250625, 14265729, 14280841, 14295961, 14311089, 14326225, 14341369, 14356521, 14371681, 14386849, 14402025, 14417209, 14432401, 14447601, 14462809, 14478025, 14493249, 14508481, 14523721, 14538969, 14554225, 14569489, 14584761, 14600041, 14615329, 14630625, 14645929, 14661241, 14676561, 14691889, 14707225, 14722569, 14737921, 14753281, 14768649, 14784025, 14799409, 14814801, 14830201, 14845609, 14861025, 14876449, 14891881, 14907321, 14922769, 14938225, 14953689, 14969161, 14984641, 15000129, 15015625, 15031129, 15046641, 15062161, 15077689, 15093225, 15108769, 15124321, 15139881, 15155449, 15171025, 15186609, 15202201, 15217801, 15233409, 15249025, 15264649, 15280281, 15295921, 15311569, 15327225, 15342889, 15358561, 15374241, 15389929, 15405625, 15421329, 15437041, 15452761, 15468489, 15484225, 15499969, 15515721, 15531481, 15547249, 15563025, 15578809, 15594601, 15610401, 15626209, 15642025, 15657849, 15673681, 15689521, 15705369, 15721225, 15737089, 15752961, 15768841, 15784729, 15800625, 15816529, 15832441, 15848361, 15864289, 15880225, 15896169, 15912121, 15928081, 15944049, 15960025, 15976009, 15992001, 16008001, 16024009, 16040025, 16056049, 16072081, 16088121, 16104169, 16120225, 16136289, 16152361, 16168441, 16184529, 16200625, 16216729, 16232841, 16248961, 16265089, 16281225, 16297369, 16313521, 16329681, 16345849, 16362025, 16378209, 16394401, 16410601, 16426809, 16443025, 16459249, 16475481, 16491721, 16507969, 16524225, 16540489, 16556761, 16573041, 16589329, 16605625, 16621929, 16638241, 16654561, 16670889, 16687225, 16703569, 16719921, 16736281, 16752649, 16769025, 16785409, 16801801, 16818201, 16834609, 16851025, 16867449, 16883881, 16900321, 16916769, 16933225, 16949689, 16966161, 16982641, 16999129, 17015625, 17032129, 17048641, 17065161, 17081689, 17098225, 17114769, 17131321, 17147881, 17164449, 17181025, 17197609, 17214201, 17230801, 17247409, 17264025, 17280649, 17297281, 17313921, 17330569, 17347225, 17363889, 17380561, 17397241, 17413929, 17430625, 17447329, 17464041, 17480761, 17497489, 17514225, 17530969, 17547721, 17564481, 17581249, 17598025, 17614809, 17631601, 17648401, 17665209, 17682025, 17698849, 17715681, 17732521, 17749369, 17766225, 17783089, 17799961, 17816841, 17833729, 17850625, 17867529, 17884441, 17901361, 17918289, 17935225, 17952169, 17969121, 17986081, 18003049, 18020025, 18037009, 18054001, 18071001, 18088009, 18105025, 18122049, 18139081, 18156121, 18173169, 18190225, 18207289, 18224361, 18241441, 18258529, 18275625, 18292729, 18309841, 18326961, 18344089, 18361225, 18378369, 18395521, 18412681, 18429849, 18447025, 18464209, 18481401, 18498601, 18515809, 18533025, 18550249, 18567481, 18584721, 18601969, 18619225, 18636489, 18653761, 18671041, 18688329, 18705625, 18722929, 18740241, 18757561, 18774889, 18792225, 18809569, 18826921, 18844281, 18861649, 18879025, 18896409, 18913801, 18931201, 18948609, 18966025, 18983449, 19000881, 19018321, 19035769, 19053225, 19070689, 19088161, 19105641, 19123129, 19140625, 19158129, 19175641, 19193161, 19210689, 19228225, 19245769, 19263321, 19280881, 19298449, 19316025, 19333609, 19351201, 19368801, 19386409, 19404025, 19421649, 19439281, 19456921, 19474569, 19492225, 19509889, 19527561, 19545241, 19562929, 19580625, 19598329, 19616041, 19633761, 19651489, 19669225, 19686969, 19704721, 19722481, 19740249, 19758025, 19775809, 19793601, 19811401, 19829209, 19847025, 19864849, 19882681, 19900521, 19918369, 19936225, 19954089, 19971961, 19989841, 20007729, 20025625, 20043529, 20061441, 20079361, 20097289, 20115225, 20133169, 20151121, 20169081, 20187049, 20205025, 20223009, 20241001, 20259001, 20277009, 20295025, 20313049, 20331081, 20349121, 20367169, 20385225, 20403289, 20421361, 20439441, 20457529, 20475625, 20493729, 20511841, 20529961, 20548089, 20566225, 20584369, 20602521, 20620681, 20638849, 20657025, 20675209, 20693401, 20711601, 20729809, 20748025, 20766249, 20784481, 20802721, 20820969, 20839225, 20857489, 20875761, 20894041, 20912329, 20930625, 20948929, 20967241, 20985561, 21003889, 21022225, 21040569, 21058921, 21077281, 21095649, 21114025, 21132409, 21150801, 21169201, 21187609, 21206025, 21224449, 21242881, 21261321, 21279769, 21298225, 21316689, 21335161, 21353641, 21372129, 21390625, 21409129, 21427641, 21446161, 21464689, 21483225, 21501769, 21520321, 21538881, 21557449, 21576025, 21594609, 21613201, 21631801, 21650409, 21669025, 21687649, 21706281, 21724921, 21743569, 21762225, 21780889, 21799561, 21818241, 21836929, 21855625, 21874329, 21893041, 21911761, 21930489, 21949225, 21967969, 21986721, 22005481, 22024249, 22043025, 22061809, 22080601, 22099401, 22118209, 22137025, 22155849, 22174681, 22193521, 22212369, 22231225, 22250089, 22268961, 22287841, 22306729, 22325625, 22344529, 22363441, 22382361, 22401289, 22420225, 22439169, 22458121, 22477081, 22496049, 22515025, 22534009, 22553001, 22572001, 22591009, 22610025, 22629049, 22648081, 22667121, 22686169, 22705225, 22724289, 22743361, 22762441, 22781529, 22800625, 22819729, 22838841, 22857961, 22877089, 22896225, 22915369, 22934521, 22953681, 22972849, 22992025, 23011209, 23030401, 23049601, 23068809, 23088025, 23107249, 23126481, 23145721, 23164969, 23184225, 23203489, 23222761, 23242041, 23261329, 23280625, 23299929, 23319241, 23338561, 23357889, 23377225, 23396569, 23415921, 23435281, 23454649, 23474025, 23493409, 23512801, 23532201, 23551609, 23571025, 23590449, 23609881, 23629321, 23648769, 23668225, 23687689, 23707161, 23726641, 23746129, 23765625, 23785129, 23804641, 23824161, 23843689, 23863225, 23882769, 23902321, 23921881, 23941449, 23961025, 23980609, 24000201, 24019801, 24039409, 24059025, 24078649, 24098281, 24117921, 24137569, 24157225, 24176889, 24196561, 24216241, 24235929, 24255625, 24275329, 24295041, 24314761, 24334489, 24354225, 24373969, 24393721, 24413481, 24433249, 24453025, 24472809, 24492601, 24512401, 24532209, 24552025, 24571849, 24591681, 24611521, 24631369, 24651225, 24671089, 24690961, 24710841, 24730729, 24750625, 24770529, 24790441, 24810361, 24830289, 24850225, 24870169, 24890121, 24910081, 24930049, 24950025, 24970009, 24990001, 25010001, 25030009, 25050025, 25070049, 25090081, 25110121, 25130169, 25150225, 25170289, 25190361, 25210441, 25230529, 25250625, 25270729, 25290841, 25310961, 25331089, 25351225, 25371369, 25391521, 25411681, 25431849, 25452025, 25472209, 25492401, 25512601, 25532809, 25553025, 25573249, 25593481, 25613721, 25633969, 25654225, 25674489, 25694761, 25715041, 25735329, 25755625, 25775929, 25796241, 25816561, 25836889, 25857225, 25877569, 25897921, 25918281, 25938649, 25959025, 25979409, 25999801, 26020201, 26040609, 26061025, 26081449, 26101881, 26122321, 26142769, 26163225, 26183689, 26204161, 26224641, 26245129, 26265625, 26286129, 26306641, 26327161, 26347689, 26368225, 26388769, 26409321, 26429881, 26450449, 26471025, 26491609, 26512201, 26532801, 26553409, 26574025, 26594649, 26615281, 26635921, 26656569, 26677225, 26697889, 26718561, 26739241, 26759929, 26780625, 26801329, 26822041, 26842761, 26863489, 26884225, 26904969, 26925721, 26946481, 26967249, 26988025, 27008809, 27029601, 27050401, 27071209, 27092025, 27112849, 27133681, 27154521, 27175369, 27196225, 27217089, 27237961, 27258841, 27279729, 27300625, 27321529, 27342441, 27363361, 27384289, 27405225, 27426169, 27447121, 27468081, 27489049, 27510025, 27531009, 27552001, 27573001, 27594009, 27615025, 27636049, 27657081, 27678121, 27699169, 27720225, 27741289, 27762361, 27783441, 27804529, 27825625, 27846729, 27867841, 27888961, 27910089, 27931225, 27952369, 27973521, 27994681, 28015849, 28037025, 28058209, 28079401, 28100601, 28121809, 28143025, 28164249, 28185481, 28206721, 28227969, 28249225, 28270489, 28291761, 28313041, 28334329, 28355625, 28376929, 28398241, 28419561, 28440889, 28462225, 28483569, 28504921, 28526281, 28547649, 28569025, 28590409, 28611801, 28633201, 28654609, 28676025, 28697449, 28718881, 28740321, 28761769, 28783225, 28804689, 28826161, 28847641, 28869129, 28890625, 28912129, 28933641, 28955161, 28976689, 28998225, 29019769, 29041321, 29062881, 29084449, 29106025, 29127609, 29149201, 29170801, 29192409, 29214025, 29235649, 29257281, 29278921, 29300569, 29322225, 29343889, 29365561, 29387241, 29408929, 29430625, 29452329, 29474041, 29495761, 29517489, 29539225, 29560969, 29582721, 29604481, 29626249, 29648025, 29669809, 29691601, 29713401, 29735209, 29757025, 29778849, 29800681, 29822521, 29844369, 29866225, 29888089, 29909961, 29931841, 29953729, 29975625, 29997529, 30019441, 30041361, 30063289, 30085225, 30107169, 30129121, 30151081, 30173049, 30195025, 30217009, 30239001, 30261001, 30283009, 30305025, 30327049, 30349081, 30371121, 30393169, 30415225, 30437289, 30459361, 30481441, 30503529, 30525625, 30547729, 30569841, 30591961, 30614089, 30636225, 30658369, 30680521, 30702681, 30724849, 30747025, 30769209, 30791401, 30813601, 30835809, 30858025, 30880249, 30902481, 30924721, 30946969, 30969225, 30991489, 31013761, 31036041, 31058329, 31080625, 31102929, 31125241, 31147561, 31169889, 31192225, 31214569, 31236921, 31259281, 31281649, 31304025, 31326409, 31348801, 31371201, 31393609, 31416025, 31438449, 31460881, 31483321, 31505769, 31528225, 31550689, 31573161, 31595641, 31618129, 31640625, 31663129, 31685641, 31708161, 31730689, 31753225, 31775769, 31798321, 31820881, 31843449, 31866025, 31888609, 31911201, 31933801, 31956409, 31979025, 32001649, 32024281, 32046921, 32069569, 32092225, 32114889, 32137561, 32160241, 32182929, 32205625, 32228329, 32251041, 32273761, 32296489, 32319225, 32341969, 32364721, 32387481, 32410249, 32433025, 32455809, 32478601, 32501401, 32524209, 32547025, 32569849, 32592681, 32615521, 32638369, 32661225, 32684089, 32706961, 32729841, 32752729, 32775625, 32798529, 32821441, 32844361, 32867289, 32890225, 32913169, 32936121, 32959081, 32982049, 33005025, 33028009, 33051001, 33074001, 33097009, 33120025, 33143049, 33166081, 33189121, 33212169, 33235225, 33258289, 33281361, 33304441, 33327529, 33350625, 33373729, 33396841, 33419961, 33443089, 33466225, 33489369, 33512521, 33535681, 33558849, 33582025, 33605209, 33628401, 33651601, 33674809, 33698025, 33721249, 33744481, 33767721, 33790969, 33814225, 33837489, 33860761, 33884041, 33907329, 33930625, 33953929, 33977241, 34000561, 34023889, 34047225, 34070569, 34093921, 34117281, 34140649, 34164025, 34187409, 34210801, 34234201, 34257609, 34281025, 34304449, 34327881, 34351321, 34374769, 34398225, 34421689, 34445161, 34468641, 34492129, 34515625, 34539129, 34562641, 34586161, 34609689, 34633225, 34656769, 34680321, 34703881, 34727449, 34751025, 34774609, 34798201, 34821801, 34845409, 34869025, 34892649, 34916281, 34939921, 34963569, 34987225, 35010889, 35034561, 35058241, 35081929, 35105625, 35129329, 35153041, 35176761, 35200489, 35224225, 35247969, 35271721, 35295481, 35319249, 35343025, 35366809, 35390601, 35414401, 35438209, 35462025, 35485849, 35509681, 35533521, 35557369, 35581225, 35605089, 35628961, 35652841, 35676729, 35700625, 35724529, 35748441, 35772361, 35796289, 35820225, 35844169, 35868121, 35892081, 35916049, 35940025, 35964009, 35988001, 36012001, 36036009, 36060025, 36084049, 36108081, 36132121, 36156169, 36180225, 36204289, 36228361, 36252441, 36276529, 36300625, 36324729, 36348841, 36372961, 36397089, 36421225, 36445369, 36469521, 36493681, 36517849, 36542025, 36566209, 36590401, 36614601, 36638809, 36663025, 36687249, 36711481, 36735721, 36759969, 36784225, 36808489, 36832761, 36857041, 36881329, 36905625, 36929929, 36954241, 36978561, 37002889, 37027225, 37051569, 37075921, 37100281, 37124649, 37149025, 37173409, 37197801, 37222201, 37246609, 37271025, 37295449, 37319881, 37344321, 37368769, 37393225, 37417689, 37442161, 37466641, 37491129, 37515625, 37540129, 37564641, 37589161, 37613689, 37638225, 37662769, 37687321, 37711881, 37736449, 37761025, 37785609, 37810201, 37834801, 37859409, 37884025, 37908649, 37933281, 37957921, 37982569, 38007225, 38031889, 38056561, 38081241, 38105929, 38130625, 38155329, 38180041, 38204761, 38229489, 38254225, 38278969, 38303721, 38328481, 38353249, 38378025, 38402809, 38427601, 38452401, 38477209, 38502025, 38526849, 38551681, 38576521, 38601369, 38626225, 38651089, 38675961, 38700841, 38725729, 38750625, 38775529, 38800441, 38825361, 38850289, 38875225, 38900169, 38925121, 38950081, 38975049, 39000025, 39025009, 39050001, 39075001, 39100009, 39125025, 39150049, 39175081, 39200121, 39225169, 39250225, 39275289, 39300361, 39325441, 39350529, 39375625, 39400729, 39425841, 39450961, 39476089, 39501225, 39526369, 39551521, 39576681, 39601849, 39627025, 39652209, 39677401, 39702601, 39727809, 39753025, 39778249, 39803481, 39828721, 39853969, 39879225, 39904489, 39929761, 39955041, 39980329, 40005625, 40030929, 40056241, 40081561, 40106889, 40132225, 40157569, 40182921, 40208281, 40233649, 40259025, 40284409, 40309801, 40335201, 40360609, 40386025, 40411449, 40436881, 40462321, 40487769, 40513225, 40538689, 40564161, 40589641, 40615129, 40640625, 40666129, 40691641, 40717161, 40742689, 40768225, 40793769, 40819321, 40844881, 40870449, 40896025, 40921609, 40947201, 40972801, 40998409, 41024025, 41049649, 41075281, 41100921, 41126569, 41152225, 41177889, 41203561, 41229241, 41254929, 41280625, 41306329, 41332041, 41357761, 41383489, 41409225, 41434969, 41460721, 41486481, 41512249, 41538025, 41563809, 41589601, 41615401, 41641209, 41667025, 41692849, 41718681, 41744521, 41770369, 41796225, 41822089, 41847961, 41873841, 41899729, 41925625, 41951529, 41977441, 42003361, 42029289, 42055225, 42081169, 42107121, 42133081, 42159049, 42185025, 42211009, 42237001, 42263001, 42289009, 42315025, 42341049, 42367081, 42393121, 42419169, 42445225, 42471289, 42497361, 42523441, 42549529, 42575625, 42601729, 42627841, 42653961, 42680089, 42706225, 42732369, 42758521, 42784681, 42810849, 42837025, 42863209, 42889401, 42915601, 42941809, 42968025, 42994249, 43020481, 43046721, 43072969, 43099225, 43125489, 43151761, 43178041, 43204329, 43230625, 43256929, 43283241, 43309561, 43335889, 43362225, 43388569, 43414921, 43441281, 43467649, 43494025, 43520409, 43546801, 43573201, 43599609, 43626025, 43652449, 43678881, 43705321, 43731769, 43758225, 43784689, 43811161, 43837641, 43864129, 43890625, 43917129, 43943641, 43970161, 43996689, 44023225, 44049769, 44076321, 44102881, 44129449, 44156025, 44182609, 44209201, 44235801, 44262409, 44289025, 44315649, 44342281, 44368921, 44395569, 44422225, 44448889, 44475561, 44502241, 44528929, 44555625, 44582329, 44609041, 44635761, 44662489, 44689225, 44715969, 44742721, 44769481, 44796249, 44823025, 44849809, 44876601, 44903401, 44930209, 44957025, 44983849, 45010681, 45037521, 45064369, 45091225, 45118089, 45144961, 45171841, 45198729, 45225625, 45252529, 45279441, 45306361, 45333289, 45360225, 45387169, 45414121, 45441081, 45468049, 45495025, 45522009, 45549001, 45576001, 45603009, 45630025, 45657049, 45684081, 45711121, 45738169, 45765225, 45792289, 45819361, 45846441, 45873529, 45900625, 45927729, 45954841, 45981961, 46009089, 46036225, 46063369, 46090521, 46117681, 46144849, 46172025, 46199209, 46226401, 46253601, 46280809, 46308025, 46335249, 46362481, 46389721, 46416969, 46444225, 46471489, 46498761, 46526041, 46553329, 46580625, 46607929, 46635241, 46662561, 46689889, 46717225, 46744569, 46771921, 46799281, 46826649, 46854025, 46881409, 46908801, 46936201, 46963609, 46991025, 47018449, 47045881, 47073321, 47100769, 47128225, 47155689, 47183161, 47210641, 47238129, 47265625, 47293129, 47320641, 47348161, 47375689, 47403225, 47430769, 47458321, 47485881, 47513449, 47541025, 47568609, 47596201, 47623801, 47651409, 47679025, 47706649, 47734281, 47761921, 47789569, 47817225, 47844889, 47872561, 47900241, 47927929, 47955625, 47983329, 48011041, 48038761, 48066489, 48094225, 48121969, 48149721, 48177481, 48205249, 48233025, 48260809, 48288601, 48316401, 48344209, 48372025, 48399849, 48427681, 48455521, 48483369, 48511225, 48539089, 48566961, 48594841, 48622729, 48650625, 48678529, 48706441, 48734361, 48762289, 48790225, 48818169, 48846121, 48874081, 48902049, 48930025, 48958009, 48986001, 49014001, 49042009, 49070025, 49098049, 49126081, 49154121, 49182169, 49210225, 49238289, 49266361, 49294441, 49322529, 49350625, 49378729, 49406841, 49434961, 49463089, 49491225, 49519369, 49547521, 49575681, 49603849, 49632025, 49660209, 49688401, 49716601, 49744809, 49773025, 49801249, 49829481, 49857721, 49885969, 49914225, 49942489, 49970761, 49999041, 50027329, 50055625, 50083929, 50112241, 50140561, 50168889, 50197225, 50225569, 50253921, 50282281, 50310649, 50339025, 50367409, 50395801, 50424201, 50452609, 50481025, 50509449, 50537881, 50566321, 50594769, 50623225, 50651689, 50680161, 50708641, 50737129, 50765625, 50794129, 50822641, 50851161, 50879689, 50908225, 50936769, 50965321, 50993881, 51022449, 51051025, 51079609, 51108201, 51136801, 51165409, 51194025, 51222649, 51251281, 51279921, 51308569, 51337225, 51365889, 51394561, 51423241, 51451929, 51480625, 51509329, 51538041, 51566761, 51595489, 51624225, 51652969, 51681721, 51710481, 51739249, 51768025, 51796809, 51825601, 51854401, 51883209, 51912025, 51940849, 51969681, 51998521, 52027369, 52056225, 52085089, 52113961, 52142841, 52171729, 52200625, 52229529, 52258441, 52287361, 52316289, 52345225, 52374169, 52403121, 52432081, 52461049, 52490025, 52519009, 52548001, 52577001, 52606009, 52635025, 52664049, 52693081, 52722121, 52751169, 52780225, 52809289, 52838361, 52867441, 52896529, 52925625, 52954729, 52983841, 53012961, 53042089, 53071225, 53100369, 53129521, 53158681, 53187849, 53217025, 53246209, 53275401, 53304601, 53333809, 53363025, 53392249, 53421481, 53450721, 53479969, 53509225, 53538489, 53567761, 53597041, 53626329, 53655625, 53684929, 53714241, 53743561, 53772889, 53802225, 53831569, 53860921, 53890281, 53919649, 53949025, 53978409, 54007801, 54037201, 54066609, 54096025, 54125449, 54154881, 54184321, 54213769, 54243225, 54272689, 54302161, 54331641, 54361129, 54390625, 54420129, 54449641, 54479161, 54508689, 54538225, 54567769, 54597321, 54626881, 54656449, 54686025, 54715609, 54745201, 54774801, 54804409, 54834025, 54863649, 54893281, 54922921, 54952569, 54982225, 55011889, 55041561, 55071241, 55100929, 55130625, 55160329, 55190041, 55219761, 55249489, 55279225, 55308969, 55338721, 55368481, 55398249, 55428025, 55457809, 55487601, 55517401, 55547209, 55577025, 55606849, 55636681, 55666521, 55696369, 55726225, 55756089, 55785961, 55815841, 55845729, 55875625, 55905529, 55935441, 55965361, 55995289, 56025225, 56055169, 56085121, 56115081, 56145049, 56175025, 56205009, 56235001, 56265001, 56295009, 56325025, 56355049, 56385081, 56415121, 56445169, 56475225, 56505289, 56535361, 56565441, 56595529, 56625625, 56655729, 56685841, 56715961, 56746089, 56776225, 56806369, 56836521, 56866681, 56896849, 56927025, 56957209, 56987401, 57017601, 57047809, 57078025, 57108249, 57138481, 57168721, 57198969, 57229225, 57259489, 57289761, 57320041, 57350329, 57380625, 57410929, 57441241, 57471561, 57501889, 57532225, 57562569, 57592921, 57623281, 57653649, 57684025, 57714409, 57744801, 57775201, 57805609, 57836025, 57866449, 57896881, 57927321, 57957769, 57988225, 58018689, 58049161, 58079641, 58110129, 58140625, 58171129, 58201641, 58232161, 58262689, 58293225, 58323769, 58354321, 58384881, 58415449, 58446025, 58476609, 58507201, 58537801, 58568409, 58599025, 58629649, 58660281, 58690921, 58721569, 58752225, 58782889, 58813561, 58844241, 58874929, 58905625, 58936329, 58967041, 58997761, 59028489, 59059225, 59089969, 59120721, 59151481, 59182249, 59213025, 59243809, 59274601, 59305401, 59336209, 59367025, 59397849, 59428681, 59459521, 59490369, 59521225, 59552089, 59582961, 59613841, 59644729, 59675625, 59706529, 59737441, 59768361, 59799289, 59830225, 59861169, 59892121, 59923081, 59954049, 59985025, 60016009, 60047001, 60078001, 60109009, 60140025, 60171049, 60202081, 60233121, 60264169, 60295225, 60326289, 60357361, 60388441, 60419529, 60450625, 60481729, 60512841, 60543961, 60575089, 60606225, 60637369, 60668521, 60699681, 60730849, 60762025, 60793209, 60824401, 60855601, 60886809, 60918025, 60949249, 60980481, 61011721, 61042969, 61074225, 61105489, 61136761, 61168041, 61199329, 61230625, 61261929, 61293241, 61324561, 61355889, 61387225, 61418569, 61449921, 61481281, 61512649, 61544025, 61575409, 61606801, 61638201, 61669609, 61701025, 61732449, 61763881, 61795321, 61826769, 61858225, 61889689, 61921161, 61952641, 61984129, 62015625, 62047129, 62078641, 62110161, 62141689, 62173225, 62204769, 62236321, 62267881, 62299449, 62331025, 62362609, 62394201, 62425801, 62457409, 62489025, 62520649, 62552281, 62583921, 62615569, 62647225, 62678889, 62710561, 62742241, 62773929, 62805625, 62837329, 62869041, 62900761, 62932489, 62964225, 62995969, 63027721, 63059481, 63091249, 63123025, 63154809, 63186601, 63218401, 63250209, 63282025, 63313849, 63345681, 63377521, 63409369, 63441225, 63473089, 63504961, 63536841, 63568729, 63600625, 63632529, 63664441, 63696361, 63728289, 63760225, 63792169, 63824121, 63856081, 63888049, 63920025, 63952009, 63984001, 64016001, 64048009, 64080025, 64112049, 64144081, 64176121, 64208169, 64240225, 64272289, 64304361, 64336441, 64368529, 64400625, 64432729, 64464841, 64496961, 64529089, 64561225, 64593369, 64625521, 64657681, 64689849, 64722025, 64754209, 64786401, 64818601, 64850809, 64883025, 64915249, 64947481, 64979721, 65011969, 65044225, 65076489, 65108761, 65141041, 65173329, 65205625, 65237929, 65270241, 65302561, 65334889, 65367225, 65399569, 65431921, 65464281, 65496649, 65529025, 65561409, 65593801, 65626201, 65658609, 65691025, 65723449, 65755881, 65788321, 65820769, 65853225, 65885689, 65918161, 65950641, 65983129, 66015625, 66048129, 66080641, 66113161, 66145689, 66178225, 66210769, 66243321, 66275881, 66308449, 66341025, 66373609, 66406201, 66438801, 66471409, 66504025, 66536649, 66569281, 66601921, 66634569, 66667225, 66699889, 66732561, 66765241, 66797929, 66830625, 66863329, 66896041, 66928761, 66961489, 66994225, 67026969, 67059721, 67092481, 67125249, 67158025, 67190809, 67223601, 67256401, 67289209, 67322025, 67354849, 67387681, 67420521, 67453369, 67486225, 67519089, 67551961, 67584841, 67617729, 67650625, 67683529, 67716441, 67749361, 67782289, 67815225, 67848169, 67881121, 67914081, 67947049, 67980025, 68013009, 68046001, 68079001, 68112009, 68145025, 68178049, 68211081, 68244121, 68277169, 68310225, 68343289, 68376361, 68409441, 68442529, 68475625, 68508729, 68541841, 68574961, 68608089, 68641225, 68674369, 68707521, 68740681, 68773849, 68807025, 68840209, 68873401, 68906601, 68939809, 68973025, 69006249, 69039481, 69072721, 69105969, 69139225, 69172489, 69205761, 69239041, 69272329, 69305625, 69338929, 69372241, 69405561, 69438889, 69472225, 69505569, 69538921, 69572281, 69605649, 69639025, 69672409, 69705801, 69739201, 69772609, 69806025, 69839449, 69872881, 69906321, 69939769, 69973225, 70006689, 70040161, 70073641, 70107129, 70140625, 70174129, 70207641, 70241161, 70274689, 70308225, 70341769, 70375321, 70408881, 70442449, 70476025, 70509609, 70543201, 70576801, 70610409, 70644025, 70677649, 70711281, 70744921, 70778569, 70812225, 70845889, 70879561, 70913241, 70946929, 70980625, 71014329, 71048041, 71081761, 71115489, 71149225, 71182969, 71216721, 71250481, 71284249, 71318025, 71351809, 71385601, 71419401, 71453209, 71487025, 71520849, 71554681, 71588521, 71622369, 71656225, 71690089, 71723961, 71757841, 71791729, 71825625, 71859529, 71893441, 71927361, 71961289, 71995225, 72029169, 72063121, 72097081, 72131049, 72165025, 72199009, 72233001, 72267001, 72301009, 72335025, 72369049, 72403081, 72437121, 72471169, 72505225, 72539289, 72573361, 72607441, 72641529, 72675625, 72709729, 72743841, 72777961, 72812089, 72846225, 72880369, 72914521, 72948681, 72982849, 73017025, 73051209, 73085401, 73119601, 73153809, 73188025, 73222249, 73256481, 73290721, 73324969, 73359225, 73393489, 73427761, 73462041, 73496329, 73530625, 73564929, 73599241, 73633561, 73667889, 73702225, 73736569, 73770921, 73805281, 73839649, 73874025, 73908409, 73942801, 73977201, 74011609, 74046025, 74080449, 74114881, 74149321, 74183769, 74218225, 74252689, 74287161, 74321641, 74356129, 74390625, 74425129, 74459641, 74494161, 74528689, 74563225, 74597769, 74632321, 74666881, 74701449, 74736025, 74770609, 74805201, 74839801, 74874409, 74909025, 74943649, 74978281, 75012921, 75047569, 75082225, 75116889, 75151561, 75186241, 75220929, 75255625, 75290329, 75325041, 75359761, 75394489, 75429225, 75463969, 75498721, 75533481, 75568249, 75603025, 75637809, 75672601, 75707401, 75742209, 75777025, 75811849, 75846681, 75881521, 75916369, 75951225, 75986089, 76020961, 76055841, 76090729, 76125625, 76160529, 76195441, 76230361, 76265289, 76300225, 76335169, 76370121, 76405081, 76440049, 76475025, 76510009, 76545001, 76580001, 76615009, 76650025, 76685049, 76720081, 76755121, 76790169, 76825225, 76860289, 76895361, 76930441, 76965529, 77000625, 77035729, 77070841, 77105961, 77141089, 77176225, 77211369, 77246521, 77281681, 77316849, 77352025, 77387209, 77422401, 77457601, 77492809, 77528025, 77563249, 77598481, 77633721, 77668969, 77704225, 77739489, 77774761, 77810041, 77845329, 77880625, 77915929, 77951241, 77986561, 78021889, 78057225, 78092569, 78127921, 78163281, 78198649, 78234025, 78269409, 78304801, 78340201, 78375609, 78411025, 78446449, 78481881, 78517321, 78552769, 78588225, 78623689, 78659161, 78694641, 78730129, 78765625, 78801129, 78836641, 78872161, 78907689, 78943225, 78978769, 79014321, 79049881, 79085449, 79121025, 79156609, 79192201, 79227801, 79263409, 79299025, 79334649, 79370281, 79405921, 79441569, 79477225, 79512889, 79548561, 79584241, 79619929, 79655625, 79691329, 79727041, 79762761, 79798489, 79834225, 79869969, 79905721, 79941481, 79977249, 80013025, 80048809, 80084601, 80120401, 80156209, 80192025, 80227849, 80263681, 80299521, 80335369, 80371225, 80407089, 80442961, 80478841, 80514729, 80550625, 80586529, 80622441, 80658361, 80694289, 80730225, 80766169, 80802121, 80838081, 80874049, 80910025, 80946009, 80982001, 81018001, 81054009, 81090025, 81126049, 81162081, 81198121, 81234169, 81270225, 81306289, 81342361, 81378441, 81414529, 81450625, 81486729, 81522841, 81558961, 81595089, 81631225, 81667369, 81703521, 81739681, 81775849, 81812025, 81848209, 81884401, 81920601, 81956809, 81993025, 82029249, 82065481, 82101721, 82137969, 82174225, 82210489, 82246761, 82283041, 82319329, 82355625, 82391929, 82428241, 82464561, 82500889, 82537225, 82573569, 82609921, 82646281, 82682649, 82719025, 82755409, 82791801, 82828201, 82864609, 82901025, 82937449, 82973881, 83010321, 83046769, 83083225, 83119689, 83156161, 83192641, 83229129, 83265625, 83302129, 83338641, 83375161, 83411689, 83448225, 83484769, 83521321, 83557881, 83594449, 83631025, 83667609, 83704201, 83740801, 83777409, 83814025, 83850649, 83887281, 83923921, 83960569, 83997225, 84033889, 84070561, 84107241, 84143929, 84180625, 84217329, 84254041, 84290761, 84327489, 84364225, 84400969, 84437721, 84474481, 84511249, 84548025, 84584809, 84621601, 84658401, 84695209, 84732025, 84768849, 84805681, 84842521, 84879369, 84916225, 84953089, 84989961, 85026841, 85063729, 85100625, 85137529, 85174441, 85211361, 85248289, 85285225, 85322169, 85359121, 85396081, 85433049, 85470025, 85507009, 85544001, 85581001, 85618009, 85655025, 85692049, 85729081, 85766121, 85803169, 85840225, 85877289, 85914361, 85951441, 85988529, 86025625, 86062729, 86099841, 86136961, 86174089, 86211225, 86248369, 86285521, 86322681, 86359849, 86397025, 86434209, 86471401, 86508601, 86545809, 86583025, 86620249, 86657481, 86694721, 86731969, 86769225, 86806489, 86843761, 86881041, 86918329, 86955625, 86992929, 87030241, 87067561, 87104889, 87142225, 87179569, 87216921, 87254281, 87291649, 87329025, 87366409, 87403801, 87441201, 87478609, 87516025, 87553449, 87590881, 87628321, 87665769, 87703225, 87740689, 87778161, 87815641, 87853129, 87890625, 87928129, 87965641, 88003161, 88040689, 88078225, 88115769, 88153321, 88190881, 88228449, 88266025, 88303609, 88341201, 88378801, 88416409, 88454025, 88491649, 88529281, 88566921, 88604569, 88642225, 88679889, 88717561, 88755241, 88792929, 88830625, 88868329, 88906041, 88943761, 88981489, 89019225, 89056969, 89094721, 89132481, 89170249, 89208025, 89245809, 89283601, 89321401, 89359209, 89397025, 89434849, 89472681, 89510521, 89548369, 89586225, 89624089, 89661961, 89699841, 89737729, 89775625, 89813529, 89851441, 89889361, 89927289, 89965225, 90003169, 90041121, 90079081, 90117049, 90155025, 90193009, 90231001, 90269001, 90307009, 90345025, 90383049, 90421081, 90459121, 90497169, 90535225, 90573289, 90611361, 90649441, 90687529, 90725625, 90763729, 90801841, 90839961, 90878089, 90916225, 90954369, 90992521, 91030681, 91068849, 91107025, 91145209, 91183401, 91221601, 91259809, 91298025, 91336249, 91374481, 91412721, 91450969, 91489225, 91527489, 91565761, 91604041, 91642329, 91680625, 91718929, 91757241, 91795561, 91833889, 91872225, 91910569, 91948921, 91987281, 92025649, 92064025, 92102409, 92140801, 92179201, 92217609, 92256025, 92294449, 92332881, 92371321, 92409769, 92448225, 92486689, 92525161, 92563641, 92602129, 92640625, 92679129, 92717641, 92756161, 92794689, 92833225, 92871769, 92910321, 92948881, 92987449, 93026025, 93064609, 93103201, 93141801, 93180409, 93219025, 93257649, 93296281, 93334921, 93373569, 93412225, 93450889, 93489561, 93528241, 93566929, 93605625, 93644329, 93683041, 93721761, 93760489, 93799225, 93837969, 93876721, 93915481, 93954249, 93993025, 94031809, 94070601, 94109401, 94148209, 94187025, 94225849, 94264681, 94303521, 94342369, 94381225, 94420089, 94458961, 94497841, 94536729, 94575625, 94614529, 94653441, 94692361, 94731289, 94770225, 94809169, 94848121, 94887081, 94926049, 94965025, 95004009, 95043001, 95082001, 95121009, 95160025, 95199049, 95238081, 95277121, 95316169, 95355225, 95394289, 95433361, 95472441, 95511529, 95550625, 95589729, 95628841, 95667961, 95707089, 95746225, 95785369, 95824521, 95863681, 95902849, 95942025, 95981209, 96020401, 96059601, 96098809, 96138025, 96177249, 96216481, 96255721, 96294969, 96334225, 96373489, 96412761, 96452041, 96491329, 96530625, 96569929, 96609241, 96648561, 96687889, 96727225, 96766569, 96805921, 96845281, 96884649, 96924025, 96963409, 97002801, 97042201, 97081609, 97121025, 97160449, 97199881, 97239321, 97278769, 97318225, 97357689, 97397161, 97436641, 97476129, 97515625, 97555129, 97594641, 97634161, 97673689, 97713225, 97752769, 97792321, 97831881, 97871449, 97911025, 97950609, 97990201, 98029801, 98069409, 98109025, 98148649, 98188281, 98227921, 98267569, 98307225, 98346889, 98386561, 98426241, 98465929, 98505625, 98545329, 98585041, 98624761, 98664489, 98704225, 98743969, 98783721, 98823481, 98863249, 98903025, 98942809, 98982601, 99022401, 99062209, 99102025, 99141849, 99181681, 99221521, 99261369, 99301225, 99341089, 99380961, 99420841, 99460729, 99500625, 99540529, 99580441, 99620361, 99660289, 99700225, 99740169, 99780121, 99820081, 99860049, 99900025, 99940009, 99980001]\n"
          ]
        }
      ]
    },
    {
      "cell_type": "markdown",
      "source": [
        "참고: 리스트 컴프리헨션도 중첩 for문을 이용할 수 있습니다."
      ],
      "metadata": {
        "id": "fL04kWQdr2mc"
      }
    },
    {
      "cell_type": "code",
      "source": [
        "# 참고: 중첩 for문과 리스트 컴프리헨션을 이용하여 구구단표 생성\n",
        "X = [f\"{m} * {n} = {m*n}\" for m in range(2, 10) for n in range(1, 10)]\n",
        "\n",
        "print(X)"
      ],
      "metadata": {
        "colab": {
          "base_uri": "https://localhost:8080/"
        },
        "id": "cHnR02PlXuCc",
        "outputId": "01509ba1-a481-43bb-9179-8dfb31d0addb"
      },
      "execution_count": null,
      "outputs": [
        {
          "output_type": "stream",
          "name": "stdout",
          "text": [
            "['2 * 1 = 2', '2 * 2 = 4', '2 * 3 = 6', '2 * 4 = 8', '2 * 5 = 10', '2 * 6 = 12', '2 * 7 = 14', '2 * 8 = 16', '2 * 9 = 18', '3 * 1 = 3', '3 * 2 = 6', '3 * 3 = 9', '3 * 4 = 12', '3 * 5 = 15', '3 * 6 = 18', '3 * 7 = 21', '3 * 8 = 24', '3 * 9 = 27', '4 * 1 = 4', '4 * 2 = 8', '4 * 3 = 12', '4 * 4 = 16', '4 * 5 = 20', '4 * 6 = 24', '4 * 7 = 28', '4 * 8 = 32', '4 * 9 = 36', '5 * 1 = 5', '5 * 2 = 10', '5 * 3 = 15', '5 * 4 = 20', '5 * 5 = 25', '5 * 6 = 30', '5 * 7 = 35', '5 * 8 = 40', '5 * 9 = 45', '6 * 1 = 6', '6 * 2 = 12', '6 * 3 = 18', '6 * 4 = 24', '6 * 5 = 30', '6 * 6 = 36', '6 * 7 = 42', '6 * 8 = 48', '6 * 9 = 54', '7 * 1 = 7', '7 * 2 = 14', '7 * 3 = 21', '7 * 4 = 28', '7 * 5 = 35', '7 * 6 = 42', '7 * 7 = 49', '7 * 8 = 56', '7 * 9 = 63', '8 * 1 = 8', '8 * 2 = 16', '8 * 3 = 24', '8 * 4 = 32', '8 * 5 = 40', '8 * 6 = 48', '8 * 7 = 56', '8 * 8 = 64', '8 * 9 = 72', '9 * 1 = 9', '9 * 2 = 18', '9 * 3 = 27', '9 * 4 = 36', '9 * 5 = 45', '9 * 6 = 54', '9 * 7 = 63', '9 * 8 = 72', '9 * 9 = 81']\n"
          ]
        }
      ]
    },
    {
      "cell_type": "code",
      "source": [
        "# 참고: 이차원 리스트 (리스트 안에 리스트 넣기)\n",
        "X = [[f\"{m} * {n} = {m*n}\" for n in range(1, 10)] for m in range(2, 10)]\n",
        "\n",
        "print(X)"
      ],
      "metadata": {
        "colab": {
          "base_uri": "https://localhost:8080/"
        },
        "id": "4TH2lk5HYAZ4",
        "outputId": "8d30494b-ef56-4355-f9d8-ebfe0ec6c43f"
      },
      "execution_count": null,
      "outputs": [
        {
          "output_type": "stream",
          "name": "stdout",
          "text": [
            "[['2 * 1 = 2', '2 * 2 = 4', '2 * 3 = 6', '2 * 4 = 8', '2 * 5 = 10', '2 * 6 = 12', '2 * 7 = 14', '2 * 8 = 16', '2 * 9 = 18'], ['3 * 1 = 3', '3 * 2 = 6', '3 * 3 = 9', '3 * 4 = 12', '3 * 5 = 15', '3 * 6 = 18', '3 * 7 = 21', '3 * 8 = 24', '3 * 9 = 27'], ['4 * 1 = 4', '4 * 2 = 8', '4 * 3 = 12', '4 * 4 = 16', '4 * 5 = 20', '4 * 6 = 24', '4 * 7 = 28', '4 * 8 = 32', '4 * 9 = 36'], ['5 * 1 = 5', '5 * 2 = 10', '5 * 3 = 15', '5 * 4 = 20', '5 * 5 = 25', '5 * 6 = 30', '5 * 7 = 35', '5 * 8 = 40', '5 * 9 = 45'], ['6 * 1 = 6', '6 * 2 = 12', '6 * 3 = 18', '6 * 4 = 24', '6 * 5 = 30', '6 * 6 = 36', '6 * 7 = 42', '6 * 8 = 48', '6 * 9 = 54'], ['7 * 1 = 7', '7 * 2 = 14', '7 * 3 = 21', '7 * 4 = 28', '7 * 5 = 35', '7 * 6 = 42', '7 * 7 = 49', '7 * 8 = 56', '7 * 9 = 63'], ['8 * 1 = 8', '8 * 2 = 16', '8 * 3 = 24', '8 * 4 = 32', '8 * 5 = 40', '8 * 6 = 48', '8 * 7 = 56', '8 * 8 = 64', '8 * 9 = 72'], ['9 * 1 = 9', '9 * 2 = 18', '9 * 3 = 27', '9 * 4 = 36', '9 * 5 = 45', '9 * 6 = 54', '9 * 7 = 63', '9 * 8 = 72', '9 * 9 = 81']]\n"
          ]
        }
      ]
    }
  ]
}