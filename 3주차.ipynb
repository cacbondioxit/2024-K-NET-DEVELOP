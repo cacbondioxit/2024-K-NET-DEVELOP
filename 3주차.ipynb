{
  "nbformat": 4,
  "nbformat_minor": 0,
  "metadata": {
    "colab": {
      "provenance": [],
      "authorship_tag": "ABX9TyO/oRObxsto59v4s1nzIa1P",
      "include_colab_link": true
    },
    "kernelspec": {
      "name": "python3",
      "display_name": "Python 3"
    },
    "language_info": {
      "name": "python"
    }
  },
  "cells": [
    {
      "cell_type": "markdown",
      "metadata": {
        "id": "view-in-github",
        "colab_type": "text"
      },
      "source": [
        "<a href=\"https://colab.research.google.com/github/cacbondioxit/2024-K-NET-DEVELOP/blob/main/3%EC%A3%BC%EC%B0%A8.ipynb\" target=\"_parent\"><img src=\"https://colab.research.google.com/assets/colab-badge.svg\" alt=\"Open In Colab\"/></a>"
      ]
    },
    {
      "cell_type": "markdown",
      "source": [
        "# 새로운 시작!\n",
        "\n",
        "이번 회차에 다룰 내용은 두 가지입니다.\n",
        "\n",
        "- 변수\n",
        "\n",
        "- 리스트\n",
        "\n",
        "변수, 리스트가 왜 필요한 것인지는 지난 인트로에서 보셨을 것입니다. 그러면 이제 약간의 디테일을 살펴보겠습니다."
      ],
      "metadata": {
        "id": "JpIQnaeCQH2O"
      }
    },
    {
      "cell_type": "markdown",
      "source": [
        "# 컴퓨터에게 정보를 기억시키는 방법\n",
        "\n",
        "변수는 값을 저장하는 공간을 뜻합니다.\n",
        "\n",
        "파이썬의 변수는 객체를 나타냅니다.\n",
        "\n",
        "객체라는 것은 숫자(정수형, 실수형), 문자열, 부울 자료형, 리스트, 딕셔너리 등을 말하는 것입니다.\n",
        "\n",
        "파이썬의 모든 것은 객체입니다. 객체라는 용어와 친해지는 것이 좋겠습니다.\n",
        "\n",
        "참고: 그래서 파이썬은 함수도 객체이고, 함수도 메모리에 저장됩니다. 함수 객체도 변수에 저장할 수 있습니다."
      ],
      "metadata": {
        "id": "MNFaG3w8_qaw"
      }
    },
    {
      "cell_type": "code",
      "source": [
        "# 파이썬의 변수 사용 예시\n",
        "\n",
        "greeting = \"여러분, 벌써 3주차네요. 반갑습니다!\"\n",
        "print(greeting)"
      ],
      "metadata": {
        "colab": {
          "base_uri": "https://localhost:8080/"
        },
        "id": "7v4EgU0siXHT",
        "outputId": "e2f27e8e-b100-4fb6-af2b-44dc03937633"
      },
      "execution_count": null,
      "outputs": [
        {
          "output_type": "stream",
          "name": "stdout",
          "text": [
            "여러분, 벌써 3주차네요. 반갑습니다!\n"
          ]
        }
      ]
    },
    {
      "cell_type": "markdown",
      "source": [
        "# 변수 선언에서 \"=\"의 의미는...\n",
        "\n",
        "한 가지 충격적인 사실을 살펴봅시다. 프로그래밍에서 \"n = 1\"의 의미는 \"n은 1과 같다\"가 아닙니다!\n",
        "\n",
        "이는 변수 n에 1을 <u>**대입한다**</u>는 뜻입니다.\n",
        "\n",
        "\"n는 1과 같다\"는 걸 나타내려면 이렇게 쓸 수 있습니다. 이는 True 혹은 False에 해당하는 값을 가집니다.\n",
        "\n",
        "```\n",
        "n == 1\n",
        "```\n",
        "\n",
        "다음 코드는 n이라는 변수에 n+1에 해당하는 값을 대입한다는 뜻입니다. (1 증가시키기)\n",
        "\n",
        "```\n",
        "n = n + 1\n",
        "```\n",
        "\n",
        "네? 이런 충격적인 식을 쓴다고요?\n",
        "\n",
        "위와 같은 것을 너무 자주 쓰는 나머지 이렇게 줄이기도 합니다.\n",
        "\n",
        "```\n",
        "n += 1\n",
        "```\n",
        "\n",
        "참고로 파이썬은 증감 연산자인 n++ 혹은 ++n 같은 표현이 없습니다."
      ],
      "metadata": {
        "id": "A3HpJDIHQPPv"
      }
    },
    {
      "cell_type": "code",
      "execution_count": null,
      "metadata": {
        "colab": {
          "base_uri": "https://localhost:8080/"
        },
        "id": "fA1RUJMqP-ly",
        "outputId": "27cfcc6d-b28b-4b05-f9ef-ba909e6dd2bf"
      },
      "outputs": [
        {
          "output_type": "stream",
          "name": "stdout",
          "text": [
            "4\n",
            "5\n"
          ]
        }
      ],
      "source": [
        "x = 3\n",
        "\n",
        "x = x + 1\n",
        "print(x)\n",
        "\n",
        "x += 1\n",
        "print(x)"
      ]
    },
    {
      "cell_type": "markdown",
      "source": [
        "# 파이썬 변수의 장점\n",
        "\n",
        "파이썬에서는 변수 선언 시 데이터 타입은 신경쓰지 않아도 됩니다!\n",
        "\n",
        "그냥 뜬금없이 대놓고 선언하면 됩니다. 중간에 변수 타입이 바뀌어도 됩니다!\n"
      ],
      "metadata": {
        "id": "eqYeQsnhWsnd"
      }
    },
    {
      "cell_type": "code",
      "source": [
        "e = 100\n",
        "print(e)\n",
        "print(type(e)) # type() : 변수 자료형\n",
        "\n",
        "e = 2.718\n",
        "print(e)\n",
        "print(type(e))\n",
        "\n",
        "e = \"자연로그의 밑\"\n",
        "print(e)\n",
        "print(type(e))"
      ],
      "metadata": {
        "colab": {
          "base_uri": "https://localhost:8080/"
        },
        "id": "JW8zaYH6YYgj",
        "outputId": "233e3188-3803-40c9-b4ec-80fddd8fe9c4"
      },
      "execution_count": null,
      "outputs": [
        {
          "output_type": "stream",
          "name": "stdout",
          "text": [
            "100\n",
            "<class 'int'>\n",
            "2.718\n",
            "<class 'float'>\n",
            "자연로그의 밑\n",
            "<class 'str'>\n"
          ]
        }
      ]
    },
    {
      "cell_type": "markdown",
      "source": [
        "참고: 파이썬의 변수는 C언어의 변수보다는 복잡하게<u>**(포인터처럼!!!!!!)**</u> 동작합니다.\n",
        "\n",
        "변수는 실제로는 다른 객체의 주소 값만을 저장합니다. (주소 값을 통해 참조) 그런 이유로 파이썬은 변수 선언 시 타입 지정이 필요없습니다.\n",
        "\n",
        "만약 이런 코드가 있다면, 중간에 '100' 객체는 필요없어져서 자동으로 삭제됩니다.\n",
        "\n",
        "```\n",
        "number = 100\n",
        "number = \"Hundred\"\n",
        "\n",
        "```\n",
        "\n",
        "이렇듯 파이썬은 객체를 직접 저장하지 않고, 객체를 가리키는 방식을 사용합니다.\n",
        "\n",
        "포인터를 피해서 파이썬 오신 분들께는 죄송합니다. ㅠㅠ 다행히 실무에서 파이썬 개발 시에 많이 신경써야 하는 부분은 아닙니다. 그래도 포인터 포기하지 마세요!!"
      ],
      "metadata": {
        "id": "sc9A7DUEYoPi"
      }
    },
    {
      "cell_type": "markdown",
      "source": [
        "# 자료형과 관련하여\n",
        "\n",
        "참고: C언어에서는 변수 선언 시에 자료형을 적어줘야 합니다.\n",
        "\n",
        "```\n",
        "double e = 2.718;\n",
        "```\n",
        "\n",
        "참고: int, long, float, double 등과 같은 \"자료형\"(데이터 타입)은 \"변수 선언할 때 쓰는 것\"이 아니라 \"변수의 종류\"입니다!"
      ],
      "metadata": {
        "id": "TLLU7ziYYfY0"
      }
    },
    {
      "cell_type": "markdown",
      "source": [
        "# 자료형 체크하기\n",
        "\n",
        "파이썬에서도 자료형이 중요할 때가 있습니다. 만약 변수의 자료형을 알아내야 한다면, type()을 쓸 수 있습니다.\n",
        "\n",
        "실수를 정수로 바꾸거나, 문자열로 바꾸고 싶다면 int(), str() 등을 사용할 수 있습니다."
      ],
      "metadata": {
        "id": "eKL4p1QyTsE-"
      }
    },
    {
      "cell_type": "code",
      "source": [
        "print(type(10), type(3.14), type(True), type(\"abc\"), type(print))"
      ],
      "metadata": {
        "colab": {
          "base_uri": "https://localhost:8080/"
        },
        "id": "BWhzwzJWjOUQ",
        "outputId": "22cd8bcf-1e52-402a-838f-e5b95bb6591f"
      },
      "execution_count": null,
      "outputs": [
        {
          "output_type": "stream",
          "name": "stdout",
          "text": [
            "<class 'int'> <class 'float'> <class 'bool'> <class 'str'> <class 'builtin_function_or_method'>\n"
          ]
        }
      ]
    },
    {
      "cell_type": "code",
      "source": [
        "print(int(4.30))\n",
        "print(float(4))\n",
        "print(str(4.30))"
      ],
      "metadata": {
        "colab": {
          "base_uri": "https://localhost:8080/"
        },
        "id": "K1lIbfvM94yA",
        "outputId": "f24c9877-ec81-4727-c375-bf6a88424c53"
      },
      "execution_count": 15,
      "outputs": [
        {
          "output_type": "stream",
          "name": "stdout",
          "text": [
            "4\n",
            "4.0\n",
            "4.3\n"
          ]
        }
      ]
    },
    {
      "cell_type": "markdown",
      "source": [
        "자료형의 종류는 위키백과에서 참고 바랍니다.\n",
        "\n",
        "https://ko.wikipedia.org/wiki/%ED%8C%8C%EC%9D%B4%EC%8D%AC#%EC%9E%90%EB%A3%8C%ED%98%95"
      ],
      "metadata": {
        "id": "Uj8cBslukVq_"
      }
    },
    {
      "cell_type": "markdown",
      "source": [
        "# 파이썬의 궁극기\n",
        "\n",
        "참고: 파이썬에서는 변수를 한꺼번에 선언하고 할당할 수 있습니다.\n",
        "\n",
        "```\n",
        "a, b = 1, 3\n",
        "c = d = e = 5\n",
        "f, g = [8, 9]\n",
        "\n",
        "a, b = b, a # 파이썬에서 쓸 수 있는 궁극의 스킬...\n",
        "\n",
        "print(a, b)\n",
        "print(c, d, e)\n",
        "print(f, g)\n",
        "\n",
        "```\n"
      ],
      "metadata": {
        "id": "rfLfXQ14nt3y"
      }
    },
    {
      "cell_type": "code",
      "source": [
        "a, b = 1, 3\n",
        "c = d = e = 5\n",
        "f, g = [8, 9]\n",
        "a, b = b, a # 파이썬에서 쓸 수 있는 궁극의 스킬...\n",
        "print(a, b)\n",
        "print(c, d, e)\n",
        "print(f, g)"
      ],
      "metadata": {
        "colab": {
          "base_uri": "https://localhost:8080/"
        },
        "id": "gaRTaiokn7Ly",
        "outputId": "6b15fe64-b03f-4c9a-e26c-10d181636ff0"
      },
      "execution_count": 12,
      "outputs": [
        {
          "output_type": "stream",
          "name": "stdout",
          "text": [
            "3 1\n",
            "5 5 5\n",
            "8 9\n"
          ]
        }
      ]
    },
    {
      "cell_type": "markdown",
      "source": [
        "# 변수끼리 계산하기\n",
        "\n",
        "사칙연산이 모두 제공됩니다.\n",
        "```\n",
        "a+b, a-b, a*b, a/b\n",
        "```\n",
        "\n",
        "몫과 나머지는 각각 다음처럼 구합니다.\n",
        "```\n",
        "a//b, a%b\n",
        "```\n",
        "\n",
        "a의 b제곱은 다음처럼 구합니다.\n",
        "```\n",
        "a**b\n",
        "```\n",
        "\n",
        "괄호도 쓸 수 있습니다.\n",
        "```\n",
        "(a+b)*(c+d)\n",
        "```\n",
        "\n",
        "참고: 정수와 실수를 더하면 실수가 됩니다.\n",
        "\n",
        "참고: 정수끼리 나눠도 파이썬에서는 실수입니다. C언어에서는 정수끼리 나누면 무조건 정수가 나옵니다."
      ],
      "metadata": {
        "id": "-QJ5Fbvrmmn4"
      }
    },
    {
      "cell_type": "markdown",
      "source": [
        "# 변수끼리 비교하기\n",
        "\n",
        "```\n",
        ">, < : 부등호\n",
        ">=, <= : 크거나 같다, 작거나 같다\n",
        "== : 같다\n",
        "```\n"
      ],
      "metadata": {
        "id": "wZIqt1MdsqIZ"
      }
    },
    {
      "cell_type": "markdown",
      "source": [
        "# 변수명 짓기?\n",
        "\n",
        "변수명 짓는 센스보다는, 쓸 수 없는 변수명을 소개하겠습니다.\n",
        "\n",
        "- 숫자로 시작하는 변수명\n",
        "    - ex) 2D_girlfriend, 3D_movie_theatre, 4D_movie_theatre, ...\n",
        "\n",
        "- 예약어 (파이썬의 문법적 의미를 갖는 키워드)\n",
        "    - and, as, assert, break, class, continue, def, del, elif, else, except, finally, for, from, global, if, import, in, is, lambda, nonlocal, not, or, pass, raise, return, try, while, with, yield, False, None, True\n",
        "    - 이는 코드에 입력하면 색깔이 바뀝니다!"
      ],
      "metadata": {
        "id": "T2WxV8BTTwhU"
      }
    },
    {
      "cell_type": "code",
      "source": [
        "3D_movie_theatre = 0"
      ],
      "metadata": {
        "colab": {
          "base_uri": "https://localhost:8080/",
          "height": 110
        },
        "id": "KQ6wrIG4WUvt",
        "outputId": "fdec1b64-6666-4f7f-fc78-4d579a3b3351"
      },
      "execution_count": null,
      "outputs": [
        {
          "output_type": "error",
          "ename": "SyntaxError",
          "evalue": "invalid decimal literal (<ipython-input-3-6b195a796bb4>, line 1)",
          "traceback": [
            "\u001b[0;36m  File \u001b[0;32m\"<ipython-input-3-6b195a796bb4>\"\u001b[0;36m, line \u001b[0;32m1\u001b[0m\n\u001b[0;31m    3D_movie_theatre = 0\u001b[0m\n\u001b[0m    ^\u001b[0m\n\u001b[0;31mSyntaxError\u001b[0m\u001b[0;31m:\u001b[0m invalid decimal literal\n"
          ]
        }
      ]
    },
    {
      "cell_type": "code",
      "source": [
        "try = 0 # 시도 횟수\n",
        "\n",
        "try += 1\n",
        "print(try)"
      ],
      "metadata": {
        "colab": {
          "base_uri": "https://localhost:8080/",
          "height": 110
        },
        "id": "ZFpz_CKkWGYn",
        "outputId": "acb8eede-c11f-471f-a9a6-6633f0c6bee8"
      },
      "execution_count": null,
      "outputs": [
        {
          "output_type": "error",
          "ename": "SyntaxError",
          "evalue": "expected ':' (<ipython-input-2-33aa33248d34>, line 1)",
          "traceback": [
            "\u001b[0;36m  File \u001b[0;32m\"<ipython-input-2-33aa33248d34>\"\u001b[0;36m, line \u001b[0;32m1\u001b[0m\n\u001b[0;31m    try = 0 # 시도 횟수\u001b[0m\n\u001b[0m        ^\u001b[0m\n\u001b[0;31mSyntaxError\u001b[0m\u001b[0;31m:\u001b[0m expected ':'\n"
          ]
        }
      ]
    },
    {
      "cell_type": "code",
      "source": [
        "and, as, assert, break, class, continue, def, del, elif, else, except,\n",
        "finally, for, from, global, if, import, in, is, lambda, nonlocal, not,\n",
        "or, pass, raise, return, try, while, with, yield, False, None, True"
      ],
      "metadata": {
        "id": "9POpTGiOV7BQ"
      },
      "execution_count": null,
      "outputs": []
    },
    {
      "cell_type": "markdown",
      "source": [
        "# 리스트는 변수를 여러 개 묶은 것\n",
        "\n",
        "변수 이야기는 여기까지 하고, 이제 리스트 이야기 하겠습니다.\n",
        "\n",
        "리스트는 값을 여러 개를 묶어서 저장하는 역할을 합니다.\n",
        "\n",
        "리스트는 수학의 집합이나 수열과 비슷한 역할을 하기도 합니다.\n",
        "\n",
        "리스트는 변수가 많을 때 이용하면 편리합니다.\n",
        "\n",
        "```\n",
        "x_0 = 0\n",
        "x_1 = 1\n",
        "x_2 = 1\n",
        "x_3 = 2\n",
        "x_4 = 3\n",
        "x_5 = 5\n",
        "x_6 = 8\n",
        "x_7 = 13\n",
        "...\n",
        "```\n",
        "\n",
        "```\n",
        "x = [0, 1, 1, 2, 3, 5, 8, 13, 21, ...]\n",
        "```\n",
        "\n",
        "리스트 각각의 값을 리스트의 원소라고 부르고, 그 값이 몇 번째 위치에 있는지를 인덱스라고 부릅니다.\n",
        "\n",
        "(예시: 리스트 x의 3번째 인덱스에 있는 원소는 2이다.)\n",
        "\n",
        "(예시: x의 3번째 원소는 2이다.)\n",
        "\n",
        "(예시: x의 3번째 인덱스에는 2가 있다.)"
      ],
      "metadata": {
        "id": "2VQKuhENk9_z"
      }
    },
    {
      "cell_type": "markdown",
      "source": [
        "# 파이썬 리스트의 최대 장점\n",
        "\n",
        "파이썬 리스트 원소는 타입이 상관없습니다!\n",
        "\n",
        "원소의 타입이 모두 정수여야 한다거나, 할 필요는 없습니다.\n",
        "\n",
        "이런 괴물도 허용됩니다!\n",
        "\n",
        "```\n",
        "example_list = [175, 68.3, \"chris\", True]\n",
        "```\n",
        "\n",
        "이것이 가능한 이유는 파이썬 리스트는 사실 각 값이 아니라 각 값의 주소를 저장하기 때문입니다. (변수랑 똑같죠?)\n",
        "\n",
        "그래서 example_list[0]와 같이 접근하면 그 주소로 접근해서 값을 참조하는 것이 됩니다.\n",
        "\n",
        "또한 파이썬 리스트는 길이에 집착하지 않아도 됩니다! 내부적으로 동적 메모리 할당이 자동으로 이루어집니다."
      ],
      "metadata": {
        "id": "Qn-NQDJ5l_5o"
      }
    },
    {
      "cell_type": "markdown",
      "source": [
        "# 실제적인 리스트 조작에 대하여...\n",
        "파이썬 리스트와 관련하여 정말 기능이 많지만 자주 쓰는 것만 빠르게 훑고 넘어가겠습니다.\n",
        "\n",
        "지금 다 외우려면 체해요! 천천히 친해져도 안 늦습니다 ~"
      ],
      "metadata": {
        "id": "pNv87_6QrEhJ"
      }
    },
    {
      "cell_type": "code",
      "source": [
        "# 빈 리스트를 생성해서 원하는 것들을 하나씩 저장하거나 삭제할 수 있습니다.\n",
        "\n",
        "a = []\n",
        "\n",
        "print(a)"
      ],
      "metadata": {
        "id": "6coWdsH5uesD",
        "colab": {
          "base_uri": "https://localhost:8080/"
        },
        "outputId": "4b86cbba-b781-45a9-e903-9c8163df4624"
      },
      "execution_count": null,
      "outputs": [
        {
          "output_type": "stream",
          "name": "stdout",
          "text": [
            "[]\n"
          ]
        }
      ]
    },
    {
      "cell_type": "code",
      "source": [
        "# len()은 리스트의 길이를 알려줍니다.\n",
        "\n",
        "a = [\"철수\", \"영희\", \"맹구\", \"훈이\", \"유리\", \"짱구\"]\n",
        "print(len(a)) # 인원 수"
      ],
      "metadata": {
        "colab": {
          "base_uri": "https://localhost:8080/"
        },
        "id": "5FcXNFAfk9FC",
        "outputId": "219722c0-ce42-49aa-e2c0-200cb6f6da32"
      },
      "execution_count": null,
      "outputs": [
        {
          "output_type": "stream",
          "name": "stdout",
          "text": [
            "6\n"
          ]
        }
      ]
    },
    {
      "cell_type": "code",
      "source": [
        "# append로 리스트에 추가할 수 있습니다.\n",
        "\n",
        "a = [\"철수\", \"영희\", \"맹구\", \"훈이\", \"유리\", \"짱구\"]\n",
        "a.append(\"흰둥\") # 새로운 인원 추가\n",
        "\n",
        "print(a)\n",
        "print(len(a))"
      ],
      "metadata": {
        "colab": {
          "base_uri": "https://localhost:8080/"
        },
        "id": "OLJZruFOjQjk",
        "outputId": "bb6bfa36-a47d-4713-8bc3-f294b5ba7ce0"
      },
      "execution_count": null,
      "outputs": [
        {
          "output_type": "stream",
          "name": "stdout",
          "text": [
            "['철수', '영희', '맹구', '훈이', '유리', '짱구', '흰둥']\n",
            "7\n"
          ]
        }
      ]
    },
    {
      "cell_type": "code",
      "source": [
        "# extend로 리스트를 연결할 수 있습니다.\n",
        "\n",
        "a = [1, 2, 3, 4, 5]\n",
        "b = [6, 7, 8, 9, 10]\n",
        "\n",
        "a.extend(b)\n",
        "print(a)"
      ],
      "metadata": {
        "colab": {
          "base_uri": "https://localhost:8080/"
        },
        "id": "PjGtQyoRs-om",
        "outputId": "687c8722-7efc-4c82-d898-f8e3a468036f"
      },
      "execution_count": null,
      "outputs": [
        {
          "output_type": "stream",
          "name": "stdout",
          "text": [
            "[1, 2, 3, 4, 5, 6, 7, 8, 9, 10]\n"
          ]
        }
      ]
    },
    {
      "cell_type": "code",
      "source": [
        "# 파이썬 리스트의 덧셈은 extend와 비슷합니다.\n",
        "\n",
        "a = [1, 2, 3]\n",
        "b = [5, 6, 7]\n",
        "c = a + b\n",
        "print(c)\n",
        "\n",
        "# 곱셈은 덧셈을 반복하는 것을 뜻합니다.\n",
        "c = a * 5\n",
        "print(c)"
      ],
      "metadata": {
        "colab": {
          "base_uri": "https://localhost:8080/"
        },
        "id": "3abt-XFnuY9S",
        "outputId": "27868724-2f69-4ead-c932-0996caa0f831"
      },
      "execution_count": null,
      "outputs": [
        {
          "output_type": "stream",
          "name": "stdout",
          "text": [
            "[1, 2, 3, 5, 6, 7]\n",
            "[1, 2, 3, 1, 2, 3, 1, 2, 3, 1, 2, 3, 1, 2, 3]\n"
          ]
        }
      ]
    },
    {
      "cell_type": "code",
      "source": [
        "# count로 개수를 셀 수 있습니다.\n",
        "\n",
        "a = [\"찬성\", \"찬성\", \"반대\", \"찬성\", \"반대\", \"찬성\",\n",
        "     \"반대\", \"찬성\", \"찬성\", \"반대\", \"반대\", \"찬성\"]\n",
        "print(a.count(\"찬성\"))\n",
        "print(a.count(\"반대\"))"
      ],
      "metadata": {
        "colab": {
          "base_uri": "https://localhost:8080/"
        },
        "id": "SSifWT0HtrpL",
        "outputId": "9b3061b7-4ad2-40ad-ce0c-f1560850ed29"
      },
      "execution_count": null,
      "outputs": [
        {
          "output_type": "stream",
          "name": "stdout",
          "text": [
            "7\n",
            "5\n"
          ]
        }
      ]
    },
    {
      "cell_type": "code",
      "source": [
        "# index로 인덱스를 찾을 수 있습니다. (0번째부터!) 없으면 -1을 반환합니다.\n",
        "\n",
        "a = [2, 3, 5, 7, 11, 13, 17, 19, 23, 29, 31]\n",
        "a.index(17)"
      ],
      "metadata": {
        "colab": {
          "base_uri": "https://localhost:8080/"
        },
        "id": "X-Pm1ZpHMEma",
        "outputId": "262a4e7b-0634-41a0-9699-bbcadae528a0"
      },
      "execution_count": null,
      "outputs": [
        {
          "output_type": "execute_result",
          "data": {
            "text/plain": [
              "6"
            ]
          },
          "metadata": {},
          "execution_count": 38
        }
      ]
    },
    {
      "cell_type": "code",
      "source": [
        "# max, min, sum을 이용해서 다 더하거나 최대값, 최소값을 찾을 수 있습니다.\n",
        "\n",
        "a = [260, 255, 270, 280, 275, 255, 260, 255, 270, 270, 265]\n",
        "print(max(a), min(a), sum(a))"
      ],
      "metadata": {
        "colab": {
          "base_uri": "https://localhost:8080/"
        },
        "id": "NzFPPf6RMjiC",
        "outputId": "c8f1680c-895f-4696-d2fd-a38bcbf4e3e0"
      },
      "execution_count": null,
      "outputs": [
        {
          "output_type": "stream",
          "name": "stdout",
          "text": [
            "280 255 2915\n"
          ]
        }
      ]
    },
    {
      "cell_type": "code",
      "source": [
        "# 리스트의 인덱스 슬라이싱 -> 지금 당장 다 알 필요는 없습니다. 저도 간혹 실수합니다.\n",
        "\n",
        "a = [4, 5, 6, 7, 8]\n",
        "\n",
        "print(a[0]) # 0번째 인덱스 잘라오기\n",
        "print(a[1:3]) # 1번째부터 3 \"미만\"의 인덱스까지 잘라오기\n",
        "print(a[1:]) # 1번째부터 마지막 끝까지 잘라오기\n",
        "print(a[-1]) # -1로 인덱싱하면 리스트의 마지막 원소에 접근할 수 있습니다.\n",
        "print(a[:-1]) # 0번째부터 마지막 인덱스 미만까지 잘라오기\n",
        "print(a[1:-1]) # 1번쨰부터 마지막 인덱스 미만까지 잘라오기\n",
        "print(a[::2]) # 0번째부터 두칸씩 띄엄띄엄 출력\n",
        "print(a[::-1]) # 거꾸로 출력"
      ],
      "metadata": {
        "id": "3UksoOdWtGA-",
        "colab": {
          "base_uri": "https://localhost:8080/"
        },
        "outputId": "fc9fedd8-24de-4df6-9cd8-f0ff9214be0f"
      },
      "execution_count": 11,
      "outputs": [
        {
          "output_type": "stream",
          "name": "stdout",
          "text": [
            "4\n",
            "[5, 6]\n",
            "[5, 6, 7, 8]\n",
            "8\n",
            "[4, 5, 6, 7]\n",
            "[5, 6, 7]\n",
            "[4, 6, 8]\n",
            "[8, 7, 6, 5, 4]\n"
          ]
        }
      ]
    },
    {
      "cell_type": "code",
      "source": [
        "# 리스트 인덱싱으로 리스트를 수정할 수 있습니다.\n",
        "\n",
        "a = [4, 5, 6, 7, 8]\n",
        "a[0] = 3\n",
        "a[2] -= 1 # a[2]의 값을 1 빼기\n",
        "a[4] += 1 # a[2]의 값을 1 더하기\n",
        "print(a)"
      ],
      "metadata": {
        "colab": {
          "base_uri": "https://localhost:8080/"
        },
        "id": "wjJcUaXALUh6",
        "outputId": "7a728d35-ffdf-4beb-b7e1-d3ea176f2757"
      },
      "execution_count": null,
      "outputs": [
        {
          "output_type": "stream",
          "name": "stdout",
          "text": [
            "[3, 5, 5, 7, 9]\n"
          ]
        }
      ]
    },
    {
      "cell_type": "code",
      "source": [
        "# 인덱싱 활용 예시\n",
        "\n",
        "a = [4, 5, 6, 7, 8]\n",
        "print(a[2] + a[4])"
      ],
      "metadata": {
        "colab": {
          "base_uri": "https://localhost:8080/"
        },
        "id": "DX8vkb4kB0Yz",
        "outputId": "33323461-b60b-4876-e1ed-135f7397967d"
      },
      "execution_count": null,
      "outputs": [
        {
          "output_type": "stream",
          "name": "stdout",
          "text": [
            "14\n"
          ]
        }
      ]
    },
    {
      "cell_type": "code",
      "source": [
        "# 인덱스를 벗어나면 에러가 떠요!\n",
        "\n",
        "a = [4, 5, 6, 7, 8]\n",
        "print(a[100])"
      ],
      "metadata": {
        "colab": {
          "base_uri": "https://localhost:8080/",
          "height": 182
        },
        "id": "3tYQ7zH0jz9_",
        "outputId": "46c28ba0-ca7c-4c52-ef0c-28c305c12770"
      },
      "execution_count": 6,
      "outputs": [
        {
          "output_type": "error",
          "ename": "IndexError",
          "evalue": "list index out of range",
          "traceback": [
            "\u001b[0;31m---------------------------------------------------------------------------\u001b[0m",
            "\u001b[0;31mIndexError\u001b[0m                                Traceback (most recent call last)",
            "\u001b[0;32m<ipython-input-6-d5db0f20b85e>\u001b[0m in \u001b[0;36m<cell line: 4>\u001b[0;34m()\u001b[0m\n\u001b[1;32m      2\u001b[0m \u001b[0;34m\u001b[0m\u001b[0m\n\u001b[1;32m      3\u001b[0m \u001b[0ma\u001b[0m \u001b[0;34m=\u001b[0m \u001b[0;34m[\u001b[0m\u001b[0;36m4\u001b[0m\u001b[0;34m,\u001b[0m \u001b[0;36m5\u001b[0m\u001b[0;34m,\u001b[0m \u001b[0;36m6\u001b[0m\u001b[0;34m,\u001b[0m \u001b[0;36m7\u001b[0m\u001b[0;34m,\u001b[0m \u001b[0;36m8\u001b[0m\u001b[0;34m]\u001b[0m\u001b[0;34m\u001b[0m\u001b[0;34m\u001b[0m\u001b[0m\n\u001b[0;32m----> 4\u001b[0;31m \u001b[0mprint\u001b[0m\u001b[0;34m(\u001b[0m\u001b[0ma\u001b[0m\u001b[0;34m[\u001b[0m\u001b[0;36m100\u001b[0m\u001b[0;34m]\u001b[0m\u001b[0;34m)\u001b[0m\u001b[0;34m\u001b[0m\u001b[0;34m\u001b[0m\u001b[0m\n\u001b[0m",
            "\u001b[0;31mIndexError\u001b[0m: list index out of range"
          ]
        }
      ]
    },
    {
      "cell_type": "code",
      "source": [
        "# 삭제\n",
        "\n",
        "a = [5, 6, 7, 8, 9, 10]\n",
        "del a[3]\n",
        "print(a)"
      ],
      "metadata": {
        "colab": {
          "base_uri": "https://localhost:8080/"
        },
        "id": "1G-QOli2e_Ni",
        "outputId": "b1cb13a0-fd06-4bbe-cf7a-ceb550982665"
      },
      "execution_count": 1,
      "outputs": [
        {
          "output_type": "stream",
          "name": "stdout",
          "text": [
            "[5, 6, 7, 9, 10]\n"
          ]
        }
      ]
    },
    {
      "cell_type": "code",
      "source": [
        "# remove를 이용한 삭제\n",
        "\n",
        "a = [5, 6, 7, 8, 9, 10]\n",
        "a.remove(8)\n",
        "\n",
        "print(a)"
      ],
      "metadata": {
        "colab": {
          "base_uri": "https://localhost:8080/"
        },
        "id": "IfxrwLJ9fITN",
        "outputId": "d0576124-2ed3-4cc6-ecef-129360fa5575"
      },
      "execution_count": 4,
      "outputs": [
        {
          "output_type": "stream",
          "name": "stdout",
          "text": [
            "[5, 6, 7, 9, 10]\n"
          ]
        }
      ]
    },
    {
      "cell_type": "code",
      "source": [
        "# 리스트 정렬하기\n",
        "\n",
        "a = ['arsenal', 'chelsea', 'man city', 'man united', 'liverpool']\n",
        "a.sort()\n",
        "print(a)"
      ],
      "metadata": {
        "colab": {
          "base_uri": "https://localhost:8080/"
        },
        "id": "NDFNpTowPFPO",
        "outputId": "f81c97e6-9afa-4ff8-9818-605cf6a64fb9"
      },
      "execution_count": null,
      "outputs": [
        {
          "output_type": "stream",
          "name": "stdout",
          "text": [
            "['arsenal', 'chelsea', 'liverpool', 'man city', 'man united']\n"
          ]
        }
      ]
    },
    {
      "cell_type": "code",
      "source": [
        "# 리스트 정렬하기 - 계속\n",
        "\n",
        "a = ['arsenal', 'chelsea', 'man city', 'man united', 'liverpool']\n",
        "print(sorted(a)) # a.sort()는 a가 참조하는 객체를 바꾸지만 sorted(a)는 적용한 이후에도 a의 원본을 바꾸지 않습니다."
      ],
      "metadata": {
        "colab": {
          "base_uri": "https://localhost:8080/"
        },
        "id": "NXCHkwFfPmDN",
        "outputId": "b73a94c8-80ae-4255-8ec4-717d43c8bdc0"
      },
      "execution_count": null,
      "outputs": [
        {
          "output_type": "stream",
          "name": "stdout",
          "text": [
            "['arsenal', 'chelsea', 'liverpool', 'man city', 'man united']\n"
          ]
        }
      ]
    },
    {
      "cell_type": "code",
      "source": [
        "# 참고: 리스트 정렬하기 - 승점에 따라 정렬\n",
        "\n",
        "a = [['arsenal', 56], ['chelsea', 66], ['man city', 81], ['man united', 66], ['liverpool', 99]]\n",
        "a.sort(key = lambda x: (x[1], x[0]))\n",
        "print(a)"
      ],
      "metadata": {
        "colab": {
          "base_uri": "https://localhost:8080/"
        },
        "id": "x8RH1FFSQMYe",
        "outputId": "23b4d61f-fb5f-443f-f41d-cf4127b76717"
      },
      "execution_count": null,
      "outputs": [
        {
          "output_type": "stream",
          "name": "stdout",
          "text": [
            "[['arsenal', 56], ['chelsea', 66], ['man united', 66], ['man city', 81], ['liverpool', 99]]\n"
          ]
        }
      ]
    },
    {
      "cell_type": "markdown",
      "source": [
        "# 주의하셔야 할 부분\n",
        "\n",
        "파이썬 인덱스 슬라이싱에서 list[a:b]라고 하면 그 결과는 `[list[a], list[a+1], ... list[b-1]]`입니다. 이 결과에 list[b]는 포함되지 않습니다.\n",
        "\n",
        "# 급체 주의\n",
        "지금 다 알려고 하면 체해요!!!!!!!!!!"
      ],
      "metadata": {
        "id": "65g38-0jNC7A"
      }
    },
    {
      "cell_type": "markdown",
      "source": [
        "# 특히 조건문에서 요긴하게 쓰이는 기능\n",
        "\n",
        "in 연산자를 이용해 포함 관계를 살펴볼 수 있습니다.\n",
        "\n",
        "출력 값은 True 아니면 False입니다. (boolean 형)\n",
        "\n",
        "```\n",
        "good_men_list = [\"Steven Gerrard\", \"John Terry\", \"Kun Aguero\", \"Lionel Messi\"]\n",
        "\n",
        "print(\"Ronaldo\" in good_men_list)\n",
        "\n",
        "```"
      ],
      "metadata": {
        "id": "dvA8u-cwuQpt"
      }
    },
    {
      "cell_type": "code",
      "source": [
        "good_men_list = [\"Steven Gerrard\", \"John Terry\", \"Kun Aguero\", \"Lionel Messi\"]\n",
        "\n",
        "print(\"Ronaldo\" in good_men_list)"
      ],
      "metadata": {
        "colab": {
          "base_uri": "https://localhost:8080/"
        },
        "id": "EC2Ozb5qu1T2",
        "outputId": "86880c93-698e-44ef-df63-68ff0e5df97d"
      },
      "execution_count": 10,
      "outputs": [
        {
          "output_type": "stream",
          "name": "stdout",
          "text": [
            "False\n"
          ]
        }
      ]
    },
    {
      "cell_type": "markdown",
      "source": [
        "# 특히 반복문에서 요긴하게 쓰이는 기능\n",
        "\n",
        "파이썬의 반복문을 쓸 때 range()를 쓰면 아주 좋습니다. 곧 다시 보게 될 것입니다.\n",
        "\n",
        "ex) `for i in range(10): print(i)` : i = 0, 1, 2, ... , 9까지 총 10번 반복\n",
        "\n",
        "ex) `for j in range(1, 11): print(j)` j = 1, 2, 3, ... , 10까지 총 10번 반복\n",
        "\n",
        "ex) `for k in range(1, 11, 2): print(k)` k = 1, 3, 5, 7, 9까지 반복\n",
        "\n",
        "ex) `for ㅣ in range(10, 0, -1): print(ㅣ)` ㅣ = 10, 9, 8, 7, 6, 5, 4, 3, 2, 1까지 반복\n",
        "\n",
        "참고: 반복문은 같은 작업을 여러 번 수행해주는 도구입니다. 추후에 자세히 다룰 예정입니다.\n",
        "\n",
        "눈 여겨볼 점은 range() 자체로도 귀찮음을 줄일 수 있다는 것입니다.\n",
        "\n",
        "[2, 4, 6, 8, 10, 12, ... , 100]을 만들어야 할 때 일일이 입력하거나 반복문을 쓰지 않고도 range(2, 102, 2)를 쓰는 것만으로 충분하기 때문입니다."
      ],
      "metadata": {
        "id": "tlzxVfOcB9Zv"
      }
    },
    {
      "cell_type": "code",
      "source": [
        "# 그냥 range(10)은 리스트 자체는 아닙니다.\n",
        "# 이런 것은 list()로 감싸서 리스트로 만들어줄 수 있습니다.\n",
        "\n",
        "print(range(10))\n",
        "\n",
        "print(list(range(10)))"
      ],
      "metadata": {
        "colab": {
          "base_uri": "https://localhost:8080/"
        },
        "id": "AbNmp3s5B6N1",
        "outputId": "838d2532-de9d-4ef7-c629-40575dc2e392"
      },
      "execution_count": null,
      "outputs": [
        {
          "output_type": "stream",
          "name": "stdout",
          "text": [
            "range(0, 10)\n",
            "[0, 1, 2, 3, 4, 5, 6, 7, 8, 9]\n"
          ]
        }
      ]
    },
    {
      "cell_type": "code",
      "source": [
        "for k in range(1, 11, 2):\n",
        "    print(k)"
      ],
      "metadata": {
        "colab": {
          "base_uri": "https://localhost:8080/"
        },
        "id": "Jlzo5W_PCRx8",
        "outputId": "da391cb9-e4b1-4c12-ae90-8bceba181d04"
      },
      "execution_count": null,
      "outputs": [
        {
          "output_type": "stream",
          "name": "stdout",
          "text": [
            "1\n",
            "3\n",
            "5\n",
            "7\n",
            "9\n"
          ]
        }
      ]
    },
    {
      "cell_type": "code",
      "source": [
        "for j in range(10, 0, -1):\n",
        "    print(j)"
      ],
      "metadata": {
        "colab": {
          "base_uri": "https://localhost:8080/"
        },
        "id": "zUd_5LHQDior",
        "outputId": "050ef9b3-02b3-470b-95ab-71b76bd3468b"
      },
      "execution_count": null,
      "outputs": [
        {
          "output_type": "stream",
          "name": "stdout",
          "text": [
            "10\n",
            "9\n",
            "8\n",
            "7\n",
            "6\n",
            "5\n",
            "4\n",
            "3\n",
            "2\n",
            "1\n"
          ]
        }
      ]
    },
    {
      "cell_type": "markdown",
      "source": [
        "# range 사용 시 주의!!!\n",
        "\n",
        "주의: range(1, 10)에는 1, 2, ... , 9까지만 포함되고 맨 끝 점인 10은 포함되지 않습니다."
      ],
      "metadata": {
        "id": "zbZU6aimDDe1"
      }
    },
    {
      "cell_type": "markdown",
      "source": [
        "# 간단히만 보는 이차원 리스트\n",
        "\n",
        "리스트의 원소로 리스트가 들어간 형태를 의미합니다.\n",
        "\n",
        "행렬처럼 다룰 수 있습니다. (엑셀 데이터, 이미지 처리 시에 활용)\n",
        "\n",
        "가령 이런 형태입니다.\n",
        "\n",
        "`a = [[1, 0, 0, 0], [0, 1, 0, 0], [0, 0, 0, 1]]`\n",
        "\n",
        "이렇게 쓰기도 하지만, 가로와 세로를 알아보기 쉽게 이렇게 쓰기도 합니다.\n",
        "\n",
        "```\n",
        "a = [[1, 0, 0, 0],\n",
        "     [0, 1, 0, 0],\n",
        "     [0, 0, 0, 1]]\n",
        "```\n",
        "\n",
        "참고: 꼭 직사각형 모양이 아니라 요란한 모양으로 만들어도 됩니다.\n",
        "\n",
        "```\n",
        "a = [[1],\n",
        "     [0, 1],\n",
        "     [0, 0, 1],\n",
        "     [0, 0, 0, 1],\n",
        "     [0, 0, 0, 0, 1]]\n",
        "```"
      ],
      "metadata": {
        "id": "wfddwZ5lH31H"
      }
    },
    {
      "cell_type": "markdown",
      "source": [
        "# 이차원 리스트도 일차원 리스트와 똑같은 연산을 쓸 수 있습니다."
      ],
      "metadata": {
        "id": "x7js9cF1Jbeu"
      }
    },
    {
      "cell_type": "code",
      "source": [
        "a = [[1, 0, 0, 0],\n",
        "     [0, 1, 0, 0],\n",
        "     [0, 0, 0, 1]]\n",
        "\n",
        "a[2][2] += 3\n",
        "a.append([1, 2, 3, 4])\n",
        "\n",
        "print(a)"
      ],
      "metadata": {
        "colab": {
          "base_uri": "https://localhost:8080/"
        },
        "id": "0stdwUitJk3t",
        "outputId": "6baedf10-2ed1-4aab-8c1c-22ff0c7a95cd"
      },
      "execution_count": null,
      "outputs": [
        {
          "output_type": "stream",
          "name": "stdout",
          "text": [
            "[[1, 0, 0, 0], [0, 1, 0, 0], [0, 0, 3, 1], [1, 2, 3, 4]]\n"
          ]
        }
      ]
    },
    {
      "cell_type": "markdown",
      "source": [
        "# 리스트 컴프리헨션\n",
        "\n",
        "마지막이에요!\n",
        "\n",
        "리스트의 element에 여러 개를 규칙적으로 넣어서 생성하고 싶은데, range()만 가지고는 구현할 수 없을 때 쓸 수 있습니다.\n",
        "\n",
        "리스트 안에 반복문이 들어가있는데요, 잘 쓰면 실무에서도 좋고 코딩 테스트에서도 아주 좋습니다.\n",
        "\n",
        "가령 이런 식입니다."
      ],
      "metadata": {
        "id": "AG3q8bLSDvWZ"
      }
    },
    {
      "cell_type": "code",
      "source": [
        "str_list = [i**2 for i in range(11)] # 제곱수들의 리스트는 range()만으로 만들기 힘들겠죠?\n",
        "str_list"
      ],
      "metadata": {
        "colab": {
          "base_uri": "https://localhost:8080/"
        },
        "id": "1VyqQsznChx8",
        "outputId": "5b221eb9-cfeb-4b53-b0c9-2265a0eeda63"
      },
      "execution_count": null,
      "outputs": [
        {
          "output_type": "execute_result",
          "data": {
            "text/plain": [
              "[0, 1, 4, 9, 16, 25, 36, 49, 64, 81, 100]"
            ]
          },
          "metadata": {},
          "execution_count": 14
        }
      ]
    },
    {
      "cell_type": "code",
      "source": [
        "# 중첩 반복문을 배우시면 이해가 더 빠르시겠지만, 이런 것도 만들 수 있다는 걸 참고해봐요!\n",
        "\n",
        "nine_by_nine = [[x*y for x in range(1, 10)] for y in range(2, 10)]\n",
        "nine_by_nine"
      ],
      "metadata": {
        "colab": {
          "base_uri": "https://localhost:8080/"
        },
        "id": "qtPWfcnUHowv",
        "outputId": "07f1d3ec-5d4b-4ec4-b56b-a85bca262cc3"
      },
      "execution_count": null,
      "outputs": [
        {
          "output_type": "execute_result",
          "data": {
            "text/plain": [
              "[[2, 4, 6, 8, 10, 12, 14, 16, 18],\n",
              " [3, 6, 9, 12, 15, 18, 21, 24, 27],\n",
              " [4, 8, 12, 16, 20, 24, 28, 32, 36],\n",
              " [5, 10, 15, 20, 25, 30, 35, 40, 45],\n",
              " [6, 12, 18, 24, 30, 36, 42, 48, 54],\n",
              " [7, 14, 21, 28, 35, 42, 49, 56, 63],\n",
              " [8, 16, 24, 32, 40, 48, 56, 64, 72],\n",
              " [9, 18, 27, 36, 45, 54, 63, 72, 81]]"
            ]
          },
          "metadata": {},
          "execution_count": 42
        }
      ]
    },
    {
      "cell_type": "markdown",
      "source": [
        "# 다음 시간에 잠시 발표할 사람?\n",
        "\n",
        "두 변수를 바꾸는 프로그램을 작성하고 설명해보세요.\n",
        "\n",
        "단, 아래 방식은 반칙!\n",
        "\n",
        "```\n",
        "a, b = b, a\n",
        "```"
      ],
      "metadata": {
        "id": "FJev75ENtACZ"
      }
    }
  ]
}