{
  "nbformat": 4,
  "nbformat_minor": 0,
  "metadata": {
    "colab": {
      "provenance": [],
      "authorship_tag": "ABX9TyNdsxKa+ZyJEn3/keNnHJC5",
      "include_colab_link": true
    },
    "kernelspec": {
      "name": "python3",
      "display_name": "Python 3"
    },
    "language_info": {
      "name": "python"
    }
  },
  "cells": [
    {
      "cell_type": "markdown",
      "metadata": {
        "id": "view-in-github",
        "colab_type": "text"
      },
      "source": [
        "<a href=\"https://colab.research.google.com/github/cacbondioxit/2024-K-NET-DEVELOP/blob/main/6%EC%A3%BC%EC%B0%A8.ipynb\" target=\"_parent\"><img src=\"https://colab.research.google.com/assets/colab-badge.svg\" alt=\"Open In Colab\"/></a>"
      ]
    },
    {
      "cell_type": "markdown",
      "source": [
        "# 시작하기 전\n",
        "\n",
        "for문을 이용하면 join같은 함수가 필요없지 않나요?\n",
        "\n",
        "- join() 등의 내장 함수가 최적화가 잘 되어있어 for문보다 실제로 빠릅니다!\n",
        "    - 파이썬의 time 모듈을 이용해서 확인 가능합니다.\n",
        "- join()은 for문보다도 코드 작성자의 의도를 바로 보여줄 수 있습니다.\n",
        "    - 사용자의 의도를 담은 새로운 함수를 여러분도 만들 수 있습니다."
      ],
      "metadata": {
        "id": "LzhdGw7d8Cww"
      }
    },
    {
      "cell_type": "code",
      "execution_count": null,
      "metadata": {
        "colab": {
          "base_uri": "https://localhost:8080/"
        },
        "id": "AvIYmasD6hBV",
        "outputId": "a09d5911-b951-4074-dba3-612a99c8f20a"
      },
      "outputs": [
        {
          "output_type": "stream",
          "name": "stdout",
          "text": [
            "join 이용: 0.0001392364501953125s\n",
            "for문 이용: 0.51656174659729s\n"
          ]
        }
      ],
      "source": [
        "import time\n",
        "\n",
        "alphabet = \"ABCDEFGHIJKLMNOPQRSTUVWXYZ\"\n",
        "example = [alphabet[i % 26] for i in range(1000000)]\n",
        "\n",
        "start = time.time()\n",
        "result = \"\".join(alphabet)\n",
        "end = time.time()\n",
        "print(f\"join 이용: {end - start}s\")\n",
        "\n",
        "start = time.time()\n",
        "result = \"\"\n",
        "for char in example:\n",
        "    result += char\n",
        "end = time.time()\n",
        "print(f\"for문 이용: {end - start}s\")"
      ]
    },
    {
      "cell_type": "markdown",
      "source": [
        "# 막간을 이용한 홍보: 집합(Set)\n",
        "\n",
        "리스트와 비슷하지만 중복된 것을 같은 것으로 취급하는 자료 구조입니다.\n",
        "\n",
        "수학에서 말하는 집합과 비슷하고, 코테에서 유용합니다.\n",
        "\n",
        "(리스트에서 중복을 삭제하고 싶을 때 set()으로 감싸면 좋음)\n",
        "\n",
        "- set과 관련된 연산\n",
        "    - 원소 추가/제거\n",
        "    - 합집합, 교집합, 차집합\n",
        "    - in 연산자, 부분집합 등\n",
        "\n",
        "참고: set은 ***mutable 객체***입니다.\n",
        "- Immutable: int, float, str, bool, tuple, ...\n",
        "- mutable: list, set, dict, ...\n"
      ],
      "metadata": {
        "id": "DksKQXFN8CMC"
      }
    },
    {
      "cell_type": "code",
      "source": [
        "A = [1, 2, 1, 2, 3, 1, 2, 3, 4]\n",
        "\n",
        "A = set(A)\n",
        "\n",
        "print(A)"
      ],
      "metadata": {
        "colab": {
          "base_uri": "https://localhost:8080/"
        },
        "id": "4-MsdedMEe4c",
        "outputId": "4e5d1b42-441e-4781-eb78-f216faffd0e2"
      },
      "execution_count": null,
      "outputs": [
        {
          "output_type": "stream",
          "name": "stdout",
          "text": [
            "{1, 2, 3, 4}\n"
          ]
        }
      ]
    },
    {
      "cell_type": "markdown",
      "source": [
        "# 함수는 코드 여러 줄을 묶은 것\n",
        "\n",
        "프로그래밍에서 함수는 보통의 경우 2가지 의미를 가집니다.\n",
        "\n",
        "1. 입력과 출력이 있는 (수학적 의미의) 함수\n",
        "2. 코드(계산 과정) 여러 줄을 묶어놓은 것 -> 재사용과 관리가 용이하고 가독성이 유리함\n",
        "\n",
        "실제 수학에서의 함수처럼 동작하고 호출할 수 있지만, 사용 예시가 미묘하게 다릅니다.\n",
        "\n",
        "프로그래밍에서 함수를 잘 쓰고 싶다면 특히 2번의 의미에 집중해주시기 바랍니다."
      ],
      "metadata": {
        "id": "jMV8slV6-ySy"
      }
    },
    {
      "cell_type": "code",
      "source": [
        "# 함수 예시 - 너무 쉬운가요?\n",
        "\n",
        "def add(a, b):\n",
        "    return a + b\n",
        "\n",
        "# 함수 호출\n",
        "result = add(3, 4)\n",
        "print(result)"
      ],
      "metadata": {
        "colab": {
          "base_uri": "https://localhost:8080/"
        },
        "id": "41o9RaAJLGDf",
        "outputId": "298fa8e2-9f4e-4337-8707-4e101dc79ba4"
      },
      "execution_count": null,
      "outputs": [
        {
          "output_type": "stream",
          "name": "stdout",
          "text": [
            "7\n"
          ]
        }
      ]
    },
    {
      "cell_type": "code",
      "source": [
        "# 함수 예시\n",
        "\n",
        "def fibo(num):\n",
        "    '''\n",
        "    피보나치 수열의 num번째 항을 구하는 함수입니다.\n",
        "    지난 주차에서 보여드린 코드를 함수로 묶은 것입니다.\n",
        "    num은 0부터 시작이며 0번째 항, 1번째 항은 모두 1, 1입니다.\n",
        "    '''\n",
        "\n",
        "    if num == 0: return 1\n",
        "    if num == 1: return 1\n",
        "\n",
        "    a, b = 1, 1\n",
        "    for _ in range(num-2): # 반복문의 카운터 변수를 쓰지 않을 경우, _로 채워주어도 됩니다.\n",
        "        next = a + b # 다음 항 계산\n",
        "        a, b = b, next # 첫 항, 둘째 항을 각각 둘째 항, 셋째 항으로 바꾼 후 계속 반복\n",
        "    return next"
      ],
      "metadata": {
        "id": "r9LJATSC7nkq"
      },
      "execution_count": null,
      "outputs": []
    },
    {
      "cell_type": "code",
      "source": [
        "# 함수 호출 예시\n",
        "\n",
        "example = fibo(10)\n",
        "print(example)"
      ],
      "metadata": {
        "colab": {
          "base_uri": "https://localhost:8080/"
        },
        "id": "m0qpZjTHE2ho",
        "outputId": "81a68c61-d05c-4864-c27a-35067b740de2"
      },
      "execution_count": null,
      "outputs": [
        {
          "output_type": "stream",
          "name": "stdout",
          "text": [
            "55\n"
          ]
        }
      ]
    },
    {
      "cell_type": "markdown",
      "source": [
        "# 모듈, 패키지, 라이브러리?\n",
        "\n",
        "모듈: 여러분이 만들었거나 다른 사람이 미리 만든 함수나 변수 또는 클래스를 모아 놓은 파이썬 코드 파일입니다.\n",
        "\n",
        "모듈의 함수는 보통 1, 2의 의미 모두를 가지고 있습니다.\n",
        "\n",
        "위의 time도 모듈이고, 지난번 if문 예시에서 봤던 공포의 러시안 룰렛 게임에 실려있던 os, random 등도 모듈입니다.\n",
        "\n",
        "- 내장 모듈: 파이썬에 기본적으로 내장된 모듈 (time, os, random, math, ...)\n",
        "- 외장 모듈: 다른 이들이나 여러분이 직접 만든 모듈\n",
        "\n",
        "패키지: 모듈의 집합입니다.\n",
        "- 예시: numpy, pandas, ...\n",
        "\n",
        "라이브러리: 여러 패키지와 모듈을 집합한 것입니다.\n",
        "- 재사용 가능한 코드를 좀 더 포괄적으로 칭하는 용어입니다.\n",
        "- 예시: matplotlib, ...\n",
        "\n",
        "모듈이 모이면 패키지가 되고, 패키지가 모이면 라이브러리가 됩니다.\n",
        "\n",
        "# 모듈의 존재 의의\n",
        "\n",
        "1. 고수들이 만들어놓은 것들을 잘 써먹으면 좋기 때문입니다.\n",
        "\n",
        "2. 내가 예전에 만든 것을 재활용할 때도 용이하기 때문입니다.\n",
        "\n",
        "- (자동차를 만들기 위해) \"바퀴를 재발명하지 말라!\"\n",
        "\n",
        "- 깃허브에서 볼 수 있는 파이썬 오픈소스 프로젝트는 상당수가 패키지 혹은 라이브러리라고 볼 수 있습니다.\n",
        "\n",
        "### 모듈 이야기는 이 정도로만 끝내고, 함수 이야기를 더 자세히 하겠습니다."
      ],
      "metadata": {
        "id": "wfpf-pwMEfzY"
      }
    },
    {
      "cell_type": "markdown",
      "source": [
        "# 함수의 존재 의의\n",
        "\n",
        "함수를 써서 코드를 세부 기능 단위로 분리하면 코드가 깔끔해집니다.\n",
        "\n",
        "간단한 예시: 2부터 1000까지 소수(prime number)는 몇 개인지 출력하는 프로그램\n",
        "\n",
        "```\n",
        "cnt = 0\n",
        "for num in range(2, 1001):\n",
        "    is_prime = True\n",
        "    for j in range(2, num): # 중첩 반복문!\n",
        "        if num % j == 0:\n",
        "            is_prime = False\n",
        "            break\n",
        "    if is_prime:\n",
        "        cnt += 1\n",
        "\n",
        "print(cnt)\n",
        "```"
      ],
      "metadata": {
        "id": "CIOQ2HOFHeG3"
      }
    },
    {
      "cell_type": "code",
      "source": [
        "cnt = 0 # 한 개씩 개수 세기\n",
        "for num in range(2, 1001):\n",
        "    is_prime = True\n",
        "    # 2~1000에 대해 소수 여부 검사\n",
        "    for j in range(2, num): # 중첩 반복문!\n",
        "        if num % j == 0:\n",
        "            is_prime = False\n",
        "            break\n",
        "    if is_prime:\n",
        "        cnt += 1\n",
        "\n",
        "print(cnt)"
      ],
      "metadata": {
        "colab": {
          "base_uri": "https://localhost:8080/"
        },
        "id": "kWu6WbnBFG0h",
        "outputId": "a6735bd9-069c-4b2c-90f5-c12da9deef16"
      },
      "execution_count": null,
      "outputs": [
        {
          "output_type": "stream",
          "name": "stdout",
          "text": [
            "168\n"
          ]
        }
      ]
    },
    {
      "cell_type": "code",
      "source": [
        "def is_prime(num): # 소수 판별 함수 정의 (출력이 True 혹은 False)\n",
        "    for j in range(2, num):\n",
        "        if num % j == 0:\n",
        "            return False\n",
        "    return True\n",
        "\n",
        "# 개수 세기 - 함수를 이용하였더니 중첩 반복문의 형식을 피할 수 있게 됨\n",
        "cnt = 0\n",
        "for num in range(2, 1001):\n",
        "    if is_prime(num):\n",
        "        cnt += 1\n",
        "print(cnt)"
      ],
      "metadata": {
        "colab": {
          "base_uri": "https://localhost:8080/"
        },
        "id": "FswyOcrqI6JG",
        "outputId": "4e741e6c-27b8-42ba-dee2-68c8ef67df66"
      },
      "execution_count": null,
      "outputs": [
        {
          "output_type": "stream",
          "name": "stdout",
          "text": [
            "168\n"
          ]
        }
      ]
    },
    {
      "cell_type": "markdown",
      "source": [
        "참고: 변수 이름처럼 함수 이름, 파일 이름도 직관적으로 잘 지어야 합니다. 잘 지으면 영어 문장 읽듯이 코드가 읽힙니다.\n",
        "\n",
        "```\n",
        "if is_prime(num):\n",
        "    # 소수이면 1 증가\n",
        "    cnt += 1\n",
        "```\n",
        "\n",
        "참고: 내가 무슨 함수를 만들고 싶은 것인지(만들면 좋은지) 잘 생각하면 좋습니다.\n",
        "\n",
        "- 코드 짜다가, 뭔가 코드를 복잡하게 만드는 요소를 잘 관찰해서 함수로 따로 빼버리면 좋습니다.\n",
        "- 처음 연습할 땐 가능한 작은 단위로 다 쪼개보세요.\n",
        "- 여러 번 해보면 어렵지 않다는 것을 알 수 있습니다.\n",
        "\n",
        "참고: 함수의 컨셉에 대한 이해가 있으면 남의 코드(i.e. 라이브러리) 가져다쓰기도 즐겁습니다."
      ],
      "metadata": {
        "id": "cFLYMGy6KM43"
      }
    },
    {
      "cell_type": "markdown",
      "source": [
        "# 함수의 입력과 출력\n",
        "\n",
        "함수는 반드시 입력과 출력이 있지 않아도 됩니다.\n",
        "\n",
        "- 입력(input) 없음: 함수 정의 시 소괄호 안을 비우면 됩니다.\n",
        "- 출력(output) 없음: return을 쓰지 않아도 됩니다. 혹은 return을 함수 탈출 용도로만 써도 됩니다. (break와 비슷)\n",
        "\n",
        "```\n",
        "# 함수의 입출력이 모두 있음\n",
        "def say_hi(name):\n",
        "    return f\"Hello, {name}!\"\n",
        "```\n",
        "\n",
        "```\n",
        "# 리턴 값이 없음\n",
        "def say_hi(name):\n",
        "    print(f\"Hello, {name}!\")\n",
        "```\n",
        "\n",
        "```\n",
        "# 인풋이 없음\n",
        "def say_hi():\n",
        "    return \"Hello World!\"\n",
        "```\n",
        "\n",
        "```\n",
        "# 입출력이 모두 없음\n",
        "def say_hi():\n",
        "    print(\"Hello World!\")\n",
        "```"
      ],
      "metadata": {
        "id": "3h5Jyk7HMac8"
      }
    },
    {
      "cell_type": "code",
      "source": [
        "def say_hi(name):\n",
        "    print(f\"Hello, {name}!\")\n",
        "\n",
        "say_hi(\"John\")"
      ],
      "metadata": {
        "colab": {
          "base_uri": "https://localhost:8080/"
        },
        "id": "j1NS3GoIMAkb",
        "outputId": "ef9e865b-dea7-4534-fa21-a68e074eb933"
      },
      "execution_count": null,
      "outputs": [
        {
          "output_type": "stream",
          "name": "stdout",
          "text": [
            "Hello, John!\n"
          ]
        }
      ]
    },
    {
      "cell_type": "markdown",
      "source": [
        "# 매개변수와 인자\n",
        "\n",
        "참고: 소괄호 안에 들어가는 name을 파라미터(매개변수)라고 하고, 실질적으로 매개변수를 통해 함수에 들어가는 값들(위에서는 \"John\")을 인자라고 합니다.\n",
        "\n",
        "# return 키워드의 쓰임새\n",
        "1. 함수의 출력 값을 반환 (후 탈출)\n",
        "2. 그냥 그 자리에서 탈출\n",
        "\n",
        "보통 \"리턴 값\"이라고 자주 부르는 것 같습니다.\n",
        "\n",
        "참고: return을 쓰지 않아도 코드를 모두 실행한 후 함수를 자동적으로 빠져나오게 됩니다."
      ],
      "metadata": {
        "id": "O2CBIgXHsH_t"
      }
    },
    {
      "cell_type": "code",
      "source": [
        "# 방금 예시 - return에 주목해서 봐주세요.\n",
        "def fibo(num):\n",
        "    if num == 0: return 1 # 1을 반환 후 바로 탈출\n",
        "    if num == 1: return 1 # 1을 반환 후 바로 탈출\n",
        "\n",
        "    # 위에서 함수가 탈출하지 못한 경우 (즉, num >= 2인 경우) 아래를 실행할 수 있게 됩니다.\n",
        "    a, b = 1, 1\n",
        "    for _ in range(num-2):\n",
        "        next = a + b\n",
        "        a, b = b, next\n",
        "    return next # num번째 항을 출력한 후 함수를 빠져나오기"
      ],
      "metadata": {
        "id": "MNvu2c_JtwTH"
      },
      "execution_count": null,
      "outputs": []
    },
    {
      "cell_type": "code",
      "source": [
        "# return과 break는 흡사합니다.\n",
        "\n",
        "def up_down_game():\n",
        "    import random\n",
        "    secret_num = random.randint(100) # 0과 100 사이의 정수를 선택\n",
        "    cnt = 1\n",
        "\n",
        "    while True:\n",
        "        answer = int(input(\"자연수 하나를 추측해보세요: \"))\n",
        "        if answer == secret_num:\n",
        "            print(f\"맞혔습니다! 총 {cnt}번 시도하셨습니다.\")\n",
        "            return # 강제로 함수 빠져나오기\n",
        "            # 이는 break와 흡사하지만 반복문 뿐만 아니라 함수 자체를 빠져나옴\n",
        "        if answer > secret_num:\n",
        "            print(f\"다운! {cnt}번째 시도입니다.\")\n",
        "        if answer < secret_num:\n",
        "            print(f\"업! {cnt}번째 시도입니다.\")\n",
        "        cnt += 1"
      ],
      "metadata": {
        "id": "J8ehalE7wclc"
      },
      "execution_count": null,
      "outputs": []
    },
    {
      "cell_type": "markdown",
      "source": [
        "참고: 리턴 값은 두 개, 세 개 쓸 수 있는 것처럼 보이지만 사실은 한 개의 튜플입니다."
      ],
      "metadata": {
        "id": "ueEZeY5ksgqc"
      }
    },
    {
      "cell_type": "code",
      "source": [
        "def add_sub_mul_div(a, b):\n",
        "    if b != 0:\n",
        "        return a+b, a-b, a*b, a/b\n",
        "    else:\n",
        "        return a+b, a-b, a*b, None"
      ],
      "metadata": {
        "id": "kw8WbkFmJOQ7"
      },
      "execution_count": null,
      "outputs": []
    },
    {
      "cell_type": "code",
      "source": [
        "x = add_sub_mul_div(5, 4)\n",
        "\n",
        "print(f\"x == {x}; type(x) == {type(x)}; len(x) == {len(x)}\")"
      ],
      "metadata": {
        "colab": {
          "base_uri": "https://localhost:8080/"
        },
        "id": "KPY4BKgUvK4Y",
        "outputId": "b385887a-6866-4e7c-d4fb-fbf326b2cd0d"
      },
      "execution_count": null,
      "outputs": [
        {
          "output_type": "stream",
          "name": "stdout",
          "text": [
            "x == (9, 1, 20, 1.25); type(x) == <class 'tuple'>; len(x) == 4\n"
          ]
        }
      ]
    },
    {
      "cell_type": "markdown",
      "source": [
        "참고: 독스트링\n",
        "\n",
        "함수나 클래스 선언 후 바로 아랫 줄에 함수 관련 설명을 적어줄 수 있습니다.\n",
        "\n",
        "코테 풀 때 문제 이해 시에 용이합니다. (문제 지문 복붙하기...)\n",
        "\n",
        "help(함수명)을 통해 독스트링을 불러올 수 있습니다."
      ],
      "metadata": {
        "id": "UYFlM4kUxY3E"
      }
    },
    {
      "cell_type": "code",
      "source": [
        "def is_prime(num): # 아까 그 함수\n",
        "    '''\n",
        "    num이 소수인지 판별하는 함수입니다.\n",
        "    여러분, 참고로 이 함수는 아까 전에 썼던 함수입니다.\n",
        "    '''\n",
        "    for j in range(2, num):\n",
        "        if num % j == 0:\n",
        "            return False\n",
        "    return True\n",
        "\n",
        "help(is_prime)"
      ],
      "metadata": {
        "colab": {
          "base_uri": "https://localhost:8080/"
        },
        "id": "MLEh0jtgwaQE",
        "outputId": "99925fc3-e637-490b-88c4-13da467697f9"
      },
      "execution_count": null,
      "outputs": [
        {
          "output_type": "stream",
          "name": "stdout",
          "text": [
            "Help on function is_prime in module __main__:\n",
            "\n",
            "is_prime(num)\n",
            "    num이 소수인지 판별하는 함수입니다.\n",
            "    여러분, 참고로 이 함수는 아까 전에 썼던 함수입니다.\n",
            "\n"
          ]
        }
      ]
    },
    {
      "cell_type": "markdown",
      "source": [
        "# 위치 인수와 키워드 인수\n",
        "\n",
        "함수가 인수를 여러 개 받을 때 이 두 가지를 알면 파이썬에서 조금 더 편리할 수 있습니다.\n",
        "\n",
        "말로 설명하는 것보다 직접 보는 것이 더 이해하기 좋습니다."
      ],
      "metadata": {
        "id": "wZfAfY4ryw83"
      }
    },
    {
      "cell_type": "code",
      "source": [
        "def fibo(num, first, second):\n",
        "    '''\n",
        "    0번째 항이 first, 1번째 항이 second인 피보나치 수열의 num번째 항을 반환합니다.\n",
        "    '''\n",
        "    if num == 0: return first\n",
        "    if num == 1: return second\n",
        "    for _ in range(num-2):\n",
        "        next = first + second\n",
        "        first, second = second, next\n",
        "    return next"
      ],
      "metadata": {
        "id": "UQ7jPVeJyWFz"
      },
      "execution_count": null,
      "outputs": []
    },
    {
      "cell_type": "code",
      "source": [
        "# 위치 인수 - 숫자가 들어가는 순서가 중요\n",
        "print(fibo(11, 0, 1))"
      ],
      "metadata": {
        "colab": {
          "base_uri": "https://localhost:8080/"
        },
        "id": "N2f776Obz7px",
        "outputId": "9172abd4-8ac8-4ded-f231-b876e6e79d9d"
      },
      "execution_count": null,
      "outputs": [
        {
          "output_type": "stream",
          "name": "stdout",
          "text": [
            "55\n"
          ]
        }
      ]
    },
    {
      "cell_type": "code",
      "source": [
        "# 키워드 인수 - 키워드 값 지정이 중요\n",
        "print(fibo(num=11, first=0, second=1))\n",
        "print(fibo(second=1, num=11, first=0))"
      ],
      "metadata": {
        "colab": {
          "base_uri": "https://localhost:8080/"
        },
        "id": "z2Dbeu58z92A",
        "outputId": "2b8bbee0-493f-4024-a134-ddac5e8e845f"
      },
      "execution_count": null,
      "outputs": [
        {
          "output_type": "stream",
          "name": "stdout",
          "text": [
            "55\n",
            "55\n"
          ]
        }
      ]
    },
    {
      "cell_type": "markdown",
      "source": [
        "# 매개변수 기본값\n",
        "\n",
        "매개변수를 생략할 시 자동적으로 값을 지정할 수 있게끔 하는 방법입니다.\n",
        "\n",
        "이것 역시 예시를 통해 살펴봅시다."
      ],
      "metadata": {
        "id": "xOmaknGA0oHJ"
      }
    },
    {
      "cell_type": "code",
      "source": [
        "def fibo(num, first=0, second=1):\n",
        "    '''\n",
        "    0번째 항이 first, 1번째 항이 second인 피보나치 수열의 num번째 항을 반환합니다.\n",
        "    first, second는 각각 0, 1이 기본 값입니다.\n",
        "    '''\n",
        "    if num == 0: return first\n",
        "    if num == 1: return second\n",
        "    for _ in range(num-2):\n",
        "        next = first + second\n",
        "        first, second = second, next\n",
        "    return next\n",
        "\n",
        "fibo(10)"
      ],
      "metadata": {
        "colab": {
          "base_uri": "https://localhost:8080/"
        },
        "id": "QiWPOeD_0CyL",
        "outputId": "bc640f1a-39c5-4527-b4e8-ade94cd94878"
      },
      "execution_count": null,
      "outputs": [
        {
          "output_type": "execute_result",
          "data": {
            "text/plain": [
              "34"
            ]
          },
          "metadata": {},
          "execution_count": 5
        }
      ]
    },
    {
      "cell_type": "code",
      "source": [
        "fibo(num=10)"
      ],
      "metadata": {
        "colab": {
          "base_uri": "https://localhost:8080/"
        },
        "id": "l9b8U0Bm1pz-",
        "outputId": "5443e135-f890-4131-a62d-f13c236f23e0"
      },
      "execution_count": null,
      "outputs": [
        {
          "output_type": "execute_result",
          "data": {
            "text/plain": [
              "34"
            ]
          },
          "metadata": {},
          "execution_count": 25
        }
      ]
    },
    {
      "cell_type": "markdown",
      "source": [
        "# 지역 변수를 의식하면서 코딩하기\n",
        "\n",
        "함수 안에서 선언한 변수들은 \"지역 변수\"들이라 함수 밖에서는 쓸 수 없습니다.\n",
        "\n",
        "함수 안쪽의 지역변수는 함수 바깥의 변수와 별도로 관리되며, 함수를 빠져나오면 사라집니다."
      ],
      "metadata": {
        "id": "7LYAb9Jk7Ikq"
      }
    },
    {
      "cell_type": "code",
      "source": [
        "def fibo(num, first=0, second=1):\n",
        "    if num == 0: return first\n",
        "    if num == 1: return second\n",
        "    for _ in range(num-2):\n",
        "        third = first + second\n",
        "        first, second = second, third\n",
        "    return third\n",
        "\n",
        "print(third)"
      ],
      "metadata": {
        "colab": {
          "base_uri": "https://localhost:8080/",
          "height": 182
        },
        "id": "wc-GR5TY7TEH",
        "outputId": "eb12fe73-c578-422e-c3e3-218739e07bec"
      },
      "execution_count": null,
      "outputs": [
        {
          "output_type": "error",
          "ename": "NameError",
          "evalue": "name 'third' is not defined",
          "traceback": [
            "\u001b[0;31m---------------------------------------------------------------------------\u001b[0m",
            "\u001b[0;31mNameError\u001b[0m                                 Traceback (most recent call last)",
            "\u001b[0;32m<ipython-input-36-86040d85d51a>\u001b[0m in \u001b[0;36m<cell line: 9>\u001b[0;34m()\u001b[0m\n\u001b[1;32m      7\u001b[0m     \u001b[0;32mreturn\u001b[0m \u001b[0mthird\u001b[0m\u001b[0;34m\u001b[0m\u001b[0;34m\u001b[0m\u001b[0m\n\u001b[1;32m      8\u001b[0m \u001b[0;34m\u001b[0m\u001b[0m\n\u001b[0;32m----> 9\u001b[0;31m \u001b[0mprint\u001b[0m\u001b[0;34m(\u001b[0m\u001b[0mthird\u001b[0m\u001b[0;34m)\u001b[0m\u001b[0;34m\u001b[0m\u001b[0;34m\u001b[0m\u001b[0m\n\u001b[0m",
            "\u001b[0;31mNameError\u001b[0m: name 'third' is not defined"
          ]
        }
      ]
    },
    {
      "cell_type": "code",
      "source": [
        "birthday = 2608\n",
        "\n",
        "def my_mum():\n",
        "    birthday = 1111 # 그저 지역 변수일 뿐\n",
        "    print(f\"birthday = {birthday}\")\n",
        "\n",
        "my_mum()\n",
        "print(birthday)"
      ],
      "metadata": {
        "colab": {
          "base_uri": "https://localhost:8080/"
        },
        "id": "5-mWG2cykAFs",
        "outputId": "52bc1806-0ff4-4525-e388-0c389b2face2"
      },
      "execution_count": null,
      "outputs": [
        {
          "output_type": "stream",
          "name": "stdout",
          "text": [
            "birthday = 1111\n",
            "2608\n"
          ]
        }
      ]
    },
    {
      "cell_type": "code",
      "source": [
        "birthday = [8, 26]\n",
        "\n",
        "def my_mum():\n",
        "    birthday = [11, 11] # 바깥의 birthday 변수와는 관련 없습니다.\n",
        "    print(f\"birthday = {birthday}\")\n",
        "\n",
        "my_mum()\n",
        "print(birthday)"
      ],
      "metadata": {
        "colab": {
          "base_uri": "https://localhost:8080/"
        },
        "id": "Y6aIP_idk9bS",
        "outputId": "4b3ee643-9eb8-4a3d-f152-0763c4098c71"
      },
      "execution_count": null,
      "outputs": [
        {
          "output_type": "stream",
          "name": "stdout",
          "text": [
            "birthday = [11, 11]\n",
            "[8, 26]\n"
          ]
        }
      ]
    },
    {
      "cell_type": "markdown",
      "source": [
        "# 충격 사실: 함수도 객체다!\n",
        "\n",
        "파이썬의 모든 것은 객체이고, 함수 역시 메모리에 저장되는 객체입니다.\n",
        "\n",
        "진짜인가 볼까요?"
      ],
      "metadata": {
        "id": "dEhFh6Ky3TsA"
      }
    },
    {
      "cell_type": "code",
      "source": [
        "type(fibo), type(print)"
      ],
      "metadata": {
        "colab": {
          "base_uri": "https://localhost:8080/"
        },
        "id": "7xNZ8JoR3Z0Y",
        "outputId": "d84fd4a7-27d6-4eee-94de-9982dfd0870c"
      },
      "execution_count": null,
      "outputs": [
        {
          "output_type": "execute_result",
          "data": {
            "text/plain": [
              "(function, builtin_function_or_method)"
            ]
          },
          "metadata": {},
          "execution_count": 32
        }
      ]
    },
    {
      "cell_type": "markdown",
      "source": [
        "type()으로 감싸서 출력해보니 function이라고 뜹니다!\n",
        "\n",
        "특히 print()는 \"내장 함수\"(built-in function)이라고 뜹니다.\n",
        "\n",
        "그래서 함수 매개변수의 인자로 함수를 받을 수도 있습니다! (C언어의 함수 포인터와 유사)"
      ],
      "metadata": {
        "id": "5nPrxorX3lfl"
      }
    },
    {
      "cell_type": "code",
      "source": [
        "def key(x): return x[1]\n",
        "\n",
        "example = [(\"짱구\", 100), (\"철수\", 98), (\"유리\", 104),\n",
        "            (\"맹구\", 102), (\"훈이\", 99)]\n",
        "\n",
        "# example의 각 요소(튜플)의 1번째 요소(100, 98, ...)에 의해 정렬하기\n",
        "sorted(example, key=key)"
      ],
      "metadata": {
        "colab": {
          "base_uri": "https://localhost:8080/"
        },
        "id": "1A-gmQrS30JH",
        "outputId": "7cb643d4-c356-40ff-ee0d-bbee8247fab5"
      },
      "execution_count": null,
      "outputs": [
        {
          "output_type": "execute_result",
          "data": {
            "text/plain": [
              "[('철수', 98), ('훈이', 99), ('짱구', 100), ('맹구', 102), ('유리', 104)]"
            ]
          },
          "metadata": {},
          "execution_count": 33
        }
      ]
    },
    {
      "cell_type": "markdown",
      "source": [
        "# lambda 함수 (익명 함수)\n",
        "\n",
        "간단한 함수에 굳이 def나 이름을 붙이고 싶지 않을 때 씁니다.\n",
        "\n",
        "이 함수를 한 줄로 압축할 수 있습니다. 미니멀리즘 실현 야무집니다.\n",
        "\n",
        "```\n",
        "def key(tup):\n",
        "    return tup[1]\n",
        "\n",
        "def add(x, y):\n",
        "    return x+y\n",
        "```\n",
        "\n",
        "```\n",
        "# 한 줄로 줄이는 대신 이 자체로는 이름이 없습니다.\n",
        "\n",
        "lambda tup: tup[1]\n",
        "\n",
        "lambda x, y: x+y\n",
        "```\n",
        "\n",
        "아래와 같은 상황은 lambda 함수가 유리한 예시입니다."
      ],
      "metadata": {
        "id": "WSth_xG16vIq"
      }
    },
    {
      "cell_type": "code",
      "source": [
        "example = [(\"짱구\", 100), (\"철수\", 98), (\"유리\", 104),\n",
        "            (\"맹구\", 102), (\"훈이\", 99)]\n",
        "\n",
        "# lambda로 쓴 함수 역시 객체입니다. 람다 식 전체를 객체로 생각해도 괜찮습니다.\n",
        "sorted(example, key=lambda x: x[1])"
      ],
      "metadata": {
        "colab": {
          "base_uri": "https://localhost:8080/"
        },
        "id": "RIvR-U518D39",
        "outputId": "b05e2d1e-3059-4476-f6c9-eee074a5656d"
      },
      "execution_count": null,
      "outputs": [
        {
          "output_type": "execute_result",
          "data": {
            "text/plain": [
              "[('철수', 98), ('훈이', 99), ('짱구', 100), ('맹구', 102), ('유리', 104)]"
            ]
          },
          "metadata": {},
          "execution_count": 38
        }
      ]
    },
    {
      "cell_type": "code",
      "source": [
        "example = [(\"짱구\", 100), (\"철수\", 98), (\"유리\", 104),\n",
        "            (\"맹구\", 102), (\"훈이\", 99)]\n",
        "list(map(lambda x: x[1], example))"
      ],
      "metadata": {
        "colab": {
          "base_uri": "https://localhost:8080/"
        },
        "id": "5fr18hmh84pl",
        "outputId": "d53ef0f4-5902-417a-dbbf-daa26f2d1457"
      },
      "execution_count": null,
      "outputs": [
        {
          "output_type": "execute_result",
          "data": {
            "text/plain": [
              "[100, 98, 104, 102, 99]"
            ]
          },
          "metadata": {},
          "execution_count": 40
        }
      ]
    },
    {
      "cell_type": "code",
      "source": [
        "example = [(\"짱구\", 100), (\"철수\", 98), (\"유리\", 104),\n",
        "            (\"맹구\", 102), (\"훈이\", 99)]\n",
        "list(filter(lambda x: x[1] >= 100, example))"
      ],
      "metadata": {
        "colab": {
          "base_uri": "https://localhost:8080/"
        },
        "id": "c1whvkgN9BJv",
        "outputId": "3deae072-b022-4e49-f0fd-3ca5ce89df31"
      },
      "execution_count": null,
      "outputs": [
        {
          "output_type": "execute_result",
          "data": {
            "text/plain": [
              "[('짱구', 100), ('유리', 104), ('맹구', 102)]"
            ]
          },
          "metadata": {},
          "execution_count": 44
        }
      ]
    },
    {
      "cell_type": "markdown",
      "source": [
        "# 참고: call by assignment\n",
        "\n",
        "요약: 파이썬에서 immutable 객체는 call by value가 적용되고, mutable 객체는 call by reference가 적용됩니다.\n",
        "\n",
        "- call by value(값에 의한 호출): 함수 호출 시 객체가 함수의 인자로 전달될 때 원본이 아니라 복사된 값만 전달되는 방식\n",
        "- call by reference(참조에 의한 호출): 함수 호출 시 객체가 함수의 인자로 전달될 때 원본의 참조(레퍼런스)까지 전달되는 방식\n",
        "\n",
        "파이썬에서는 이 두 개가 명시적으로 존재하지는 않고, 이뮤터블 객체와 뮤터블 객체의 경우에 대해 다릅니다. 이를 일컫는 말로 \"Call by assignment\"를 사용합니다."
      ],
      "metadata": {
        "id": "H5duE0_6W0eO"
      }
    },
    {
      "cell_type": "code",
      "source": [
        "def func1(x):\n",
        "    x += 1\n",
        "\n",
        "def func2(list):\n",
        "    list.append(1)\n",
        "\n",
        "a = 0\n",
        "b = [0, ]\n",
        "\n",
        "func1(a) # 정수(이뮤터블 객체) - 객체를 복사한 값만 인자로 전달 (Call by value)\n",
        "func2(b) # 리스트(뮤터블 객체) - 객체를 참조할 권한까지 인자로 전달 (Call by reference)\n",
        "\n",
        "print(a) # 원본이 안 바뀜\n",
        "print(b) # 원본이 바뀜"
      ],
      "metadata": {
        "colab": {
          "base_uri": "https://localhost:8080/"
        },
        "id": "bOCyzHlCXOQr",
        "outputId": "a074136c-e9ce-427b-bcab-388ca1606903"
      },
      "execution_count": null,
      "outputs": [
        {
          "output_type": "stream",
          "name": "stdout",
          "text": [
            "0\n",
            "[0, 1]\n"
          ]
        }
      ]
    },
    {
      "cell_type": "markdown",
      "source": [
        "# 참고: 재귀 함수\n",
        "\n",
        "함수 안에서 자기 자신을 호출하는 기법입니다.\n",
        "\n",
        "피보나치 수열을 구하는 함수는 재귀를 이용하면 깔끔합니다.\n",
        "\n",
        "대신 실행 시간은 더 느립니다. (\"시간 복잡도\"가 높아서입니다. time 모듈로 직접 확인해보셔도 됩니다.)"
      ],
      "metadata": {
        "id": "xp-TOcugYyu-"
      }
    },
    {
      "cell_type": "code",
      "source": [
        "def recursive_fibo(n):\n",
        "    if n == 0: return 1\n",
        "    elif n == 1: return 1\n",
        "    return recursive_fibo(n-1) + recursive_fibo(n-2)"
      ],
      "metadata": {
        "id": "CG6CVd612DbP"
      },
      "execution_count": null,
      "outputs": []
    },
    {
      "cell_type": "code",
      "source": [
        "recursive_fibo(10)"
      ],
      "metadata": {
        "colab": {
          "base_uri": "https://localhost:8080/"
        },
        "id": "I4muXdeW2hky",
        "outputId": "9afc97b4-16b3-44f2-a6f7-e3edef54d51a"
      },
      "execution_count": null,
      "outputs": [
        {
          "output_type": "execute_result",
          "data": {
            "text/plain": [
              "89"
            ]
          },
          "metadata": {},
          "execution_count": 10
        }
      ]
    },
    {
      "cell_type": "markdown",
      "source": [
        "# 참고: `*args`, `**kwargs`\n",
        "\n",
        "파이썬에서 \"가변 인자\"(인자의 개수가 자유로운 것)를 받고 싶은 경우 사용합니다.\n",
        "\n",
        "가령 print(), sum()도 가변 인자를 받습니다."
      ],
      "metadata": {
        "id": "FhW0f3QIZ9an"
      }
    },
    {
      "cell_type": "code",
      "source": [
        "print(1) # 가변 인자\n",
        "print(1, 2)\n",
        "print(1, 2, 3)\n",
        "print(1, 2, 3, 4)\n",
        "print(1, 2, 3, 4, 5)"
      ],
      "metadata": {
        "colab": {
          "base_uri": "https://localhost:8080/"
        },
        "id": "6DQlm3ERZP50",
        "outputId": "9843a984-0c50-4a55-d6fe-d177dd4cc385"
      },
      "execution_count": null,
      "outputs": [
        {
          "output_type": "stream",
          "name": "stdout",
          "text": [
            "1\n",
            "1 2\n",
            "1 2 3\n",
            "1 2 3 4\n",
            "1 2 3 4 5\n"
          ]
        }
      ]
    },
    {
      "cell_type": "code",
      "source": [
        "args = [1, 2, 3, 4, 5, 6, 7]\n",
        "\n",
        "print(1, 2, 3, 4, 5, 6, 7)\n",
        "print(*args) # 가변 인자"
      ],
      "metadata": {
        "colab": {
          "base_uri": "https://localhost:8080/"
        },
        "id": "ODcM6AmrmjxY",
        "outputId": "a81f08e0-1ea4-4210-fbb4-acc34d2c7303"
      },
      "execution_count": null,
      "outputs": [
        {
          "output_type": "stream",
          "name": "stdout",
          "text": [
            "1 2 3 4 5 6 7\n",
            "1 2 3 4 5 6 7\n"
          ]
        }
      ]
    },
    {
      "cell_type": "code",
      "source": [
        "def fibo(num, first=0, second=1):\n",
        "    if num == 0: return first\n",
        "    if num == 1: return second\n",
        "    for _ in range(num-2):\n",
        "        third = first + second\n",
        "        first, second = second, third\n",
        "    return third\n",
        "\n",
        "kwargs = {'num': 10, 'first': 1, 'second': 1} # kwargs는 \"keyword arguments\"의 준말입니다.\n",
        "fibo(**kwargs) # 키워드 인수 전달"
      ],
      "metadata": {
        "colab": {
          "base_uri": "https://localhost:8080/"
        },
        "id": "Eb_WnPAQmsd4",
        "outputId": "79ace53b-5821-43fa-feea-aa813e22d635"
      },
      "execution_count": null,
      "outputs": [
        {
          "output_type": "execute_result",
          "data": {
            "text/plain": [
              "55"
            ]
          },
          "metadata": {},
          "execution_count": 16
        }
      ]
    },
    {
      "cell_type": "code",
      "source": [],
      "metadata": {
        "id": "SKKnWb5pnlqU"
      },
      "execution_count": null,
      "outputs": []
    }
  ]
}