{
  "nbformat": 4,
  "nbformat_minor": 0,
  "metadata": {
    "colab": {
      "provenance": [],
      "authorship_tag": "ABX9TyMNRmRZkabV81XpO1e6KVl9",
      "include_colab_link": true
    },
    "kernelspec": {
      "name": "python3",
      "display_name": "Python 3"
    },
    "language_info": {
      "name": "python"
    }
  },
  "cells": [
    {
      "cell_type": "markdown",
      "metadata": {
        "id": "view-in-github",
        "colab_type": "text"
      },
      "source": [
        "<a href=\"https://colab.research.google.com/github/cacbondioxit/2024-K-NET-DEVELOP/blob/main/4%EC%A3%BC%EC%B0%A8.ipynb\" target=\"_parent\"><img src=\"https://colab.research.google.com/assets/colab-badge.svg\" alt=\"Open In Colab\"/></a>"
      ]
    },
    {
      "cell_type": "markdown",
      "source": [
        "이번 시간에는 지난 시간의 리스트에서 크게 벗어나지 않은 내용들을 소개하겠습니다.\n",
        "\n",
        "- 문자열\n",
        "- 튜플\n",
        "- 딕셔너리\n",
        "\n",
        "세 개의 공통점은 바로 리스트와 유사하게 인덱싱이 가능하다는 것입니다."
      ],
      "metadata": {
        "id": "-EQFgyV9c8iY"
      }
    },
    {
      "cell_type": "markdown",
      "source": [
        "# 문자열\n",
        "\n",
        "문자열(string)은 문자로 이루어진 수열입니다.\n",
        "\n",
        "숫자만 다루면 별로 재미가 없겠죠? 인간이랑 챗지피티도 결국 서로 문자열로 다 이야기를 주고 받잖아요.\n",
        "\n",
        "# 문자열에서 중요한 사실\n",
        "\n",
        "문자열은 사실 문자의 나열이고, 이는 곧 문자로 이루어진 수열이기 때문에 리스트와 크게 다르지 않습니다!"
      ],
      "metadata": {
        "id": "mTKgF9fDdDPG"
      }
    },
    {
      "cell_type": "code",
      "execution_count": null,
      "metadata": {
        "id": "26vwWh0zn6ic",
        "colab": {
          "base_uri": "https://localhost:8080/"
        },
        "outputId": "b4083d28-4476-4f7b-ca24-0c57111acf79"
      },
      "outputs": [
        {
          "output_type": "stream",
          "name": "stdout",
          "text": [
            "Python's favourite food is perl.\n"
          ]
        }
      ],
      "source": [
        "# 문자열 사용 예시\n",
        "\n",
        "print(\"Python's favourite food is perl.\")"
      ]
    },
    {
      "cell_type": "markdown",
      "source": [
        "# 문자열은 따옴표로 감싸서 나타냅니다.\n",
        "\n",
        "총 4가지 방법이 있습니다.\n",
        "\n",
        "1. 작은 따옴표 한 개씩으로만 양쪽을 감싸기\n",
        "2. 큰 따옴표 한 개씩으로만 양쪽을 감싸기\n",
        "3. 작은 따옴표 세 개로 양쪽을 감싸기\n",
        "4. 큰 따옴표 세 개로 양쪽을 감싸기\n",
        "\n",
        "여기서 3번과 4번은 여러 줄을 나타낼 때 유용합니다.\n",
        "\n",
        "위의 것들을 자유롭게 막 섞어도 됩니다. 대신에, 따옴표 안에 같은 따옴표가 들어가면 안 된다는 것에 주의하면 됩니다.\n",
        "\n",
        "```\n",
        "print(\"여러분, 'DEVELOP' 4주차입니다.\")\n",
        "print('여러분, \"DEVELOP\" 4주차입니다.')\n",
        "print('''\n",
        "    여러분, 우리가 드디어...\n",
        "    \"DEVELOP\" 4주차예요!\n",
        "    뿌듯하죠?\n",
        "'''\n",
        ")\n",
        "\n",
        "```"
      ],
      "metadata": {
        "id": "fpBeTfdKkNqP"
      }
    },
    {
      "cell_type": "markdown",
      "source": [
        "참고: 이스케이프 코드\n",
        "\n",
        "꼭 따옴표 3개짜리가 아니더라도 \\n 을 이용하면 줄바꿈(엔터)를 나타낼 수 있습니다.\n",
        "\n",
        "C언어 수업을 들으신 분들은 많이 보던 것들이죠?\n",
        "\n",
        "ex)\n",
        "```\n",
        "print(\"여러분, 안녕하세요? \\n이제부터 4주차 내용을 시작하겠습니다.\")\n",
        "```"
      ],
      "metadata": {
        "id": "z8-vWiH75EZy"
      }
    },
    {
      "cell_type": "code",
      "source": [
        "print(\"여러분, 안녕하세요? \\n이제부터 4주차 내용을 시작하겠습니다.\")"
      ],
      "metadata": {
        "colab": {
          "base_uri": "https://localhost:8080/"
        },
        "id": "0pejl6qy6OTI",
        "outputId": "803ba0ee-1966-4201-d773-538d643d1130"
      },
      "execution_count": null,
      "outputs": [
        {
          "output_type": "stream",
          "name": "stdout",
          "text": [
            "여러분, 안녕하세요? \n",
            "이제부터 4주차 내용을 시작하겠습니다.\n"
          ]
        }
      ]
    },
    {
      "cell_type": "markdown",
      "source": [
        "참고: 따옴표가 붙은 문자열 '123'과 정수 123은 다른 데이터입니다."
      ],
      "metadata": {
        "id": "tMWpUfd76SWq"
      }
    },
    {
      "cell_type": "code",
      "source": [
        "print(123 == '123')"
      ],
      "metadata": {
        "colab": {
          "base_uri": "https://localhost:8080/"
        },
        "id": "g0XVP9uL5_yA",
        "outputId": "6fc4a560-dac1-497b-cc18-25d9322534c4"
      },
      "execution_count": 1,
      "outputs": [
        {
          "output_type": "stream",
          "name": "stdout",
          "text": [
            "False\n"
          ]
        }
      ]
    },
    {
      "cell_type": "markdown",
      "source": [
        "# 문자열의 연산 및 조작\n",
        "\n",
        "리스트와 상당히 유사함을 확인할 수 있습니다.\n",
        "\n",
        "- 문자열을 더하고 곱하기\n",
        "- 문자열의 길이 구하기: len()\n",
        "- 문자열 인덱싱\n",
        "- 문자열 인덱스 슬라이싱 (지난 주차에 시간 상 대충 넘어갔던 것)\n",
        "- 문자열 포매팅\n",
        "- 이 외에 자주 쓰는 문자열 관련 함수: index, join, split, replace, upper/lower"
      ],
      "metadata": {
        "id": "iB-acy_L6W8N"
      }
    },
    {
      "cell_type": "code",
      "source": [
        "a = 'nice'\n",
        "b = 'to'\n",
        "c = 'meet'\n",
        "d = 'you'\n",
        "e = a+b+c+d\n",
        "print(e) # 띄어쓰기 주의!\n",
        "print(a, b, c, d) # 띄어쓰기를 하고 싶다면?"
      ],
      "metadata": {
        "colab": {
          "base_uri": "https://localhost:8080/"
        },
        "id": "BC1O-VcU6U2s",
        "outputId": "e5ec94e7-be61-43b2-9c4b-b9931c88dd75"
      },
      "execution_count": null,
      "outputs": [
        {
          "output_type": "stream",
          "name": "stdout",
          "text": [
            "nicetomeetyou\n",
            "nice to meet you\n"
          ]
        }
      ]
    },
    {
      "cell_type": "code",
      "source": [
        "a * 5"
      ],
      "metadata": {
        "colab": {
          "base_uri": "https://localhost:8080/",
          "height": 35
        },
        "id": "2Q2Cwn1uBvaF",
        "outputId": "9664b54b-84dc-455a-c3f0-346eda37fd8c"
      },
      "execution_count": null,
      "outputs": [
        {
          "output_type": "execute_result",
          "data": {
            "text/plain": [
              "'nicenicenicenicenice'"
            ],
            "application/vnd.google.colaboratory.intrinsic+json": {
              "type": "string"
            }
          },
          "metadata": {},
          "execution_count": 5
        }
      ]
    },
    {
      "cell_type": "code",
      "source": [
        "len(e)"
      ],
      "metadata": {
        "colab": {
          "base_uri": "https://localhost:8080/"
        },
        "id": "e-x_6NumCGIb",
        "outputId": "eafb01fd-6d04-410c-db2f-da39a2cb48db"
      },
      "execution_count": null,
      "outputs": [
        {
          "output_type": "execute_result",
          "data": {
            "text/plain": [
              "13"
            ]
          },
          "metadata": {},
          "execution_count": 8
        }
      ]
    },
    {
      "cell_type": "code",
      "source": [
        "e[0], e[1], e[2], e[3]"
      ],
      "metadata": {
        "colab": {
          "base_uri": "https://localhost:8080/"
        },
        "id": "ajNh1wluCVjc",
        "outputId": "8dd23d7a-fd46-41bf-a30d-7d22a556f95d"
      },
      "execution_count": null,
      "outputs": [
        {
          "output_type": "execute_result",
          "data": {
            "text/plain": [
              "('n', 'i', 'c', 'e')"
            ]
          },
          "metadata": {},
          "execution_count": 11
        }
      ]
    },
    {
      "cell_type": "code",
      "source": [
        "e[-1], e[-2], e[-3]"
      ],
      "metadata": {
        "colab": {
          "base_uri": "https://localhost:8080/"
        },
        "id": "gu7ufVj1Ccak",
        "outputId": "b57ddee7-3a70-48c7-ac3c-4de5c3ae4622"
      },
      "execution_count": null,
      "outputs": [
        {
          "output_type": "execute_result",
          "data": {
            "text/plain": [
              "('u', 'o', 'y')"
            ]
          },
          "metadata": {},
          "execution_count": 12
        }
      ]
    },
    {
      "cell_type": "markdown",
      "source": [
        "참고: 문자열은 인덱스 접근을 통한 수정이 불가능합니다. (곧 나올 튜플도 마찬가지)\n",
        "\n",
        "정수, 실수, 문자열, 튜플 등은 읽기만 가능하고 쓰기는 불가능한 \"immutable(변경 불가능한) 객체\"입니다.\n",
        "\n",
        "반면 리스트, 딕셔너리는 읽기와 쓰기가 가능한 \"mutable 객체\"입니다.\n",
        "\n",
        "```\n",
        "x = \"Jython\"\n",
        "x[0] = \"P\" # 에러!\n",
        "\n",
        "print(x)\n",
        "```"
      ],
      "metadata": {
        "id": "eqVYPh2REGbK"
      }
    },
    {
      "cell_type": "code",
      "source": [
        "x = \"Jython\"\n",
        "x[0] = \"P\" # 에러!\n",
        "\n",
        "print(x)"
      ],
      "metadata": {
        "colab": {
          "base_uri": "https://localhost:8080/",
          "height": 202
        },
        "id": "uZwLoXVHEqOK",
        "outputId": "9ad158db-e6a0-4534-b267-4c6630d995c6"
      },
      "execution_count": null,
      "outputs": [
        {
          "output_type": "error",
          "ename": "TypeError",
          "evalue": "'str' object does not support item assignment",
          "traceback": [
            "\u001b[0;31m---------------------------------------------------------------------------\u001b[0m",
            "\u001b[0;31mTypeError\u001b[0m                                 Traceback (most recent call last)",
            "\u001b[0;32m<ipython-input-14-02dfb43a3402>\u001b[0m in \u001b[0;36m<cell line: 2>\u001b[0;34m()\u001b[0m\n\u001b[1;32m      1\u001b[0m \u001b[0mx\u001b[0m \u001b[0;34m=\u001b[0m \u001b[0;34m\"Jython\"\u001b[0m\u001b[0;34m\u001b[0m\u001b[0;34m\u001b[0m\u001b[0m\n\u001b[0;32m----> 2\u001b[0;31m \u001b[0mx\u001b[0m\u001b[0;34m[\u001b[0m\u001b[0;36m0\u001b[0m\u001b[0;34m]\u001b[0m \u001b[0;34m=\u001b[0m \u001b[0;34m\"P\"\u001b[0m \u001b[0;31m# 에러!\u001b[0m\u001b[0;34m\u001b[0m\u001b[0;34m\u001b[0m\u001b[0m\n\u001b[0m\u001b[1;32m      3\u001b[0m \u001b[0;34m\u001b[0m\u001b[0m\n\u001b[1;32m      4\u001b[0m \u001b[0mprint\u001b[0m\u001b[0;34m(\u001b[0m\u001b[0mx\u001b[0m\u001b[0;34m)\u001b[0m\u001b[0;34m\u001b[0m\u001b[0;34m\u001b[0m\u001b[0m\n",
            "\u001b[0;31mTypeError\u001b[0m: 'str' object does not support item assignment"
          ]
        }
      ]
    },
    {
      "cell_type": "markdown",
      "source": [
        "# 인덱스 슬라이싱\n",
        "\n",
        "연속된 여러 문자를 한 번에 잘라오기 위한 방법입니다. 리스트, 문자열, 튜플 등에서 사용 가능합니다.\n",
        "\n",
        "str[시작 인덱스 : 끝 인덱스 + 1 : 스텝]과 같은 식으로 사용 가능합니다.\n",
        "\n",
        "음수 인덱스와 음수 스텝도 넣을 수 있습니다.\n",
        "\n",
        "처음 번호나 끝 번호가 생략된 경우는 각각 맨 처음과 맨 끝을 나타냅니다.\n",
        "\n",
        "스텝이 생략된 경우는 1을 의미합니다.\n",
        "\n",
        "```\n",
        "original = \"안녕하세요 여러분, 김현규입니다.\"\n",
        "\n",
        "indexing = original[0] + original[1] + original[2] + original[3] + original[4] + original[5]\n",
        "\n",
        "slicing = original[:6] # 0<=x<6번째 인덱스의 문자를 잘라오기(슬라이싱)\n",
        "\n",
        "```"
      ],
      "metadata": {
        "id": "uJWr_CsZDo5z"
      }
    },
    {
      "cell_type": "code",
      "source": [
        "original = \"안녕하세요 여러분, 김현규입니다.\"\n",
        "\n",
        "indexing = original[0] + original[1] + original[2] + original[3] + original[4] + original[5]\n",
        "slicing = original[:6]\n",
        "\n",
        "print(indexing)\n",
        "print(slicing)"
      ],
      "metadata": {
        "colab": {
          "base_uri": "https://localhost:8080/"
        },
        "id": "WF9c8lKOCeFz",
        "outputId": "4e162de0-0688-48f3-9719-61edb451a66c"
      },
      "execution_count": null,
      "outputs": [
        {
          "output_type": "stream",
          "name": "stdout",
          "text": [
            "안녕하세요 \n",
            "안녕하세요 \n"
          ]
        }
      ]
    },
    {
      "cell_type": "code",
      "source": [
        "# 인덱스 슬라이싱이 유용한 경우 - 필요없는 부분 삭제 (또는 필요한 부분만 챙기기)\n",
        "\n",
        "with_star = \"★택배가 도착했습니다!★\"\n",
        "\n",
        "without_star = with_star[1:-1]\n",
        "\n",
        "print(without_star)"
      ],
      "metadata": {
        "colab": {
          "base_uri": "https://localhost:8080/"
        },
        "id": "3CULx7j7FsRr",
        "outputId": "ee5c9962-b066-452a-96aa-43cbea6d7d5f"
      },
      "execution_count": null,
      "outputs": [
        {
          "output_type": "stream",
          "name": "stdout",
          "text": [
            "택배가 도착했습니다!\n"
          ]
        }
      ]
    },
    {
      "cell_type": "code",
      "source": [
        "# 인덱스 슬라이싱이 유용한 경우 - 인덱스 접근을 통한 수정\n",
        "\n",
        "with_typo = \"Github\"\n",
        "\n",
        "without_typo = with_typo[:3] + \"H\" + with_typo[4:]\n",
        "\n",
        "print(without_typo)"
      ],
      "metadata": {
        "colab": {
          "base_uri": "https://localhost:8080/"
        },
        "id": "cPV_UmcgHO2Y",
        "outputId": "1eb7e46b-7c8e-4ddb-e4aa-f3dae7267daf"
      },
      "execution_count": null,
      "outputs": [
        {
          "output_type": "stream",
          "name": "stdout",
          "text": [
            "GitHub\n"
          ]
        }
      ]
    },
    {
      "cell_type": "code",
      "source": [
        "# 문자열이 회문인지 확인\n",
        "\n",
        "example = \"우영우\"\n",
        "reversed = example[::-1] # 거꾸로 한 것\n",
        "print(example == reversed)"
      ],
      "metadata": {
        "colab": {
          "base_uri": "https://localhost:8080/"
        },
        "id": "V021OuDjl3ay",
        "outputId": "fe6e7eba-90b9-4b2b-d5f6-bd2120cb351e"
      },
      "execution_count": null,
      "outputs": [
        {
          "output_type": "stream",
          "name": "stdout",
          "text": [
            "True\n"
          ]
        }
      ]
    },
    {
      "cell_type": "markdown",
      "source": [
        "# 문자열 formatting\n",
        "\n",
        "문자열 안에 어떤 값을 삽입하는 방법입니다.\n",
        "\n",
        "반복문이나 함수 등에서 문자 안에 변수 값을 섞어 출력해야 할 때 요긴합니다.\n",
        "\n",
        "문자열을 포매팅하는 방법은 여러 가지가 있지만 여기서는 f-string에 대해서만 설명하겠습니다. (파이썬 3.6 버전 이상에서 제공)"
      ],
      "metadata": {
        "id": "6vJBCHMFIIqf"
      }
    },
    {
      "cell_type": "code",
      "source": [
        "# 문자열 formatting 없이 덧셈 연산으로 하려면...\n",
        "\n",
        "day = 11\n",
        "month = 5\n",
        "year = 2024\n",
        "\n",
        "print(\"우리 MT 날짜는 \" + str(year) + \"년 \" + str(month) + \"월 \" + str(day) + \"일입니다.\")\n",
        "print(\"여러분, \" + str(day+1) + \"일 아침까지 놀 준비 됐죠?\")"
      ],
      "metadata": {
        "colab": {
          "base_uri": "https://localhost:8080/"
        },
        "id": "jj488sPzH1qg",
        "outputId": "c0e42578-4941-48ce-eeda-a09a7ebcf184"
      },
      "execution_count": null,
      "outputs": [
        {
          "output_type": "stream",
          "name": "stdout",
          "text": [
            "우리 MT 날짜는 2024년 5월 11일입니다.\n",
            "여러분, 12일 아침까지 놀 준비 됐죠?\n"
          ]
        }
      ]
    },
    {
      "cell_type": "code",
      "source": [
        "# f-string을 이용하면 깔끔합니다!\n",
        "\n",
        "print(f\"우리 MT 날짜는 {year}년 {month}월 {day}일입니다.\")\n",
        "print(f\"여러분, {day+1}일 아침까지 놀 준비 됐죠?\")"
      ],
      "metadata": {
        "colab": {
          "base_uri": "https://localhost:8080/"
        },
        "id": "-xOqsI0CJtAE",
        "outputId": "73bf1834-d159-4445-d2f0-068834a2fd1d"
      },
      "execution_count": null,
      "outputs": [
        {
          "output_type": "stream",
          "name": "stdout",
          "text": [
            "우리 MT 날짜는 2024년 5월 11일입니다.\n",
            "여러분, 12일 아침까지 놀 준비 됐죠?\n"
          ]
        }
      ]
    },
    {
      "cell_type": "markdown",
      "source": [
        "# 이외 문자열 관련 함수들\n",
        "\n",
        "문자열과 관련된 함수들이 아주 많지만, 자주 쓰는 것만 소개하겠습니다.\n",
        "\n",
        "주의: 리스트에서처럼 문자열의 원본을 바꿔주는 것이 아니라, 변경된 새로운 값들을 생성합니다. ⇒ 코딩 테스트에서 사용 시 주의할 필요 있어보입니다.\n",
        "\n",
        "- index : 찾는 글자가 몇 번째 인덱스에 있는지 반환. 없다면 ValueError\n",
        "- join : 문자열로 이뤄진 리스트 사이사이에 글자를 삽입함\n",
        "- split : 해당 글자를 기준으로 분할하여 리스트로 만들어줌\n",
        "- replace : 문자열 내 해당되는 문자열을 다른 문자열로 교체\n",
        "- upper/lower : 대문자로 바꿈 / 소문자로 바꿈"
      ],
      "metadata": {
        "id": "qNx1D3pnK9Kl"
      }
    },
    {
      "cell_type": "code",
      "source": [
        "example = \"Happy Birthday To You\"\n",
        "\n",
        "example.index(\"B\")"
      ],
      "metadata": {
        "colab": {
          "base_uri": "https://localhost:8080/"
        },
        "id": "NuKaTGuCMLPh",
        "outputId": "fd011969-d1ec-49b6-a93d-70a6721fdb8e"
      },
      "execution_count": null,
      "outputs": [
        {
          "output_type": "execute_result",
          "data": {
            "text/plain": [
              "6"
            ]
          },
          "metadata": {},
          "execution_count": 1
        }
      ]
    },
    {
      "cell_type": "code",
      "source": [
        "query = [\"SELECT\", \"*\", \"FROM\", \"my_table\", \"WHERE\", \"age > 18\", \"ORDER BY\", \"name\"]\n",
        "\n",
        "\" \".join(query)"
      ],
      "metadata": {
        "colab": {
          "base_uri": "https://localhost:8080/",
          "height": 35
        },
        "id": "Ny3ro6NPbZTq",
        "outputId": "d448018e-084c-45fa-b467-046bdb9c1adc"
      },
      "execution_count": null,
      "outputs": [
        {
          "output_type": "execute_result",
          "data": {
            "text/plain": [
              "'SELECT * FROM my_table WHERE age > 18 ORDER BY name'"
            ],
            "application/vnd.google.colaboratory.intrinsic+json": {
              "type": "string"
            }
          },
          "metadata": {},
          "execution_count": 14
        }
      ]
    },
    {
      "cell_type": "code",
      "source": [
        "example = [\"승민\", \"민석\", \"유찬\", \"호정\"]\n",
        "\n",
        "\" 옆에 \".join(example)"
      ],
      "metadata": {
        "colab": {
          "base_uri": "https://localhost:8080/",
          "height": 35
        },
        "id": "zBuv4HUmSeyL",
        "outputId": "7188e36a-9397-4223-c4df-262ab97c29e0"
      },
      "execution_count": null,
      "outputs": [
        {
          "output_type": "execute_result",
          "data": {
            "text/plain": [
              "'승민 옆에 민석 옆에 유찬 옆에 호정'"
            ],
            "application/vnd.google.colaboratory.intrinsic+json": {
              "type": "string"
            }
          },
          "metadata": {},
          "execution_count": 2
        }
      ]
    },
    {
      "cell_type": "code",
      "source": [
        "example = '승민 옆에 민석 옆에 유찬 옆에 호정'\n",
        "\n",
        "example.split(\" 옆에 \")"
      ],
      "metadata": {
        "colab": {
          "base_uri": "https://localhost:8080/"
        },
        "id": "xh9-tSOXVQzX",
        "outputId": "ff89008f-6739-4bda-b72f-340c3ee756ac"
      },
      "execution_count": null,
      "outputs": [
        {
          "output_type": "execute_result",
          "data": {
            "text/plain": [
              "['승민', '민석', '유찬', '호정']"
            ]
          },
          "metadata": {},
          "execution_count": 3
        }
      ]
    },
    {
      "cell_type": "code",
      "source": [
        "example = \"I'm going to buy a computer.\"\n",
        "\n",
        "example.split() # 괄호 안을 비우면 공백(스페이스, \\t 등)을 기준으로 split 시행"
      ],
      "metadata": {
        "colab": {
          "base_uri": "https://localhost:8080/"
        },
        "id": "zYlwcLm7j5AO",
        "outputId": "ba53a75e-4934-44a7-cf69-5184ed9ea197"
      },
      "execution_count": null,
      "outputs": [
        {
          "output_type": "execute_result",
          "data": {
            "text/plain": [
              "[\"I'm\", 'going', 'to', 'buy', 'a', 'computer.']"
            ]
          },
          "metadata": {},
          "execution_count": 15
        }
      ]
    },
    {
      "cell_type": "code",
      "source": [
        "example = \"Life is too short, You need Python\"\n",
        "\n",
        "print(example.upper())\n",
        "print(example.lower())"
      ],
      "metadata": {
        "colab": {
          "base_uri": "https://localhost:8080/"
        },
        "id": "LxyikIJzVgSq",
        "outputId": "e3708779-d9a1-4af7-d913-25aa2a819a69"
      },
      "execution_count": null,
      "outputs": [
        {
          "output_type": "stream",
          "name": "stdout",
          "text": [
            "LIFE IS TOO SHORT, YOU NEED PYTHON\n",
            "life is too short, you need python\n"
          ]
        }
      ]
    },
    {
      "cell_type": "code",
      "source": [
        "lyrics = '''\n",
        "아! 테스형 아프다 세상이 눈물 많은 나에게\n",
        "아! 테스형 소크라테스형 세월은 또 왜 저래\n",
        "먼저 가본 저세상 어떤가요 테스형\n",
        "가보니까 천국은 있던가요 테스형\n",
        "\n",
        "아! 테스형 아! 테스형 아! 테스형 아! 테스형\n",
        "아! 테스형 아! 테스형 아! 테스형 아! 테스형\n",
        "'''\n",
        "\n",
        "modified = lyrics.replace(\"소크라테스형\", \"우리 아버지\")\n",
        "modified = modified.replace(\"테스형\", \"아버지\")\n",
        "\n",
        "print(modified)"
      ],
      "metadata": {
        "colab": {
          "base_uri": "https://localhost:8080/"
        },
        "id": "X8VoNbUgVnod",
        "outputId": "0a8cc31d-41d8-4809-e042-391fa51101bd"
      },
      "execution_count": null,
      "outputs": [
        {
          "output_type": "stream",
          "name": "stdout",
          "text": [
            "\n",
            "아! 아버지 아프다 세상이 눈물 많은 나에게\n",
            "아! 아버지 우리 아버지 세월은 또 왜 저래\n",
            "먼저 가본 저세상 어떤가요 아버지\n",
            "가보니까 천국은 있던가요 아버지\n",
            "\n",
            "아! 아버지 아! 아버지 아! 아버지 아! 아버지\n",
            "아! 아버지 아! 아버지 아! 아버지 아! 아버지\n",
            "\n"
          ]
        }
      ]
    },
    {
      "cell_type": "code",
      "source": [
        "example = \"잘 모르겠다! 포기하자!\"\n",
        "\n",
        "print(\"포기\" in example) # in 연산자를 이용"
      ],
      "metadata": {
        "colab": {
          "base_uri": "https://localhost:8080/"
        },
        "id": "8UPdV2-DXYTF",
        "outputId": "6e10c835-949b-41de-e911-4e2fcd27deaa"
      },
      "execution_count": null,
      "outputs": [
        {
          "output_type": "stream",
          "name": "stdout",
          "text": [
            "True\n"
          ]
        }
      ]
    },
    {
      "cell_type": "markdown",
      "source": [
        "# 간단히만 살펴보는 튜플\n",
        "\n",
        "tuple은 기본적으로 순서쌍의 의미를 갖습니다.\n",
        "\n",
        "파이썬의 튜플은 리스트와 거의 비슷하지만, 각 요소값(element)에 대한 수정이 불가능합니다. (문자열과 같은 성질)\n",
        "\n",
        "리스트를 대괄호로 감싸서 나타내는 반면, 튜플은 소괄호로 감싸서 나타냅니다.\n",
        "\n",
        "바뀌지 않기를 바라는 값을 저장하고 싶다면 리스트보다 튜플 사용이 유리합니다. (리스트와 튜플을 구분하여 사용하는 것이 유리함)\n",
        "\n",
        "튜플에서도 인덱싱, 인덱스 슬라이싱, 덧셈, 곱셈, 길이 등을 리스트나 문자열에서와 똑같이 얻을 수 있습니다."
      ],
      "metadata": {
        "id": "2NjJl0Pzmq26"
      }
    },
    {
      "cell_type": "code",
      "source": [
        "example_tuple = (1280, 720)\n",
        "\n",
        "print(len(example_tuple))\n",
        "\n",
        "print(example_tuple[0], example_tuple[1])"
      ],
      "metadata": {
        "colab": {
          "base_uri": "https://localhost:8080/"
        },
        "id": "ulVW5rUUmhHG",
        "outputId": "110bd27f-6b9f-460d-dcf9-148a7fc5be30"
      },
      "execution_count": null,
      "outputs": [
        {
          "output_type": "stream",
          "name": "stdout",
          "text": [
            "2\n",
            "1280 720\n"
          ]
        }
      ]
    },
    {
      "cell_type": "code",
      "source": [
        "example_tuple[0] = 1000"
      ],
      "metadata": {
        "colab": {
          "base_uri": "https://localhost:8080/",
          "height": 147
        },
        "id": "FSWZvUhYoSBi",
        "outputId": "bf392d81-42be-49b9-d21d-c819062513e7"
      },
      "execution_count": null,
      "outputs": [
        {
          "output_type": "error",
          "ename": "TypeError",
          "evalue": "'tuple' object does not support item assignment",
          "traceback": [
            "\u001b[0;31m---------------------------------------------------------------------------\u001b[0m",
            "\u001b[0;31mTypeError\u001b[0m                                 Traceback (most recent call last)",
            "\u001b[0;32m<ipython-input-24-39b8194eaf51>\u001b[0m in \u001b[0;36m<cell line: 1>\u001b[0;34m()\u001b[0m\n\u001b[0;32m----> 1\u001b[0;31m \u001b[0mexample_tuple\u001b[0m\u001b[0;34m[\u001b[0m\u001b[0;36m0\u001b[0m\u001b[0;34m]\u001b[0m \u001b[0;34m=\u001b[0m \u001b[0;36m1000\u001b[0m\u001b[0;34m\u001b[0m\u001b[0;34m\u001b[0m\u001b[0m\n\u001b[0m",
            "\u001b[0;31mTypeError\u001b[0m: 'tuple' object does not support item assignment"
          ]
        }
      ]
    },
    {
      "cell_type": "markdown",
      "source": [
        "참고: 튜플이 저장된 변수에 다른 튜플을 할당하는 것은 가능합니다."
      ],
      "metadata": {
        "id": "eQJY1yUaoIE3"
      }
    },
    {
      "cell_type": "code",
      "source": [
        "example_tuple = (1280, 720)\n",
        "\n",
        "example_tuple = (480, 480)\n",
        "\n",
        "print(example_tuple)"
      ],
      "metadata": {
        "colab": {
          "base_uri": "https://localhost:8080/"
        },
        "id": "vyrBQPREny9e",
        "outputId": "f7b7a3fb-b23b-4cfe-8375-83ae62b3ca95"
      },
      "execution_count": null,
      "outputs": [
        {
          "output_type": "stream",
          "name": "stdout",
          "text": [
            "(480, 480)\n"
          ]
        }
      ]
    },
    {
      "cell_type": "markdown",
      "source": [
        "# 딕셔너리\n",
        "\n",
        "딕셔너리는 기본적으로 Key-Value 쌍을 저장합니다.\n",
        "\n",
        "리스트의 각 원소 값에다가 특정한 의미를 부여하고 싶을 때가 있습니다.\n",
        "\n",
        "예시: 서버에 접속한 클라이언트에게 에러 메시지를 어떻게 주는 것이 더 좋을까요?\n",
        "\n",
        "1번:\n",
        "\n",
        "```[404, 'Not Found', 'Cannot GET /profiles']```\n",
        "\n",
        "2번:\n",
        "```\n",
        "{'statusCode': 404,\n",
        "'error': 'Not Found',\n",
        "'message': 'Cannot GET /profiles'}\n",
        "```\n",
        "\n",
        "처음 접할 때는 왜 쓰는지 공감하기 어려울 수 있지만 나중에 이것이 요긴하다는 것이 입증될 것입니다.\n",
        "\n",
        "참고: 딕셔너리는 json(JavaScript Object Notation)과 거의 같습니다. javascript에서는 객체입니다."
      ],
      "metadata": {
        "id": "i0kuO7x5oW8U"
      }
    },
    {
      "cell_type": "markdown",
      "source": [
        "참고: 곧 보게 되겠지만, 리스트를 쓰는 것은 사실 위의 예시에서\n",
        "```\n",
        "{0: 404,\n",
        "1: 'Not Found',\n",
        "2: 'Cannot GET /profiles'}\n",
        "```\n",
        "를 쓰는 것과 비슷하게 작동합니다."
      ],
      "metadata": {
        "id": "Upf4NeIEpyj7"
      }
    },
    {
      "cell_type": "markdown",
      "source": [
        "# Key-Value?\n",
        "\n",
        "딕셔너리의 기본 모습은 이렇습니다.\n",
        "\n",
        "```\n",
        "{key1: value1, key2: value2, key3: value3, ... }\n",
        "```\n",
        "\n",
        "참고: 위에서 콤마(반점)이 반드시 있어야 합니다. 그것이 없다면 에러가 뜨는데, 처음 배우시는 분들께서는 그러한 오타에서 에러가 난 것을 빨리 찾지 못해 두 세 시간을 날리곤 합니다. ㅋㅋ\n",
        "\n",
        "참고: 리스트는 대괄호, 튜플은 소괄호, 딕셔너리는 중괄호를 이용합니다.\n",
        "\n",
        "```\n",
        "new_dict = {} # 빈 딕셔너리 선언\n",
        "```"
      ],
      "metadata": {
        "id": "ni6acAN_ssTW"
      }
    },
    {
      "cell_type": "markdown",
      "source": [
        "# 딕셔너리의 내부 구조\n",
        "\n",
        "관심있으신 분들은 \"해시 테이블\"로 검색 바랍니다. 파이썬의 딕셔너리는 해시 테이블을 활용해 만들어졌습니다.\n",
        "\n",
        "코딩 테스트에서 해시 테이블을 이용하실 분들은 파이썬의 딕셔너리를 사용하실 수 있습니다."
      ],
      "metadata": {
        "id": "ksIJs-batZZl"
      }
    },
    {
      "cell_type": "markdown",
      "source": [
        "# 딕셔너리의 조작\n",
        "\n",
        "- 키를 통해 값 찾기: a[key] (리스트, 문자열, 튜플의 인덱싱과 비슷)\n",
        "- 딕셔너리에 쌍 추가 및 수정: a[new key] = new value (리스트에서는 a[new index]로 접근하여 추가하면 에러 발생)\n",
        "- 딕셔너리에서 쌍 제거: del a[key]"
      ],
      "metadata": {
        "id": "hprE3xAy0pq1"
      }
    },
    {
      "cell_type": "code",
      "source": [
        "response = {\n",
        "    'statusCode': 404,\n",
        "    'error': 'Not Found',\n",
        "    'message': 'Cannot GET /profiles'\n",
        "}\n",
        "\n",
        "response['statusCode']"
      ],
      "metadata": {
        "colab": {
          "base_uri": "https://localhost:8080/"
        },
        "id": "zn5EyzbWoQhs",
        "outputId": "1b384f64-6090-484e-baff-04eed56e54e9"
      },
      "execution_count": null,
      "outputs": [
        {
          "output_type": "execute_result",
          "data": {
            "text/plain": [
              "404"
            ]
          },
          "metadata": {},
          "execution_count": 25
        }
      ]
    },
    {
      "cell_type": "code",
      "source": [
        "students_result = {\"철수\": 50, \"훈이\": 55, \"맹구\": 60, \"유리\": 65, \"짱구\": 70}\n",
        "\n",
        "students_result[\"흰둥\"] = 75  # 새로운 값 추가\n",
        "del students_result[\"훈이\"]\n",
        "\n",
        "print(students_result)"
      ],
      "metadata": {
        "colab": {
          "base_uri": "https://localhost:8080/"
        },
        "id": "l0aAAC9y-xzS",
        "outputId": "263cbcd0-3726-468c-e9ca-824682e3962d"
      },
      "execution_count": null,
      "outputs": [
        {
          "output_type": "stream",
          "name": "stdout",
          "text": [
            "{'철수': 50, '맹구': 60, '유리': 65, '짱구': 70, '흰둥': 75}\n"
          ]
        }
      ]
    },
    {
      "cell_type": "code",
      "source": [
        "# 딕셔너리는 Key의 중복을 허용하지 않습니다.\n",
        "\n",
        "# 화석 김현규의 꼰대질 시간: 가급적 이렇게 코드 작성하지 마세요!\n",
        "# 코드는 컴퓨터가 읽기 전에 인간이 먼저 읽습니다.\n",
        "\n",
        "example = {1: 'a', 1: 'b', 1: 'c'}\n",
        "print(example)"
      ],
      "metadata": {
        "colab": {
          "base_uri": "https://localhost:8080/"
        },
        "id": "jcNmtAJQ1RG4",
        "outputId": "be51fd65-124b-4e80-8ab9-8c50ded76c27"
      },
      "execution_count": null,
      "outputs": [
        {
          "output_type": "stream",
          "name": "stdout",
          "text": [
            "{1: 'c'}\n"
          ]
        }
      ]
    },
    {
      "cell_type": "markdown",
      "source": [
        "참고: 파이썬 3.6부터는 Key가 입력된 순서대로 딕셔너리를 출력합니다."
      ],
      "metadata": {
        "id": "CS-VYbbHS3B5"
      }
    },
    {
      "cell_type": "markdown",
      "source": [
        "참고: zip()을 이용하면 리스트 두 개를 묶어 딕셔너리로 만들 수 있습니다."
      ],
      "metadata": {
        "id": "ZCyDUa4UlQZr"
      }
    },
    {
      "cell_type": "code",
      "source": [
        "names = [\"철수\", \"훈이\", \"맹구\", \"유리\", \"짱구\"]\n",
        "results = [50, 55, 60, 65, 70]\n",
        "\n",
        "students_result = dict(zip(names, results))\n",
        "students_result"
      ],
      "metadata": {
        "colab": {
          "base_uri": "https://localhost:8080/"
        },
        "id": "EvDK8FgflWeZ",
        "outputId": "dfe7ab06-2e15-4688-909a-c0805b157919"
      },
      "execution_count": null,
      "outputs": [
        {
          "output_type": "execute_result",
          "data": {
            "text/plain": [
              "{'철수': 50, '훈이': 55, '맹구': 60, '유리': 65, '짱구': 70}"
            ]
          },
          "metadata": {},
          "execution_count": 2
        }
      ]
    },
    {
      "cell_type": "code",
      "source": [
        "# zip의 정체는 튜플을 원소로 하는 리스트와 비슷함\n",
        "list(zip(names, results))"
      ],
      "metadata": {
        "colab": {
          "base_uri": "https://localhost:8080/"
        },
        "id": "VnOq4kuSlkAS",
        "outputId": "6c09a424-2632-4383-ef0b-2db05983646e"
      },
      "execution_count": null,
      "outputs": [
        {
          "output_type": "execute_result",
          "data": {
            "text/plain": [
              "[('철수', 50), ('훈이', 55), ('맹구', 60), ('유리', 65), ('짱구', 70)]"
            ]
          },
          "metadata": {},
          "execution_count": 5
        }
      ]
    },
    {
      "cell_type": "markdown",
      "source": [
        "# 딕셔너리는 함수의 의미를 대체할 수 있습니다.\n",
        "\n",
        "Key들의 모임: 정의역 (중복 허락 X)\n",
        "\n",
        "Value들의 모임: 치역"
      ],
      "metadata": {
        "id": "fR2E0GSu2Y9Z"
      }
    },
    {
      "cell_type": "code",
      "source": [
        "# 딕셔너리는 함수의 의미를 실제로 깔끔하게 대체할 수 있습니다.\n",
        "\n",
        "f = {1: 'e', 2: 'd', 3: 'c', 4: 'b', 5: 'a'}\n",
        "\n",
        "print(f[1], f[2], f[3], f[4], f[5])"
      ],
      "metadata": {
        "colab": {
          "base_uri": "https://localhost:8080/"
        },
        "id": "fLpXuEET1eaO",
        "outputId": "77033edc-0efd-426d-ceb3-2d5328975e88"
      },
      "execution_count": null,
      "outputs": [
        {
          "output_type": "stream",
          "name": "stdout",
          "text": [
            "e d c b a\n"
          ]
        }
      ]
    },
    {
      "cell_type": "code",
      "source": [
        "def f(x):\n",
        "    if x == 1: return 'e'\n",
        "    elif x == 2: return 'd'\n",
        "    elif x == 3: return 'c'\n",
        "    elif x == 4: return 'b'\n",
        "    elif x == 5: return 'a'\n",
        "\n",
        "print(f(1), f(2), f(3), f(4), f(5))"
      ],
      "metadata": {
        "colab": {
          "base_uri": "https://localhost:8080/"
        },
        "id": "J0zDj0Y_12KW",
        "outputId": "5eaac43e-6f62-4f23-d640-c38f71115b66"
      },
      "execution_count": null,
      "outputs": [
        {
          "output_type": "stream",
          "name": "stdout",
          "text": [
            "e d c b a\n"
          ]
        }
      ]
    },
    {
      "cell_type": "markdown",
      "source": [
        "# 딕셔너리 관련 함수들\n",
        "\n",
        "아래 함수들은 특히 반복문 등에서 유용합니다.\n",
        "\n",
        "- keys(): 딕셔너리의 모든 Key들을 담음\n",
        "- values(): 딕셔너리의 모든 Value들을 담음\n",
        "- items(): 딕셔너리의 Key-Value 쌍을 튜플로 담음\n",
        "\n",
        "참고: 위의 함수들의 반환 자체는 list가 아니라서, list로 쓰고 싶다면 list()로 감싸주어야 합니다. 단 반복문을 통한 순회에서는 그렇게 할 필요가 없습니다.\n",
        "\n",
        "참고: update(): 딕셔너리를 병합. 리스트에서의 extend 느낌. 저도 자주 써보진 못해서 참고로 알아두세요."
      ],
      "metadata": {
        "id": "kOd6QQHSkMfQ"
      }
    },
    {
      "cell_type": "code",
      "source": [
        "price_dict = {'apple': 10, 'banana': 15, 'cherry': 20}\n",
        "\n",
        "price_dict.update({'grape': 12, 'kiwi': 15})\n",
        "\n",
        "print(price_dict)"
      ],
      "metadata": {
        "colab": {
          "base_uri": "https://localhost:8080/"
        },
        "id": "UZi62b19kNYT",
        "outputId": "64197dc8-4983-47e4-e8b1-ffef7e958811"
      },
      "execution_count": null,
      "outputs": [
        {
          "output_type": "stream",
          "name": "stdout",
          "text": [
            "{'apple': 10, 'banana': 15, 'cherry': 20, 'grape': 12, 'kiwi': 15}\n"
          ]
        }
      ]
    },
    {
      "cell_type": "markdown",
      "source": [
        "\n",
        "\n",
        "# 딕셔너리도 컴프리헨션을 쓸 수 있습니다!\n",
        "\n",
        "위의 함수들을 야무지게 써먹을 수 있습니다."
      ],
      "metadata": {
        "id": "s0lEWNXv9LfU"
      }
    },
    {
      "cell_type": "code",
      "source": [
        "names = [\"철수\", \"훈이\", \"맹구\", \"유리\", \"짱구\"]\n",
        "scores = [50, 55, 60, 65, 70]\n",
        "students_result = {name: score for name, score in zip(names, scores)}\n",
        "print(students_result)\n",
        "\n",
        "# 훈이 모자이크가 하고 싶음 (강제 전학?) - if문 적용으로 구현 가능\n",
        "students_result = {k: v for k, v in students_result.items() if k != \"훈이\"}\n",
        "print(students_result)"
      ],
      "metadata": {
        "colab": {
          "base_uri": "https://localhost:8080/"
        },
        "id": "k5Ldfzlb2HpX",
        "outputId": "d95206d4-d82d-42ca-8101-4d23a8b3d0f5"
      },
      "execution_count": 6,
      "outputs": [
        {
          "output_type": "stream",
          "name": "stdout",
          "text": [
            "{'철수': 50, '훈이': 55, '맹구': 60, '유리': 65, '짱구': 70}\n",
            "{'철수': 50, '맹구': 60, '유리': 65, '짱구': 70}\n"
          ]
        }
      ]
    },
    {
      "cell_type": "code",
      "source": [],
      "metadata": {
        "id": "s_th2rF9mK60"
      },
      "execution_count": null,
      "outputs": []
    }
  ]
}